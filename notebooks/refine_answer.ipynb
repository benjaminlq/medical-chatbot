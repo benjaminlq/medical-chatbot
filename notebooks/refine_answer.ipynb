{
 "cells": [
  {
   "cell_type": "code",
   "execution_count": 1,
   "metadata": {},
   "outputs": [],
   "source": [
    "import os, json\n",
    "\n",
    "from langchain.vectorstores import FAISS\n",
    "from langchain.embeddings import OpenAIEmbeddings\n",
    "from langchain.embeddings.base import Embeddings\n",
    "\n",
    "import numpy as np\n",
    "import pandas as pd"
   ]
  },
  {
   "cell_type": "code",
   "execution_count": 2,
   "metadata": {},
   "outputs": [
    {
     "name": "stdout",
     "output_type": "stream",
     "text": [
      "Number of test cases: 30\n",
      "Length of embeddings: 1536\n"
     ]
    }
   ],
   "source": [
    "MAIN_DIR = \"..\"\n",
    "EMB_DIR = os.path.join(MAIN_DIR, \"data\", \"emb_store\", \"uc\", \"faiss\", \"text-embedding-ada-002\")\n",
    "\n",
    "with open(os.path.join(MAIN_DIR, \"auth\", \"api_keys.json\"), \"r\") as f:\n",
    "    api_keys = json.load(f)\n",
    "    \n",
    "os.environ[\"OPENAI_API_KEY\"] = api_keys[\"OPENAI_API_KEY\"]\n",
    "\n",
    "with open(os.path.join(MAIN_DIR, \"data\", \"queries\", \"uc_all.txt\"), \"r\") as f:\n",
    "    test_cases_txt = f.readlines()\n",
    "    \n",
    "with open(os.path.join(MAIN_DIR, \"data\", \"queries\", \"uc_all_emb.json\"), \"r\") as f:\n",
    "    test_cases_emb = json.load(f)\n",
    "    \n",
    "test_cases = [(txt, emb) for txt, emb in zip(test_cases_txt, test_cases_emb)]\n",
    "print(\"Number of test cases:\", len(test_cases))\n",
    "print(\"Length of embeddings:\", len(test_cases[0][1]))"
   ]
  }
 ],
 "metadata": {
  "kernelspec": {
   "display_name": "venv",
   "language": "python",
   "name": "python3"
  },
  "language_info": {
   "codemirror_mode": {
    "name": "ipython",
    "version": 3
   },
   "file_extension": ".py",
   "mimetype": "text/x-python",
   "name": "python",
   "nbconvert_exporter": "python",
   "pygments_lexer": "ipython3",
   "version": "3.8.10"
  },
  "orig_nbformat": 4
 },
 "nbformat": 4,
 "nbformat_minor": 2
}
