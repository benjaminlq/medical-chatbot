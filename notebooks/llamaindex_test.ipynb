{
 "cells": [
  {
   "cell_type": "markdown",
   "metadata": {},
   "source": [
    "# Basic Setup"
   ]
  },
  {
   "cell_type": "code",
   "execution_count": 28,
   "metadata": {},
   "outputs": [],
   "source": [
    "import os, json\n",
    "import sys, logging\n",
    "import openai\n",
    "from llama_index import SimpleDirectoryReader, ServiceContext, KnowledgeGraphIndex, VectorStoreIndex, load_index_from_storage\n",
    "from llama_index.graph_stores import SimpleGraphStore\n",
    "from llama_index.storage.storage_context import StorageContext\n",
    "from llama_index.llms import OpenAI\n",
    "\n",
    "logging.basicConfig(stream=sys.stdout, level=logging.INFO)\n",
    "openai.log = \"info\""
   ]
  },
  {
   "cell_type": "code",
   "execution_count": 2,
   "metadata": {},
   "outputs": [],
   "source": [
    "MAIN_DIR = \"..\"\n",
    "DATA_DIR = os.path.join(MAIN_DIR, \"data\", \"document_store\", \"uc\")\n",
    "SAMPLE_DIR = os.path.join(MAIN_DIR, \"data\", \"examples\")\n",
    "\n",
    "with open(os.path.join(MAIN_DIR, \"auth\", \"api_keys.json\"), \"r\") as f:\n",
    "    api_keys = json.load(f)\n",
    "\n",
    "os.environ[\"OPENAI_API_KEY\"] = api_keys[\"OPENAI_API_KEY\"]\n",
    "openai.api_key = api_keys[\"OPENAI_API_KEY\"]\n",
    "\n",
    "with open(os.path.join(MAIN_DIR, \"data\", \"queries\", \"uc_all.txt\"), \"r\") as f:\n",
    "    test_cases = f.readlines()"
   ]
  },
  {
   "cell_type": "markdown",
   "metadata": {},
   "source": [
    "# Vector Database"
   ]
  },
  {
   "cell_type": "code",
   "execution_count": 22,
   "metadata": {},
   "outputs": [],
   "source": [
    "llm = OpenAI(temperature=0, model=\"gpt-3.5-turbo\", max_tokens=512)\n",
    "service_context = ServiceContext.from_defaults(chunk_size=1000, chunk_overlap=200)\n",
    "storage_context = StorageContext.from_defaults()"
   ]
  },
  {
   "cell_type": "code",
   "execution_count": 29,
   "metadata": {},
   "outputs": [
    {
     "name": "stdout",
     "output_type": "stream",
     "text": [
      "Number of documents: 1\n"
     ]
    }
   ],
   "source": [
    "documents = SimpleDirectoryReader(SAMPLE_DIR).load_data()\n",
    "print(\"Number of documents:\", len(documents))\n",
    "vector_index = VectorStoreIndex.from_documents(documents, service_context=service_context)\n"
   ]
  },
  {
   "cell_type": "code",
   "execution_count": 42,
   "metadata": {},
   "outputs": [
    {
     "data": {
      "text/plain": [
       "[NodeWithScore(node=TextNode(id_='7468d9c5-2dce-4d59-9013-3b4ee65d1e1f', embedding=None, metadata={}, excluded_embed_metadata_keys=[], excluded_llm_metadata_keys=[], relationships={<NodeRelationship.SOURCE: '1'>: RelatedNodeInfo(node_id='c35091c3-4831-48dc-8783-a9acd1f1e6eb', node_type=None, metadata={}, hash='4c702b4df575421e1d1af4b1fd50511b226e0c9863dbfffeccb8b689b8448f35'), <NodeRelationship.NEXT: '3'>: RelatedNodeInfo(node_id='c3f4395c-8832-437e-837c-f37cc1a86fc5', node_type=None, metadata={}, hash='2b076feb45ef9318654997e47fb3b2f2185bcc7e39e0997045fcf755cb2ca6dc')}, hash='004bbb820e2627b96db9a79d93bb1b8a665582ada07e261a6085d2d0b0119ad6', text='What I Worked On\\n\\nFebruary 2021\\n\\nBefore college the two main things I worked on, outside of school, were writing and programming. I didn\\'t write essays. I wrote what beginning writers were supposed to write then, and probably still are: short stories. My stories were awful. They had hardly any plot, just characters with strong feelings, which I imagined made them deep.\\n\\nThe first programs I tried writing were on the IBM 1401 that our school district used for what was then called \"data processing.\" This was in 9th grade, so I was 13 or 14. The school district\\'s 1401 happened to be in the basement of our junior high school, and my friend Rich Draves and I got permission to use it. It was like a mini Bond villain\\'s lair down there, with all these alien-looking machines — CPU, disk drives, printer, card reader — sitting up on a raised floor under bright fluorescent lights.\\n\\nThe language we used was an early version of Fortran. You had to type programs on punch cards, then stack them in the card reader and press a button to load the program into memory and run it. The result would ordinarily be to print something on the spectacularly loud printer.\\n\\nI was puzzled by the 1401. I couldn\\'t figure out what to do with it. And in retrospect there\\'s not much I could have done with it. The only form of input to programs was data stored on punched cards, and I didn\\'t have any data stored on punched cards. The only other option was to do things that didn\\'t rely on any input, like calculate approximations of pi, but I didn\\'t know enough math to do anything interesting of that type. So I\\'m not surprised I can\\'t remember any programs I wrote, because they can\\'t have done much. My clearest memory is of the moment I learned it was possible for programs not to terminate, when one of mine didn\\'t. On a machine without time-sharing, this was a social as well as a technical error, as the data center manager\\'s expression made clear.\\n\\nWith microcomputers, everything changed. Now you could have a computer sitting right in front of you, on a desk, that could respond to your keystrokes as it was running instead of just churning through a stack of punch cards and then stopping. [1]\\n\\nThe first of my friends to get a microcomputer built it himself. It was sold as a kit by Heathkit. I remember vividly how impressed and envious I felt watching him sitting in front of it, typing programs right into the computer.\\n\\nComputers were expensive in those days and it took me years of nagging before I convinced my father to buy one, a TRS-80, in about 1980. The gold standard then was the Apple II, but a TRS-80 was good enough. This was when I really started programming. I wrote simple games, a program to predict how high my model rockets would fly, and a word processor that my father used to write at least one book. There was only room in memory for about 2 pages of text, so he\\'d write 2 pages at a time and then print them out, but it was a lot better than a typewriter.\\n\\nThough I liked programming, I didn\\'t plan to study it in college. In college I was going to study philosophy, which sounded much more powerful. It seemed, to my naive high school self, to be the study of the ultimate truths, compared to which the things studied in other fields would be mere domain knowledge. What I discovered when I got to college was that the other fields took up so much of the space of ideas that there wasn\\'t much left for these supposed ultimate truths. All that seemed left for philosophy were edge cases that people in other fields felt could safely be ignored.\\n\\nI couldn\\'t have put this into words when I was 18. All I knew at the time was that I kept taking philosophy courses and they kept being boring. So I decided to switch to AI.\\n\\nAI was in the air in the mid 1980s, but there were two things especially that made me want to work on it: a novel by Heinlein called The Moon is a Harsh Mistress, which featured an intelligent computer called Mike, and a PBS documentary that showed Terry Winograd using SHRDLU. I haven\\'t tried rereading The Moon is a Harsh Mistress, so I don\\'t know how well it has aged, but when I read it I was drawn entirely into its world. It seemed only a matter of time before we\\'d have Mike, and when I saw Winograd using SHRDLU, it seemed like that time would be a few years at most. All you had to do was teach SHRDLU more words.', start_char_idx=None, end_char_idx=None, text_template='{metadata_str}\\n\\n{content}', metadata_template='{key}: {value}', metadata_seperator='\\n'), score=0.8203425147484276),\n",
       " NodeWithScore(node=TextNode(id_='527ca250-5499-41e8-aad8-c0ec867bea25', embedding=None, metadata={}, excluded_embed_metadata_keys=[], excluded_llm_metadata_keys=[], relationships={<NodeRelationship.SOURCE: '1'>: RelatedNodeInfo(node_id='c35091c3-4831-48dc-8783-a9acd1f1e6eb', node_type=None, metadata={}, hash='4c702b4df575421e1d1af4b1fd50511b226e0c9863dbfffeccb8b689b8448f35'), <NodeRelationship.PREVIOUS: '2'>: RelatedNodeInfo(node_id='c00d64e8-090b-41fa-b92b-bf191cf4ec3b', node_type=None, metadata={}, hash='df6d056f67a18aa6b7dc51abfaa542171dcf1e26d1850384c3a5f4c88c907466'), <NodeRelationship.NEXT: '3'>: RelatedNodeInfo(node_id='627c56b9-ae85-4010-b1f3-28e934aebcdf', node_type=None, metadata={}, hash='475503bdd5875b1d25215dd720f9163208df657e42a9202cbeb098066dc98a76')}, hash='ed45a2799fb77a8dec5fa517bb07a3bbb557fdc1697c370b3cebd2ac68122078', text=\"[10]\\n\\nWow, I thought, there's an audience. If I write something and put it on the web, anyone can read it. That may seem obvious now, but it was surprising then. In the print era there was a narrow channel to readers, guarded by fierce monsters known as editors. The only way to get an audience for anything you wrote was to get it published as a book, or in a newspaper or magazine. Now anyone could publish anything.\\n\\nThis had been possible in principle since 1993, but not many people had realized it yet. I had been intimately involved with building the infrastructure of the web for most of that time, and a writer as well, and it had taken me 8 years to realize it. Even then it took me several years to understand the implications. It meant there would be a whole new generation of essays. [11]\\n\\nIn the print era, the channel for publishing essays had been vanishingly small. Except for a few officially anointed thinkers who went to the right parties in New York, the only people allowed to publish essays were specialists writing about their specialties. There were so many essays that had never been written, because there had been no way to publish them. Now they could be, and I was going to write them. [12]\\n\\nI've worked on several different things, but to the extent there was a turning point where I figured out what to work on, it was when I started publishing essays online. From then on I knew that whatever else I did, I'd always write essays too.\\n\\nI knew that online essays would be a marginal medium at first. Socially they'd seem more like rants posted by nutjobs on their GeoCities sites than the genteel and beautifully typeset compositions published in The New Yorker. But by this point I knew enough to find that encouraging instead of discouraging.\\n\\nOne of the most conspicuous patterns I've noticed in my life is how well it has worked, for me at least, to work on things that weren't prestigious. Still life has always been the least prestigious form of painting. Viaweb and Y Combinator both seemed lame when we started them. I still get the glassy eye from strangers when they ask what I'm writing, and I explain that it's an essay I'm going to publish on my web site. Even Lisp, though prestigious intellectually in something like the way Latin is, also seems about as hip.\\n\\nIt's not that unprestigious types of work are good per se. But when you find yourself drawn to some kind of work despite its current lack of prestige, it's a sign both that there's something real to be discovered there, and that you have the right kind of motives. Impure motives are a big danger for the ambitious. If anything is going to lead you astray, it will be the desire to impress people. So while working on things that aren't prestigious doesn't guarantee you're on the right track, it at least guarantees you're not on the most common type of wrong one.\\n\\nOver the next several years I wrote lots of essays about all kinds of different topics. O'Reilly reprinted a collection of them as a book, called Hackers & Painters after one of the essays in it. I also worked on spam filters, and did some more painting. I used to have dinners for a group of friends every thursday night, which taught me how to cook for groups. And I bought another building in Cambridge, a former candy factory (and later, twas said, porn studio), to use as an office.\\n\\nOne night in October 2003 there was a big party at my house. It was a clever idea of my friend Maria Daniels, who was one of the thursday diners. Three separate hosts would all invite their friends to one party. So for every guest, two thirds of the other guests would be people they didn't know but would probably like. One of the guests was someone I didn't know but would turn out to like a lot: a woman called Jessica Livingston. A couple days later I asked her out.\\n\\nJessica was in charge of marketing at a Boston investment bank. This bank thought it understood startups, but over the next year, as she met friends of mine from the startup world, she was surprised how different reality was. And how colorful their stories were. So she decided to compile a book of interviews with startup founders.\\n\\nWhen the bank had financial problems and she had to fire half her staff, she started looking for a new job. In early 2005 she interviewed for a marketing job at a Boston VC firm. It took them weeks to make up their minds, and during this time I started telling her about all the things that needed to be fixed about venture capital.\", start_char_idx=None, end_char_idx=None, text_template='{metadata_str}\\n\\n{content}', metadata_template='{key}: {value}', metadata_seperator='\\n'), score=0.8143566621554995),\n",
       " NodeWithScore(node=TextNode(id_='01c9b30e-62a6-4d8e-a809-4807f1b97db8', embedding=None, metadata={}, excluded_embed_metadata_keys=[], excluded_llm_metadata_keys=[], relationships={<NodeRelationship.SOURCE: '1'>: RelatedNodeInfo(node_id='c35091c3-4831-48dc-8783-a9acd1f1e6eb', node_type=None, metadata={}, hash='4c702b4df575421e1d1af4b1fd50511b226e0c9863dbfffeccb8b689b8448f35'), <NodeRelationship.PREVIOUS: '2'>: RelatedNodeInfo(node_id='c3f4395c-8832-437e-837c-f37cc1a86fc5', node_type=None, metadata={}, hash='2b076feb45ef9318654997e47fb3b2f2185bcc7e39e0997045fcf755cb2ca6dc'), <NodeRelationship.NEXT: '3'>: RelatedNodeInfo(node_id='4ce453e0-74a0-4c71-bba2-6c6fa26072a4', node_type=None, metadata={}, hash='049b65d4cb81322389004276c46516d48f7606267c872d79b450c94927a40dd0')}, hash='b62c84f68b7daada0a2d1b63d00eb66a1df7066f4c4f2bc89e0bbdb99b374f9d', text='I was briefly tempted, but they were so slow by present standards; what was the point? No one else wanted one either, so off they went. That was what happened to systems work.\\n\\nI wanted not just to build things, but to build things that would last.\\n\\nIn this dissatisfied state I went in 1988 to visit Rich Draves at CMU, where he was in grad school. One day I went to visit the Carnegie Institute, where I\\'d spent a lot of time as a kid. While looking at a painting there I realized something that might seem obvious, but was a big surprise to me. There, right on the wall, was something you could make that would last. Paintings didn\\'t become obsolete. Some of the best ones were hundreds of years old.\\n\\nAnd moreover this was something you could make a living doing. Not as easily as you could by writing software, of course, but I thought if you were really industrious and lived really cheaply, it had to be possible to make enough to survive. And as an artist you could be truly independent. You wouldn\\'t have a boss, or even need to get research funding.\\n\\nI had always liked looking at paintings. Could I make them? I had no idea. I\\'d never imagined it was even possible. I knew intellectually that people made art — that it didn\\'t just appear spontaneously — but it was as if the people who made it were a different species. They either lived long ago or were mysterious geniuses doing strange things in profiles in Life magazine. The idea of actually being able to make art, to put that verb before that noun, seemed almost miraculous.\\n\\nThat fall I started taking art classes at Harvard. Grad students could take classes in any department, and my advisor, Tom Cheatham, was very easy going. If he even knew about the strange classes I was taking, he never said anything.\\n\\nSo now I was in a PhD program in computer science, yet planning to be an artist, yet also genuinely in love with Lisp hacking and working away at On Lisp. In other words, like many a grad student, I was working energetically on multiple projects that were not my thesis.\\n\\nI didn\\'t see a way out of this situation. I didn\\'t want to drop out of grad school, but how else was I going to get out? I remember when my friend Robert Morris got kicked out of Cornell for writing the internet worm of 1988, I was envious that he\\'d found such a spectacular way to get out of grad school.\\n\\nThen one day in April 1990 a crack appeared in the wall. I ran into professor Cheatham and he asked if I was far enough along to graduate that June. I didn\\'t have a word of my dissertation written, but in what must have been the quickest bit of thinking in my life, I decided to take a shot at writing one in the 5 weeks or so that remained before the deadline, reusing parts of On Lisp where I could, and I was able to respond, with no perceptible delay \"Yes, I think so. I\\'ll give you something to read in a few days.\"\\n\\nI picked applications of continuations as the topic. In retrospect I should have written about macros and embedded languages. There\\'s a whole world there that\\'s barely been explored. But all I wanted was to get out of grad school, and my rapidly written dissertation sufficed, just barely.\\n\\nMeanwhile I was applying to art schools. I applied to two: RISD in the US, and the Accademia di Belli Arti in Florence, which, because it was the oldest art school, I imagined would be good. RISD accepted me, and I never heard back from the Accademia, so off to Providence I went.\\n\\nI\\'d applied for the BFA program at RISD, which meant in effect that I had to go to college again. This was not as strange as it sounds, because I was only 25, and art schools are full of people of different ages. RISD counted me as a transfer sophomore and said I had to do the foundation that summer. The foundation means the classes that everyone has to take in fundamental subjects like drawing, color, and design.\\n\\nToward the end of the summer I got a big surprise: a letter from the Accademia, which had been delayed because they\\'d sent it to Cambridge England instead of Cambridge Massachusetts, inviting me to take the entrance exam in Florence that fall. This was now only weeks away. My nice landlady let me leave my stuff in her attic. I had some money saved from consulting work I\\'d done in grad school; there was probably enough to last a year if I lived cheaply. Now all I had to do was learn Italian.', start_char_idx=None, end_char_idx=None, text_template='{metadata_str}\\n\\n{content}', metadata_template='{key}: {value}', metadata_seperator='\\n'), score=0.8021337113198348)]"
      ]
     },
     "execution_count": 42,
     "metadata": {},
     "output_type": "execute_result"
    }
   ],
   "source": [
    "retrieval_engine = vector_index.as_retriever(similarity_top_k=3)\n",
    "\n",
    "relevant_docs = retrieval_engine.retrieve(str_or_query_bundle=\"What did the author do growing up?\")\n",
    "relevant_docs"
   ]
  },
  {
   "cell_type": "code",
   "execution_count": 44,
   "metadata": {},
   "outputs": [
    {
     "name": "stdout",
     "output_type": "stream",
     "text": [
      "The author worked on writing and programming outside of school before college. They wrote short stories and tried writing programs on the IBM 1401 computer. They also mentioned working with microcomputers, specifically a TRS-80, where they wrote simple games and a word processor.\n"
     ]
    }
   ],
   "source": [
    "query_engine = vector_index.as_query_engine(similarity_top_k=3)\n",
    "response = query_engine.query(\"What did the author do growing up?\")\n",
    "print(response)"
   ]
  },
  {
   "cell_type": "markdown",
   "metadata": {},
   "source": [
    "# Graph Database"
   ]
  },
  {
   "cell_type": "code",
   "execution_count": 37,
   "metadata": {},
   "outputs": [
    {
     "name": "stdout",
     "output_type": "stream",
     "text": [
      "(I, worked on, writing)\n",
      "(I, worked on, programming)\n",
      "(IBM 1401, used for, data processing)\n",
      "(I, tried writing, programs)\n",
      "(I, tried writing, on the IBM 1401)\n",
      "(IBM 1401, happened to be, in the basement)\n",
      "(I, got permission to use, IBM 1401)\n",
      "(IBM 1401, was like, a mini Bond villain's lair)\n",
      "(machines, sitting up on, raised floor)\n",
      "(language, used, an early version of Fortran)\n",
      "(programs, typed on, punch cards)\n",
      "(programs, loaded into, memory)\n",
      "(result, would ordinarily be, to print something)\n",
      "(I, was puzzled by, 1401)\n",
      "(I, couldn't figure out, what to do with it)\n",
      "(form of input, to programs, stored on punched cards)\n",
      "(I, didn't have, any data stored on punched cards)\n",
      "(option, was to do, things that didn't rely on any input)\n",
      "(I, didn't know enough math, to do anything interesting)\n",
      "(I, can't remember, any programs I wrote)\n",
      "(one of mine, didn't terminate)\n",
      "(machine, without time-sharing, was a social as well as a technical error)\n",
      "(data center manager's expression, made clear)\n",
      "(Heathkit, sold as, kit)\n",
      "(TRS-80, was, good enough)\n",
      "(Philz, founded in, Berkeley)\n",
      "(Philz, founded in, 1982)\n",
      "(there, was, Lisp)\n",
      "(Lisp, was interesting for, its own sake)\n",
      "(Philz, founded in, Berkeley)\n",
      "(Philz, founded in, 1982)\n",
      "(professor Cheatham, asked, if I was far enough along to graduate)\n",
      "(I, decided, to take a shot at writing one in the 5 weeks or so that remained before the deadline)\n",
      "(My nice landlady, let, me leave my stuff)\n",
      "(I, had, money saved)\n",
      "(I, had, consulting work)\n",
      "(I, had, money saved from consulting work)\n",
      "(I, had, enough to last a year)\n",
      "(I, lived, cheaply)\n",
      "(stranieri, had to take, entrance exam)\n",
      "(stranieri, attracted by, idea of studying art)\n",
      "(Italian students, would have been outnumbered by, stranieri)\n",
      "(I, managed to pass, written exam)\n",
      "(I, answered, essay question)\n",
      "(I, wrote about, Cezanne)\n",
      "(I, cranked up, intellectual level)\n",
      "(I, made the most of, limited vocabulary)\n",
      "(I, was about to attend, august institution)\n",
      "(I, was about to be disappointed)\n",
      "(students and faculty, were the nicest people)\n",
      "(students and faculty, arrived at, arrangement)\n",
      "(faculty, wouldn't require, students to learn)\n",
      "(students, wouldn't require, faculty to teach)\n",
      "(all involved, would adhere, outwardly to conventions)\n",
      "(we, had, one of those little stoves)\n",
      "(stove, fed with, kindling)\n",
      "(model, sitting as close to, stove as possible)\n",
      "(rest of the students, spent, time chatting)\n",
      "(rest of the students, trying to imitate, things they'd seen)\n",
      "(model, turned out to live, down the street from me)\n",
      "(model, made a living from, combination of modelling and making fakes)\n",
      "(she, copy, obscure old painting)\n",
      "(he, maltreat, copy to make it look old)\n",
      "(I, started painting, still lives)\n",
      "(I, started painting, in my bedroom)\n",
      "(I, started painting, at night)\n",
      "(paintings, were tiny, room)\n",
      "(subject, is, coffee shop)\n",
      "(subject, founded in, Berkeley)\n",
      "(Interleaf, made, software for creating documents)\n",
      "(Interleaf, added, scripting language)\n",
      "(I, learned, useful things)\n",
      "(technology companies, be run by, product people)\n",
      "WARNING:llama_index.llms.openai_utils:Retrying llama_index.llms.openai_utils.completion_with_retry.<locals>._completion_with_retry in 4.0 seconds as it raised Timeout: Request timed out: HTTPSConnectionPool(host='api.openai.com', port=443): Read timed out. (read timeout=600).\n",
      "(A signature style, is, visual equivalent)\n",
      "(Roy Lichtenstein, is by, painting)\n",
      "(Idelle Weber, was, painter)\n",
      "(Robert Morris, showed, World Wide Web)\n",
      "(Art galleries, didn't want to be, online)\n",
      "(online stores, were identical to, sites we'd been generating for galleries)\n",
      "(Viaweb, called, after the fact that our software worked via the web)\n",
      "(Viaweb, got, $10,000 in seed funding from Idelle's husband Julian)\n",
      "(We, opened for business, in January 1996)\n",
      "(There, were three main parts to, the software)\n",
      "(we, charged, $100 a month)\n",
      "(we, charged, $300 a month)\n",
      "(We, had, 70 stores)\n",
      "(We, had, 500 stores)\n",
      "(We, reached, breakeven)\n",
      "(Yahoo, bought, us)\n",
      "(Viaweb stock, was, valuable)\n",
      "(Yahoo, bought, us)\n",
      "(I, bought, a car)\n",
      "(I, bought, a yellow 1998 VW GTI)\n",
      "(I, realized, I was worn out)\n",
      "(Yahoo, prematurely aged, culture)\n",
      "(Yahoo, had, grim cube farm)\n",
      "(Yahoo, bought, us)\n",
      "(Yahoo, thought, I was lying)\n",
      "(Viaweb, was, the future)\n",
      "(web apps, were, the future)\n",
      "(Viaweb, was, an \"application service provider\")\n",
      "(Viaweb, was replaced by, \"software as a service\")\n",
      "(Lisp hackers, dream of, building a new Lisp)\n",
      "(language, has, dialects)\n",
      "(Lisp, fall short of, Platonic form)\n",
      "(I, called, Arc)\n",
      "(I, bought, house)\n",
      "(I, switched to, working on)\n",
      "(I, invited to, give a talk)\n",
      "(I, gave, talk)\n",
      "(I, put, postscript file)\n",
      "(I, created, file)\n",
      "(I, used, Viaweb)\n",
      "(I, got, 30,000 page views)\n",
      "(I, thought, there's an audience)\n",
      "(I, write, something)\n",
      "(I, put, it on the web)\n",
      "(anyone, can read, it)\n",
      "(channel, guarded by, editors)\n",
      "(way, to get, audience)\n",
      "(anyone, could publish, anything)\n",
      "(possible, since 1993)\n",
      "(people, had realized, it)\n",
      "(infrastructure, of the web)\n",
      "(writer, as well)\n",
      "(took, several years, to understand)\n",
      "(there would be, generation, of essays)\n",
      "(channel, for publishing, essays)\n",
      "(vanishingly small, except for, officially anointed thinkers)\n",
      "(people, allowed to publish, essays)\n",
      "(essays, had never been written)\n",
      "(essays, could be, published)\n",
      "(I, was going to, write them)\n",
      "(I, worked on, several different things)\n",
      "(I, wrote, lots of essays)\n",
      "(Jessica Livingston, compiled, book of interviews)\n",
      "(Jessica Livingston, interviewed for, marketing job)\n",
      "(Y Combinator, was organized as, an angel firm)\n",
      "(Y Combinator, funded, with our own money)\n",
      "(YC, is, batch model)\n",
      "(YC, fund, startups)\n",
      "(YC, grew, as a full-time job)\n",
      "(startups, get, initial set of customers)\n",
      "(Robert and I, started working on, new version of Arc)\n",
      "(Hacker News, was originally meant to be, news aggregator for startup founders)\n",
      "(Robert Morris, offered, unsolicited advice)\n",
      "(Robert Morris, suggested, taking me to the hospital)\n",
      "(I, asked, Jessica)\n",
      "(Jessica, wanted to be, president)\n",
      "(Lisp, is, a language)\n",
      "(Lisp, defined by, writing an interpreter)\n",
      "(Lisp, alternative to, Turing machine)\n",
      "(McCarthy, invented, Lisp)\n",
      "(McCarthy, didn't realize, Lisp could be used to program computers)\n",
      "(Russell, translated, McCarthy's interpreter into IBM 704 machine language)\n",
      "(McCarthy, tested by, hand-simulating)\n",
      "(McCarthy, overlooked, bug)\n",
      "(Bel, was written in, England)\n",
      "(Bel, is a spec expressed as, code)\n",
      "(Interleaf, got crushed by, Moore's Law)\n",
      "(RISD, money and coolness, tightly coupled)\n",
      "(Y Combinator, was called, Cambridge Seed)\n",
      "(Y Combinator, renamed, themselves after the Y combinator)\n",
      "(14, become, fund)\n",
      "(14, starting in, 2009)\n",
      "(Trevor Blackwell, thanks to, reading drafts)\n",
      "(John Collison, thanks to, reading drafts)\n"
     ]
    }
   ],
   "source": [
    "graph_store = SimpleGraphStore()\n",
    "storage_context = StorageContext.from_defaults(graph_store=graph_store)\n",
    "\n",
    "# NOTE: can take a while!\n",
    "index = KnowledgeGraphIndex.from_documents(\n",
    "    documents,\n",
    "    max_triplets_per_chunk=2,\n",
    "    storage_context=storage_context,\n",
    "    service_context=service_context,\n",
    ")"
   ]
  },
  {
   "cell_type": "code",
   "execution_count": 39,
   "metadata": {},
   "outputs": [
    {
     "name": "stdout",
     "output_type": "stream",
     "text": [
      "WARNING:llama_index.indices.knowledge_graph.retrievers:Index was not constructed with embeddings, skipping embedding usage...\n"
     ]
    }
   ],
   "source": [
    "query_engine = index.as_query_engine(include_text=False, response_mode=\"tree_summarize\")\n",
    "response = query_engine.query(\n",
    "    \"Tell me more about Interleaf\",\n",
    ")"
   ]
  },
  {
   "cell_type": "code",
   "execution_count": 41,
   "metadata": {},
   "outputs": [
    {
     "name": "stdout",
     "output_type": "stream",
     "text": [
      "('Interleaf was a company that developed software for creating documents. They '\n",
      " 'also added a scripting language to their software. However, Interleaf faced '\n",
      " 'challenges and eventually struggled due to the rapid advancement of '\n",
      " 'technology, often referred to as \"Moore\\'s Law.\"')\n"
     ]
    }
   ],
   "source": [
    "from pprint import pprint\n",
    "\n",
    "pprint(response.response)"
   ]
  },
  {
   "cell_type": "code",
   "execution_count": 45,
   "metadata": {},
   "outputs": [
    {
     "name": "stdout",
     "output_type": "stream",
     "text": [
      "The author worked on writing and programming outside of school before college. They wrote short stories and tried writing programs on an IBM 1401 computer using an early version of Fortran. They later got a microcomputer and started programming on it, writing simple games and a word processor. They also mentioned their interest in philosophy and AI.\n"
     ]
    }
   ],
   "source": [
    "from llama_index import VectorStoreIndex, SimpleDirectoryReader\n",
    "\n",
    "index = VectorStoreIndex.from_documents(documents)\n",
    "query_engine = index.as_query_engine()\n",
    "response = query_engine.query(\"What did the author do growing up?\")\n",
    "print(response)"
   ]
  },
  {
   "cell_type": "code",
   "execution_count": 44,
   "metadata": {},
   "outputs": [
    {
     "data": {
      "text/plain": [
       "<llama_index.indices.vector_store.base.VectorStoreIndex at 0x7ff6c8b3e440>"
      ]
     },
     "execution_count": 44,
     "metadata": {},
     "output_type": "execute_result"
    }
   ],
   "source": [
    "index"
   ]
  }
 ],
 "metadata": {
  "kernelspec": {
   "display_name": "venv",
   "language": "python",
   "name": "python3"
  },
  "language_info": {
   "codemirror_mode": {
    "name": "ipython",
    "version": 3
   },
   "file_extension": ".py",
   "mimetype": "text/x-python",
   "name": "python",
   "nbconvert_exporter": "python",
   "pygments_lexer": "ipython3",
   "version": "3.10.12"
  },
  "orig_nbformat": 4
 },
 "nbformat": 4,
 "nbformat_minor": 2
}
