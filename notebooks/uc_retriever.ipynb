{
 "cells": [
  {
   "cell_type": "markdown",
   "metadata": {},
   "source": [
    "# Setup"
   ]
  },
  {
   "cell_type": "code",
   "execution_count": 42,
   "metadata": {},
   "outputs": [],
   "source": [
    "import os, json\n",
    "\n",
    "from langchain.vectorstores import FAISS\n",
    "from langchain.embeddings import OpenAIEmbeddings\n",
    "from langchain.embeddings.base import Embeddings\n",
    "\n",
    "import numpy as np\n",
    "import pandas as pd"
   ]
  },
  {
   "cell_type": "code",
   "execution_count": 53,
   "metadata": {},
   "outputs": [
    {
     "name": "stdout",
     "output_type": "stream",
     "text": [
      "Number of test cases: 30\n",
      "Length of embeddings: 1536\n"
     ]
    }
   ],
   "source": [
    "MAIN_DIR = \"..\"\n",
    "EMB_DIR = os.path.join(MAIN_DIR, \"data\", \"emb_store\", \"uc\", \"faiss\", \"text-embedding-ada-002\")\n",
    "\n",
    "with open(os.path.join(MAIN_DIR, \"auth\", \"api_keys.json\"), \"r\") as f:\n",
    "    api_keys = json.load(f)\n",
    "    \n",
    "os.environ[\"OPENAI_API_KEY\"] = api_keys[\"OPENAI_API_KEY\"]\n",
    "\n",
    "with open(os.path.join(MAIN_DIR, \"data\", \"queries\", \"uc_all.txt\"), \"r\") as f:\n",
    "    test_cases_txt = f.readlines()\n",
    "    \n",
    "with open(os.path.join(MAIN_DIR, \"data\", \"queries\", \"uc_all_emb.json\"), \"r\") as f:\n",
    "    test_cases_emb = json.load(f)\n",
    "    \n",
    "test_cases = [(txt, emb) for txt, emb in zip(test_cases_txt, test_cases_emb)]\n",
    "print(\"Number of test cases:\", len(test_cases))\n",
    "print(\"Length of embeddings:\", len(test_cases[0][1]))"
   ]
  },
  {
   "cell_type": "markdown",
   "metadata": {},
   "source": [
    "# Inspect Single Database"
   ]
  },
  {
   "cell_type": "code",
   "execution_count": 37,
   "metadata": {},
   "outputs": [],
   "source": [
    "embedding_function = OpenAIEmbeddings().embed_query\n",
    "docsearch = FAISS.load_local(\n",
    "    os.path.join(EMB_DIR, \"v8-add-tables_2500_500\"),\n",
    "    OpenAIEmbeddings()\n",
    "    )"
   ]
  },
  {
   "cell_type": "code",
   "execution_count": 52,
   "metadata": {},
   "outputs": [],
   "source": [
    "k = 10\n",
    "\n",
    "info = {\n",
    "    \"question\": [],\n",
    "    \"average_score\": [],\n",
    "    \"min_score\": [],\n",
    "    \"max_score\": []\n",
    "}\n",
    "\n",
    "for idx in range(10):\n",
    "    info[f\"Doc {idx+1} text\"] = []\n",
    "    info[f\"Doc {idx+1} score\"] = []\n",
    "\n",
    "for test_case in test_cases:\n",
    "    info[\"question\"].append(test_case[0])\n",
    "    relevant_docs_and_scores = docsearch.similarity_search_with_score_by_vector(test_case[1], k = k)\n",
    "    scores = [doc_and_score[1] for doc_and_score in relevant_docs_and_scores]\n",
    "    info[\"average_score\"].append(np.mean(scores))\n",
    "    info[\"min_score\"].append(np.min(scores))\n",
    "    info[\"max_score\"].append(np.max(scores))\n",
    "    for idx, doc_and_score in enumerate(relevant_docs_and_scores):\n",
    "        doc, score = doc_and_score\n",
    "        info[f\"Doc {idx+1} text\"].append(doc.page_content)\n",
    "        info[f\"Doc {idx+1} score\"].append(score)\n",
    "        \n",
    "df = pd.DataFrame(info)\n",
    "save_folder = os.path.join(MAIN_DIR, \"artifacts\", \"similarity-search-analysis-text-embedding-ada-002\")\n",
    "if not os.path.exists(save_folder):\n",
    "    os.makedirs(save_folder, exist_ok=True)\n",
    "df.to_csv(os.path.join(save_folder, \"summary.csv\"),\n",
    "          header=True)"
   ]
  },
  {
   "cell_type": "markdown",
   "metadata": {},
   "source": [
    "# Compare Multiple Databases"
   ]
  },
  {
   "cell_type": "code",
   "execution_count": 59,
   "metadata": {},
   "outputs": [],
   "source": [
    "docstores = [\n",
    "    \"v6-add-tables_750_100\",\n",
    "    \"v7-add-tables_1000_200\",\n",
    "    \"v8-add-tables_2500_500\",\n",
    "    \"v9-add-tables_1500_300\"\n",
    "]\n",
    "\n",
    "info = {\n",
    "    \"question\": [test_case[0] for test_case in test_cases],\n",
    "}\n",
    "\n",
    "for docstore in docstores:\n",
    "    docsearch = FAISS.load_local(\n",
    "        os.path.join(EMB_DIR, docstore),\n",
    "        OpenAIEmbeddings()\n",
    "        )\n",
    "    chunk_size = docstore.split(\"_\")[-2]\n",
    "    info[f\"{chunk_size}_average_score\"] = []\n",
    "    info[f\"{chunk_size}_min_score\"] = []\n",
    "    info[f\"{chunk_size}_max_score\"] = []\n",
    "    \n",
    "    for test_case in test_cases:\n",
    "        relevant_docs_and_scores = docsearch.similarity_search_with_score_by_vector(test_case[1], k = k)\n",
    "        scores = [doc_and_score[1] for doc_and_score in relevant_docs_and_scores]\n",
    "        info[f\"{chunk_size}_average_score\"].append(np.mean(scores))\n",
    "        info[f\"{chunk_size}_min_score\"].append(np.min(scores))\n",
    "        info[f\"{chunk_size}_max_score\"].append(np.max(scores))\n",
    "        \n",
    "df_scores = pd.DataFrame(info)\n",
    "save_folder = os.path.join(MAIN_DIR, \"artifacts\", \"similarity-search-analysis-text-embedding-ada-002\")\n",
    "if not os.path.exists(save_folder):\n",
    "    os.makedirs(save_folder, exist_ok=True)\n",
    "    \n",
    "df_scores.to_csv(os.path.join(save_folder, \"compare_database.csv\"),\n",
    "                 header=True)"
   ]
  }
 ],
 "metadata": {
  "kernelspec": {
   "display_name": "venv",
   "language": "python",
   "name": "python3"
  },
  "language_info": {
   "codemirror_mode": {
    "name": "ipython",
    "version": 3
   },
   "file_extension": ".py",
   "mimetype": "text/x-python",
   "name": "python",
   "nbconvert_exporter": "python",
   "pygments_lexer": "ipython3",
   "version": "3.8.10"
  },
  "orig_nbformat": 4
 },
 "nbformat": 4,
 "nbformat_minor": 2
}
