{
  "cells": [
    {
      "attachments": {},
      "cell_type": "markdown",
      "metadata": {
        "id": "Xobu8QB8mu_l"
      },
      "source": [
        "# Setup"
      ]
    },
    {
      "cell_type": "code",
      "execution_count": null,
      "metadata": {
        "colab": {
          "base_uri": "https://localhost:8080/"
        },
        "id": "A_vzyCRHF3Xn",
        "outputId": "8d3af069-413e-47d3-c178-039a969ad822"
      },
      "outputs": [
        {
          "name": "stdout",
          "output_type": "stream",
          "text": [
            "\u001b[?25l     \u001b[90m━━━━━━━━━━━━━━━━━━━━━━━━━━━━━━━━━━━━━━━━\u001b[0m \u001b[32m0.0/1.1 MB\u001b[0m \u001b[31m?\u001b[0m eta \u001b[36m-:--:--\u001b[0m\r\u001b[2K     \u001b[91m━━━━━━━━━━━━━━━━━━━━━━━━━━━━━━━━━━━━━━━\u001b[0m\u001b[91m╸\u001b[0m \u001b[32m1.1/1.1 MB\u001b[0m \u001b[31m33.6 MB/s\u001b[0m eta \u001b[36m0:00:01\u001b[0m\r\u001b[2K     \u001b[90m━━━━━━━━━━━━━━━━━━━━━━━━━━━━━━━━━━━━━━━━\u001b[0m \u001b[32m1.1/1.1 MB\u001b[0m \u001b[31m23.9 MB/s\u001b[0m eta \u001b[36m0:00:00\u001b[0m\n",
            "\u001b[2K     \u001b[90m━━━━━━━━━━━━━━━━━━━━━━━━━━━━━━━━━━━━━━━━\u001b[0m \u001b[32m73.6/73.6 kB\u001b[0m \u001b[31m8.0 MB/s\u001b[0m eta \u001b[36m0:00:00\u001b[0m\n",
            "\u001b[2K     \u001b[90m━━━━━━━━━━━━━━━━━━━━━━━━━━━━━━━━━━━━━━━━\u001b[0m \u001b[32m17.6/17.6 MB\u001b[0m \u001b[31m85.2 MB/s\u001b[0m eta \u001b[36m0:00:00\u001b[0m\n",
            "\u001b[2K     \u001b[90m━━━━━━━━━━━━━━━━━━━━━━━━━━━━━━━━━━━━━━━━\u001b[0m \u001b[32m1.7/1.7 MB\u001b[0m \u001b[31m79.8 MB/s\u001b[0m eta \u001b[36m0:00:00\u001b[0m\n",
            "\u001b[2K     \u001b[90m━━━━━━━━━━━━━━━━━━━━━━━━━━━━━━━━━━━━━━\u001b[0m \u001b[32m255.9/255.9 kB\u001b[0m \u001b[31m26.0 MB/s\u001b[0m eta \u001b[36m0:00:00\u001b[0m\n",
            "\u001b[2K     \u001b[90m━━━━━━━━━━━━━━━━━━━━━━━━━━━━━━━━━━━━━━━━\u001b[0m \u001b[32m14.1/14.1 MB\u001b[0m \u001b[31m92.4 MB/s\u001b[0m eta \u001b[36m0:00:00\u001b[0m\n",
            "\u001b[2K     \u001b[90m━━━━━━━━━━━━━━━━━━━━━━━━━━━━━━━━━━━━━━━━\u001b[0m \u001b[32m1.0/1.0 MB\u001b[0m \u001b[31m76.1 MB/s\u001b[0m eta \u001b[36m0:00:00\u001b[0m\n",
            "\u001b[2K     \u001b[90m━━━━━━━━━━━━━━━━━━━━━━━━━━━━━━━━━━━━━━━━\u001b[0m \u001b[32m90.0/90.0 kB\u001b[0m \u001b[31m10.5 MB/s\u001b[0m eta \u001b[36m0:00:00\u001b[0m\n",
            "\u001b[2K     \u001b[90m━━━━━━━━━━━━━━━━━━━━━━━━━━━━━━━━━━━━━━\u001b[0m \u001b[32m114.5/114.5 kB\u001b[0m \u001b[31m14.0 MB/s\u001b[0m eta \u001b[36m0:00:00\u001b[0m\n",
            "\u001b[2K     \u001b[90m━━━━━━━━━━━━━━━━━━━━━━━━━━━━━━━━━━━━━━\u001b[0m \u001b[32m268.8/268.8 kB\u001b[0m \u001b[31m24.6 MB/s\u001b[0m eta \u001b[36m0:00:00\u001b[0m\n",
            "\u001b[2K     \u001b[90m━━━━━━━━━━━━━━━━━━━━━━━━━━━━━━━━━━━━━━\u001b[0m \u001b[32m149.6/149.6 kB\u001b[0m \u001b[31m15.2 MB/s\u001b[0m eta \u001b[36m0:00:00\u001b[0m\n",
            "\u001b[2K     \u001b[90m━━━━━━━━━━━━━━━━━━━━━━━━━━━━━━━━━━━━━━━━\u001b[0m \u001b[32m49.1/49.1 kB\u001b[0m \u001b[31m5.5 MB/s\u001b[0m eta \u001b[36m0:00:00\u001b[0m\n",
            "\u001b[?25h"
          ]
        }
      ],
      "source": [
        "!pip install --quiet langchain openai faiss-cpu tiktoken pypdf PyMuPDF"
      ]
    },
    {
      "cell_type": "code",
      "execution_count": null,
      "metadata": {
        "colab": {
          "base_uri": "https://localhost:8080/"
        },
        "id": "_G80rr2ZHP7d",
        "outputId": "25ff0a08-071b-4987-8876-968e9113649c"
      },
      "outputs": [
        {
          "name": "stdout",
          "output_type": "stream",
          "text": [
            "Mounted at /content/drive\n",
            "/content/drive/MyDrive/LLM/ulcerative_colitis\n"
          ]
        }
      ],
      "source": [
        "from google.colab import drive\n",
        "\n",
        "drive.mount(\"/content/drive\")\n",
        "\n",
        "%cd drive/MyDrive/LLM/ulcerative_colitis"
      ]
    },
    {
      "attachments": {},
      "cell_type": "markdown",
      "metadata": {},
      "source": [
        "# Import dependencies"
      ]
    },
    {
      "cell_type": "code",
      "execution_count": 26,
      "metadata": {
        "id": "nGWwk_exH6Op"
      },
      "outputs": [],
      "source": [
        "import os, sys, json, logging\n",
        "import os.path as osp\n",
        "import re\n",
        "import pandas as pd\n",
        "\n",
        "from typing import Union, Sequence, Dict, Callable, List, Optional\n",
        "from pydantic import BaseModel, Field, validator\n",
        "from pprint import pprint\n",
        "from tqdm.auto import tqdm\n",
        "from IPython.display import display, Markdown\n",
        "from time import time\n",
        "from datetime import datetime\n",
        "\n",
        "from langchain import OpenAI\n",
        "from langchain.embeddings.openai import OpenAIEmbeddings\n",
        "from langchain.vectorstores import FAISS\n",
        "from langchain.document_loaders.pdf import PyMuPDFLoader, PyPDFLoader\n",
        "from langchain.text_splitter import RecursiveCharacterTextSplitter, CharacterTextSplitter\n",
        "from langchain.chat_models import ChatOpenAI\n",
        "from langchain.prompts import PromptTemplate\n",
        "from langchain.chains import RetrievalQA, RetrievalQAWithSourcesChain\n",
        "from langchain.prompts.chat import ChatPromptTemplate, SystemMessagePromptTemplate, HumanMessagePromptTemplate\n",
        "from langchain.output_parsers import PydanticOutputParser\n",
        "\n",
        "from config import MAIN_DIR, DATA_DIR, EMBSTORE_DIR, ARTIFACT_DIR, DOCUMENT_SOURCE\n",
        "\n",
        "from shutil import rmtree\n",
        "from utils import load_single_document"
      ]
    },
    {
      "cell_type": "code",
      "execution_count": 23,
      "metadata": {
        "id": "l-VsrU--JBBK"
      },
      "outputs": [],
      "source": [
        "PROJECT = \"uc\"\n",
        "\n",
        "with open(osp.join(MAIN_DIR, \"auth\", \"api_keys.json\"), \"r\") as f:\n",
        "    keys = json.load(f)\n",
        "\n",
        "OPENAI_KEY = keys[\"OPENAI_API_KEY\"]"
      ]
    },
    {
      "cell_type": "code",
      "execution_count": 11,
      "metadata": {
        "id": "piuTlxLNJTVC"
      },
      "outputs": [],
      "source": [
        "LOGGER = logging.getLogger()\n",
        "\n",
        "log_path = os.path.join(MAIN_DIR, \"log_file.txt\")\n",
        "file_handler = logging.FileHandler(\n",
        "    filename=log_path)\n",
        "\n",
        "formatter = logging.Formatter(\"%(asctime)s:%(levelname)s: %(message)s\")\n",
        "file_handler.setFormatter(formatter)\n",
        "\n",
        "LOGGER.setLevel(logging.INFO)\n",
        "LOGGER.addHandler(file_handler)"
      ]
    },
    {
      "attachments": {},
      "cell_type": "markdown",
      "metadata": {
        "id": "B_Uslox4t9d8"
      },
      "source": [
        "# User-defined Functions (UDF)"
      ]
    },
    {
      "cell_type": "code",
      "execution_count": 12,
      "metadata": {
        "id": "akNXqtFmt88J"
      },
      "outputs": [],
      "source": [
        "def generate_vectorstore(\n",
        "    data_directory: str,\n",
        "    embedder,\n",
        "    output_directory: str = \"./vectorstore\",\n",
        "    chunk_size: int=1000,\n",
        "    chunk_overlap: int=250,\n",
        "    relevant_pages: Optional[Dict] = None\n",
        "    ):\n",
        "    LOGGER.info(\"Creating new vectorstore.\")\n",
        "\n",
        "    if osp.exists(output_directory):\n",
        "        rmtree(output_directory)\n",
        "    os.makedirs(output_directory, exist_ok = True)\n",
        "\n",
        "    document_files = os.listdir(data_directory)\n",
        "    documents = []\n",
        "\n",
        "    for filename in document_files:\n",
        "        relevant_page_idx = relevant_pages[filename] if filename in relevant_pages else []\n",
        "        for page in PyMuPDFLoader(os.path.join(data_directory, filename)).load():\n",
        "            if page.metadata[\"page\"] in relevant_page_idx:\n",
        "                page.metadata[\"modal\"] = \"text\"\n",
        "                documents.append(page)\n",
        "\n",
        "    print(f\"Total number of pages to be processed: {len(documents)}\")\n",
        "\n",
        "    text_splitter = RecursiveCharacterTextSplitter(chunk_size=chunk_size, chunk_overlap=chunk_overlap)\n",
        "    texts = text_splitter.split_documents(documents)\n",
        "    print(f\"No of chunks: {len(texts)}\")\n",
        "\n",
        "    docsearch = FAISS.from_documents(texts, embedder)\n",
        "    docsearch.save_local(output_directory)\n",
        "    assert \"index.faiss\" in os.listdir(output_directory) and \"index.pkl\" in os.listdir(output_directory)\n",
        "    LOGGER.info(f\"Successfully created vectorstore at {output_directory}\")\n",
        "\n",
        "    return docsearch"
      ]
    },
    {
      "attachments": {},
      "cell_type": "markdown",
      "metadata": {
        "id": "BP89lkLGsmKF"
      },
      "source": [
        "# Experiment Class"
      ]
    },
    {
      "cell_type": "code",
      "execution_count": 13,
      "metadata": {
        "id": "OfcdafLxXEQx"
      },
      "outputs": [],
      "source": [
        "class DrugOutput(BaseModel):\n",
        "    drug_name: str = Field(description = \"Name of the drug\")\n",
        "    advantages: str = Field(description = \"Advantages of the drug \")\n",
        "    disadvantages: str = Field(description = \"Disadvantages of the drug\")\n",
        "\n",
        "class Experiment():\n",
        "    def __init__(\n",
        "        self,\n",
        "        prompt_template: Union[PromptTemplate, ChatPromptTemplate],\n",
        "        vector_store: str,\n",
        "        llm_type: str=\"gpt-3.5-turbo\",\n",
        "        emb: str=\"text-embedding-ada-002\",\n",
        "        keys_json: str=osp.join(MAIN_DIR, \"auth\", \"api_keys.json\"),\n",
        "        temperature: float = 0,\n",
        "        max_tokens: int = 512,\n",
        "        gt: Optional[str] = None,\n",
        "        verbose: bool = False\n",
        "        ):\n",
        "\n",
        "        self.llm_type = llm_type.lower()\n",
        "        self.temperature = temperature\n",
        "        self.max_tokens = max_tokens\n",
        "\n",
        "        with open(keys_json, \"r\") as f:\n",
        "            keys = json.load(f)\n",
        "\n",
        "        self.openai_key = keys[\"OPENAI_API_KEY_FOR_GPT4\"] if self.llm_type == \"gpt-4\" else keys[\"OPENAI_API_KEY\"]\n",
        "\n",
        "        if isinstance(prompt_template,ChatPromptTemplate):\n",
        "            self.llm = ChatOpenAI(model_name=self.llm_type, temperature=self.temperature,\n",
        "                            max_tokens=self.max_tokens, openai_api_key=self.openai_key)\n",
        "        else:\n",
        "            self.llm = OpenAI(model_name=self.llm_type, temperature=self.temperature,\n",
        "                            max_tokens=self.max_tokens, openai_api_key=self.openai_key\n",
        "                            )\n",
        "        self.embedder = OpenAIEmbeddings(openai_api_key = self.openai_key)\n",
        "        try:\n",
        "            self.load_vectorstore(vector_store)\n",
        "        except:\n",
        "            print(\"Vectorstore invalid. Please load valid vectorstore or create new vectorstore.\")\n",
        "            self.docsearch = None\n",
        "\n",
        "        self.prompt_template = prompt_template\n",
        "        self.questions = []\n",
        "        self.answers = []\n",
        "        self.sources = []\n",
        "        self.ground_truth = pd.read_csv(gt, encoding = \"ISO-8859-1\") if gt else None\n",
        "        self.drug_parser = PydanticOutputParser(pydantic_object=DrugOutput)\n",
        "        self.chain = None\n",
        "        self.verbose = verbose\n",
        "\n",
        "    def load_vectorstore(self, vectorstore_path):\n",
        "        assert \"index.faiss\" in os.listdir(vectorstore_path) and \"index.pkl\" in os.listdir(vectorstore_path), \"Invalid Vectorstore\"\n",
        "        self.docsearch = FAISS.load_local(vectorstore_path, self.embedder)\n",
        "        LOGGER.info(\"Successfully loaded existing vectorstore from local storage\")\n",
        "\n",
        "    def generate_vectorstore(\n",
        "        self,\n",
        "        data_directory: str,\n",
        "        output_directory: str = \"./vectorstore\",\n",
        "        chunk_size: int=1000,\n",
        "        chunk_overlap: int=250,\n",
        "        relevant_pages: Optional[Dict] = None\n",
        "        ):\n",
        "        self.docsearch = generate_vectorstore(\n",
        "            data_directory = data_directory,\n",
        "            embedder = self.embedder,\n",
        "            output_directory = output_directory,\n",
        "            chunk_size = chunk_size,\n",
        "            chunk_overlap = chunk_overlap,\n",
        "            relevant_pages = relevant_pages\n",
        "        )\n",
        "\n",
        "\n",
        "    def run_test_cases(self, test_cases: Union[List[str], str]):\n",
        "        if isinstance(test_cases, str):\n",
        "            with open(test_cases, \"r\", encoding = \"utf-8-sig\") as f:\n",
        "                test_cases = f.readlines()\n",
        "            test_cases = [test_case.rstrip() for test_case in test_cases]\n",
        "\n",
        "        if not self.chain:\n",
        "            self._create_retriever_chain()\n",
        "\n",
        "        for test_case in test_cases:\n",
        "            print(\"Query: {}\".format(test_case))\n",
        "            output = self.chain(test_case)\n",
        "            self.questions.append(output[\"question\"])\n",
        "            self.answers.append(output[\"answer\"])\n",
        "            sources = []\n",
        "            for document in output[\"source_documents\"]:\n",
        "                sources.append(\n",
        "                    {\n",
        "                        \"title\": document.metadata[\"title\"],\n",
        "                        \"filename\": document.metadata[\"source\"].split(\"/\")[-1],\n",
        "                        \"page\": document.metadata[\"page\"],\n",
        "                        \"modal\": document.metadata[\"modal\"],\n",
        "                        \"text\": document.page_content\n",
        "                    }\n",
        "                )\n",
        "\n",
        "            self.sources.append(sources)\n",
        "\n",
        "    @staticmethod\n",
        "    def convert_prompt_to_string(prompt):\n",
        "        return prompt.format(**{v:v for v in prompt.input_variables})\n",
        "\n",
        "    @staticmethod\n",
        "    def format_results(result_dict):\n",
        "        sources = [\n",
        "        str(re.findall(r\"[ \\w-]+?(?=\\.)\", name)[0])\n",
        "        for name in (\n",
        "            list(set([doc.metadata[\"source\"] for doc in result_dict[\"source_documents\"]])))]\n",
        "\n",
        "        response = f\"\"\"### Response:\n",
        "        {result_dict['answer']}\n",
        "        \\n### Relevant sources:\n",
        "        {', '.join(sources)}\n",
        "        \"\"\"\n",
        "        return response\n",
        "\n",
        "    @classmethod\n",
        "    def print_result(cls, result):\n",
        "        display(Markdown(Experiment.format_results(result)))\n",
        "\n",
        "    @staticmethod\n",
        "    def process_source(source):\n",
        "        return \"\\n\\n\".join([f\"{k}: {v}\" for k, v in source.items()])\n",
        "\n",
        "    def save_json(self, output_path):\n",
        "        output_dict = {}\n",
        "        output_dict[\"prompt\"] = Experiment.convert_prompt_to_string(self.prompt_template)\n",
        "        output_dict[\"test_cases\"] = []\n",
        "\n",
        "        for question, answer, source in zip(self.questions, self.answers, self.sources):\n",
        "            output_dict[\"test_cases\"].append(\n",
        "                {\n",
        "                    \"question\": question,\n",
        "                    \"answer\": answer,\n",
        "                    \"sources\": source\n",
        "                }\n",
        "            )\n",
        "\n",
        "        with open(output_path, \"w\") as f:\n",
        "            json.dump(output_dict, f)\n",
        "\n",
        "    def load_groundtruth(self, gt_path):\n",
        "        self.groundtruth = pd.read_csv(gt_path)\n",
        "\n",
        "    def reset(self):\n",
        "        self.questions = []\n",
        "        self.answers = []\n",
        "        self.sources = []\n",
        "        self.ground_truth = None\n",
        "\n",
        "    def load_json(self, json_path, reset = False):\n",
        "        if reset:\n",
        "            self.reset()\n",
        "        with open(json_path, \"r\") as f:\n",
        "            input_dict = json.load(f)\n",
        "        for test_case in input_dict[\"test_cases\"]:\n",
        "            self.questions.append(test_case[\"question\"])\n",
        "            self.answers.append(test_case[\"answer\"])\n",
        "            self.sources.append(test_case[\"sources\"])\n",
        "\n",
        "    def write_csv(self, output_csv: str):\n",
        "\n",
        "        pd_answers = [[], []]\n",
        "        pd_pros = [[], []]\n",
        "        pd_cons = [[], []]\n",
        "        pd_sources = [[], [], [], [], [], []]\n",
        "\n",
        "        for answer, sources in zip(self.answers, self.sources):\n",
        "            drugs = [self.drug_parser.parse(drug) for drug in re.findall(re.compile(r\"{[^{}]+}\"), answer)]\n",
        "            pd_answers[0].append(drugs[0].drug_name if len(drugs) > 0 else None)\n",
        "            pd_answers[1].append(drugs[1].drug_name if len(drugs) > 1 else None)\n",
        "            pd_pros[0].append(drugs[0].advantages if len(drugs) > 0 else None)\n",
        "            pd_cons[0].append(drugs[0].disadvantages if len(drugs) > 0 else None)\n",
        "            pd_pros[1].append(drugs[1].advantages if len(drugs) > 1 else None)\n",
        "            pd_cons[1].append(drugs[1].disadvantages if len(drugs) > 1 else None)\n",
        "\n",
        "            for idx, source in enumerate(sources):\n",
        "                pd_sources[idx].append(Experiment.process_source(source))\n",
        "\n",
        "            if idx + 1 < len(pd_sources):\n",
        "                for i in range(idx+1, len(pd_sources)):\n",
        "                    pd_sources[i].append(None)\n",
        "\n",
        "        info = {\"question\": self.questions}\n",
        "\n",
        "        if self.ground_truth is not None:\n",
        "            info[\"gt_rec1\"] = self.ground_truth[\"Recommendation 1\"].tolist()\n",
        "            info[\"gt_rec2\"] = self.ground_truth[\"Recommendation 2\"].tolist()\n",
        "            info[\"gt_rec3\"] = self.ground_truth[\"Recommendation 3\"].tolist()\n",
        "            info[\"gt_avoid\"] = self.ground_truth[\"Drug Avoid\"].tolist()\n",
        "            info[\"gt_reason\"] = self.ground_truth[\"Reasoning\"].tolist()\n",
        "\n",
        "        info[\"prompt\"] = [Experiment.convert_prompt_to_string(self.prompt_template)] * len(self.questions)\n",
        "        info[\"raw_answer\"] = self.answers\n",
        "        info[\"answer1\"] = pd_answers[0]; info[\"pro1\"] = pd_pros[0]; info[\"cons1\"] = pd_cons[0]\n",
        "        info[\"answer2\"] = pd_answers[1]; info[\"pro2\"] = pd_pros[1]; info[\"cons2\"] = pd_cons[1]\n",
        "        info[\"source1\"] = pd_sources[0]; info[\"source2\"] = pd_sources[1]; info[\"source3\"] = pd_sources[2]\n",
        "        info[\"source4\"] = pd_sources[3]; info[\"source5\"] = pd_sources[4]; info[\"source6\"] = pd_sources[5]\n",
        "\n",
        "\n",
        "        panda_df = pd.DataFrame(\n",
        "            info\n",
        "        )\n",
        "\n",
        "        panda_df.to_csv(output_csv, header = True)\n",
        "\n",
        "    def _create_retriever_chain(\n",
        "        self,\n",
        "        chain_type: str = \"stuff\",\n",
        "        return_source_documents=True,\n",
        "        reduce_k_below_max_tokens=True,\n",
        "        ):\n",
        "        self.chain = RetrievalQAWithSourcesChain.from_chain_type(\n",
        "            llm=self.llm,\n",
        "            chain_type=chain_type,\n",
        "            retriever=self.docsearch.as_retriever(),\n",
        "            return_source_documents=return_source_documents,\n",
        "            chain_type_kwargs={\"prompt\": self.prompt_template},\n",
        "            reduce_k_below_max_tokens=reduce_k_below_max_tokens,\n",
        "            verbose=self.verbose\n",
        "            )"
      ]
    },
    {
      "attachments": {},
      "cell_type": "markdown",
      "metadata": {
        "id": "CBLfxKVohLSS"
      },
      "source": [
        "# Create Vectorstore"
      ]
    },
    {
      "cell_type": "code",
      "execution_count": 37,
      "metadata": {},
      "outputs": [
        {
          "name": "stdout",
          "output_type": "stream",
          "text": [
            "{'author': 'Juan S Lasa MD',\n",
            " 'creationDate': \"D:20211223225432+05'30'\",\n",
            " 'creator': 'Elsevier',\n",
            " 'file_path': '/mnt/c/Users/QUAN/Desktop/medical-chatbot/data/document_store/uc/1-s2.0-S2468125321003770-main.pdf',\n",
            " 'format': 'PDF 1.7',\n",
            " 'keywords': '',\n",
            " 'modDate': \"D:20220108175830+05'30'\",\n",
            " 'page': 0,\n",
            " 'producer': 'Acrobat Distiller 6.0 for Windows',\n",
            " 'source': '/mnt/c/Users/QUAN/Desktop/medical-chatbot/data/document_store/uc/1-s2.0-S2468125321003770-main.pdf',\n",
            " 'subject': 'The Lancet Gastroenterology & Hepatology, 7 (2022) 161-170. '\n",
            "            'doi:10.1016/S2468-1253(21)00377-0',\n",
            " 'title': 'Efficacy and safety of biologics and small molecule drugs for '\n",
            "          'patients with moderate-to-severe ulcerative colitis: a systematic '\n",
            "          'review and network meta-analysis',\n",
            " 'total_pages': 10,\n",
            " 'trapped': ''}\n",
            "{'author': 'Manasi Agrawal',\n",
            " 'creationDate': \"D:20210619033246+05'30'\",\n",
            " 'creator': 'Elsevier',\n",
            " 'file_path': '/mnt/c/Users/QUAN/Desktop/medical-chatbot/data/document_store/uc/agrawal.pdf',\n",
            " 'format': 'PDF 1.7',\n",
            " 'keywords': '',\n",
            " 'modDate': \"D:20210619033336+05'30'\",\n",
            " 'page': 0,\n",
            " 'producer': 'Acrobat Distiller 8.1.0 (Windows)',\n",
            " 'source': '/mnt/c/Users/QUAN/Desktop/medical-chatbot/data/document_store/uc/agrawal.pdf',\n",
            " 'subject': 'Gastroenterology, 161 (2021) 47-65. '\n",
            "            'doi:10.1053/j.gastro.2021.04.063',\n",
            " 'title': 'Approach to the Management of Recently Diagnosed Inflammatory Bowel '\n",
            "          \"Disease Patients: A User's Guide for Adult and Pediatric \"\n",
            "          'Gastroenterologists',\n",
            " 'total_pages': 19,\n",
            " 'trapped': ''}\n",
            "{'author': 'Burr, NE, Gracie, DJ, Black, CJ and Ford, AC',\n",
            " 'creationDate': \"D:20230106151148Z00'00'\",\n",
            " 'creator': 'Microsoft® Word for Microsoft 365',\n",
            " 'file_path': '/mnt/c/Users/QUAN/Desktop/medical-chatbot/data/document_store/uc/gutjnl-2021-326390R2 '\n",
            "              'CLEAN.pdf',\n",
            " 'format': 'PDF 1.7',\n",
            " 'keywords': 'meta-analysis; ulcerative colitis',\n",
            " 'modDate': \"D:20230106151148Z00'00'\",\n",
            " 'page': 0,\n",
            " 'producer': 'GPL Ghostscript 9.25',\n",
            " 'source': '/mnt/c/Users/QUAN/Desktop/medical-chatbot/data/document_store/uc/gutjnl-2021-326390R2 '\n",
            "           'CLEAN.pdf',\n",
            " 'subject': '',\n",
            " 'title': 'Efficacy of biological therapies and small molecules in moderate to '\n",
            "          'severe ulcerative colitis: systematic review and network '\n",
            "          'meta-analysis',\n",
            " 'total_pages': 46,\n",
            " 'trapped': ''}\n",
            "{'author': 'Pascal Juillerat',\n",
            " 'creationDate': \"D:20221210111351+05'30'\",\n",
            " 'creator': 'Elsevier',\n",
            " 'file_path': '/mnt/c/Users/QUAN/Desktop/medical-chatbot/data/document_store/uc/juillerat '\n",
            "              '2022.pdf',\n",
            " 'format': 'PDF 1.7',\n",
            " 'keywords': '',\n",
            " 'modDate': \"D:20221210111432+05'30'\",\n",
            " 'page': 0,\n",
            " 'producer': 'Acrobat Distiller 8.1.0 (Windows)',\n",
            " 'source': '/mnt/c/Users/QUAN/Desktop/medical-chatbot/data/document_store/uc/juillerat '\n",
            "           '2022.pdf',\n",
            " 'subject': 'Current Research in Pharmacology and Drug Discovery, 3 (2022) '\n",
            "            '100104. doi:10.1016/j.crphar.2022.100104',\n",
            " 'title': 'Positioning biologics in the treatment of IBD: A practical guide - '\n",
            "          'Which mechanism of action for whom?',\n",
            " 'total_pages': 9,\n",
            " 'trapped': ''}\n",
            "{'author': '',\n",
            " 'creationDate': \"D:20230328133539+05'30'\",\n",
            " 'creator': 'Adobe InDesign 15.1 (Windows)',\n",
            " 'file_path': '/mnt/c/Users/QUAN/Desktop/medical-chatbot/data/document_store/uc/otad009.pdf',\n",
            " 'format': 'PDF 1.4',\n",
            " 'keywords': '',\n",
            " 'modDate': \"D:20230523091651+00'00'\",\n",
            " 'page': 0,\n",
            " 'producer': 'Adobe PDF Library 15.0; modified using iTextSharp 4.1.6 by 1T3XT',\n",
            " 'source': '/mnt/c/Users/QUAN/Desktop/medical-chatbot/data/document_store/uc/otad009.pdf',\n",
            " 'subject': '',\n",
            " 'title': '',\n",
            " 'total_pages': 17,\n",
            " 'trapped': ''}\n",
            "{'author': 'Siddharth Singh',\n",
            " 'creationDate': \"D:20200816062640+05'30'\",\n",
            " 'creator': 'Elsevier',\n",
            " 'file_path': '/mnt/c/Users/QUAN/Desktop/medical-chatbot/data/document_store/uc/PIIS1542356520300446.pdf',\n",
            " 'format': 'PDF 1.7',\n",
            " 'keywords': '',\n",
            " 'modDate': \"D:20200816062734+05'30'\",\n",
            " 'page': 0,\n",
            " 'producer': 'Acrobat Distiller 8.1.0 (Windows)',\n",
            " 'source': '/mnt/c/Users/QUAN/Desktop/medical-chatbot/data/document_store/uc/PIIS1542356520300446.pdf',\n",
            " 'subject': 'Clinical Gastroenterology and Hepatology, 18 (2020) 2179-2197. '\n",
            "            'doi:10.1016/j.cgh.2020.01.008',\n",
            " 'title': 'First- and Second-Line Pharmacotherapies for Patients With Moderate '\n",
            "          'to Severely Active Ulcerative Colitis: An Updated Network '\n",
            "          'Meta-Analysis',\n",
            " 'total_pages': 19,\n",
            " 'trapped': ''}\n"
          ]
        }
      ],
      "source": [
        "for filename in os.listdir(os.path.join(DOCUMENT_SOURCE, PROJECT)):\n",
        "    pages = PyMuPDFLoader(os.path.join(DOCUMENT_SOURCE, PROJECT, filename)).load()\n",
        "    pprint(pages[0].__dict__[\"metadata\"])"
      ]
    },
    {
      "cell_type": "code",
      "execution_count": null,
      "metadata": {
        "colab": {
          "base_uri": "https://localhost:8080/"
        },
        "id": "hLCpMHa031bv",
        "outputId": "77b065fd-1d74-4898-ff7c-da844081a790"
      },
      "outputs": [
        {
          "name": "stdout",
          "output_type": "stream",
          "text": [
            "Number of documents in datastore: 6\n",
            "Index 1: /content/drive/MyDrive/LLM/ulcerative_colitis/data/agrawal.pdf\n",
            "Index 2: /content/drive/MyDrive/LLM/ulcerative_colitis/data/PIIS1542356520300446.pdf\n",
            "Index 3: /content/drive/MyDrive/LLM/ulcerative_colitis/data/gutjnl-2021-326390R2 CLEAN.pdf\n",
            "Index 4: /content/drive/MyDrive/LLM/ulcerative_colitis/data/otad009.pdf\n",
            "Index 5: /content/drive/MyDrive/LLM/ulcerative_colitis/data/1-s2.0-S2468125321003770-main.pdf\n",
            "Index 6: /content/drive/MyDrive/LLM/ulcerative_colitis/data/juillerat 2022.pdf\n"
          ]
        }
      ],
      "source": [
        "RELEVANT_PAGES = {\n",
        "    'agrawal.pdf': [0, 1, 2, 3, 4, 5, 6, 7, 8, 9, 10, 11, 12],\n",
        "    'PIIS1542356520300446.pdf': [0, 1, 2, 3, 4, 5, 6, 7, 8, 9, 10, 11, 13, ],\n",
        "    'gutjnl-2021-326390R2 CLEAN.pdf': [1] + list(range(3, 31)),\n",
        "    'otad009.pdf': [0, 1, 2, 3, 4, 5, 6, 7, 8, 9, 10, 11, 12, 13, 14],\n",
        "    '1-s2.0-S2468125321003770-main.pdf': [0, 1, 2, 3, 4, 5, 6, 7, 8],\n",
        "    'juillerat 2022.pdf':[0, 1, 2, 3, 4, 5]\n",
        "}\n",
        "\n",
        "datastore_paths = [os.path.join(DATA_DIR, file_name) for file_name in os.listdir(DATA_DIR) if file_name.endswith(\".pdf\")]\n",
        "print(\"Number of documents in datastore:\", len(datastore_paths))\n",
        "for i, path in enumerate(datastore_paths):\n",
        "    print(f\"Index {i + 1}: {path}\")"
      ]
    },
    {
      "cell_type": "code",
      "execution_count": null,
      "metadata": {
        "id": "sEMO1wEitN5G"
      },
      "outputs": [],
      "source": [
        "sample_path = \"/content/drive/MyDrive/LLM/ulcerative_colitis/data/1-s2.0-S2468125321003770-main.pdf\"\n",
        "pdfloader = PyMuPDFLoader(sample_path)\n",
        "\n",
        "sample_data = pdfloader.load()\n",
        "print(\"Number of pages:\", len(sample_data))\n",
        "sample_page = sample_data[4]\n",
        "print(str(sample_page.metadata) + \"\\n\")\n",
        "content = sample_page.page_content\n",
        "print(f\"Text Length: {len(content)}\\n\")\n",
        "# content = re.sub(r\"\\t+\", \" \", content)\n",
        "pprint(content[:1000])\n",
        "metadata = sample_page.metadata\n",
        "pprint(metadata)"
      ]
    },
    {
      "cell_type": "code",
      "execution_count": null,
      "metadata": {
        "id": "RpY5T1luxwJY"
      },
      "outputs": [],
      "source": [
        "generate_vectorstore(DATA_DIR, OpenAIEmbeddings(openai_api_key = OPENAI_KEY), EMBSTORE_DIR, relevant_pages = RELEVANT_PAGES)"
      ]
    },
    {
      "attachments": {},
      "cell_type": "markdown",
      "metadata": {
        "id": "WPyXW-l24VFg"
      },
      "source": [
        "# Prototypes"
      ]
    },
    {
      "attachments": {},
      "cell_type": "markdown",
      "metadata": {
        "id": "933ywV6FSiC5"
      },
      "source": [
        "## Test Cases"
      ]
    },
    {
      "cell_type": "code",
      "execution_count": 15,
      "metadata": {
        "colab": {
          "base_uri": "https://localhost:8080/"
        },
        "id": "iu4Fey58rXx9",
        "outputId": "a754067e-4c25-48f3-9dca-7c8469342949"
      },
      "outputs": [
        {
          "data": {
            "text/plain": [
              "['40 year old male with newly diagnosed moderate UC and articular extraintestinal manifestations',\n",
              " '70 year old female with newly diagnosed severe UC',\n",
              " '35 year old male with known moderate UC with prior exposure to infliximab but has worsening colitis on endoscopy despite compliance',\n",
              " '60 year old female with newly diagnosed moderate UC with a background of congestive cardiac failure',\n",
              " '38 year old female with newly diagnosed moderate UC and psoriasis',\n",
              " '25 year old pregnant woman with severe distal ulcerative colitis',\n",
              " '56 year old man with moderate to severe ulcerative colitis and ankylosing spondylitis',\n",
              " '38 year old man with severe ulcerative colitis and has lost response to vedolizumab',\n",
              " '28 year old woman who has severe extensive ulcerative colitis and has a history of lymphoma which was treated 4 years ago',\n",
              " '36 year old woman with moderate ulcerative colitis and multiple sclerosis']"
            ]
          },
          "execution_count": 15,
          "metadata": {},
          "output_type": "execute_result"
        }
      ],
      "source": [
        "with open(osp.join(DATA_DIR, \"queries\", \"uc.txt\"), \"r\", encoding = \"utf-8-sig\") as f:\n",
        "    test_cases = f.readlines()\n",
        "\n",
        "test_cases = [test_case.rstrip() for test_case in test_cases]\n",
        "test_cases"
      ]
    },
    {
      "attachments": {},
      "cell_type": "markdown",
      "metadata": {
        "id": "2fY1Hyjd5mb7"
      },
      "source": [
        "## Experiment 1: Only Text - Normal Prompt Template - GPT4"
      ]
    },
    {
      "attachments": {},
      "cell_type": "markdown",
      "metadata": {
        "id": "5DLq8oet-_Av"
      },
      "source": [
        "### Prompt Setup"
      ]
    },
    {
      "cell_type": "code",
      "execution_count": null,
      "metadata": {
        "colab": {
          "base_uri": "https://localhost:8080/"
        },
        "id": "wX3gOJr9I3AN",
        "outputId": "5c51fc3d-af94-4586-e9dd-8dffb71b6eaf"
      },
      "outputs": [
        {
          "name": "stdout",
          "output_type": "stream",
          "text": [
            "Make reference to the context given to assess the scenario. If you do not know the answer. just say that \"I don't know\", don't try to make up an answer.\n",
            "You are a physician assistant giving advice on treatment for moderate to severe ulcerative colitis (UC). Perform the following step\n",
            "\n",
            "ANALYSE the given patient profile based on given query based on one of the following criteria:\n",
            "- Freshly treated patient or patient under maintenance\n",
            "- Prior response to Infliximab\n",
            "- Prior failure to Anti-TNF agents\n",
            "- Prior failure to Vedolizumab\n",
            "- Age\n",
            "- Pregnancy\n",
            "- Extraintestinale manifestations\n",
            "- Pouchitis\n",
            "\n",
            "FINALLY RETURN up to 2 TOP choices of biological drugs given patient profile. Explain the PROS and CONS of the 2 choices.\n",
            "\n",
            "Summaries\n",
            "\n",
            "The output should be formatted as a JSON instance that conforms to the JSON schema below.\n",
            "\n",
            "As an example, for the schema {\"properties\": {\"foo\": {\"title\": \"Foo\", \"description\": \"a list of strings\", \"type\": \"array\", \"items\": {\"type\": \"string\"}}}, \"required\": [\"foo\"]}}\n",
            "the object {\"foo\": [\"bar\", \"baz\"]} is a well-formatted instance of the schema. The object {\"properties\": {\"foo\": [\"bar\", \"baz\"]}} is not well-formatted.\n",
            "\n",
            "Here is the output schema:\n",
            "```\n",
            "{\"properties\": {\"drug_name\": {\"title\": \"Drug Name\", \"description\": \"Name of the drug\", \"type\": \"string\"}, \"advantages\": {\"title\": \"Advantages\", \"description\": \"Advantages of the drug \", \"type\": \"string\"}, \"disadvantages\": {\"title\": \"Disadvantages\", \"description\": \"Disadvantages of the drug\", \"type\": \"string\"}}, \"required\": [\"drug_name\", \"advantages\", \"disadvantages\"]}\n",
            "```\n",
            "\n",
            "Question: User Query\n",
            "Answer:\n",
            "\n"
          ]
        }
      ],
      "source": [
        "### STANDARD PROMPT TEMPLATE\n",
        "drug_parser = PydanticOutputParser(pydantic_object=DrugOutput)\n",
        "\n",
        "prompt_template = \"\"\"Make reference to the context given to assess the scenario. If you do not know the answer. just say that \"I don't know\", don't try to make up an answer.\n",
        "You are a physician assistant giving advice on treatment for moderate to severe ulcerative colitis (UC). Perform the following step\n",
        "\n",
        "ANALYSE the given patient profile based on given query based on one of the following criteria:\n",
        "- Freshly treated patient or patient under maintenance\n",
        "- Prior response to Infliximab\n",
        "- Prior failure to Anti-TNF agents\n",
        "- Prior failure to Vedolizumab\n",
        "- Age\n",
        "- Pregnancy\n",
        "- Extraintestinale manifestations\n",
        "- Pouchitis\n",
        "\n",
        "FINALLY RETURN up to 2 TOP choices of biological drugs given patient profile. Explain the PROS and CONS of the 2 choices.\n",
        "\n",
        "{summaries}\n",
        "\n",
        "{format_instructions}\n",
        "\n",
        "Question: {question}\n",
        "Answer:\n",
        "\"\"\"\n",
        "\n",
        "TEST_PROMPT_TEMPLATE_1 = PromptTemplate(\n",
        "    template = prompt_template,\n",
        "    input_variables = [\"summaries\", \"question\"],\n",
        "    partial_variables={\"format_instructions\": drug_parser.get_format_instructions()}\n",
        ")\n",
        "\n",
        "print(TEST_PROMPT_TEMPLATE_1.format(summaries = \"Summaries\", question = \"User Query\"))"
      ]
    },
    {
      "attachments": {},
      "cell_type": "markdown",
      "metadata": {
        "id": "0aqUPpf1JDd1"
      },
      "source": [
        "### Run Experiments"
      ]
    },
    {
      "cell_type": "code",
      "execution_count": 16,
      "metadata": {
        "id": "Xd_LvsydJzdp"
      },
      "outputs": [],
      "source": [
        "# Settings\n",
        "LLM_TYPE = \"gpt-4\"\n",
        "DESCRIPTION = \"Text_Only\"\n",
        "MAX_TOKENS = 1024\n",
        "TIME = datetime.now().strftime(\"%d-%m-%Y-%H:%M:%S\")\n",
        "VERBOSE = True\n",
        "save_path = osp.join(ARTIFACT_DIR, f\"{LLM_TYPE}_{DESCRIPTION}_{TIME}\")"
      ]
    },
    {
      "cell_type": "code",
      "execution_count": null,
      "metadata": {
        "id": "0-tAQR6i7BVw"
      },
      "outputs": [],
      "source": [
        "# Create and run experiment\n",
        "exp1 = Experiment(\n",
        "    prompt_template = TEST_PROMPT_TEMPLATE_1,\n",
        "    vector_store = EMBSTORE_DIR,\n",
        "    llm_type = LLM_TYPE,\n",
        "    max_tokens = MAX_TOKENS,\n",
        "    gt = osp.join(MAIN_DIR, \"ground_truth.csv\"),\n",
        "    verbose = VERBOSE\n",
        ")\n",
        "\n",
        "exp1.run_test_cases(test_cases)\n",
        "\n",
        "# Save Output\n",
        "exp1.save_json(save_path+\".json\")\n",
        "exp1.write_csv(save_path+\".csv\")"
      ]
    },
    {
      "attachments": {},
      "cell_type": "markdown",
      "metadata": {
        "id": "KHu-zQcL-26D"
      },
      "source": [
        "## Experiment 2: Only Text - CHAT Prompt Template - GPT4"
      ]
    },
    {
      "attachments": {},
      "cell_type": "markdown",
      "metadata": {
        "id": "5EPzgAOO_Jkp"
      },
      "source": [
        "### Prompt Setup"
      ]
    },
    {
      "cell_type": "code",
      "execution_count": null,
      "metadata": {
        "colab": {
          "base_uri": "https://localhost:8080/"
        },
        "id": "3spHEtJ06cce",
        "outputId": "1655a9f6-4ec5-488c-93ff-e9d33a6aa75f"
      },
      "outputs": [
        {
          "name": "stdout",
          "output_type": "stream",
          "text": [
            "System: \n",
            "Make reference to the context given to assess the scenario. If you do not know the answer. just say that \"I don't know\", don't try to make up an answer.\n",
            "You are a physician assistant giving advice on treatment for moderate to severe ulcerative colitis (UC).\n",
            "\n",
            "ANALYSE the given patient profile based on given query based on one of the following criteria:\n",
            "- Whether treated patient is new patient or patient under maintenance\n",
            "- Prior response to Infliximab\n",
            "- Prior failure to Anti-TNF agents\n",
            "- Prior failure to Vedolizumab\n",
            "- Age\n",
            "- Pregnancy\n",
            "- Extraintestinale manifestations\n",
            "- Pouchitis\n",
            "\n",
            "FINALLY RETURN up to 2 TOP choices of biological drugs given patient profile. Explain the PROS and CONS of the 2 choices.\n",
            "Output your answer as a list of JSON objects with keys: drug_name, advantages, disadvantages.\n",
            "\n",
            "Summaries\n",
            "\n",
            "\n",
            "Human: User Query\n"
          ]
        }
      ],
      "source": [
        "### CHAT PROMTP TEMPLATE\n",
        "system_prompt = \"\"\"\n",
        "Make reference to the context given to assess the scenario. If you do not know the answer. just say that \"I don't know\", don't try to make up an answer.\n",
        "You are a physician assistant giving advice on treatment for moderate to severe ulcerative colitis (UC).\n",
        "\n",
        "ANALYSE the given patient profile based on given query based on one of the following criteria:\n",
        "- Whether treated patient is new patient or patient under maintenance\n",
        "- Prior response to Infliximab\n",
        "- Prior failure to Anti-TNF agents\n",
        "- Prior failure to Vedolizumab\n",
        "- Age\n",
        "- Pregnancy\n",
        "- Extraintestinale manifestations\n",
        "- Pouchitis\n",
        "\n",
        "FINALLY RETURN up to 2 TOP choices of biological drugs given patient profile. Explain the PROS and CONS of the 2 choices.\n",
        "Output your answer as a list of JSON objects with keys: drug_name, advantages, disadvantages.\n",
        "\n",
        "{summaries}\n",
        "\n",
        "\"\"\"\n",
        "\n",
        "TEST_PROMPT_TEMPLATE_2 = ChatPromptTemplate.from_messages(\n",
        "    [\n",
        "        SystemMessagePromptTemplate.from_template(system_prompt, input_variables = [\"summaries\"]),\n",
        "        HumanMessagePromptTemplate.from_template(\"{question}\")\n",
        "    ]\n",
        ")\n",
        "\n",
        "print(TEST_PROMPT_TEMPLATE_2.format(summaries = \"Summaries\", question = \"User Query\"))"
      ]
    },
    {
      "attachments": {},
      "cell_type": "markdown",
      "metadata": {
        "id": "mhDSVNKT_Xrs"
      },
      "source": [
        "### Run Experiments"
      ]
    },
    {
      "cell_type": "code",
      "execution_count": null,
      "metadata": {
        "id": "Do9b9jEu_Xr-"
      },
      "outputs": [],
      "source": [
        "# Settings\n",
        "LLM_TYPE = \"gpt-3.5-turbo\"\n",
        "DESCRIPTION = \"Text_Only_With_CHAT_Prompt\"\n",
        "MAX_TOKENS = 1024\n",
        "TIME = datetime.now().strftime(\"%d-%m-%Y-%H:%M:%S\")\n",
        "VERBOSE = True\n",
        "save_path = osp.join(ARTIFACT_DIR, f\"{LLM_TYPE}_{DESCRIPTION}_{TIME}\")"
      ]
    },
    {
      "cell_type": "code",
      "execution_count": null,
      "metadata": {
        "colab": {
          "base_uri": "https://localhost:8080/"
        },
        "id": "YwDbSTHV_Xr-",
        "outputId": "dbb9b128-f1a6-40f7-ee7a-a6523ff32e49"
      },
      "outputs": [
        {
          "name": "stderr",
          "output_type": "stream",
          "text": [
            "INFO:faiss.loader:Loading faiss with AVX2 support.\n",
            "INFO:faiss.loader:Successfully loaded faiss with AVX2 support.\n",
            "INFO:root:Successfully loaded existing vectorstore from local storage\n"
          ]
        },
        {
          "name": "stdout",
          "output_type": "stream",
          "text": [
            "Query: 40 year old male with newly diagnosed moderate UC and articular extraintestinal manifestations\n",
            "\n",
            "\n",
            "\u001b[1m> Entering new  chain...\u001b[0m\n",
            "\n",
            "\u001b[1m> Finished chain.\u001b[0m\n",
            "Query: 70 year old female with newly diagnosed severe UC\n",
            "\n",
            "\n",
            "\u001b[1m> Entering new  chain...\u001b[0m\n",
            "\n",
            "\u001b[1m> Finished chain.\u001b[0m\n",
            "Query: 35 year old male with known moderate UC with prior exposure to infliximab but has worsening colitis on endoscopy despite compliance\n",
            "\n",
            "\n",
            "\u001b[1m> Entering new  chain...\u001b[0m\n",
            "\n",
            "\u001b[1m> Finished chain.\u001b[0m\n",
            "Query: 60 year old female with newly diagnosed moderate UC with a background of congestive cardiac failure\n",
            "\n",
            "\n",
            "\u001b[1m> Entering new  chain...\u001b[0m\n",
            "\n",
            "\u001b[1m> Finished chain.\u001b[0m\n",
            "Query: 38 year old female with newly diagnosed moderate UC and psoriasis\n",
            "\n",
            "\n",
            "\u001b[1m> Entering new  chain...\u001b[0m\n",
            "\n",
            "\u001b[1m> Finished chain.\u001b[0m\n",
            "Query: 25 year old pregnant woman with severe distal ulcerative colitis\n",
            "\n",
            "\n",
            "\u001b[1m> Entering new  chain...\u001b[0m\n",
            "\n",
            "\u001b[1m> Finished chain.\u001b[0m\n",
            "Query: 56 year old man with moderate to severe ulcerative colitis and ankylosing spondylitis\n",
            "\n",
            "\n",
            "\u001b[1m> Entering new  chain...\u001b[0m\n",
            "\n",
            "\u001b[1m> Finished chain.\u001b[0m\n",
            "Query: 38 year old man with severe ulcerative colitis and has lost response to vedolizumab\n",
            "\n",
            "\n",
            "\u001b[1m> Entering new  chain...\u001b[0m\n",
            "\n",
            "\u001b[1m> Finished chain.\u001b[0m\n",
            "Query: 28 year old woman who has severe extensive ulcerative colitis and has a history of lymphoma which was treated 4 years ago\n",
            "\n",
            "\n",
            "\u001b[1m> Entering new  chain...\u001b[0m\n",
            "\n",
            "\u001b[1m> Finished chain.\u001b[0m\n",
            "Query: 36 year old woman with moderate ulcerative colitis and multiple sclerosis\n",
            "\n",
            "\n",
            "\u001b[1m> Entering new  chain...\u001b[0m\n",
            "\n",
            "\u001b[1m> Finished chain.\u001b[0m\n"
          ]
        }
      ],
      "source": [
        "# Create and run experiment\n",
        "exp2 = Experiment(\n",
        "    prompt_template = TEST_PROMPT_TEMPLATE_2,\n",
        "    vector_store = EMBSTORE_DIR,\n",
        "    llm_type = LLM_TYPE,\n",
        "    max_tokens = MAX_TOKENS,\n",
        "    gt = osp.join(MAIN_DIR, \"ground_truth.csv\"),\n",
        "    verbose = VERBOSE\n",
        ")\n",
        "\n",
        "exp2.run_test_cases(test_cases)\n",
        "\n",
        "# Save Output\n",
        "exp2.save_json(save_path+\".json\")\n",
        "exp2.write_csv(save_path+\".csv\")"
      ]
    },
    {
      "cell_type": "code",
      "execution_count": null,
      "metadata": {
        "colab": {
          "base_uri": "https://localhost:8080/"
        },
        "id": "E2gcEn-8aYpp",
        "outputId": "a386b037-96ec-4bdf-e01b-7f64c4ae0c57"
      },
      "outputs": [
        {
          "name": "stderr",
          "output_type": "stream",
          "text": [
            "INFO:root:Successfully loaded existing vectorstore from local storage\n"
          ]
        }
      ],
      "source": [
        "# Create and run experiment\n",
        "exp2 = Experiment(\n",
        "    prompt_template = TEST_PROMPT_TEMPLATE_2,\n",
        "    vector_store = EMBSTORE_DIR,\n",
        "    llm_type = LLM_TYPE,\n",
        "    max_tokens = MAX_TOKENS,\n",
        "    gt = osp.join(MAIN_DIR, \"ground_truth.csv\"),\n",
        "    verbose = VERBOSE\n",
        ")\n",
        "\n",
        "exp2.load_json(save_path + \".json\")\n",
        "\n",
        "# Save Output\n",
        "exp2.write_csv(save_path+\".csv\")"
      ]
    },
    {
      "attachments": {},
      "cell_type": "markdown",
      "metadata": {
        "id": "-AGiFA7-VosO"
      },
      "source": [
        "## Experiment 3:"
      ]
    },
    {
      "cell_type": "code",
      "execution_count": 68,
      "metadata": {},
      "outputs": [],
      "source": [
        "add_docs_path = os.path.join(MAIN_DIR, \"data/additional_docs.json\")"
      ]
    },
    {
      "cell_type": "code",
      "execution_count": 71,
      "metadata": {},
      "outputs": [],
      "source": [
        "with open(add_docs_path, \"r\") as f:\n",
        "    additional_documents = json.load(f)"
      ]
    },
    {
      "cell_type": "code",
      "execution_count": 72,
      "metadata": {},
      "outputs": [
        {
          "data": {
            "text/plain": [
              "[{'filename': 'tables/uc_juillerat_2022_tab1.csv',\n",
              "  'mode': 'table',\n",
              "  'description': 'Efficacy of biological treatments according to the line of treatment, earlier exposure, disease phenotype and patient characteristics. ',\n",
              "  'metadata': {'author': 'Pascal Juillerat',\n",
              "   'creator': 'Elsevier',\n",
              "   'file_path': '/mnt/c/Users/QUAN/Desktop/medical-chatbot/data/document_store/uc/juillerat 2022.pdf',\n",
              "   'keywords': '',\n",
              "   'page': 3,\n",
              "   'source': '/mnt/c/Users/QUAN/Desktop/medical-chatbot/data/document_store/uc/juillerat 2022.pdf',\n",
              "   'subject': 'Current Research in Pharmacology and Drug Discovery, 3 (2022) 100104. doi:10.1016/j.crphar.2022.100104',\n",
              "   'title': 'Positioning biologics in the treatment of IBD: A practical guide - Which mechanism of action for whom?',\n",
              "   'total_pages': 9}}]"
            ]
          },
          "execution_count": 72,
          "metadata": {},
          "output_type": "execute_result"
        }
      ],
      "source": [
        "additional_documents"
      ]
    },
    {
      "cell_type": "code",
      "execution_count": 64,
      "metadata": {},
      "outputs": [],
      "source": [
        "documents = []\n",
        "for table in additional_documents:\n",
        "    rows = load_single_document(os.path.join(DATA_DIR, table[\"filename\"]))\n",
        "    for row in rows:\n",
        "        row_no = row.metadata[\"row\"]\n",
        "        metadata = {k:v for k, v in table[\"metadata\"].items()}\n",
        "        metadata[\"row\"] = row_no\n",
        "        row.page_content = table[\"description\"] + \":\" + row.page_content\n",
        "        row.metadata = metadata\n",
        "        documents.append(row)"
      ]
    },
    {
      "cell_type": "code",
      "execution_count": 24,
      "metadata": {},
      "outputs": [],
      "source": [
        "docsearch = FAISS.load_local(\n",
        "    os.path.join(EMBSTORE_DIR, PROJECT, \"faiss/text-embedding-ada-002/v1\"),\n",
        "    OpenAIEmbeddings(openai_api_key = OPENAI_KEY)\n",
        ")"
      ]
    },
    {
      "attachments": {},
      "cell_type": "markdown",
      "metadata": {
        "id": "eZpX-1Ssy6Mw"
      },
      "source": [
        "## Custom Agent\n",
        "\n",
        "### QA from text Agent"
      ]
    },
    {
      "attachments": {},
      "cell_type": "markdown",
      "metadata": {
        "id": "3msqfy9mzakH"
      },
      "source": [
        "### CSV Agent"
      ]
    },
    {
      "cell_type": "code",
      "execution_count": null,
      "metadata": {
        "id": "IXicAIYbzk8H"
      },
      "outputs": [],
      "source": []
    },
    {
      "cell_type": "code",
      "execution_count": null,
      "metadata": {
        "id": "Plu6jwcRX0yx"
      },
      "outputs": [],
      "source": [
        "from langchain.prompts import PromptTemplate, ChatPromptTemplate, HumanMessagePromptTemplate\n",
        "from langchain.llms import OpenAI\n",
        "from langchain.chat_models import ChatOpenAI\n",
        "\n",
        "model_name = 'text-davinci-003'\n",
        "temperature = 0.0\n",
        "model = OpenAI(model_name=model_name, temperature=temperature, openai_api_key = OPENAI_KEY)\n",
        "\n",
        "prompt = PromptTemplate(\n",
        "    template=\"Answer the user query.\\n{format_instructions}\\n{query}\\n\",\n",
        "    input_variables=[\"query\"],\n",
        "    partial_variables={\"format_instructions\": parser.get_format_instructions()}\n",
        ")\n",
        "\n",
        "joke_query = \"Tell me a joke.\"\n",
        "_input = prompt.format_prompt(query=joke_query)\n",
        "\n",
        "output = model(_input.to_string())"
      ]
    },
    {
      "cell_type": "code",
      "execution_count": null,
      "metadata": {
        "colab": {
          "base_uri": "https://localhost:8080/"
        },
        "id": "o6kqb4R0bYwq",
        "outputId": "a4e2a631-50c6-4262-9493-0a16232b3765"
      },
      "outputs": [
        {
          "name": "stdout",
          "output_type": "stream",
          "text": [
            "Answer the user query.\n",
            "The output should be formatted as a JSON instance that conforms to the JSON schema below.\n",
            "\n",
            "As an example, for the schema {\"properties\": {\"foo\": {\"title\": \"Foo\", \"description\": \"a list of strings\", \"type\": \"array\", \"items\": {\"type\": \"string\"}}}, \"required\": [\"foo\"]}}\n",
            "the object {\"foo\": [\"bar\", \"baz\"]} is a well-formatted instance of the schema. The object {\"properties\": {\"foo\": [\"bar\", \"baz\"]}} is not well-formatted.\n",
            "\n",
            "Here is the output schema:\n",
            "```\n",
            "{\"properties\": {\"drug_name\": {\"title\": \"Drug Name\", \"description\": \"Name of the drug\", \"type\": \"string\"}, \"description\": {\"title\": \"Description\", \"description\": \"Overall summary of the drug\", \"type\": \"string\"}, \"advantages\": {\"title\": \"Advantages\", \"description\": \"Advantages of the drug \", \"type\": \"string\"}, \"disadvantages\": {\"title\": \"Disadvantages\", \"description\": \"Disadvantages of the drug\", \"type\": \"string\"}}, \"required\": [\"drug_name\", \"description\", \"advantages\", \"disadvantages\"]}\n",
            "```\n",
            "Tell me a joke.\n",
            "\n"
          ]
        }
      ],
      "source": [
        "print(_input.text)"
      ]
    },
    {
      "cell_type": "code",
      "execution_count": null,
      "metadata": {
        "colab": {
          "base_uri": "https://localhost:8080/",
          "height": 36
        },
        "id": "gvu1sUauYISd",
        "outputId": "7e144f57-ef05-48f2-e1d3-393cba3d0fe3"
      },
      "outputs": [
        {
          "data": {
            "application/vnd.google.colaboratory.intrinsic+json": {
              "type": "string"
            },
            "text/plain": [
              "'\\n{\"drug_name\": \"Joke\", \"description\": \"A joke to make you laugh\", \"advantages\": \"It can make you laugh and bring joy\", \"disadvantages\": \"It may not be funny\"}'"
            ]
          },
          "execution_count": 128,
          "metadata": {},
          "output_type": "execute_result"
        }
      ],
      "source": [
        "output"
      ]
    }
  ],
  "metadata": {
    "colab": {
      "provenance": []
    },
    "kernelspec": {
      "display_name": "Python 3",
      "name": "python3"
    },
    "language_info": {
      "codemirror_mode": {
        "name": "ipython",
        "version": 3
      },
      "file_extension": ".py",
      "mimetype": "text/x-python",
      "name": "python",
      "nbconvert_exporter": "python",
      "pygments_lexer": "ipython3",
      "version": "3.8.10"
    }
  },
  "nbformat": 4,
  "nbformat_minor": 0
}
