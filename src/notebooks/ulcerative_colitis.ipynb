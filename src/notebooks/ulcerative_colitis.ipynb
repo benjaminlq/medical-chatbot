{
  "cells": [
    {
      "attachments": {},
      "cell_type": "markdown",
      "metadata": {
        "id": "Xobu8QB8mu_l"
      },
      "source": [
        "# Setup"
      ]
    },
    {
      "cell_type": "code",
      "execution_count": null,
      "metadata": {
        "colab": {
          "base_uri": "https://localhost:8080/"
        },
        "id": "A_vzyCRHF3Xn",
        "outputId": "8d3af069-413e-47d3-c178-039a969ad822"
      },
      "outputs": [
        {
          "name": "stdout",
          "output_type": "stream",
          "text": [
            "\u001b[?25l     \u001b[90m━━━━━━━━━━━━━━━━━━━━━━━━━━━━━━━━━━━━━━━━\u001b[0m \u001b[32m0.0/1.1 MB\u001b[0m \u001b[31m?\u001b[0m eta \u001b[36m-:--:--\u001b[0m\r\u001b[2K     \u001b[91m━━━━━━━━━━━━━━━━━━━━━━━━━━━━━━━━━━━━━━━\u001b[0m\u001b[91m╸\u001b[0m \u001b[32m1.1/1.1 MB\u001b[0m \u001b[31m33.6 MB/s\u001b[0m eta \u001b[36m0:00:01\u001b[0m\r\u001b[2K     \u001b[90m━━━━━━━━━━━━━━━━━━━━━━━━━━━━━━━━━━━━━━━━\u001b[0m \u001b[32m1.1/1.1 MB\u001b[0m \u001b[31m23.9 MB/s\u001b[0m eta \u001b[36m0:00:00\u001b[0m\n",
            "\u001b[2K     \u001b[90m━━━━━━━━━━━━━━━━━━━━━━━━━━━━━━━━━━━━━━━━\u001b[0m \u001b[32m73.6/73.6 kB\u001b[0m \u001b[31m8.0 MB/s\u001b[0m eta \u001b[36m0:00:00\u001b[0m\n",
            "\u001b[2K     \u001b[90m━━━━━━━━━━━━━━━━━━━━━━━━━━━━━━━━━━━━━━━━\u001b[0m \u001b[32m17.6/17.6 MB\u001b[0m \u001b[31m85.2 MB/s\u001b[0m eta \u001b[36m0:00:00\u001b[0m\n",
            "\u001b[2K     \u001b[90m━━━━━━━━━━━━━━━━━━━━━━━━━━━━━━━━━━━━━━━━\u001b[0m \u001b[32m1.7/1.7 MB\u001b[0m \u001b[31m79.8 MB/s\u001b[0m eta \u001b[36m0:00:00\u001b[0m\n",
            "\u001b[2K     \u001b[90m━━━━━━━━━━━━━━━━━━━━━━━━━━━━━━━━━━━━━━\u001b[0m \u001b[32m255.9/255.9 kB\u001b[0m \u001b[31m26.0 MB/s\u001b[0m eta \u001b[36m0:00:00\u001b[0m\n",
            "\u001b[2K     \u001b[90m━━━━━━━━━━━━━━━━━━━━━━━━━━━━━━━━━━━━━━━━\u001b[0m \u001b[32m14.1/14.1 MB\u001b[0m \u001b[31m92.4 MB/s\u001b[0m eta \u001b[36m0:00:00\u001b[0m\n",
            "\u001b[2K     \u001b[90m━━━━━━━━━━━━━━━━━━━━━━━━━━━━━━━━━━━━━━━━\u001b[0m \u001b[32m1.0/1.0 MB\u001b[0m \u001b[31m76.1 MB/s\u001b[0m eta \u001b[36m0:00:00\u001b[0m\n",
            "\u001b[2K     \u001b[90m━━━━━━━━━━━━━━━━━━━━━━━━━━━━━━━━━━━━━━━━\u001b[0m \u001b[32m90.0/90.0 kB\u001b[0m \u001b[31m10.5 MB/s\u001b[0m eta \u001b[36m0:00:00\u001b[0m\n",
            "\u001b[2K     \u001b[90m━━━━━━━━━━━━━━━━━━━━━━━━━━━━━━━━━━━━━━\u001b[0m \u001b[32m114.5/114.5 kB\u001b[0m \u001b[31m14.0 MB/s\u001b[0m eta \u001b[36m0:00:00\u001b[0m\n",
            "\u001b[2K     \u001b[90m━━━━━━━━━━━━━━━━━━━━━━━━━━━━━━━━━━━━━━\u001b[0m \u001b[32m268.8/268.8 kB\u001b[0m \u001b[31m24.6 MB/s\u001b[0m eta \u001b[36m0:00:00\u001b[0m\n",
            "\u001b[2K     \u001b[90m━━━━━━━━━━━━━━━━━━━━━━━━━━━━━━━━━━━━━━\u001b[0m \u001b[32m149.6/149.6 kB\u001b[0m \u001b[31m15.2 MB/s\u001b[0m eta \u001b[36m0:00:00\u001b[0m\n",
            "\u001b[2K     \u001b[90m━━━━━━━━━━━━━━━━━━━━━━━━━━━━━━━━━━━━━━━━\u001b[0m \u001b[32m49.1/49.1 kB\u001b[0m \u001b[31m5.5 MB/s\u001b[0m eta \u001b[36m0:00:00\u001b[0m\n",
            "\u001b[?25h"
          ]
        }
      ],
      "source": [
        "!pip install --quiet langchain openai faiss-cpu tiktoken pypdf PyMuPDF"
      ]
    },
    {
      "cell_type": "code",
      "execution_count": null,
      "metadata": {
        "colab": {
          "base_uri": "https://localhost:8080/"
        },
        "id": "_G80rr2ZHP7d",
        "outputId": "25ff0a08-071b-4987-8876-968e9113649c"
      },
      "outputs": [
        {
          "name": "stdout",
          "output_type": "stream",
          "text": [
            "Mounted at /content/drive\n",
            "/content/drive/MyDrive/LLM/ulcerative_colitis\n"
          ]
        }
      ],
      "source": [
        "from google.colab import drive\n",
        "\n",
        "drive.mount(\"/content/drive\")\n",
        "\n",
        "%cd drive/MyDrive/LLM/ulcerative_colitis"
      ]
    },
    {
      "attachments": {},
      "cell_type": "markdown",
      "metadata": {},
      "source": [
        "# Import dependencies"
      ]
    },
    {
      "cell_type": "code",
      "execution_count": 87,
      "metadata": {
        "id": "nGWwk_exH6Op"
      },
      "outputs": [],
      "source": [
        "import os, sys, json, logging\n",
        "import os.path as osp\n",
        "import re\n",
        "import pandas as pd\n",
        "\n",
        "from typing import Union, Sequence, Dict, Callable, List, Optional\n",
        "from pydantic import BaseModel, Field, validator\n",
        "from pprint import pprint\n",
        "from tqdm.auto import tqdm\n",
        "from IPython.display import display, Markdown\n",
        "from time import time\n",
        "from datetime import datetime\n",
        "from langchain.docstore.document import Document\n",
        "from chromadb.config import Settings\n",
        "\n",
        "from langchain import OpenAI\n",
        "from langchain.embeddings.openai import OpenAIEmbeddings\n",
        "from langchain.vectorstores import VectorStore, FAISS, Chroma, Pinecone\n",
        "import pinecone\n",
        "from langchain.document_loaders.pdf import PyMuPDFLoader, PyPDFLoader\n",
        "from langchain.text_splitter import RecursiveCharacterTextSplitter, CharacterTextSplitter\n",
        "from langchain.chat_models import ChatOpenAI\n",
        "from langchain.prompts import PromptTemplate\n",
        "from langchain.chains import RetrievalQA, RetrievalQAWithSourcesChain\n",
        "from langchain.prompts.chat import ChatPromptTemplate, SystemMessagePromptTemplate, HumanMessagePromptTemplate\n",
        "from langchain.output_parsers import PydanticOutputParser\n",
        "\n",
        "from config import MAIN_DIR, DATA_DIR, EMBSTORE_DIR, ARTIFACT_DIR, DOCUMENT_SOURCE\n",
        "\n",
        "from shutil import rmtree\n",
        "from utils import load_single_document, load_documents"
      ]
    },
    {
      "cell_type": "code",
      "execution_count": 23,
      "metadata": {
        "id": "l-VsrU--JBBK"
      },
      "outputs": [],
      "source": [
        "PROJECT = \"uc\"\n",
        "\n",
        "with open(osp.join(MAIN_DIR, \"auth\", \"api_keys.json\"), \"r\") as f:\n",
        "    keys = json.load(f)\n",
        "\n",
        "OPENAI_KEY = keys[\"OPENAI_API_KEY\"]"
      ]
    },
    {
      "cell_type": "code",
      "execution_count": 116,
      "metadata": {
        "id": "piuTlxLNJTVC"
      },
      "outputs": [],
      "source": [
        "LOGGER = logging.getLogger()\n",
        "\n",
        "log_path = os.path.join(MAIN_DIR, \"log\", \"logfile.txt\")\n",
        "file_handler = logging.FileHandler(\n",
        "    filename=log_path)\n",
        "\n",
        "formatter = logging.Formatter(\"%(asctime)s:%(levelname)s: %(message)s\")\n",
        "file_handler.setFormatter(formatter)\n",
        "\n",
        "LOGGER.setLevel(logging.INFO)\n",
        "LOGGER.addHandler(file_handler)"
      ]
    },
    {
      "attachments": {},
      "cell_type": "markdown",
      "metadata": {
        "id": "B_Uslox4t9d8"
      },
      "source": [
        "# User-defined Functions (UDF)"
      ]
    },
    {
      "cell_type": "code",
      "execution_count": 118,
      "metadata": {
        "id": "akNXqtFmt88J"
      },
      "outputs": [],
      "source": [
        "def convert_csv_to_documents(table_info: Dict) -> List[Document]:\n",
        "    \"\"\"Convert a dictionary containing table information into list of Documents\n",
        "\n",
        "    Args:\n",
        "        table_info (Dict): Dictionary containing .csv table information\n",
        "\n",
        "    Returns:\n",
        "        List[Document]: List of rows inside the table\n",
        "    \"\"\"\n",
        "    assert table_info[\"mode\"] == \"table\" and table_info[\"filename\"].endswith(\".csv\")\n",
        "    documents = []\n",
        "    rows = load_single_document(table_info[\"filename\"])\n",
        "    for row in rows:\n",
        "        row_no = row.metadata[\"row\"]\n",
        "        metadata = {k: v for k, v in table_info[\"metadata\"].items()}\n",
        "        metadata[\"row\"] = row_no\n",
        "        metadata[\"modal\"] = table_info[\"mode\"]\n",
        "        row.page_content = table_info[\"description\"] + \":\" + row.page_content\n",
        "        row.metadata = metadata\n",
        "        documents.append(row)\n",
        "\n",
        "    return documents\n",
        "\n",
        "\n",
        "def convert_json_to_documents(json_info: Dict) -> List[Document]:\n",
        "    \"\"\"Convert a dictionary containing json information into list of Documents\n",
        "\n",
        "    Args:\n",
        "        table_info (Dict): Dictionary containing .json table information\n",
        "\n",
        "    Returns:\n",
        "        List[Document]: List of Documents\n",
        "    \"\"\"\n",
        "    return []\n",
        "\n",
        "\n",
        "def generate_vectorstore(\n",
        "    embeddings: Callable,\n",
        "    source_directory: Optional[str] = None,\n",
        "    output_directory: str = \"./vectorstore\",\n",
        "    emb_store_type: str = \"faiss\",\n",
        "    chunk_size: int = 1000,\n",
        "    chunk_overlap: int = 250,\n",
        "    exclude_pages: Optional[Dict] = None,\n",
        "    pinecone_idx_name: Optional[str] = None,\n",
        "    additional_docs: Optional[List] = None,\n",
        "    key_path: Optional[str] = os.path.join(MAIN_DIR, \"auth\", \"api_keys.json\"),\n",
        ") -> VectorStore:\n",
        "    \"\"\"Generate New Vector Index Database\n",
        "\n",
        "    Args:\n",
        "        source_directory (str): Directory contains source documents\n",
        "        embeddings (Callable): Function to convert text to vector embeddings\n",
        "        output_directory (str, optional): Output directory of vector index database. Defaults to \"./vectorstore\".\n",
        "        emb_store_type (str, optional): Type of vector index database. Defaults to \"faiss\".\n",
        "        chunk_size (int, optional): Maximum size of text chunks (characters) after split. Defaults to 1000.\n",
        "        chunk_overlap (int, optional): Maximum overlapping window between text chunks. Defaults to 250.\n",
        "        exclude_pages (Optional[Dict], optional): Dictionary of pages to be excluded from documents. Defaults to None.\n",
        "        pinecone_idx_name (Optional[str], optional): Name of pinecone index to be created or loaded. Defaults to None.\n",
        "        additional_docs (Optional[str], optional): Additional Tables, Images or Json to be added to doc list. Defaults to None.\n",
        "        key_path (Optional[str], optional): Path to file containing API info.\n",
        "            Defaults to os.path.join(MAIN_DIR, \"auth\", \"api_keys.json\").\n",
        "\n",
        "    Returns:\n",
        "        Vectorstore: Vector Database\n",
        "    \"\"\"\n",
        "\n",
        "    if os.path.exists(output_directory):\n",
        "        rmtree(output_directory)\n",
        "    os.makedirs(output_directory, exist_ok=True)\n",
        "\n",
        "    if source_directory:\n",
        "        LOGGER.info(f\"Loading documents from {source_directory}\")\n",
        "\n",
        "        documents = load_documents(source_directory, exclude_pages=exclude_pages)\n",
        "        text_splitter = RecursiveCharacterTextSplitter(\n",
        "            chunk_size=chunk_size, chunk_overlap=chunk_overlap\n",
        "        )\n",
        "        texts = text_splitter.split_documents(documents)\n",
        "\n",
        "        LOGGER.info(f\"Loaded {len(documents)} documents from {source_directory}\")\n",
        "        LOGGER.info(\n",
        "            f\"Split into {len(texts)} chunks of text (max. {chunk_size} characters each)\"\n",
        "        )\n",
        "    else:\n",
        "        texts = []\n",
        "\n",
        "    if additional_docs:\n",
        "        texts.extend(additional_docs)\n",
        "\n",
        "    LOGGER.info(\n",
        "        f\"Total number of text chunks to create vector index store: {len(texts)}\"\n",
        "    )\n",
        "\n",
        "    if emb_store_type == \"chroma\":\n",
        "        chroma_settings = Settings(\n",
        "            chroma_db_impl=\"duckdb+parquet\",\n",
        "            persist_directory=output_directory,\n",
        "            anonymized_telemetry=False,\n",
        "        )\n",
        "        db = Chroma.from_documents(\n",
        "            texts,\n",
        "            embeddings,\n",
        "            persist_directory=output_directory,\n",
        "            client_settings=chroma_settings,\n",
        "        )\n",
        "        db.persist()\n",
        "\n",
        "    elif emb_store_type == \"faiss\":\n",
        "        db = FAISS.from_documents(texts, embedding=embeddings)\n",
        "        db.save_local(output_directory)\n",
        "        assert \"index.faiss\" in os.listdir(\n",
        "            output_directory\n",
        "        ) and \"index.pkl\" in os.listdir(output_directory)\n",
        "\n",
        "    elif emb_store_type == \"pinecone\":\n",
        "        with open(key_path, \"r\") as f:\n",
        "            keys = json.loads(f)\n",
        "        PINECONE_API_KEY = keys[\"PINECONE_API\"][\"KEY\"]\n",
        "        PINECONE_ENV = keys[\"PINECONE_API\"][\"ENV\"]\n",
        "\n",
        "        pinecone.init(\n",
        "            api_key=PINECONE_API_KEY,\n",
        "            environment=PINECONE_ENV,\n",
        "        )\n",
        "\n",
        "        if not pinecone_idx_name:\n",
        "            pinecone_idx_name = \"index_{}\".format(\n",
        "                datetime.now().strftime(\"%d-%m-%Y-%H:%M:%S\")\n",
        "            )\n",
        "\n",
        "        if pinecone_idx_name not in pinecone.list_indexes():\n",
        "            db = Pinecone.from_documents(\n",
        "                texts, embedding=embeddings, index_name=pinecone_idx_name\n",
        "            )\n",
        "\n",
        "        else:\n",
        "            db = Pinecone.from_existing_index(pinecone_idx_name, embeddings)\n",
        "            db.add_documents(texts)\n",
        "\n",
        "    LOGGER.info(\n",
        "        f\"Successfully created {emb_store_type} vectorstore at {output_directory}\"\n",
        "    )\n",
        "\n",
        "    return db"
      ]
    },
    {
      "attachments": {},
      "cell_type": "markdown",
      "metadata": {
        "id": "BP89lkLGsmKF"
      },
      "source": [
        "# Experiment Class"
      ]
    },
    {
      "cell_type": "code",
      "execution_count": 82,
      "metadata": {
        "id": "OfcdafLxXEQx"
      },
      "outputs": [],
      "source": [
        "class DrugOutput(BaseModel):\n",
        "    drug_name: str = Field(description = \"Name of the drug\")\n",
        "    advantages: str = Field(description = \"Advantages of the drug \")\n",
        "    disadvantages: str = Field(description = \"Disadvantages of the drug\")\n",
        "\n",
        "class Experiment:\n",
        "    \"\"\"Experiment Module\"\"\"\n",
        "\n",
        "    def __init__(\n",
        "        self,\n",
        "        prompt_template: Union[PromptTemplate, ChatPromptTemplate],\n",
        "        vector_store: str,\n",
        "        llm_type: str = \"gpt-3.5-turbo\",\n",
        "        emb: str = \"text-embedding-ada-002\",\n",
        "        keys_json: str = osp.join(MAIN_DIR, \"auth\", \"api_keys.json\"),\n",
        "        temperature: float = 0,\n",
        "        max_tokens: int = 512,\n",
        "        gt: Optional[str] = None,\n",
        "        verbose: bool = False,\n",
        "    ):\n",
        "        \"\"\"Initiate Instance for an experiment run\n",
        "\n",
        "        Args:\n",
        "            prompt_template (Union[PromptTemplate, ChatPromptTemplate]): Prompt to be feed to LLM\n",
        "            vector_store (str): Path to Vector Index Database\n",
        "            llm_type (str, optional): Type of LLM Model. Defaults to \"gpt-3.5-turbo\".\n",
        "            emb (str, optional): Type of Embedding Model. Defaults to \"text-embedding-ada-002\".\n",
        "            keys_json (str, optional): Path to API Keys. Defaults to osp.join(MAIN_DIR, \"auth\", \"api_keys.json\").\n",
        "            temperature (float, optional): Temperature Settings for LLM model. Lower temperature makes LLM more deterministic\n",
        "                while higher temperature makes LLM more random. Defaults to 0.\n",
        "            max_tokens (int, optional): Max_Tokens Settings for LLM model. Defaults to 512.\n",
        "            gt (Optional[str], optional): Path to Ground Truth file. Defaults to None.\n",
        "            verbose (bool, optional): Verbose Setting. Defaults to False.\n",
        "        \"\"\"\n",
        "\n",
        "        self.llm_type = llm_type.lower()\n",
        "        self.temperature = temperature\n",
        "        self.max_tokens = max_tokens\n",
        "\n",
        "        with open(keys_json, \"r\") as f:\n",
        "            keys = json.load(f)\n",
        "\n",
        "        self.openai_key = (\n",
        "            keys[\"OPENAI_API_KEY_FOR_GPT4\"]\n",
        "            if self.llm_type == \"gpt-4\"\n",
        "            else keys[\"OPENAI_API_KEY\"]\n",
        "        )\n",
        "\n",
        "        if isinstance(prompt_template, ChatPromptTemplate):\n",
        "            self.llm = ChatOpenAI(\n",
        "                model_name=self.llm_type,\n",
        "                temperature=self.temperature,\n",
        "                max_tokens=self.max_tokens,\n",
        "                openai_api_key=self.openai_key,\n",
        "            )\n",
        "        else:\n",
        "            self.llm = OpenAI(\n",
        "                model_name=self.llm_type,\n",
        "                temperature=self.temperature,\n",
        "                max_tokens=self.max_tokens,\n",
        "                openai_api_key=self.openai_key,\n",
        "            )\n",
        "        self.embedder = OpenAIEmbeddings(model=emb, openai_api_key=self.openai_key)\n",
        "        try:\n",
        "            self.load_vectorstore(vector_store)\n",
        "        except ValueError:\n",
        "            print(\n",
        "                \"Vectorstore invalid. Please load valid vectorstore or create new vectorstore.\"\n",
        "            )\n",
        "\n",
        "        self.prompt_template = prompt_template\n",
        "        self.questions = []\n",
        "        self.answers = []\n",
        "        self.sources = []\n",
        "        self.ground_truth = self.load_groundtruth(gt) if gt else None\n",
        "        self.drug_parser = PydanticOutputParser(pydantic_object=DrugOutput)\n",
        "        self.chain = None\n",
        "        self.verbose = verbose\n",
        "\n",
        "    def load_vectorstore(self, vectorstore_path: str):\n",
        "        \"\"\"Load Vectorstore from path\n",
        "\n",
        "        Args:\n",
        "            vectorstore_path (str): Path to vector database folder.\n",
        "        \"\"\"\n",
        "        assert \"index.faiss\" in os.listdir(\n",
        "            vectorstore_path\n",
        "        ) and \"index.pkl\" in os.listdir(vectorstore_path), \"Invalid Vectorstore\"\n",
        "        self.docsearch = FAISS.load_local(vectorstore_path, self.embedder)\n",
        "        LOGGER.info(\"Successfully loaded existing vectorstore from local storage\")\n",
        "\n",
        "    def generate_vectorstore(\n",
        "        self,\n",
        "        data_directory: Optional[str] = None,\n",
        "        output_directory: str = \"./vectorstore\",\n",
        "        emb_store_type: str = \"faiss\",\n",
        "        chunk_size: int = 1000,\n",
        "        chunk_overlap: int = 250,\n",
        "        exclude_pages: Optional[Dict] = None,\n",
        "        pinecone_idx_name: Optional[str] = None,\n",
        "        additional_docs: Optional[str] = None,\n",
        "        key_path: Optional[str] = os.path.join(MAIN_DIR, \"auth\", \"api_keys.json\"),\n",
        "    ):\n",
        "        \"\"\"Generate New vectorstore\n",
        "\n",
        "        Args:\n",
        "            data_directory (str): Directory contains source documents\n",
        "            output_directory (str, optional): Output directory of vector index database. Defaults to \"./vectorstore\".\n",
        "            emb_store_type (str, optional): Type of vector index database. Defaults to \"faiss\".\n",
        "            chunk_size (int, optional): Maximum size of text chunks (characters) after split. Defaults to 1000.\n",
        "            chunk_overlap (int, optional): Maximum overlapping window between text chunks. Defaults to 250.\n",
        "            exclude_pages (Optional[Dict], optional): Dictionary of pages to be excluded from documents. Defaults to None.\n",
        "            pinecone_idx_name (Optional[str], optional): Name of pinecone index to be created or loaded. Defaults to None.\n",
        "            additional_docs (Optional[str], optional): Additional Tables, Images or Json to be added to doc list. Defaults to None.\n",
        "            key_path (Optional[str], optional): Path to file containing API info.\n",
        "                Defaults to os.path.join(MAIN_DIR, \"auth\", \"api_keys.json\").\n",
        "        \"\"\"\n",
        "        self.docsearch = generate_vectorstore(\n",
        "            data_directory=data_directory,\n",
        "            embedder=self.embedder,\n",
        "            output_directory=output_directory,\n",
        "            emb_store_type=emb_store_type,\n",
        "            chunk_size=chunk_size,\n",
        "            chunk_overlap=chunk_overlap,\n",
        "            exclude_pages=exclude_pages,\n",
        "            pinecone_idx_name=pinecone_idx_name,\n",
        "            additional_docs=additional_docs,\n",
        "            key_path=key_path,\n",
        "        )\n",
        "\n",
        "    def run_test_cases(self, test_cases: Union[List[str], str]):\n",
        "        \"\"\"Run and save test cases to memory\n",
        "\n",
        "        Args:\n",
        "            test_cases (Union[List[str], str]): List of test queries.\n",
        "        \"\"\"\n",
        "        if isinstance(test_cases, str):\n",
        "            with open(test_cases, \"r\", encoding=\"utf-8-sig\") as f:\n",
        "                test_cases = f.readlines()\n",
        "            test_cases = [test_case.rstrip() for test_case in test_cases]\n",
        "\n",
        "        if not self.chain:\n",
        "            self._create_retriever_chain()\n",
        "\n",
        "        for test_case in test_cases:\n",
        "            print(\"Query: {}\".format(test_case))\n",
        "            output = self.chain(test_case)\n",
        "            self.questions.append(output[\"question\"])\n",
        "            self.answers.append(output[\"answer\"])\n",
        "            sources = []\n",
        "            for document in output[\"source_documents\"]:\n",
        "                sources.append(\n",
        "                    {\n",
        "                        \"title\": document.metadata[\"title\"],\n",
        "                        \"filename\": document.metadata[\"source\"].split(\"/\")[-1],\n",
        "                        \"page\": document.metadata[\"page\"],\n",
        "                        \"modal\": document.metadata[\"modal\"],\n",
        "                        \"text\": document.page_content,\n",
        "                    }\n",
        "                )\n",
        "\n",
        "            self.sources.append(sources)\n",
        "\n",
        "    @staticmethod\n",
        "    def convert_prompt_to_string(\n",
        "        prompt: Union[PromptTemplate, ChatPromptTemplate]\n",
        "    ) -> str:\n",
        "        \"\"\"Convert Prompt Object to string format\n",
        "\n",
        "        Args:\n",
        "            prompt (Union[PromptTemplate, ChatPromptTemplate]): Prompt Template\n",
        "\n",
        "        Returns:\n",
        "            str: Prompt String Template\n",
        "        \"\"\"\n",
        "        return prompt.format(**{v: v for v in prompt.input_variables})\n",
        "\n",
        "    @staticmethod\n",
        "    def process_source(source: Dict) -> str:\n",
        "        \"\"\"_summary_\n",
        "\n",
        "        Args:\n",
        "            source (Dict): Source Document Information\n",
        "\n",
        "        Returns:\n",
        "            str: Source Document Information in string\n",
        "        \"\"\"\n",
        "        return \"\\n\\n\".join([f\"{k}: {v}\" for k, v in source.items()])\n",
        "\n",
        "    def save_json(self, output_path: str):\n",
        "        \"\"\"Save Output of test case runs to json file\n",
        "\n",
        "        Args:\n",
        "            output_path (str): Output Path to json file.\n",
        "        \"\"\"\n",
        "        output_dict = {}\n",
        "        output_dict[\"prompt\"] = Experiment.convert_prompt_to_string(\n",
        "            self.prompt_template\n",
        "        )\n",
        "        output_dict[\"test_cases\"] = []\n",
        "\n",
        "        for question, answer, source in zip(self.questions, self.answers, self.sources):\n",
        "            output_dict[\"test_cases\"].append(\n",
        "                {\"question\": question, \"answer\": answer, \"sources\": source}\n",
        "            )\n",
        "\n",
        "        with open(output_path, \"w\") as f:\n",
        "            json.dump(output_dict, f)\n",
        "\n",
        "    def load_groundtruth(self, gt_path: str) -> pd.DataFrame:\n",
        "        \"\"\"Load Ground Truth information from .csv file\n",
        "\n",
        "        Args:\n",
        "            gt_path (str): Path to Ground Truth file\n",
        "\n",
        "        Returns:\n",
        "            pd.DataFrame: DataFrame containing Ground Truth data.\n",
        "        \"\"\"\n",
        "        return pd.read_csv(gt_path, encoding=\"ISO-8859-1\")\n",
        "\n",
        "    def reset(self):\n",
        "        \"\"\"Reset queries and answers\"\"\"\n",
        "        self.questions = []\n",
        "        self.answers = []\n",
        "        self.sources = []\n",
        "        self.ground_truth = None\n",
        "\n",
        "    def load_json(self, json_path: str, reset: bool = False):\n",
        "        \"\"\"Load Queries and Answers from Json file\n",
        "\n",
        "        Args:\n",
        "            json_path (str): Path to json output file to load into instance\n",
        "            reset (bool, optional): If reset, clear queries and answers from memory before loading. Defaults to False.\n",
        "        \"\"\"\n",
        "        if reset:\n",
        "            self.reset()\n",
        "        with open(json_path, \"r\") as f:\n",
        "            input_dict = json.load(f)\n",
        "        for test_case in input_dict[\"test_cases\"]:\n",
        "            self.questions.append(test_case[\"question\"])\n",
        "            self.answers.append(test_case[\"answer\"])\n",
        "            self.sources.append(test_case[\"sources\"])\n",
        "\n",
        "    def write_csv(self, output_csv: str):\n",
        "        \"\"\"Write questions and answers to .csv files\n",
        "\n",
        "        Args:\n",
        "            output_csv (str): Path to output csv file\n",
        "        \"\"\"\n",
        "\n",
        "        pd_answers = [[], []]\n",
        "        pd_pros = [[], []]\n",
        "        pd_cons = [[], []]\n",
        "        pd_sources = [[], [], [], [], [], []]\n",
        "\n",
        "        for answer, sources in zip(self.answers, self.sources):\n",
        "            drugs = [\n",
        "                self.drug_parser.parse(drug)\n",
        "                for drug in re.findall(re.compile(r\"{[^{}]+}\"), answer)\n",
        "            ]\n",
        "            pd_answers[0].append(drugs[0].drug_name if len(drugs) > 0 else None)\n",
        "            pd_answers[1].append(drugs[1].drug_name if len(drugs) > 1 else None)\n",
        "            pd_pros[0].append(drugs[0].advantages if len(drugs) > 0 else None)\n",
        "            pd_cons[0].append(drugs[0].disadvantages if len(drugs) > 0 else None)\n",
        "            pd_pros[1].append(drugs[1].advantages if len(drugs) > 1 else None)\n",
        "            pd_cons[1].append(drugs[1].disadvantages if len(drugs) > 1 else None)\n",
        "\n",
        "            for idx, source in enumerate(sources):\n",
        "                pd_sources[idx].append(Experiment.process_source(source))\n",
        "\n",
        "            if idx + 1 < len(pd_sources):\n",
        "                for i in range(idx + 1, len(pd_sources)):\n",
        "                    pd_sources[i].append(None)\n",
        "\n",
        "        info = {\"question\": self.questions}\n",
        "\n",
        "        if self.ground_truth is not None:\n",
        "            info[\"gt_rec1\"] = self.ground_truth[\"Recommendation 1\"].tolist()\n",
        "            info[\"gt_rec2\"] = self.ground_truth[\"Recommendation 2\"].tolist()\n",
        "            info[\"gt_rec3\"] = self.ground_truth[\"Recommendation 3\"].tolist()\n",
        "            info[\"gt_avoid\"] = self.ground_truth[\"Drug Avoid\"].tolist()\n",
        "            info[\"gt_reason\"] = self.ground_truth[\"Reasoning\"].tolist()\n",
        "\n",
        "        info[\"prompt\"] = [\n",
        "            Experiment.convert_prompt_to_string(self.prompt_template)\n",
        "        ] * len(self.questions)\n",
        "        info[\"raw_answer\"] = self.answers\n",
        "        info[\"answer1\"] = pd_answers[0]\n",
        "        info[\"pro1\"] = pd_pros[0]\n",
        "        info[\"cons1\"] = pd_cons[0]\n",
        "        info[\"answer2\"] = pd_answers[1]\n",
        "        info[\"pro2\"] = pd_pros[1]\n",
        "        info[\"cons2\"] = pd_cons[1]\n",
        "        info[\"source1\"] = pd_sources[0]\n",
        "        info[\"source2\"] = pd_sources[1]\n",
        "        info[\"source3\"] = pd_sources[2]\n",
        "        info[\"source4\"] = pd_sources[3]\n",
        "        info[\"source5\"] = pd_sources[4]\n",
        "        info[\"source6\"] = pd_sources[5]\n",
        "\n",
        "        panda_df = pd.DataFrame(info)\n",
        "\n",
        "        panda_df.to_csv(output_csv, header=True)\n",
        "\n",
        "    def _create_retriever_chain(\n",
        "        self,\n",
        "        chain_type: str = \"stuff\",\n",
        "        return_source_documents: bool = True,\n",
        "        reduce_k_below_max_tokens: bool = True,\n",
        "    ):\n",
        "        \"\"\"Initiate QA from Source Chain\n",
        "\n",
        "        Args:\n",
        "            chain_type (str, optional): Chain Type. Can be stuff|map_reduce|refine|map_rerank. Defaults to \"stuff\".\n",
        "            return_source_documents (bool, optional): Whether to return source documents along side answers. Defaults to True.\n",
        "            reduce_k_below_max_tokens (bool, optional): _description_. Defaults to True.\n",
        "        \"\"\"\n",
        "        self.chain = RetrievalQAWithSourcesChain.from_chain_type(\n",
        "            llm=self.llm,\n",
        "            chain_type=chain_type,\n",
        "            retriever=self.docsearch.as_retriever(),\n",
        "            return_source_documents=return_source_documents,\n",
        "            chain_type_kwargs={\"prompt\": self.prompt_template},\n",
        "            reduce_k_below_max_tokens=reduce_k_below_max_tokens,\n",
        "            verbose=self.verbose,\n",
        "        )\n"
      ]
    },
    {
      "attachments": {},
      "cell_type": "markdown",
      "metadata": {
        "id": "CBLfxKVohLSS"
      },
      "source": [
        "# Create Vectorstore"
      ]
    },
    {
      "cell_type": "code",
      "execution_count": 37,
      "metadata": {},
      "outputs": [
        {
          "name": "stdout",
          "output_type": "stream",
          "text": [
            "{'author': 'Juan S Lasa MD',\n",
            " 'creationDate': \"D:20211223225432+05'30'\",\n",
            " 'creator': 'Elsevier',\n",
            " 'file_path': '/mnt/c/Users/QUAN/Desktop/medical-chatbot/data/document_store/uc/1-s2.0-S2468125321003770-main.pdf',\n",
            " 'format': 'PDF 1.7',\n",
            " 'keywords': '',\n",
            " 'modDate': \"D:20220108175830+05'30'\",\n",
            " 'page': 0,\n",
            " 'producer': 'Acrobat Distiller 6.0 for Windows',\n",
            " 'source': '/mnt/c/Users/QUAN/Desktop/medical-chatbot/data/document_store/uc/1-s2.0-S2468125321003770-main.pdf',\n",
            " 'subject': 'The Lancet Gastroenterology & Hepatology, 7 (2022) 161-170. '\n",
            "            'doi:10.1016/S2468-1253(21)00377-0',\n",
            " 'title': 'Efficacy and safety of biologics and small molecule drugs for '\n",
            "          'patients with moderate-to-severe ulcerative colitis: a systematic '\n",
            "          'review and network meta-analysis',\n",
            " 'total_pages': 10,\n",
            " 'trapped': ''}\n",
            "{'author': 'Manasi Agrawal',\n",
            " 'creationDate': \"D:20210619033246+05'30'\",\n",
            " 'creator': 'Elsevier',\n",
            " 'file_path': '/mnt/c/Users/QUAN/Desktop/medical-chatbot/data/document_store/uc/agrawal.pdf',\n",
            " 'format': 'PDF 1.7',\n",
            " 'keywords': '',\n",
            " 'modDate': \"D:20210619033336+05'30'\",\n",
            " 'page': 0,\n",
            " 'producer': 'Acrobat Distiller 8.1.0 (Windows)',\n",
            " 'source': '/mnt/c/Users/QUAN/Desktop/medical-chatbot/data/document_store/uc/agrawal.pdf',\n",
            " 'subject': 'Gastroenterology, 161 (2021) 47-65. '\n",
            "            'doi:10.1053/j.gastro.2021.04.063',\n",
            " 'title': 'Approach to the Management of Recently Diagnosed Inflammatory Bowel '\n",
            "          \"Disease Patients: A User's Guide for Adult and Pediatric \"\n",
            "          'Gastroenterologists',\n",
            " 'total_pages': 19,\n",
            " 'trapped': ''}\n",
            "{'author': 'Burr, NE, Gracie, DJ, Black, CJ and Ford, AC',\n",
            " 'creationDate': \"D:20230106151148Z00'00'\",\n",
            " 'creator': 'Microsoft® Word for Microsoft 365',\n",
            " 'file_path': '/mnt/c/Users/QUAN/Desktop/medical-chatbot/data/document_store/uc/gutjnl-2021-326390R2 '\n",
            "              'CLEAN.pdf',\n",
            " 'format': 'PDF 1.7',\n",
            " 'keywords': 'meta-analysis; ulcerative colitis',\n",
            " 'modDate': \"D:20230106151148Z00'00'\",\n",
            " 'page': 0,\n",
            " 'producer': 'GPL Ghostscript 9.25',\n",
            " 'source': '/mnt/c/Users/QUAN/Desktop/medical-chatbot/data/document_store/uc/gutjnl-2021-326390R2 '\n",
            "           'CLEAN.pdf',\n",
            " 'subject': '',\n",
            " 'title': 'Efficacy of biological therapies and small molecules in moderate to '\n",
            "          'severe ulcerative colitis: systematic review and network '\n",
            "          'meta-analysis',\n",
            " 'total_pages': 46,\n",
            " 'trapped': ''}\n",
            "{'author': 'Pascal Juillerat',\n",
            " 'creationDate': \"D:20221210111351+05'30'\",\n",
            " 'creator': 'Elsevier',\n",
            " 'file_path': '/mnt/c/Users/QUAN/Desktop/medical-chatbot/data/document_store/uc/juillerat '\n",
            "              '2022.pdf',\n",
            " 'format': 'PDF 1.7',\n",
            " 'keywords': '',\n",
            " 'modDate': \"D:20221210111432+05'30'\",\n",
            " 'page': 0,\n",
            " 'producer': 'Acrobat Distiller 8.1.0 (Windows)',\n",
            " 'source': '/mnt/c/Users/QUAN/Desktop/medical-chatbot/data/document_store/uc/juillerat '\n",
            "           '2022.pdf',\n",
            " 'subject': 'Current Research in Pharmacology and Drug Discovery, 3 (2022) '\n",
            "            '100104. doi:10.1016/j.crphar.2022.100104',\n",
            " 'title': 'Positioning biologics in the treatment of IBD: A practical guide - '\n",
            "          'Which mechanism of action for whom?',\n",
            " 'total_pages': 9,\n",
            " 'trapped': ''}\n",
            "{'author': '',\n",
            " 'creationDate': \"D:20230328133539+05'30'\",\n",
            " 'creator': 'Adobe InDesign 15.1 (Windows)',\n",
            " 'file_path': '/mnt/c/Users/QUAN/Desktop/medical-chatbot/data/document_store/uc/otad009.pdf',\n",
            " 'format': 'PDF 1.4',\n",
            " 'keywords': '',\n",
            " 'modDate': \"D:20230523091651+00'00'\",\n",
            " 'page': 0,\n",
            " 'producer': 'Adobe PDF Library 15.0; modified using iTextSharp 4.1.6 by 1T3XT',\n",
            " 'source': '/mnt/c/Users/QUAN/Desktop/medical-chatbot/data/document_store/uc/otad009.pdf',\n",
            " 'subject': '',\n",
            " 'title': '',\n",
            " 'total_pages': 17,\n",
            " 'trapped': ''}\n",
            "{'author': 'Siddharth Singh',\n",
            " 'creationDate': \"D:20200816062640+05'30'\",\n",
            " 'creator': 'Elsevier',\n",
            " 'file_path': '/mnt/c/Users/QUAN/Desktop/medical-chatbot/data/document_store/uc/PIIS1542356520300446.pdf',\n",
            " 'format': 'PDF 1.7',\n",
            " 'keywords': '',\n",
            " 'modDate': \"D:20200816062734+05'30'\",\n",
            " 'page': 0,\n",
            " 'producer': 'Acrobat Distiller 8.1.0 (Windows)',\n",
            " 'source': '/mnt/c/Users/QUAN/Desktop/medical-chatbot/data/document_store/uc/PIIS1542356520300446.pdf',\n",
            " 'subject': 'Clinical Gastroenterology and Hepatology, 18 (2020) 2179-2197. '\n",
            "            'doi:10.1016/j.cgh.2020.01.008',\n",
            " 'title': 'First- and Second-Line Pharmacotherapies for Patients With Moderate '\n",
            "          'to Severely Active Ulcerative Colitis: An Updated Network '\n",
            "          'Meta-Analysis',\n",
            " 'total_pages': 19,\n",
            " 'trapped': ''}\n"
          ]
        }
      ],
      "source": [
        "for filename in os.listdir(os.path.join(DOCUMENT_SOURCE, PROJECT)):\n",
        "    pages = PyMuPDFLoader(os.path.join(DOCUMENT_SOURCE, PROJECT, filename)).load()\n",
        "    pprint(pages[0].__dict__[\"metadata\"])"
      ]
    },
    {
      "cell_type": "code",
      "execution_count": 91,
      "metadata": {
        "colab": {
          "base_uri": "https://localhost:8080/"
        },
        "id": "hLCpMHa031bv",
        "outputId": "77b065fd-1d74-4898-ff7c-da844081a790"
      },
      "outputs": [
        {
          "name": "stdout",
          "output_type": "stream",
          "text": [
            "Number of documents in datastore: 6\n",
            "Index 1: /mnt/c/Users/QUAN/Desktop/medical-chatbot/data/document_store/uc/1-s2.0-S2468125321003770-main.pdf\n",
            "Index 2: /mnt/c/Users/QUAN/Desktop/medical-chatbot/data/document_store/uc/agrawal.pdf\n",
            "Index 3: /mnt/c/Users/QUAN/Desktop/medical-chatbot/data/document_store/uc/gutjnl-2021-326390R2 CLEAN.pdf\n",
            "Index 4: /mnt/c/Users/QUAN/Desktop/medical-chatbot/data/document_store/uc/juillerat 2022.pdf\n",
            "Index 5: /mnt/c/Users/QUAN/Desktop/medical-chatbot/data/document_store/uc/otad009.pdf\n",
            "Index 6: /mnt/c/Users/QUAN/Desktop/medical-chatbot/data/document_store/uc/PIIS1542356520300446.pdf\n"
          ]
        }
      ],
      "source": [
        "EXCLUDE_DICT = {\n",
        "    \"agrawal.pdf\": [13, 14, 15, 16, 17, 18],\n",
        "    \"PIIS1542356520300446.pdf\": [12, 13, 14, 15, 16, 17, 18],\n",
        "    \"gutjnl-2021-326390R2 CLEAN.pdf\": [0, 2, 31, 32, 33, 34, 35, 36,\n",
        "                                       37, 38, 39, 40, 41, 42, 43, 44, 45]\\\n",
        "                                        + list(range(3, 31)),\n",
        "    \"otad009.pdf\": [15, 16],\n",
        "    \"1-s2.0-S2468125321003770-main.pdf\": [9],\n",
        "    \"juillerat 2022.pdf\": [6, 7, 8],\n",
        "}\n",
        "datastore_paths = [os.path.join(DOCUMENT_SOURCE, PROJECT, file_name) for file_name in os.listdir(os.path.join(DOCUMENT_SOURCE, PROJECT)) if file_name.endswith(\".pdf\")]\n",
        "print(\"Number of documents in datastore:\", len(datastore_paths))\n",
        "for i, path in enumerate(datastore_paths):\n",
        "    print(f\"Index {i + 1}: {path}\")"
      ]
    },
    {
      "cell_type": "code",
      "execution_count": 93,
      "metadata": {
        "id": "sEMO1wEitN5G"
      },
      "outputs": [
        {
          "name": "stdout",
          "output_type": "stream",
          "text": [
            "Number of pages: 10\n",
            "{'source': '/mnt/c/Users/QUAN/Desktop/medical-chatbot/data/document_store/uc/1-s2.0-S2468125321003770-main.pdf', 'file_path': '/mnt/c/Users/QUAN/Desktop/medical-chatbot/data/document_store/uc/1-s2.0-S2468125321003770-main.pdf', 'page': 4, 'total_pages': 10, 'format': 'PDF 1.7', 'title': 'Efficacy and safety of biologics and small molecule drugs for patients with moderate-to-severe ulcerative colitis: a systematic review and network meta-analysis', 'author': 'Juan S Lasa MD', 'subject': 'The Lancet Gastroenterology & Hepatology, 7 (2022) 161-170. doi:10.1016/S2468-1253(21)00377-0', 'keywords': '', 'creator': 'Elsevier', 'producer': 'Acrobat Distiller 6.0 for Windows', 'creationDate': \"D:20211223225432+05'30'\", 'modDate': \"D:20220108175830+05'30'\", 'trapped': ''}\n",
            "\n",
            "Text Length: 5743\n",
            "\n",
            "('Articles\\n'\n",
            " 'www.thelancet.com/gastrohep   Vol 7   February 2022 \\n'\n",
            " '165\\n'\n",
            " 'U-ACCOMPLISH8). No phase 3 RCTs with etrasimod or \\n'\n",
            " 'TD-1473 were found.\\n'\n",
            " 'Among 22 studies evaluating maintenance therapy, ten \\n'\n",
            " 'were done by use of a treat-straight-through strategy \\n'\n",
            " '(2528 patients)19–22,24,25,29,34,36 and 12 followed a randomised \\n'\n",
            " 'responders design (3484 patients).6,27,28,30–32,35,37–41 Only seven \\n'\n",
            " 'studies evaluated histological remission.6,29,31,32,35,38,41 The \\n'\n",
            " 'main characteristics of the included trials are described \\n'\n",
            " 'in the appendix (pp 2–4). All outcomes were assessed \\n'\n",
            " 'uniformly on the basis of the standard definition of the \\n'\n",
            " 'Mayo score, with follow-up durations of 6–14 weeks for \\n'\n",
            " 'induction therapy and 26–66 weeks for maintenance \\n'\n",
            " 'therapy (appendix pp 2–4). All studies were industry \\n'\n",
            " 'sponsored. A risk of bias assessment showed a low risk \\n'\n",
            " 'of bias for most of the included studies (appendix p 5). \\n'\n",
            " 'Confidence in the estimates derived from our meta-\\n'\n",
            " 'analysis is shown in the appendix (pp 6–8).\\n'\n",
            " 'A network ma')\n",
            "{'author': 'Juan S Lasa MD',\n",
            " 'creationDate': \"D:20211223225432+05'30'\",\n",
            " 'creator': 'Elsevier',\n",
            " 'file_path': '/mnt/c/Users/QUAN/Desktop/medical-chatbot/data/document_store/uc/1-s2.0-S2468125321003770-main.pdf',\n",
            " 'format': 'PDF 1.7',\n",
            " 'keywords': '',\n",
            " 'modDate': \"D:20220108175830+05'30'\",\n",
            " 'page': 4,\n",
            " 'producer': 'Acrobat Distiller 6.0 for Windows',\n",
            " 'source': '/mnt/c/Users/QUAN/Desktop/medical-chatbot/data/document_store/uc/1-s2.0-S2468125321003770-main.pdf',\n",
            " 'subject': 'The Lancet Gastroenterology & Hepatology, 7 (2022) 161-170. '\n",
            "            'doi:10.1016/S2468-1253(21)00377-0',\n",
            " 'title': 'Efficacy and safety of biologics and small molecule drugs for '\n",
            "          'patients with moderate-to-severe ulcerative colitis: a systematic '\n",
            "          'review and network meta-analysis',\n",
            " 'total_pages': 10,\n",
            " 'trapped': ''}\n"
          ]
        }
      ],
      "source": [
        "sample_path = datastore_paths[0]\n",
        "pdfloader = PyMuPDFLoader(sample_path)\n",
        "\n",
        "sample_data = pdfloader.load()\n",
        "print(\"Number of pages:\", len(sample_data))\n",
        "sample_page = sample_data[4]\n",
        "print(str(sample_page.metadata) + \"\\n\")\n",
        "content = sample_page.page_content\n",
        "print(f\"Text Length: {len(content)}\\n\")\n",
        "# content = re.sub(r\"\\t+\", \" \", content)\n",
        "pprint(content[:1000])\n",
        "metadata = sample_page.metadata\n",
        "pprint(metadata)"
      ]
    },
    {
      "cell_type": "code",
      "execution_count": null,
      "metadata": {
        "id": "RpY5T1luxwJY"
      },
      "outputs": [],
      "source": [
        "generate_vectorstore(\n",
        "    embeddings=OpenAIEmbeddings(openai_api_key = OPENAI_KEY),\n",
        "    source_directory=os.path.join(DOCUMENT_SOURCE, PROJECT),\n",
        "    output_directory=os.path.join(EMBSTORE_DIR, PROJECT, \"faiss\", \"text-embedding-ada-002\", \"test\"),\n",
        "    emb_store_type=\"faiss\",\n",
        "    chunk_size=1000,\n",
        "    chunk_overlap=250,\n",
        "    exclude_pages=EXCLUDE_DICT)"
      ]
    },
    {
      "attachments": {},
      "cell_type": "markdown",
      "metadata": {
        "id": "WPyXW-l24VFg"
      },
      "source": [
        "# Prototypes"
      ]
    },
    {
      "attachments": {},
      "cell_type": "markdown",
      "metadata": {
        "id": "933ywV6FSiC5"
      },
      "source": [
        "## Test Cases"
      ]
    },
    {
      "cell_type": "code",
      "execution_count": 83,
      "metadata": {
        "colab": {
          "base_uri": "https://localhost:8080/"
        },
        "id": "iu4Fey58rXx9",
        "outputId": "a754067e-4c25-48f3-9dca-7c8469342949"
      },
      "outputs": [
        {
          "data": {
            "text/plain": [
              "['40 year old male with newly diagnosed moderate UC and articular extraintestinal manifestations',\n",
              " '70 year old female with newly diagnosed severe UC',\n",
              " '35 year old male with known moderate UC with prior exposure to infliximab but has worsening colitis on endoscopy despite compliance',\n",
              " '60 year old female with newly diagnosed moderate UC with a background of congestive cardiac failure',\n",
              " '38 year old female with newly diagnosed moderate UC and psoriasis',\n",
              " '25 year old pregnant woman with severe distal ulcerative colitis',\n",
              " '56 year old man with moderate to severe ulcerative colitis and ankylosing spondylitis',\n",
              " '38 year old man with severe ulcerative colitis and has lost response to vedolizumab',\n",
              " '28 year old woman who has severe extensive ulcerative colitis and has a history of lymphoma which was treated 4 years ago',\n",
              " '36 year old woman with moderate ulcerative colitis and multiple sclerosis']"
            ]
          },
          "execution_count": 83,
          "metadata": {},
          "output_type": "execute_result"
        }
      ],
      "source": [
        "with open(osp.join(DATA_DIR, \"queries\", \"uc.txt\"), \"r\", encoding = \"utf-8-sig\") as f:\n",
        "    test_cases = f.readlines()\n",
        "\n",
        "test_cases = [test_case.rstrip() for test_case in test_cases]\n",
        "test_cases"
      ]
    },
    {
      "attachments": {},
      "cell_type": "markdown",
      "metadata": {
        "id": "2fY1Hyjd5mb7"
      },
      "source": [
        "## Experiment 1: Only Text - Normal Prompt Template - GPT4"
      ]
    },
    {
      "attachments": {},
      "cell_type": "markdown",
      "metadata": {
        "id": "5DLq8oet-_Av"
      },
      "source": [
        "### Prompt Setup"
      ]
    },
    {
      "cell_type": "code",
      "execution_count": null,
      "metadata": {
        "colab": {
          "base_uri": "https://localhost:8080/"
        },
        "id": "wX3gOJr9I3AN",
        "outputId": "5c51fc3d-af94-4586-e9dd-8dffb71b6eaf"
      },
      "outputs": [
        {
          "name": "stdout",
          "output_type": "stream",
          "text": [
            "Make reference to the context given to assess the scenario. If you do not know the answer. just say that \"I don't know\", don't try to make up an answer.\n",
            "You are a physician assistant giving advice on treatment for moderate to severe ulcerative colitis (UC). Perform the following step\n",
            "\n",
            "ANALYSE the given patient profile based on given query based on one of the following criteria:\n",
            "- Freshly treated patient or patient under maintenance\n",
            "- Prior response to Infliximab\n",
            "- Prior failure to Anti-TNF agents\n",
            "- Prior failure to Vedolizumab\n",
            "- Age\n",
            "- Pregnancy\n",
            "- Extraintestinale manifestations\n",
            "- Pouchitis\n",
            "\n",
            "FINALLY RETURN up to 2 TOP choices of biological drugs given patient profile. Explain the PROS and CONS of the 2 choices.\n",
            "\n",
            "Summaries\n",
            "\n",
            "The output should be formatted as a JSON instance that conforms to the JSON schema below.\n",
            "\n",
            "As an example, for the schema {\"properties\": {\"foo\": {\"title\": \"Foo\", \"description\": \"a list of strings\", \"type\": \"array\", \"items\": {\"type\": \"string\"}}}, \"required\": [\"foo\"]}}\n",
            "the object {\"foo\": [\"bar\", \"baz\"]} is a well-formatted instance of the schema. The object {\"properties\": {\"foo\": [\"bar\", \"baz\"]}} is not well-formatted.\n",
            "\n",
            "Here is the output schema:\n",
            "```\n",
            "{\"properties\": {\"drug_name\": {\"title\": \"Drug Name\", \"description\": \"Name of the drug\", \"type\": \"string\"}, \"advantages\": {\"title\": \"Advantages\", \"description\": \"Advantages of the drug \", \"type\": \"string\"}, \"disadvantages\": {\"title\": \"Disadvantages\", \"description\": \"Disadvantages of the drug\", \"type\": \"string\"}}, \"required\": [\"drug_name\", \"advantages\", \"disadvantages\"]}\n",
            "```\n",
            "\n",
            "Question: User Query\n",
            "Answer:\n",
            "\n"
          ]
        }
      ],
      "source": [
        "### STANDARD PROMPT TEMPLATE\n",
        "drug_parser = PydanticOutputParser(pydantic_object=DrugOutput)\n",
        "\n",
        "prompt_template = \"\"\"Make reference to the context given to assess the scenario. If you do not know the answer. just say that \"I don't know\", don't try to make up an answer.\n",
        "You are a physician assistant giving advice on treatment for moderate to severe ulcerative colitis (UC). Perform the following step\n",
        "\n",
        "ANALYSE the given patient profile based on given query based on one of the following criteria:\n",
        "- Freshly treated patient or patient under maintenance\n",
        "- Prior response to Infliximab\n",
        "- Prior failure to Anti-TNF agents\n",
        "- Prior failure to Vedolizumab\n",
        "- Age\n",
        "- Pregnancy\n",
        "- Extraintestinale manifestations\n",
        "- Pouchitis\n",
        "\n",
        "FINALLY RETURN up to 2 TOP choices of biological drugs given patient profile. Explain the PROS and CONS of the 2 choices.\n",
        "\n",
        "{summaries}\n",
        "\n",
        "{format_instructions}\n",
        "\n",
        "Question: {question}\n",
        "Answer:\n",
        "\"\"\"\n",
        "\n",
        "TEST_PROMPT_TEMPLATE_1 = PromptTemplate(\n",
        "    template = prompt_template,\n",
        "    input_variables = [\"summaries\", \"question\"],\n",
        "    partial_variables={\"format_instructions\": drug_parser.get_format_instructions()}\n",
        ")\n",
        "\n",
        "print(TEST_PROMPT_TEMPLATE_1.format(summaries = \"Summaries\", question = \"User Query\"))"
      ]
    },
    {
      "attachments": {},
      "cell_type": "markdown",
      "metadata": {
        "id": "0aqUPpf1JDd1"
      },
      "source": [
        "### Run Experiments"
      ]
    },
    {
      "cell_type": "code",
      "execution_count": 16,
      "metadata": {
        "id": "Xd_LvsydJzdp"
      },
      "outputs": [],
      "source": [
        "# Settings\n",
        "LLM_TYPE = \"gpt-4\"\n",
        "DESCRIPTION = \"Text_Only\"\n",
        "MAX_TOKENS = 1024\n",
        "TIME = datetime.now().strftime(\"%d-%m-%Y-%H:%M:%S\")\n",
        "VERBOSE = True\n",
        "save_path = osp.join(ARTIFACT_DIR, f\"{LLM_TYPE}_{DESCRIPTION}_{TIME}\")"
      ]
    },
    {
      "cell_type": "code",
      "execution_count": null,
      "metadata": {
        "id": "0-tAQR6i7BVw"
      },
      "outputs": [],
      "source": [
        "# Create and run experiment\n",
        "exp1 = Experiment(\n",
        "    prompt_template = TEST_PROMPT_TEMPLATE_1,\n",
        "    vector_store = EMBSTORE_DIR,\n",
        "    llm_type = LLM_TYPE,\n",
        "    max_tokens = MAX_TOKENS,\n",
        "    gt = osp.join(MAIN_DIR, \"ground_truth.csv\"),\n",
        "    verbose = VERBOSE\n",
        ")\n",
        "\n",
        "exp1.run_test_cases(test_cases)\n",
        "\n",
        "# Save Output\n",
        "exp1.save_json(save_path+\".json\")\n",
        "exp1.write_csv(save_path+\".csv\")"
      ]
    },
    {
      "attachments": {},
      "cell_type": "markdown",
      "metadata": {
        "id": "KHu-zQcL-26D"
      },
      "source": [
        "## Experiment 2: Only Text - CHAT Prompt Template - GPT4"
      ]
    },
    {
      "attachments": {},
      "cell_type": "markdown",
      "metadata": {
        "id": "5EPzgAOO_Jkp"
      },
      "source": [
        "### Prompt Setup"
      ]
    },
    {
      "cell_type": "code",
      "execution_count": null,
      "metadata": {
        "colab": {
          "base_uri": "https://localhost:8080/"
        },
        "id": "3spHEtJ06cce",
        "outputId": "1655a9f6-4ec5-488c-93ff-e9d33a6aa75f"
      },
      "outputs": [
        {
          "name": "stdout",
          "output_type": "stream",
          "text": [
            "System: \n",
            "Make reference to the context given to assess the scenario. If you do not know the answer. just say that \"I don't know\", don't try to make up an answer.\n",
            "You are a physician assistant giving advice on treatment for moderate to severe ulcerative colitis (UC).\n",
            "\n",
            "ANALYSE the given patient profile based on given query based on one of the following criteria:\n",
            "- Whether treated patient is new patient or patient under maintenance\n",
            "- Prior response to Infliximab\n",
            "- Prior failure to Anti-TNF agents\n",
            "- Prior failure to Vedolizumab\n",
            "- Age\n",
            "- Pregnancy\n",
            "- Extraintestinale manifestations\n",
            "- Pouchitis\n",
            "\n",
            "FINALLY RETURN up to 2 TOP choices of biological drugs given patient profile. Explain the PROS and CONS of the 2 choices.\n",
            "Output your answer as a list of JSON objects with keys: drug_name, advantages, disadvantages.\n",
            "\n",
            "Summaries\n",
            "\n",
            "\n",
            "Human: User Query\n"
          ]
        }
      ],
      "source": [
        "### CHAT PROMTP TEMPLATE\n",
        "system_prompt = \"\"\"\n",
        "Make reference to the context given to assess the scenario. If you do not know the answer. just say that \"I don't know\", don't try to make up an answer.\n",
        "You are a physician assistant giving advice on treatment for moderate to severe ulcerative colitis (UC).\n",
        "\n",
        "ANALYSE the given patient profile based on given query based on one of the following criteria:\n",
        "- Whether treated patient is new patient or patient under maintenance\n",
        "- Prior response to Infliximab\n",
        "- Prior failure to Anti-TNF agents\n",
        "- Prior failure to Vedolizumab\n",
        "- Age\n",
        "- Pregnancy\n",
        "- Extraintestinale manifestations\n",
        "- Pouchitis\n",
        "\n",
        "FINALLY RETURN up to 2 TOP choices of biological drugs given patient profile. Explain the PROS and CONS of the 2 choices.\n",
        "Output your answer as a list of JSON objects with keys: drug_name, advantages, disadvantages.\n",
        "\n",
        "{summaries}\n",
        "\n",
        "\"\"\"\n",
        "\n",
        "TEST_PROMPT_TEMPLATE_2 = ChatPromptTemplate.from_messages(\n",
        "    [\n",
        "        SystemMessagePromptTemplate.from_template(system_prompt, input_variables = [\"summaries\"]),\n",
        "        HumanMessagePromptTemplate.from_template(\"{question}\")\n",
        "    ]\n",
        ")\n",
        "\n",
        "print(TEST_PROMPT_TEMPLATE_2.format(summaries = \"Summaries\", question = \"User Query\"))"
      ]
    },
    {
      "attachments": {},
      "cell_type": "markdown",
      "metadata": {
        "id": "mhDSVNKT_Xrs"
      },
      "source": [
        "### Run Experiments"
      ]
    },
    {
      "cell_type": "code",
      "execution_count": null,
      "metadata": {
        "id": "Do9b9jEu_Xr-"
      },
      "outputs": [],
      "source": [
        "# Settings\n",
        "LLM_TYPE = \"gpt-3.5-turbo\"\n",
        "DESCRIPTION = \"Text_Only_With_CHAT_Prompt\"\n",
        "MAX_TOKENS = 1024\n",
        "TIME = datetime.now().strftime(\"%d-%m-%Y-%H:%M:%S\")\n",
        "VERBOSE = True\n",
        "save_path = osp.join(ARTIFACT_DIR, f\"{LLM_TYPE}_{DESCRIPTION}_{TIME}\")"
      ]
    },
    {
      "cell_type": "code",
      "execution_count": null,
      "metadata": {
        "colab": {
          "base_uri": "https://localhost:8080/"
        },
        "id": "YwDbSTHV_Xr-",
        "outputId": "dbb9b128-f1a6-40f7-ee7a-a6523ff32e49"
      },
      "outputs": [],
      "source": [
        "# Create and run experiment\n",
        "exp2 = Experiment(\n",
        "    prompt_template = TEST_PROMPT_TEMPLATE_2,\n",
        "    vector_store = EMBSTORE_DIR,\n",
        "    llm_type = LLM_TYPE,\n",
        "    max_tokens = MAX_TOKENS,\n",
        "    gt = osp.join(MAIN_DIR, \"ground_truth.csv\"),\n",
        "    verbose = VERBOSE\n",
        ")\n",
        "\n",
        "exp2.run_test_cases(test_cases)\n",
        "\n",
        "# Save Output\n",
        "exp2.save_json(save_path+\".json\")\n",
        "exp2.write_csv(save_path+\".csv\")"
      ]
    },
    {
      "cell_type": "code",
      "execution_count": null,
      "metadata": {
        "colab": {
          "base_uri": "https://localhost:8080/"
        },
        "id": "E2gcEn-8aYpp",
        "outputId": "a386b037-96ec-4bdf-e01b-7f64c4ae0c57"
      },
      "outputs": [
        {
          "name": "stderr",
          "output_type": "stream",
          "text": [
            "INFO:root:Successfully loaded existing vectorstore from local storage\n"
          ]
        }
      ],
      "source": [
        "# Create and run experiment\n",
        "exp2 = Experiment(\n",
        "    prompt_template = TEST_PROMPT_TEMPLATE_2,\n",
        "    vector_store = EMBSTORE_DIR,\n",
        "    llm_type = LLM_TYPE,\n",
        "    max_tokens = MAX_TOKENS,\n",
        "    gt = osp.join(MAIN_DIR, \"ground_truth.csv\"),\n",
        "    verbose = VERBOSE\n",
        ")\n",
        "\n",
        "exp2.load_json(save_path + \".json\")\n",
        "\n",
        "# Save Output\n",
        "exp2.write_csv(save_path+\".csv\")"
      ]
    },
    {
      "attachments": {},
      "cell_type": "markdown",
      "metadata": {
        "id": "-AGiFA7-VosO"
      },
      "source": [
        "## Experiment 3 - ADD Table:"
      ]
    },
    {
      "cell_type": "code",
      "execution_count": 117,
      "metadata": {},
      "outputs": [
        {
          "name": "stdout",
          "output_type": "stream",
          "text": [
            "Make reference to the context given to assess the scenario. If you do not know the answer. just say that \"I don't know\", don't try to make up an answer.\n",
            "You are a physician assistant giving advice on treatment for moderate to severe ulcerative colitis (UC). Perform the following step\n",
            "\n",
            "ANALYSE the given patient profile based on given query based on one of the following criteria:\n",
            "- Freshly treated patient or patient under maintenance\n",
            "- Prior response to Infliximab\n",
            "- Prior failure to Anti-TNF agents\n",
            "- Prior failure to Vedolizumab\n",
            "- Age\n",
            "- Pregnancy\n",
            "- Extraintestinale manifestations\n",
            "- Pouchitis\n",
            "\n",
            "FINALLY RETURN up to 2 TOP choices of biological drugs given patient profile. Explain the PROS and CONS of the 2 choices.\n",
            "\n",
            "Summaries\n",
            "\n",
            "The output should be formatted as a JSON instance that conforms to the JSON schema below.\n",
            "\n",
            "As an example, for the schema {\"properties\": {\"foo\": {\"title\": \"Foo\", \"description\": \"a list of strings\", \"type\": \"array\", \"items\": {\"type\": \"string\"}}}, \"required\": [\"foo\"]}}\n",
            "the object {\"foo\": [\"bar\", \"baz\"]} is a well-formatted instance of the schema. The object {\"properties\": {\"foo\": [\"bar\", \"baz\"]}} is not well-formatted.\n",
            "\n",
            "Here is the output schema:\n",
            "```\n",
            "{\"properties\": {\"drug_name\": {\"title\": \"Drug Name\", \"description\": \"Name of the drug\", \"type\": \"string\"}, \"advantages\": {\"title\": \"Advantages\", \"description\": \"Advantages of the drug \", \"type\": \"string\"}, \"disadvantages\": {\"title\": \"Disadvantages\", \"description\": \"Disadvantages of the drug\", \"type\": \"string\"}}, \"required\": [\"drug_name\", \"advantages\", \"disadvantages\"]}\n",
            "```\n",
            "\n",
            "Question: User Query\n",
            "Answer:\n",
            "\n"
          ]
        }
      ],
      "source": [
        "### STANDARD PROMPT TEMPLATE\n",
        "drug_parser = PydanticOutputParser(pydantic_object=DrugOutput)\n",
        "\n",
        "prompt_template = \"\"\"Make reference to the context given to assess the scenario. If you do not know the answer. just say that \"I don't know\", don't try to make up an answer.\n",
        "You are a physician assistant giving advice on treatment for moderate to severe ulcerative colitis (UC). Perform the following step\n",
        "\n",
        "ANALYSE the given patient profile based on given query based on one of the following criteria:\n",
        "- Freshly treated patient or patient under maintenance\n",
        "- Prior response to Infliximab\n",
        "- Prior failure to Anti-TNF agents\n",
        "- Prior failure to Vedolizumab\n",
        "- Age\n",
        "- Pregnancy\n",
        "- Extraintestinale manifestations\n",
        "- Pouchitis\n",
        "\n",
        "FINALLY RETURN up to 2 TOP choices of biological drugs given patient profile. Explain the PROS and CONS of the 2 choices.\n",
        "\n",
        "{summaries}\n",
        "\n",
        "{format_instructions}\n",
        "\n",
        "Question: {question}\n",
        "Answer:\n",
        "\"\"\"\n",
        "\n",
        "TEST_PROMPT_TEMPLATE_3 = PromptTemplate(\n",
        "    template = prompt_template,\n",
        "    input_variables = [\"summaries\", \"question\"],\n",
        "    partial_variables={\"format_instructions\": drug_parser.get_format_instructions()}\n",
        ")\n",
        "\n",
        "print(TEST_PROMPT_TEMPLATE_3.format(summaries = \"Summaries\", question = \"User Query\"))"
      ]
    },
    {
      "cell_type": "code",
      "execution_count": null,
      "metadata": {},
      "outputs": [],
      "source": [
        "# Settings\n",
        "LLM_TYPE = \"gpt-4\"\n",
        "DESCRIPTION = \"Text_with_juillerat_table\"\n",
        "MAX_TOKENS = 1024\n",
        "TIME = datetime.now().strftime(\"%d-%m-%Y-%H:%M:%S\")\n",
        "VERBOSE = True\n",
        "VECTORSTORE = os.path.join(EMBSTORE_DIR, PROJECT, \"faiss\", \"text-embedding-ada-002\", \"v2-add\")\n",
        "save_path = osp.join(ARTIFACT_DIR, f\"{LLM_TYPE}_{DESCRIPTION}_{TIME}\")"
      ]
    },
    {
      "cell_type": "code",
      "execution_count": 107,
      "metadata": {},
      "outputs": [],
      "source": [
        "add_docs_path = os.path.join(MAIN_DIR, \"data/additional_docs.json\")\n",
        "\n",
        "with open(add_docs_path, \"r\") as f:\n",
        "    additional_documents = json.load(f)\n",
        "    \n",
        "add_docs = []\n",
        "for table in additional_documents:\n",
        "    rows = load_single_document(os.path.join(MAIN_DIR, table[\"filename\"]))\n",
        "    for row in rows:\n",
        "        row_no = row.metadata[\"row\"]\n",
        "        metadata = {k:v for k, v in table[\"metadata\"].items()}\n",
        "        metadata[\"row\"] = row_no\n",
        "        metadata[\"mode\"] = table[\"mode\"]\n",
        "        row.page_content = table[\"description\"] + \":\" + row.page_content\n",
        "        row.metadata = metadata\n",
        "        add_docs.append(row)"
      ]
    },
    {
      "cell_type": "code",
      "execution_count": 108,
      "metadata": {},
      "outputs": [
        {
          "data": {
            "text/plain": [
              "[Document(page_content='Efficacy of biological treatments according to the line of treatment, earlier exposure, disease phenotype and patient characteristics. :Patient Profile: Fresh No previous treatment\\nBest: Infliximab (IFX*)\\n2nd Best: Vedoluzimab (VEDO)\\n3rd Best: Ustekinumab (USTE)\\n4th Best: Golimumab (GOL)\\n5th Best: Adalimumab (ADA)', metadata={'author': 'Pascal Juillerat', 'creator': 'Elsevier', 'file_path': '/mnt/c/Users/QUAN/Desktop/medical-chatbot/data/document_store/uc/juillerat 2022.pdf', 'keywords': '', 'page': 3, 'source': '/mnt/c/Users/QUAN/Desktop/medical-chatbot/data/document_store/uc/juillerat 2022.pdf', 'subject': 'Current Research in Pharmacology and Drug Discovery, 3 (2022) 100104. doi:10.1016/j.crphar.2022.100104', 'title': 'Positioning biologics in the treatment of IBD: A practical guide - Which mechanism of action for whom?', 'total_pages': 9, 'row': 0, 'mode': 'table'}),\n",
              " Document(page_content='Efficacy of biological treatments according to the line of treatment, earlier exposure, disease phenotype and patient characteristics. :Patient Profile: Currently under maintenance\\nBest: Vedoluzimab (VEDO)\\n2nd Best: Infliximab (IFX)\\n3rd Best: Ustekinumab (USTE), Golimumab (GOL)\\n4th Best: Adalimumab (ADA)\\n5th Best: ', metadata={'author': 'Pascal Juillerat', 'creator': 'Elsevier', 'file_path': '/mnt/c/Users/QUAN/Desktop/medical-chatbot/data/document_store/uc/juillerat 2022.pdf', 'keywords': '', 'page': 3, 'source': '/mnt/c/Users/QUAN/Desktop/medical-chatbot/data/document_store/uc/juillerat 2022.pdf', 'subject': 'Current Research in Pharmacology and Drug Discovery, 3 (2022) 100104. doi:10.1016/j.crphar.2022.100104', 'title': 'Positioning biologics in the treatment of IBD: A practical guide - Which mechanism of action for whom?', 'total_pages': 9, 'row': 1, 'mode': 'table'}),\n",
              " Document(page_content='Efficacy of biological treatments according to the line of treatment, earlier exposure, disease phenotype and patient characteristics. :Patient Profile: Prior response to Infliximab\\nBest: Golimumab (GOL)\\n2nd Best: Adalimumab (ADA)\\n3rd Best: Ustekinumab (USTE), Vedoluzimab (VEDO)\\n4th Best: \\n5th Best: ', metadata={'author': 'Pascal Juillerat', 'creator': 'Elsevier', 'file_path': '/mnt/c/Users/QUAN/Desktop/medical-chatbot/data/document_store/uc/juillerat 2022.pdf', 'keywords': '', 'page': 3, 'source': '/mnt/c/Users/QUAN/Desktop/medical-chatbot/data/document_store/uc/juillerat 2022.pdf', 'subject': 'Current Research in Pharmacology and Drug Discovery, 3 (2022) 100104. doi:10.1016/j.crphar.2022.100104', 'title': 'Positioning biologics in the treatment of IBD: A practical guide - Which mechanism of action for whom?', 'total_pages': 9, 'row': 2, 'mode': 'table'}),\n",
              " Document(page_content='Efficacy of biological treatments according to the line of treatment, earlier exposure, disease phenotype and patient characteristics. :Patient Profile: Prior failure to Anti-TNF agents (1-2x) (PNR)\\nBest: Ustekinumab (USTE)\\n2nd Best: Vedoluzimab (VEDO)\\n3rd Best: \\n4th Best: \\n5th Best: ', metadata={'author': 'Pascal Juillerat', 'creator': 'Elsevier', 'file_path': '/mnt/c/Users/QUAN/Desktop/medical-chatbot/data/document_store/uc/juillerat 2022.pdf', 'keywords': '', 'page': 3, 'source': '/mnt/c/Users/QUAN/Desktop/medical-chatbot/data/document_store/uc/juillerat 2022.pdf', 'subject': 'Current Research in Pharmacology and Drug Discovery, 3 (2022) 100104. doi:10.1016/j.crphar.2022.100104', 'title': 'Positioning biologics in the treatment of IBD: A practical guide - Which mechanism of action for whom?', 'total_pages': 9, 'row': 3, 'mode': 'table'}),\n",
              " Document(page_content='Efficacy of biological treatments according to the line of treatment, earlier exposure, disease phenotype and patient characteristics. :Patient Profile: Prior failure to Vedolizumab\\nBest: Infliximab (IFX)\\n2nd Best: Ustekinumab (USTE), Golimumab (GOL)\\n3rd Best: Adalimumab (ADA)\\n4th Best: \\n5th Best: ', metadata={'author': 'Pascal Juillerat', 'creator': 'Elsevier', 'file_path': '/mnt/c/Users/QUAN/Desktop/medical-chatbot/data/document_store/uc/juillerat 2022.pdf', 'keywords': '', 'page': 3, 'source': '/mnt/c/Users/QUAN/Desktop/medical-chatbot/data/document_store/uc/juillerat 2022.pdf', 'subject': 'Current Research in Pharmacology and Drug Discovery, 3 (2022) 100104. doi:10.1016/j.crphar.2022.100104', 'title': 'Positioning biologics in the treatment of IBD: A practical guide - Which mechanism of action for whom?', 'total_pages': 9, 'row': 4, 'mode': 'table'}),\n",
              " Document(page_content='Efficacy of biological treatments according to the line of treatment, earlier exposure, disease phenotype and patient characteristics. :Patient Profile: Age > 65 & comorbidities (safety aspects data)\\nBest: Ustekinumab (USTE), Vedoluzimab (VEDO)\\n2nd Best: Golimumab (GOL), Infliximab (IFX), Adalimumab (ADA)\\n3rd Best: \\n4th Best: \\n5th Best: ', metadata={'author': 'Pascal Juillerat', 'creator': 'Elsevier', 'file_path': '/mnt/c/Users/QUAN/Desktop/medical-chatbot/data/document_store/uc/juillerat 2022.pdf', 'keywords': '', 'page': 3, 'source': '/mnt/c/Users/QUAN/Desktop/medical-chatbot/data/document_store/uc/juillerat 2022.pdf', 'subject': 'Current Research in Pharmacology and Drug Discovery, 3 (2022) 100104. doi:10.1016/j.crphar.2022.100104', 'title': 'Positioning biologics in the treatment of IBD: A practical guide - Which mechanism of action for whom?', 'total_pages': 9, 'row': 5, 'mode': 'table'}),\n",
              " Document(page_content='Efficacy of biological treatments according to the line of treatment, earlier exposure, disease phenotype and patient characteristics. :Patient Profile: Pregnancy\\nBest: Infliximab (IFX)\\n2nd Best: Golimumab (GOL), Adalimumab (ADA)\\n3rd Best: Ustekinumab (USTE), Vedoluzimab (VEDO)\\n4th Best: \\n5th Best: ', metadata={'author': 'Pascal Juillerat', 'creator': 'Elsevier', 'file_path': '/mnt/c/Users/QUAN/Desktop/medical-chatbot/data/document_store/uc/juillerat 2022.pdf', 'keywords': '', 'page': 3, 'source': '/mnt/c/Users/QUAN/Desktop/medical-chatbot/data/document_store/uc/juillerat 2022.pdf', 'subject': 'Current Research in Pharmacology and Drug Discovery, 3 (2022) 100104. doi:10.1016/j.crphar.2022.100104', 'title': 'Positioning biologics in the treatment of IBD: A practical guide - Which mechanism of action for whom?', 'total_pages': 9, 'row': 6, 'mode': 'table'}),\n",
              " Document(page_content='Efficacy of biological treatments according to the line of treatment, earlier exposure, disease phenotype and patient characteristics. :Patient Profile: Extraintestinale manifestation\\nBest: Infliximab (IFX)\\n2nd Best: Golimumab (GOL)\\n3rd Best: Adalimumab (ADA)\\n4th Best: Ustekinumab (USTE)\\n5th Best: Vedoluzimab (VEDO)', metadata={'author': 'Pascal Juillerat', 'creator': 'Elsevier', 'file_path': '/mnt/c/Users/QUAN/Desktop/medical-chatbot/data/document_store/uc/juillerat 2022.pdf', 'keywords': '', 'page': 3, 'source': '/mnt/c/Users/QUAN/Desktop/medical-chatbot/data/document_store/uc/juillerat 2022.pdf', 'subject': 'Current Research in Pharmacology and Drug Discovery, 3 (2022) 100104. doi:10.1016/j.crphar.2022.100104', 'title': 'Positioning biologics in the treatment of IBD: A practical guide - Which mechanism of action for whom?', 'total_pages': 9, 'row': 7, 'mode': 'table'}),\n",
              " Document(page_content='Efficacy of biological treatments according to the line of treatment, earlier exposure, disease phenotype and patient characteristics. :Patient Profile: Pouchitis\\nBest: Vedoluzimab (VEDO)\\n2nd Best: Adalimumab (ADA)\\n3rd Best: Infliximab (IFX)\\n4th Best: Ustekinumab (USTE)\\n5th Best: Golimumab (GOL)', metadata={'author': 'Pascal Juillerat', 'creator': 'Elsevier', 'file_path': '/mnt/c/Users/QUAN/Desktop/medical-chatbot/data/document_store/uc/juillerat 2022.pdf', 'keywords': '', 'page': 3, 'source': '/mnt/c/Users/QUAN/Desktop/medical-chatbot/data/document_store/uc/juillerat 2022.pdf', 'subject': 'Current Research in Pharmacology and Drug Discovery, 3 (2022) 100104. doi:10.1016/j.crphar.2022.100104', 'title': 'Positioning biologics in the treatment of IBD: A practical guide - Which mechanism of action for whom?', 'total_pages': 9, 'row': 8, 'mode': 'table'})]"
            ]
          },
          "execution_count": 108,
          "metadata": {},
          "output_type": "execute_result"
        }
      ],
      "source": [
        "add_docs"
      ]
    },
    {
      "cell_type": "code",
      "execution_count": 115,
      "metadata": {},
      "outputs": [
        {
          "data": {
            "text/plain": [
              "<langchain.vectorstores.faiss.FAISS at 0x7fd4c6ae0eb0>"
            ]
          },
          "execution_count": 115,
          "metadata": {},
          "output_type": "execute_result"
        }
      ],
      "source": [
        "generate_vectorstore(\n",
        "    embeddings=OpenAIEmbeddings(openai_api_key = OPENAI_KEY),\n",
        "    source_directory=os.path.join(DOCUMENT_SOURCE, PROJECT),\n",
        "    output_directory=VECTORSTORE,\n",
        "    emb_store_type=\"faiss\",\n",
        "    chunk_size=1000,\n",
        "    chunk_overlap=250,\n",
        "    exclude_pages=EXCLUDE_DICT,\n",
        "    additional_docs=add_docs)"
      ]
    },
    {
      "attachments": {},
      "cell_type": "markdown",
      "metadata": {},
      "source": [
        "### Run Experiments"
      ]
    },
    {
      "cell_type": "code",
      "execution_count": null,
      "metadata": {},
      "outputs": [],
      "source": [
        "# Create and run experiment\n",
        "exp3 = Experiment(\n",
        "    prompt_template = TEST_PROMPT_TEMPLATE_3,\n",
        "    vector_store = VECTORSTORE,\n",
        "    llm_type = LLM_TYPE,\n",
        "    max_tokens = MAX_TOKENS,\n",
        "    gt = osp.join(MAIN_DIR, \"ground_truth.csv\"),\n",
        "    verbose = VERBOSE\n",
        ")\n",
        "\n",
        "exp3.run_test_cases(test_cases)\n",
        "\n",
        "# Save Output\n",
        "exp3.save_json(save_path+\".json\")\n",
        "exp3.write_csv(save_path+\".csv\")"
      ]
    },
    {
      "attachments": {},
      "cell_type": "markdown",
      "metadata": {},
      "source": [
        "## Experiment 4 - Two Steps: Summary -> QA"
      ]
    },
    {
      "attachments": {},
      "cell_type": "markdown",
      "metadata": {},
      "source": [
        "### Summarization"
      ]
    },
    {
      "cell_type": "code",
      "execution_count": 122,
      "metadata": {},
      "outputs": [],
      "source": [
        "from langchain.chains.summarize import load_summarize_chain"
      ]
    },
    {
      "cell_type": "code",
      "execution_count": 153,
      "metadata": {},
      "outputs": [
        {
          "name": "stdout",
          "output_type": "stream",
          "text": [
            "37\n"
          ]
        }
      ],
      "source": [
        "documents = load_single_document(\n",
        "    os.path.join(MAIN_DIR, \"data/document_store/uc/juillerat 2022.pdf\")\n",
        ")\n",
        "\n",
        "text_splitter = RecursiveCharacterTextSplitter(\n",
        "    chunk_size=2500, chunk_overlap=500\n",
        ")\n",
        "texts = text_splitter.split_documents(documents)\n",
        "print(len(texts))"
      ]
    },
    {
      "cell_type": "code",
      "execution_count": 155,
      "metadata": {},
      "outputs": [
        {
          "data": {
            "text/plain": [
              "2479"
            ]
          },
          "execution_count": 155,
          "metadata": {},
          "output_type": "execute_result"
        }
      ],
      "source": [
        "len(texts[0].page_content)"
      ]
    },
    {
      "cell_type": "code",
      "execution_count": 156,
      "metadata": {},
      "outputs": [],
      "source": [
        "prompt_template = \"\"\"\n",
        "Write a summary on the following text:\n",
        "{text}\n",
        "\n",
        "The summary will contain information relevant to treatment for moderate to severe ulcerative colitis (UC) for\n",
        "the following patient profile: \n",
        "40 year old male with newly diagnosed moderate UC and articular extraintestinal manifestations\n",
        "\n",
        "The summary will compare the pros and cons of different biological drugs on the patient.\n",
        "\n",
        "Summary:\"\"\"\n",
        "\n",
        "BULLET_POINT_PROMPT = PromptTemplate(template=prompt_template,\n",
        "                        input_variables=[\"text\"])\n",
        "\n",
        "chain = load_summarize_chain(ChatOpenAI(model_name=\"gpt-3.5-turbo\",\n",
        "                                        openai_api_key=keys[\"OPENAI_API_KEY\"],\n",
        "                                        max_tokens=1024,\n",
        "                                        temperature=0), \n",
        "                             chain_type=\"map_reduce\", \n",
        "                             map_prompt=BULLET_POINT_PROMPT\n",
        ")\n",
        "\n",
        "output_summary = chain.run(texts)"
      ]
    },
    {
      "cell_type": "code",
      "execution_count": 159,
      "metadata": {},
      "outputs": [
        {
          "name": "stdout",
          "output_type": "stream",
          "text": [
            "('Biological therapies have greatly improved the management of inflammatory '\n",
            " 'bowel diseases (IBD), with anti-TNF being the main treatment. The number of '\n",
            " 'available biological therapies has doubled in the last decade, and '\n",
            " 'personalized treatment is important based on clinical situation, efficacy, '\n",
            " 'and safety. Patient demographics and comorbidities should also be '\n",
            " 'considered. Biologic therapies may increase the risk of infection and '\n",
            " 'malignancy. A 40-year-old male with newly diagnosed moderate UC and '\n",
            " 'extraintestinal manifestations may benefit from various biologic treatments. '\n",
            " 'Obesity may affect the effectiveness of anti-TNFalpha agents. Vedolizumab '\n",
            " 'and ustekinumab can treat inflammatory cutaneous lesions in IBD. The impact '\n",
            " 'of body mass index on the efficacy of biological therapies in patients with '\n",
            " 'psoriasis is being studied.')\n"
          ]
        }
      ],
      "source": [
        "pprint(output_summary)"
      ]
    },
    {
      "cell_type": "code",
      "execution_count": 144,
      "metadata": {},
      "outputs": [
        {
          "data": {
            "text/plain": [
              "91"
            ]
          },
          "execution_count": 144,
          "metadata": {},
          "output_type": "execute_result"
        }
      ],
      "source": [
        "len([text.page_content for text in texts])"
      ]
    },
    {
      "cell_type": "code",
      "execution_count": 120,
      "metadata": {},
      "outputs": [
        {
          "name": "stdout",
          "output_type": "stream",
          "text": [
            "367\n"
          ]
        }
      ],
      "source": [
        "# documents = load_documents(os.path.join(DOCUMENT_SOURCE, PROJECT),\n",
        "#                            exclude_pages=EXCLUDE_DICT)\n",
        "\n",
        "# text_splitter = RecursiveCharacterTextSplitter(\n",
        "#     chunk_size=1000, chunk_overlap=250\n",
        "# )\n",
        "# texts = text_splitter.split_documents(documents)\n",
        "# print(len(texts))"
      ]
    },
    {
      "cell_type": "code",
      "execution_count": null,
      "metadata": {},
      "outputs": [],
      "source": []
    },
    {
      "attachments": {},
      "cell_type": "markdown",
      "metadata": {
        "id": "eZpX-1Ssy6Mw"
      },
      "source": [
        "## Custom Agent\n",
        "\n",
        "### QA from text Agent"
      ]
    },
    {
      "attachments": {},
      "cell_type": "markdown",
      "metadata": {
        "id": "3msqfy9mzakH"
      },
      "source": [
        "### CSV Agent"
      ]
    },
    {
      "cell_type": "code",
      "execution_count": null,
      "metadata": {
        "id": "IXicAIYbzk8H"
      },
      "outputs": [],
      "source": []
    },
    {
      "cell_type": "code",
      "execution_count": null,
      "metadata": {
        "id": "Plu6jwcRX0yx"
      },
      "outputs": [],
      "source": [
        "from langchain.prompts import PromptTemplate, ChatPromptTemplate, HumanMessagePromptTemplate\n",
        "from langchain.llms import OpenAI\n",
        "from langchain.chat_models import ChatOpenAI\n",
        "\n",
        "model_name = 'text-davinci-003'\n",
        "temperature = 0.0\n",
        "model = OpenAI(model_name=model_name, temperature=temperature, openai_api_key = OPENAI_KEY)\n",
        "\n",
        "prompt = PromptTemplate(\n",
        "    template=\"Answer the user query.\\n{format_instructions}\\n{query}\\n\",\n",
        "    input_variables=[\"query\"],\n",
        "    partial_variables={\"format_instructions\": parser.get_format_instructions()}\n",
        ")\n",
        "\n",
        "joke_query = \"Tell me a joke.\"\n",
        "_input = prompt.format_prompt(query=joke_query)\n",
        "\n",
        "output = model(_input.to_string())"
      ]
    },
    {
      "cell_type": "code",
      "execution_count": null,
      "metadata": {
        "colab": {
          "base_uri": "https://localhost:8080/"
        },
        "id": "o6kqb4R0bYwq",
        "outputId": "a4e2a631-50c6-4262-9493-0a16232b3765"
      },
      "outputs": [
        {
          "name": "stdout",
          "output_type": "stream",
          "text": [
            "Answer the user query.\n",
            "The output should be formatted as a JSON instance that conforms to the JSON schema below.\n",
            "\n",
            "As an example, for the schema {\"properties\": {\"foo\": {\"title\": \"Foo\", \"description\": \"a list of strings\", \"type\": \"array\", \"items\": {\"type\": \"string\"}}}, \"required\": [\"foo\"]}}\n",
            "the object {\"foo\": [\"bar\", \"baz\"]} is a well-formatted instance of the schema. The object {\"properties\": {\"foo\": [\"bar\", \"baz\"]}} is not well-formatted.\n",
            "\n",
            "Here is the output schema:\n",
            "```\n",
            "{\"properties\": {\"drug_name\": {\"title\": \"Drug Name\", \"description\": \"Name of the drug\", \"type\": \"string\"}, \"description\": {\"title\": \"Description\", \"description\": \"Overall summary of the drug\", \"type\": \"string\"}, \"advantages\": {\"title\": \"Advantages\", \"description\": \"Advantages of the drug \", \"type\": \"string\"}, \"disadvantages\": {\"title\": \"Disadvantages\", \"description\": \"Disadvantages of the drug\", \"type\": \"string\"}}, \"required\": [\"drug_name\", \"description\", \"advantages\", \"disadvantages\"]}\n",
            "```\n",
            "Tell me a joke.\n",
            "\n"
          ]
        }
      ],
      "source": [
        "print(_input.text)"
      ]
    },
    {
      "cell_type": "code",
      "execution_count": null,
      "metadata": {
        "colab": {
          "base_uri": "https://localhost:8080/",
          "height": 36
        },
        "id": "gvu1sUauYISd",
        "outputId": "7e144f57-ef05-48f2-e1d3-393cba3d0fe3"
      },
      "outputs": [
        {
          "data": {
            "application/vnd.google.colaboratory.intrinsic+json": {
              "type": "string"
            },
            "text/plain": [
              "'\\n{\"drug_name\": \"Joke\", \"description\": \"A joke to make you laugh\", \"advantages\": \"It can make you laugh and bring joy\", \"disadvantages\": \"It may not be funny\"}'"
            ]
          },
          "execution_count": 128,
          "metadata": {},
          "output_type": "execute_result"
        }
      ],
      "source": [
        "output"
      ]
    }
  ],
  "metadata": {
    "colab": {
      "provenance": []
    },
    "kernelspec": {
      "display_name": "Python 3",
      "name": "python3"
    },
    "language_info": {
      "codemirror_mode": {
        "name": "ipython",
        "version": 3
      },
      "file_extension": ".py",
      "mimetype": "text/x-python",
      "name": "python",
      "nbconvert_exporter": "python",
      "pygments_lexer": "ipython3",
      "version": "3.8.10"
    }
  },
  "nbformat": 4,
  "nbformat_minor": 0
}
