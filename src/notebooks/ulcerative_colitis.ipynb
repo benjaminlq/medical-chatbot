{
  "cells": [
    {
      "attachments": {},
      "cell_type": "markdown",
      "metadata": {
        "id": "Xobu8QB8mu_l"
      },
      "source": [
        "# Setup"
      ]
    },
    {
      "cell_type": "code",
      "execution_count": null,
      "metadata": {
        "colab": {
          "base_uri": "https://localhost:8080/"
        },
        "id": "A_vzyCRHF3Xn",
        "outputId": "8d3af069-413e-47d3-c178-039a969ad822"
      },
      "outputs": [
        {
          "name": "stdout",
          "output_type": "stream",
          "text": [
            "\u001b[?25l     \u001b[90m━━━━━━━━━━━━━━━━━━━━━━━━━━━━━━━━━━━━━━━━\u001b[0m \u001b[32m0.0/1.1 MB\u001b[0m \u001b[31m?\u001b[0m eta \u001b[36m-:--:--\u001b[0m\r\u001b[2K     \u001b[91m━━━━━━━━━━━━━━━━━━━━━━━━━━━━━━━━━━━━━━━\u001b[0m\u001b[91m╸\u001b[0m \u001b[32m1.1/1.1 MB\u001b[0m \u001b[31m33.6 MB/s\u001b[0m eta \u001b[36m0:00:01\u001b[0m\r\u001b[2K     \u001b[90m━━━━━━━━━━━━━━━━━━━━━━━━━━━━━━━━━━━━━━━━\u001b[0m \u001b[32m1.1/1.1 MB\u001b[0m \u001b[31m23.9 MB/s\u001b[0m eta \u001b[36m0:00:00\u001b[0m\n",
            "\u001b[2K     \u001b[90m━━━━━━━━━━━━━━━━━━━━━━━━━━━━━━━━━━━━━━━━\u001b[0m \u001b[32m73.6/73.6 kB\u001b[0m \u001b[31m8.0 MB/s\u001b[0m eta \u001b[36m0:00:00\u001b[0m\n",
            "\u001b[2K     \u001b[90m━━━━━━━━━━━━━━━━━━━━━━━━━━━━━━━━━━━━━━━━\u001b[0m \u001b[32m17.6/17.6 MB\u001b[0m \u001b[31m85.2 MB/s\u001b[0m eta \u001b[36m0:00:00\u001b[0m\n",
            "\u001b[2K     \u001b[90m━━━━━━━━━━━━━━━━━━━━━━━━━━━━━━━━━━━━━━━━\u001b[0m \u001b[32m1.7/1.7 MB\u001b[0m \u001b[31m79.8 MB/s\u001b[0m eta \u001b[36m0:00:00\u001b[0m\n",
            "\u001b[2K     \u001b[90m━━━━━━━━━━━━━━━━━━━━━━━━━━━━━━━━━━━━━━\u001b[0m \u001b[32m255.9/255.9 kB\u001b[0m \u001b[31m26.0 MB/s\u001b[0m eta \u001b[36m0:00:00\u001b[0m\n",
            "\u001b[2K     \u001b[90m━━━━━━━━━━━━━━━━━━━━━━━━━━━━━━━━━━━━━━━━\u001b[0m \u001b[32m14.1/14.1 MB\u001b[0m \u001b[31m92.4 MB/s\u001b[0m eta \u001b[36m0:00:00\u001b[0m\n",
            "\u001b[2K     \u001b[90m━━━━━━━━━━━━━━━━━━━━━━━━━━━━━━━━━━━━━━━━\u001b[0m \u001b[32m1.0/1.0 MB\u001b[0m \u001b[31m76.1 MB/s\u001b[0m eta \u001b[36m0:00:00\u001b[0m\n",
            "\u001b[2K     \u001b[90m━━━━━━━━━━━━━━━━━━━━━━━━━━━━━━━━━━━━━━━━\u001b[0m \u001b[32m90.0/90.0 kB\u001b[0m \u001b[31m10.5 MB/s\u001b[0m eta \u001b[36m0:00:00\u001b[0m\n",
            "\u001b[2K     \u001b[90m━━━━━━━━━━━━━━━━━━━━━━━━━━━━━━━━━━━━━━\u001b[0m \u001b[32m114.5/114.5 kB\u001b[0m \u001b[31m14.0 MB/s\u001b[0m eta \u001b[36m0:00:00\u001b[0m\n",
            "\u001b[2K     \u001b[90m━━━━━━━━━━━━━━━━━━━━━━━━━━━━━━━━━━━━━━\u001b[0m \u001b[32m268.8/268.8 kB\u001b[0m \u001b[31m24.6 MB/s\u001b[0m eta \u001b[36m0:00:00\u001b[0m\n",
            "\u001b[2K     \u001b[90m━━━━━━━━━━━━━━━━━━━━━━━━━━━━━━━━━━━━━━\u001b[0m \u001b[32m149.6/149.6 kB\u001b[0m \u001b[31m15.2 MB/s\u001b[0m eta \u001b[36m0:00:00\u001b[0m\n",
            "\u001b[2K     \u001b[90m━━━━━━━━━━━━━━━━━━━━━━━━━━━━━━━━━━━━━━━━\u001b[0m \u001b[32m49.1/49.1 kB\u001b[0m \u001b[31m5.5 MB/s\u001b[0m eta \u001b[36m0:00:00\u001b[0m\n",
            "\u001b[?25h"
          ]
        }
      ],
      "source": [
        "!pip install --quiet langchain openai faiss-cpu tiktoken pypdf PyMuPDF"
      ]
    },
    {
      "cell_type": "code",
      "execution_count": null,
      "metadata": {
        "colab": {
          "base_uri": "https://localhost:8080/"
        },
        "id": "_G80rr2ZHP7d",
        "outputId": "25ff0a08-071b-4987-8876-968e9113649c"
      },
      "outputs": [
        {
          "name": "stdout",
          "output_type": "stream",
          "text": [
            "Mounted at /content/drive\n",
            "/content/drive/MyDrive/LLM/ulcerative_colitis\n"
          ]
        }
      ],
      "source": [
        "from google.colab import drive\n",
        "\n",
        "drive.mount(\"/content/drive\")\n",
        "\n",
        "%cd drive/MyDrive/LLM/ulcerative_colitis"
      ]
    },
    {
      "attachments": {},
      "cell_type": "markdown",
      "metadata": {},
      "source": [
        "# Import dependencies"
      ]
    },
    {
      "cell_type": "code",
      "execution_count": 80,
      "metadata": {
        "id": "nGWwk_exH6Op"
      },
      "outputs": [],
      "source": [
        "import os, sys, json, logging\n",
        "import os.path as osp\n",
        "import re\n",
        "import pandas as pd\n",
        "\n",
        "from typing import Any, Union, Tuple, Sequence, Dict, Callable, List, Optional\n",
        "from pydantic import BaseModel, Field, validator\n",
        "from pprint import pprint\n",
        "from tqdm.auto import tqdm\n",
        "from time import time\n",
        "from datetime import datetime\n",
        "from langchain.docstore.document import Document\n",
        "from chromadb.config import Settings\n",
        "\n",
        "from langchain import OpenAI\n",
        "from langchain.embeddings.openai import OpenAIEmbeddings\n",
        "from langchain.vectorstores import VectorStore, FAISS, Chroma, Pinecone\n",
        "import pinecone\n",
        "from langchain.document_loaders.pdf import PyMuPDFLoader, PyPDFLoader\n",
        "from langchain.text_splitter import RecursiveCharacterTextSplitter, CharacterTextSplitter\n",
        "from langchain.chat_models import ChatOpenAI\n",
        "from langchain.prompts import PromptTemplate\n",
        "from langchain.chains import RetrievalQA, RetrievalQAWithSourcesChain\n",
        "from langchain.prompts.chat import ChatPromptTemplate, SystemMessagePromptTemplate, HumanMessagePromptTemplate\n",
        "from langchain.output_parsers import PydanticOutputParser\n",
        "from langchain.chains.summarize import load_summarize_chain\n",
        "from langchain.document_loaders.image import UnstructuredImageLoader\n",
        "from langchain.chains.question_answering import load_qa_chain\n",
        "from langchain.chains.combine_documents.base import BaseCombineDocumentsChain\n",
        "from langchain.chains.combine_documents.map_reduce import MapReduceDocumentsChain, _split_list_of_docs, _collapse_docs\n",
        "from langchain.chains.combine_documents.map_rerank import MapRerankDocumentsChain\n",
        "from langchain.chains.combine_documents.refine import RefineDocumentsChain\n",
        "from langchain.chains.combine_documents.stuff import StuffDocumentsChain\n",
        "from langchain.chains.llm import LLMChain\n",
        "from langchain.callbacks.manager import Callbacks\n",
        "\n",
        "import config\n",
        "from config import MAIN_DIR, DATA_DIR, ARTIFACT_DIR, DOCUMENT_SOURCE\n",
        "\n",
        "from shutil import rmtree\n",
        "from utils import load_single_document, load_documents\n",
        "import yaml\n",
        "\n",
        "from pydantic import root_validator"
      ]
    },
    {
      "cell_type": "code",
      "execution_count": 20,
      "metadata": {
        "id": "l-VsrU--JBBK"
      },
      "outputs": [],
      "source": [
        "PROJECT = \"uc\"\n",
        "\n",
        "with open(osp.join(MAIN_DIR, \"auth\", \"api_keys.json\"), \"r\") as f:\n",
        "    keys = json.load(f)\n",
        "\n",
        "OPENAI_KEY = keys[\"OPENAI_API_KEY\"]\n",
        "SOURCE_DATA = os.path.join(DOCUMENT_SOURCE, PROJECT)\n",
        "EMBSTORE_DIR = os.path.join(config.EMBSTORE_DIR, PROJECT, \"faiss\", \"text-embedding-ada-002\")\n",
        "\n",
        "EXCLUDE_DICT = {\n",
        "    \"agrawal.pdf\": [13, 14, 15, 16, 17, 18],\n",
        "    \"PIIS1542356520300446.pdf\": [12, 13, 14, 15, 16, 17, 18],\n",
        "    \"gutjnl-2021-326390R2 CLEAN.pdf\": [0, 2, 31, 32, 33, 34, 35, 36,\n",
        "                                       37, 38, 39, 40, 41, 42, 43, 44, 45]\\\n",
        "                                        + list(range(3, 31)),\n",
        "    \"otad009.pdf\": [15, 16],\n",
        "    \"1-s2.0-S2468125321003770-main.pdf\": [9],\n",
        "    \"juillerat 2022.pdf\": [6, 7, 8],\n",
        "}"
      ]
    },
    {
      "cell_type": "code",
      "execution_count": 6,
      "metadata": {
        "id": "piuTlxLNJTVC"
      },
      "outputs": [],
      "source": [
        "LOGGER = logging.getLogger()\n",
        "\n",
        "log_path = os.path.join(MAIN_DIR, \"log\", \"logfile.txt\")\n",
        "file_handler = logging.FileHandler(\n",
        "    filename=log_path)\n",
        "\n",
        "formatter = logging.Formatter(\"%(asctime)s:%(levelname)s: %(message)s\")\n",
        "file_handler.setFormatter(formatter)\n",
        "\n",
        "LOGGER.setLevel(logging.INFO)\n",
        "LOGGER.addHandler(file_handler)"
      ]
    },
    {
      "attachments": {},
      "cell_type": "markdown",
      "metadata": {
        "id": "B_Uslox4t9d8"
      },
      "source": [
        "# User-defined Functions (UDF)"
      ]
    },
    {
      "cell_type": "code",
      "execution_count": 83,
      "metadata": {
        "id": "akNXqtFmt88J"
      },
      "outputs": [],
      "source": [
        "def convert_csv_to_documents(table_info: Dict, concatenate_rows: bool = True) -> List[Document]:\n",
        "    \"\"\"Convert a dictionary containing table information into list of Documents\n",
        "\n",
        "    Args:\n",
        "        table_info (Dict): Dictionary containing .csv table information\n",
        "\n",
        "    Returns:\n",
        "        List[Document]: List of rows inside the table\n",
        "    \"\"\"\n",
        "    assert table_info[\"mode\"] == \"table\" and table_info[\"filename\"].endswith(\".csv\")\n",
        "    rows = load_single_document(os.path.join(MAIN_DIR, table_info[\"filename\"]))\n",
        "    documents = []\n",
        "    table_content = table_info[\"description\"] + \"\\n\\n\"\n",
        "    for row in rows:\n",
        "        if concatenate_rows:\n",
        "            table_content += row.page_content + \"\\n\\n\"\n",
        "            table_doc = Document(\n",
        "                page_content=table_content,\n",
        "                metadata=table_info[\"metadata\"]\n",
        "            )\n",
        "        else:\n",
        "            row_no = row.metadata[\"row\"]\n",
        "            metadata = {k: v for k, v in table_info[\"metadata\"].items()}\n",
        "            metadata[\"row\"] = row_no\n",
        "            metadata[\"modal\"] = table_info[\"mode\"]\n",
        "            row.page_content = table_info[\"description\"] + \":\" + row.page_content\n",
        "            row.metadata = metadata\n",
        "            documents.append(row)\n",
        "            \n",
        "    if concatenate_rows:\n",
        "        documents.append(table_doc)\n",
        "    \n",
        "    return documents\n",
        "\n",
        "\n",
        "def generate_vectorstore(\n",
        "    embeddings: Callable,\n",
        "    source_directory: Optional[str] = None,\n",
        "    output_directory: str = \"./vectorstore\",\n",
        "    emb_store_type: str = \"faiss\",\n",
        "    chunk_size: int = 1000,\n",
        "    chunk_overlap: int = 250,\n",
        "    exclude_pages: Optional[Dict] = None,\n",
        "    pinecone_idx_name: Optional[str] = None,\n",
        "    additional_docs: Optional[List] = None,\n",
        "    key_path: Optional[str] = os.path.join(MAIN_DIR, \"auth\", \"api_keys.json\"),\n",
        ") -> VectorStore:\n",
        "    \"\"\"Generate New Vector Index Database\n",
        "\n",
        "    Args:\n",
        "        source_directory (str): Directory contains source documents\n",
        "        embeddings (Callable): Function to convert text to vector embeddings\n",
        "        output_directory (str, optional): Output directory of vector index database. Defaults to \"./vectorstore\".\n",
        "        emb_store_type (str, optional): Type of vector index database. Defaults to \"faiss\".\n",
        "        chunk_size (int, optional): Maximum size of text chunks (characters) after split. Defaults to 1000.\n",
        "        chunk_overlap (int, optional): Maximum overlapping window between text chunks. Defaults to 250.\n",
        "        exclude_pages (Optional[Dict], optional): Dictionary of pages to be excluded from documents. Defaults to None.\n",
        "        pinecone_idx_name (Optional[str], optional): Name of pinecone index to be created or loaded. Defaults to None.\n",
        "        additional_docs (Optional[str], optional): Additional Tables, Images or Json to be added to doc list. Defaults to None.\n",
        "        key_path (Optional[str], optional): Path to file containing API info.\n",
        "            Defaults to os.path.join(MAIN_DIR, \"auth\", \"api_keys.json\").\n",
        "\n",
        "    Returns:\n",
        "        Vectorstore: Vector Database\n",
        "    \"\"\"\n",
        "\n",
        "    if os.path.exists(output_directory):\n",
        "        rmtree(output_directory)\n",
        "    os.makedirs(output_directory, exist_ok=True)\n",
        "\n",
        "    if source_directory:\n",
        "        LOGGER.info(f\"Loading documents from {source_directory}\")\n",
        "\n",
        "        documents = load_documents(source_directory, exclude_pages=exclude_pages)\n",
        "        text_splitter = RecursiveCharacterTextSplitter(\n",
        "            chunk_size=chunk_size, chunk_overlap=chunk_overlap\n",
        "        )\n",
        "        texts = text_splitter.split_documents(documents)\n",
        "\n",
        "        LOGGER.info(f\"Loaded {len(documents)} documents from {source_directory}\")\n",
        "        LOGGER.info(\n",
        "            f\"Split into {len(texts)} chunks of text (max. {chunk_size} characters each)\"\n",
        "        )\n",
        "    else:\n",
        "        texts = []\n",
        "\n",
        "    if additional_docs:\n",
        "        texts.extend(additional_docs)\n",
        "\n",
        "    LOGGER.info(\n",
        "        f\"Total number of text chunks to create vector index store: {len(texts)}\"\n",
        "    )\n",
        "\n",
        "    if emb_store_type == \"chroma\":\n",
        "        chroma_settings = Settings(\n",
        "            chroma_db_impl=\"duckdb+parquet\",\n",
        "            persist_directory=output_directory,\n",
        "            anonymized_telemetry=False,\n",
        "        )\n",
        "        db = Chroma.from_documents(\n",
        "            texts,\n",
        "            embeddings,\n",
        "            persist_directory=output_directory,\n",
        "            client_settings=chroma_settings,\n",
        "        )\n",
        "        db.persist()\n",
        "\n",
        "    elif emb_store_type == \"faiss\":\n",
        "        db = FAISS.from_documents(texts, embedding=embeddings)\n",
        "        db.save_local(output_directory)\n",
        "        assert \"index.faiss\" in os.listdir(\n",
        "            output_directory\n",
        "        ) and \"index.pkl\" in os.listdir(output_directory)\n",
        "\n",
        "    elif emb_store_type == \"pinecone\":\n",
        "        with open(key_path, \"r\") as f:\n",
        "            keys = json.loads(f)\n",
        "        PINECONE_API_KEY = keys[\"PINECONE_API\"][\"KEY\"]\n",
        "        PINECONE_ENV = keys[\"PINECONE_API\"][\"ENV\"]\n",
        "\n",
        "        pinecone.init(\n",
        "            api_key=PINECONE_API_KEY,\n",
        "            environment=PINECONE_ENV,\n",
        "        )\n",
        "\n",
        "        if not pinecone_idx_name:\n",
        "            pinecone_idx_name = \"index_{}\".format(\n",
        "                datetime.now().strftime(\"%d-%m-%Y-%H:%M:%S\")\n",
        "            )\n",
        "\n",
        "        if pinecone_idx_name not in pinecone.list_indexes():\n",
        "            db = Pinecone.from_documents(\n",
        "                texts, embedding=embeddings, index_name=pinecone_idx_name\n",
        "            )\n",
        "\n",
        "        else:\n",
        "            db = Pinecone.from_existing_index(pinecone_idx_name, embeddings)\n",
        "            db.add_documents(texts)\n",
        "\n",
        "    LOGGER.info(\n",
        "        f\"Successfully created {emb_store_type} vectorstore at {output_directory}\"\n",
        "    )\n",
        "\n",
        "    return db\n",
        "    \n",
        "def check_documents_token(\n",
        "    docs: List[Document],\n",
        "    llm = ChatOpenAI(temperature=0,\n",
        "                     model_name=\"gpt-3.5-turbo\",\n",
        "                     openai_api_key=OPENAI_KEY)\n",
        "    ):\n",
        "    if not isinstance(docs, List):\n",
        "        docs = [docs]\n",
        "    combine_document_chain = StuffDocumentsChain(\n",
        "        llm_chain=LLMChain(\n",
        "            llm=llm,\n",
        "            prompt=PromptTemplate(template=\"{summaries}\",\n",
        "                                input_variables=[\"summaries\"]),\n",
        "            verbose=False,\n",
        "        ),\n",
        "        verbose=False\n",
        "    )\n",
        "    return combine_document_chain.prompt_length(docs)"
      ]
    },
    {
      "attachments": {},
      "cell_type": "markdown",
      "metadata": {
        "id": "BP89lkLGsmKF"
      },
      "source": [
        "# Experiment Class"
      ]
    },
    {
      "cell_type": "code",
      "execution_count": 27,
      "metadata": {
        "id": "OfcdafLxXEQx"
      },
      "outputs": [],
      "source": [
        "class DrugOutput(BaseModel):\n",
        "    drug_name: str = Field(description = \"Name of the drug\")\n",
        "    advantages: str = Field(description = \"Advantages of the drug \")\n",
        "    disadvantages: str = Field(description = \"Disadvantages of the drug\")\n",
        "\n",
        "class Experiment:\n",
        "    \"\"\"Experiment Module\"\"\"\n",
        "\n",
        "    def __init__(\n",
        "        self,\n",
        "        prompt_template: Union[PromptTemplate, ChatPromptTemplate],\n",
        "        vector_store: str,\n",
        "        llm_type: str = \"gpt-3.5-turbo\",\n",
        "        emb: str = \"text-embedding-ada-002\",\n",
        "        keys_json: str = osp.join(MAIN_DIR, \"auth\", \"api_keys.json\"),\n",
        "        temperature: float = 0,\n",
        "        max_tokens: int = 512,\n",
        "        gt: Optional[str] = None,\n",
        "        verbose: bool = False,\n",
        "    ):\n",
        "        \"\"\"Initiate Instance for an experiment run\n",
        "\n",
        "        Args:\n",
        "            prompt_template (Union[PromptTemplate, ChatPromptTemplate]): Prompt to be feed to LLM\n",
        "            vector_store (str): Path to Vector Index Database\n",
        "            llm_type (str, optional): Type of LLM Model. Defaults to \"gpt-3.5-turbo\".\n",
        "            emb (str, optional): Type of Embedding Model. Defaults to \"text-embedding-ada-002\".\n",
        "            keys_json (str, optional): Path to API Keys. Defaults to osp.join(MAIN_DIR, \"auth\", \"api_keys.json\").\n",
        "            temperature (float, optional): Temperature Settings for LLM model. Lower temperature makes LLM more deterministic\n",
        "                while higher temperature makes LLM more random. Defaults to 0.\n",
        "            max_tokens (int, optional): Max_Tokens Settings for LLM model. Defaults to 512.\n",
        "            gt (Optional[str], optional): Path to Ground Truth file. Defaults to None.\n",
        "            verbose (bool, optional): Verbose Setting. Defaults to False.\n",
        "        \"\"\"\n",
        "\n",
        "        self.llm_type = llm_type.lower()\n",
        "        self.temperature = temperature\n",
        "        self.max_tokens = max_tokens\n",
        "\n",
        "        with open(keys_json, \"r\") as f:\n",
        "            keys = json.load(f)\n",
        "\n",
        "        self.openai_key = (\n",
        "            keys[\"OPENAI_API_KEY_FOR_GPT4\"]\n",
        "            if self.llm_type == \"gpt-4\"\n",
        "            else keys[\"OPENAI_API_KEY\"]\n",
        "        )\n",
        "\n",
        "        if isinstance(prompt_template, ChatPromptTemplate):\n",
        "            self.llm = ChatOpenAI(\n",
        "                model_name=self.llm_type,\n",
        "                temperature=self.temperature,\n",
        "                max_tokens=self.max_tokens,\n",
        "                openai_api_key=self.openai_key,\n",
        "            )\n",
        "        else:\n",
        "            self.llm = OpenAI(\n",
        "                model_name=self.llm_type,\n",
        "                temperature=self.temperature,\n",
        "                max_tokens=self.max_tokens,\n",
        "                openai_api_key=self.openai_key,\n",
        "            )\n",
        "        self.embedder = OpenAIEmbeddings(model=emb, openai_api_key=self.openai_key)\n",
        "        try:\n",
        "            self.load_vectorstore(vector_store)\n",
        "        except Exception:\n",
        "            print(\n",
        "                \"Vectorstore invalid. Please load valid vectorstore or create new vectorstore.\"\n",
        "            )\n",
        "\n",
        "        self.prompt_template = prompt_template\n",
        "        self.questions = []\n",
        "        self.answers = []\n",
        "        self.sources = []\n",
        "        self.ground_truth = self.load_groundtruth(gt) if gt else None\n",
        "        self.drug_parser = PydanticOutputParser(pydantic_object=DrugOutput)\n",
        "        self.chain = None\n",
        "        self.verbose = verbose\n",
        "\n",
        "    def load_vectorstore(self, vectorstore_path: str):\n",
        "        \"\"\"Load Vectorstore from path\n",
        "\n",
        "        Args:\n",
        "            vectorstore_path (str): Path to vector database folder.\n",
        "        \"\"\"\n",
        "        assert \"index.faiss\" in os.listdir(\n",
        "            vectorstore_path\n",
        "        ) and \"index.pkl\" in os.listdir(vectorstore_path), \"Invalid Vectorstore\"\n",
        "        self.docsearch = FAISS.load_local(vectorstore_path, self.embedder)\n",
        "        LOGGER.info(\"Successfully loaded existing vectorstore from local storage\")\n",
        "\n",
        "    def generate_vectorstore(\n",
        "        self,\n",
        "        data_directory: Optional[str] = None,\n",
        "        output_directory: str = \"./vectorstore\",\n",
        "        emb_store_type: str = \"faiss\",\n",
        "        chunk_size: int = 1000,\n",
        "        chunk_overlap: int = 250,\n",
        "        exclude_pages: Optional[Dict] = None,\n",
        "        pinecone_idx_name: Optional[str] = None,\n",
        "        additional_docs: Optional[str] = None,\n",
        "        key_path: Optional[str] = os.path.join(MAIN_DIR, \"auth\", \"api_keys.json\"),\n",
        "    ):\n",
        "        \"\"\"Generate New vectorstore\n",
        "\n",
        "        Args:\n",
        "            data_directory (str): Directory contains source documents\n",
        "            output_directory (str, optional): Output directory of vector index database. Defaults to \"./vectorstore\".\n",
        "            emb_store_type (str, optional): Type of vector index database. Defaults to \"faiss\".\n",
        "            chunk_size (int, optional): Maximum size of text chunks (characters) after split. Defaults to 1000.\n",
        "            chunk_overlap (int, optional): Maximum overlapping window between text chunks. Defaults to 250.\n",
        "            exclude_pages (Optional[Dict], optional): Dictionary of pages to be excluded from documents. Defaults to None.\n",
        "            pinecone_idx_name (Optional[str], optional): Name of pinecone index to be created or loaded. Defaults to None.\n",
        "            additional_docs (Optional[str], optional): Additional Tables, Images or Json to be added to doc list. Defaults to None.\n",
        "            key_path (Optional[str], optional): Path to file containing API info.\n",
        "                Defaults to os.path.join(MAIN_DIR, \"auth\", \"api_keys.json\").\n",
        "        \"\"\"\n",
        "        self.docsearch = generate_vectorstore(\n",
        "            data_directory=data_directory,\n",
        "            embedder=self.embedder,\n",
        "            output_directory=output_directory,\n",
        "            emb_store_type=emb_store_type,\n",
        "            chunk_size=chunk_size,\n",
        "            chunk_overlap=chunk_overlap,\n",
        "            exclude_pages=exclude_pages,\n",
        "            pinecone_idx_name=pinecone_idx_name,\n",
        "            additional_docs=additional_docs,\n",
        "            key_path=key_path,\n",
        "        )\n",
        "\n",
        "    def run_test_cases(\n",
        "        self, test_cases: Union[List[str], str], only_return_source: bool = False\n",
        "    ):\n",
        "        \"\"\"Run and save test cases to memory\n",
        "\n",
        "        Args:\n",
        "            test_cases (Union[List[str], str]): List of test queries.\n",
        "        \"\"\"\n",
        "        if isinstance(test_cases, str):\n",
        "            with open(test_cases, \"r\", encoding=\"utf-8-sig\") as f:\n",
        "                test_cases = f.readlines()\n",
        "            test_cases = [test_case.rstrip() for test_case in test_cases]\n",
        "\n",
        "        if not self.chain:\n",
        "            self._create_retriever_chain()\n",
        "\n",
        "        if only_return_source:\n",
        "            LOGGER.info(\"Perform Semantic Search for Source Documents only (No QA).\")\n",
        "\n",
        "        for test_case in test_cases:\n",
        "            print(\"Query: {}\".format(test_case))\n",
        "            sources = []  # All sources for 1 single query\n",
        "            if only_return_source:\n",
        "                self.questions.append(test_case)\n",
        "                self.answers.append(None)\n",
        "                inputs = {\"question\": test_case}\n",
        "                source_documents = self.chain._get_docs(inputs)\n",
        "\n",
        "            else:\n",
        "                output = self.chain(test_case)\n",
        "                self.questions.append(output[\"question\"])\n",
        "                self.answers.append(output[\"answer\"])\n",
        "                source_documents = output[\"source_documents\"]\n",
        "\n",
        "            for document in source_documents:\n",
        "                sources.append(\n",
        "                    {\n",
        "                        \"title\": document.metadata[\"title\"],\n",
        "                        \"filename\": document.metadata[\"source\"].split(\"/\")[-1],\n",
        "                        \"page\": document.metadata[\"page\"],\n",
        "                        \"text\": document.page_content,\n",
        "                    }\n",
        "                )\n",
        "\n",
        "            self.sources.append(sources)\n",
        "\n",
        "    @staticmethod\n",
        "    def convert_prompt_to_string(\n",
        "        prompt: Union[PromptTemplate, ChatPromptTemplate]\n",
        "    ) -> str:\n",
        "        \"\"\"Convert Prompt Object to string format\n",
        "\n",
        "        Args:\n",
        "            prompt (Union[PromptTemplate, ChatPromptTemplate]): Prompt Template\n",
        "\n",
        "        Returns:\n",
        "            str: Prompt String Template\n",
        "        \"\"\"\n",
        "        return prompt.format(**{v: v for v in prompt.input_variables})\n",
        "\n",
        "    @staticmethod\n",
        "    def process_source(source: Dict) -> str:\n",
        "        \"\"\"_summary_\n",
        "\n",
        "        Args:\n",
        "            source (Dict): Source Document Information\n",
        "\n",
        "        Returns:\n",
        "            str: Source Document Information in string\n",
        "        \"\"\"\n",
        "        return \"\\n\\n\".join([f\"{k}: {v}\" for k, v in source.items()])\n",
        "\n",
        "    def save_json(self, output_path: str):\n",
        "        \"\"\"Save Output of test case runs to json file\n",
        "\n",
        "        Args:\n",
        "            output_path (str): Output Path to json file.\n",
        "        \"\"\"\n",
        "        output_dict = {}\n",
        "        output_dict[\"prompt\"] = Experiment.convert_prompt_to_string(\n",
        "            self.prompt_template\n",
        "        )\n",
        "        output_dict[\"test_cases\"] = []\n",
        "\n",
        "        for question, answer, source in zip(self.questions, self.answers, self.sources):\n",
        "            output_dict[\"test_cases\"].append(\n",
        "                {\"question\": question, \"answer\": answer, \"sources\": source}\n",
        "            )\n",
        "\n",
        "        with open(output_path, \"w\") as f:\n",
        "            json.dump(output_dict, f)\n",
        "\n",
        "    def load_groundtruth(self, gt_path: str) -> pd.DataFrame:\n",
        "        \"\"\"Load Ground Truth information from .csv file\n",
        "\n",
        "        Args:\n",
        "            gt_path (str): Path to Ground Truth file\n",
        "\n",
        "        Returns:\n",
        "            pd.DataFrame: DataFrame containing Ground Truth data.\n",
        "        \"\"\"\n",
        "        return pd.read_csv(gt_path, encoding=\"ISO-8859-1\")\n",
        "\n",
        "    def reset(self):\n",
        "        \"\"\"Reset queries and answers\"\"\"\n",
        "        self.questions = []\n",
        "        self.answers = []\n",
        "        self.sources = []\n",
        "        self.ground_truth = None\n",
        "\n",
        "    def load_json(self, json_path: str, reset: bool = False):\n",
        "        \"\"\"Load Queries and Answers from Json file\n",
        "\n",
        "        Args:\n",
        "            json_path (str): Path to json output file to load into instance\n",
        "            reset (bool, optional): If reset, clear queries and answers from memory before loading. Defaults to False.\n",
        "        \"\"\"\n",
        "        if reset:\n",
        "            self.reset()\n",
        "        with open(json_path, \"r\") as f:\n",
        "            input_dict = json.load(f)\n",
        "        for test_case in input_dict[\"test_cases\"]:\n",
        "            self.questions.append(test_case[\"question\"])\n",
        "            self.answers.append(test_case[\"answer\"])\n",
        "            self.sources.append(test_case[\"sources\"])\n",
        "\n",
        "    def write_csv(self, output_csv: str):\n",
        "        \"\"\"Write questions and answers to .csv files\n",
        "\n",
        "        Args:\n",
        "            output_csv (str): Path to output csv file\n",
        "        \"\"\"\n",
        "\n",
        "        pd_answers = [[], []]\n",
        "        pd_pros = [[], []]\n",
        "        pd_cons = [[], []]\n",
        "        pd_sources = [[], [], [], [], [], []]\n",
        "\n",
        "        for answer, sources in zip(self.answers, self.sources):\n",
        "            if answer:\n",
        "                drugs_info = re.findall(re.compile(r\"{[^{}]+}\"), answer)\n",
        "                drugs = []\n",
        "                for drug in drugs_info:\n",
        "                    try:\n",
        "                        drug = self.drug_parser.parse(drug)\n",
        "                        drugs.append(drug)\n",
        "                    except Exception:\n",
        "                        pass\n",
        "            else:\n",
        "                drugs = []\n",
        "                \n",
        "            pd_answers[0].append(drugs[0].drug_name if len(drugs) > 0 else None)\n",
        "            pd_answers[1].append(drugs[1].drug_name if len(drugs) > 1 else None)\n",
        "            pd_pros[0].append(drugs[0].advantages if len(drugs) > 0 else None)\n",
        "            pd_cons[0].append(drugs[0].disadvantages if len(drugs) > 0 else None)\n",
        "            pd_pros[1].append(drugs[1].advantages if len(drugs) > 1 else None)\n",
        "            pd_cons[1].append(drugs[1].disadvantages if len(drugs) > 1 else None)\n",
        "\n",
        "            for idx, source in enumerate(sources):\n",
        "                pd_sources[idx].append(Experiment.process_source(source))\n",
        "\n",
        "            if idx + 1 < len(pd_sources):\n",
        "                for i in range(idx + 1, len(pd_sources)):\n",
        "                    pd_sources[i].append(None)\n",
        "\n",
        "        info = {\"question\": self.questions}\n",
        "\n",
        "        if self.ground_truth is not None:\n",
        "            info[\"gt_rec1\"] = self.ground_truth[\"Recommendation 1\"].tolist()\n",
        "            info[\"gt_rec2\"] = self.ground_truth[\"Recommendation 2\"].tolist()\n",
        "            info[\"gt_rec3\"] = self.ground_truth[\"Recommendation 3\"].tolist()\n",
        "            info[\"gt_avoid\"] = self.ground_truth[\"Drug Avoid\"].tolist()\n",
        "            info[\"gt_reason\"] = self.ground_truth[\"Reasoning\"].tolist()\n",
        "\n",
        "        info[\"prompt\"] = [\n",
        "            Experiment.convert_prompt_to_string(self.prompt_template)\n",
        "        ] * len(self.questions)\n",
        "        info[\"raw_answer\"] = self.answers\n",
        "        info[\"answer1\"] = pd_answers[0]\n",
        "        info[\"pro1\"] = pd_pros[0]\n",
        "        info[\"cons1\"] = pd_cons[0]\n",
        "        info[\"answer2\"] = pd_answers[1]\n",
        "        info[\"pro2\"] = pd_pros[1]\n",
        "        info[\"cons2\"] = pd_cons[1]\n",
        "        info[\"source1\"] = pd_sources[0]\n",
        "        info[\"source2\"] = pd_sources[1]\n",
        "        info[\"source3\"] = pd_sources[2]\n",
        "        info[\"source4\"] = pd_sources[3]\n",
        "        info[\"source5\"] = pd_sources[4]\n",
        "        info[\"source6\"] = pd_sources[5]\n",
        "\n",
        "        panda_df = pd.DataFrame(info)\n",
        "\n",
        "        panda_df.to_csv(output_csv, header=True)\n",
        "\n",
        "    def _create_retriever_chain(\n",
        "        self,\n",
        "        chain_type: str = \"stuff\",\n",
        "        return_source_documents: bool = True,\n",
        "        reduce_k_below_max_tokens: bool = True,\n",
        "    ):\n",
        "        \"\"\"Initiate QA from Source Chain\n",
        "\n",
        "        Args:\n",
        "            chain_type (str, optional): Chain Type. Can be stuff|map_reduce|refine|map_rerank. Defaults to \"stuff\".\n",
        "            return_source_documents (bool, optional): Whether to return source documents along side answers. Defaults to True.\n",
        "            reduce_k_below_max_tokens (bool, optional): If True, automatically reduce the number of source documents to\n",
        "                ensure that total tokens below max_tokens limit. Defaults to True.\n",
        "        \"\"\"\n",
        "        self.chain = RetrievalQAWithSourcesChain.from_chain_type(\n",
        "            llm=self.llm,\n",
        "            chain_type=chain_type,\n",
        "            retriever=self.docsearch.as_retriever(),\n",
        "            return_source_documents=return_source_documents,\n",
        "            chain_type_kwargs={\"prompt\": self.prompt_template},\n",
        "            reduce_k_below_max_tokens=reduce_k_below_max_tokens,\n",
        "            verbose=self.verbose,\n",
        "        )\n",
        "        "
      ]
    },
    {
      "attachments": {},
      "cell_type": "markdown",
      "metadata": {
        "id": "CBLfxKVohLSS"
      },
      "source": [
        "# Create Vectorstore"
      ]
    },
    {
      "cell_type": "code",
      "execution_count": null,
      "metadata": {},
      "outputs": [],
      "source": [
        "datastore_paths = [os.path.join(DOCUMENT_SOURCE, PROJECT, file_name) for file_name in os.listdir(os.path.join(DOCUMENT_SOURCE, PROJECT)) if file_name.endswith(\".pdf\")]\n",
        "print(\"Number of documents in datastore:\", len(datastore_paths))\n",
        "for i, path in enumerate(datastore_paths):\n",
        "    print(f\"Index {i + 1}: {path}\")"
      ]
    },
    {
      "cell_type": "code",
      "execution_count": null,
      "metadata": {},
      "outputs": [],
      "source": [
        "sample_path = datastore_paths[0]\n",
        "\n",
        "sample_data = load_single_document(sample_path)\n",
        "print(\"Number of pages:\", len(sample_data))\n",
        "sample_page = sample_data[4]\n",
        "print(str(sample_page.metadata) + \"\\n\")\n",
        "content = sample_page.page_content\n",
        "print(f\"Text Length: {len(content)}\\n\")\n",
        "# content = re.sub(r\"\\t+\", \" \", content)\n",
        "pprint(content[:1000])\n",
        "metadata = sample_page.metadata\n",
        "pprint(metadata)"
      ]
    },
    {
      "attachments": {},
      "cell_type": "markdown",
      "metadata": {},
      "source": [
        "### Ada-Text-Embeddings-2: Text + Tables"
      ]
    },
    {
      "cell_type": "code",
      "execution_count": null,
      "metadata": {},
      "outputs": [],
      "source": [
        "add_docs_path = os.path.join(MAIN_DIR, \"data/additional_docs.json\")\n",
        "\n",
        "with open(add_docs_path, \"r\") as f:\n",
        "    additional_documents = json.load(f)\n",
        "    \n",
        "add_docs = []\n",
        "for table_info in additional_documents:\n",
        "    add_docs.extend(convert_csv_to_documents(table_info))\n",
        "    \n",
        "add_docs"
      ]
    },
    {
      "cell_type": "code",
      "execution_count": 10,
      "metadata": {},
      "outputs": [],
      "source": [
        "emb_model = OpenAIEmbeddings(openai_api_key = OPENAI_KEY)\n",
        "database_path = os.path.join(EMBSTORE_DIR, PROJECT,\n",
        "                                \"faiss\", \"text-embedding-ada-002\", \"v2-add\")\n",
        "embstore_type=\"faiss\"\n",
        "chunk_size = 1000\n",
        "chunk_overlap = 200"
      ]
    },
    {
      "cell_type": "code",
      "execution_count": 11,
      "metadata": {},
      "outputs": [
        {
          "data": {
            "text/plain": [
              "<langchain.vectorstores.faiss.FAISS at 0x7f0afde5cdc0>"
            ]
          },
          "execution_count": 11,
          "metadata": {},
          "output_type": "execute_result"
        }
      ],
      "source": [
        "generate_vectorstore(\n",
        "    embeddings=emb_model,\n",
        "    source_directory=SOURCE_DATA,\n",
        "    output_directory=database_path,\n",
        "    emb_store_type=embstore_type,\n",
        "    chunk_size=chunk_size,\n",
        "    chunk_overlap=chunk_overlap,\n",
        "    exclude_pages=EXCLUDE_DICT,\n",
        "    additional_docs=add_docs)"
      ]
    },
    {
      "attachments": {},
      "cell_type": "markdown",
      "metadata": {
        "id": "WPyXW-l24VFg"
      },
      "source": [
        "# Prototypes"
      ]
    },
    {
      "attachments": {},
      "cell_type": "markdown",
      "metadata": {
        "id": "933ywV6FSiC5"
      },
      "source": [
        "## Test Cases"
      ]
    },
    {
      "cell_type": "code",
      "execution_count": 3,
      "metadata": {
        "colab": {
          "base_uri": "https://localhost:8080/"
        },
        "id": "iu4Fey58rXx9",
        "outputId": "a754067e-4c25-48f3-9dca-7c8469342949"
      },
      "outputs": [
        {
          "data": {
            "text/plain": [
              "['40 year old male with newly diagnosed moderate UC and articular extraintestinal manifestations',\n",
              " '70 year old female with newly diagnosed severe UC',\n",
              " '35 year old male with known moderate UC with prior exposure to infliximab but has worsening colitis on endoscopy despite compliance',\n",
              " '60 year old female with newly diagnosed moderate UC with a background of congestive cardiac failure',\n",
              " '38 year old female with newly diagnosed moderate UC and psoriasis',\n",
              " '25 year old pregnant woman with severe distal ulcerative colitis',\n",
              " '56 year old man with moderate to severe ulcerative colitis and ankylosing spondylitis',\n",
              " '38 year old man with severe ulcerative colitis and has lost response to vedolizumab',\n",
              " '28 year old woman who has severe extensive ulcerative colitis and has a history of lymphoma which was treated 4 years ago',\n",
              " '36 year old woman with moderate ulcerative colitis and multiple sclerosis']"
            ]
          },
          "execution_count": 3,
          "metadata": {},
          "output_type": "execute_result"
        }
      ],
      "source": [
        "with open(osp.join(DATA_DIR, \"queries\", \"uc.txt\"), \"r\", encoding = \"utf-8-sig\") as f:\n",
        "    test_cases = f.readlines()\n",
        "\n",
        "test_cases = [test_case.rstrip() for test_case in test_cases]\n",
        "test_cases"
      ]
    },
    {
      "attachments": {},
      "cell_type": "markdown",
      "metadata": {
        "id": "2fY1Hyjd5mb7"
      },
      "source": [
        "## Experiment 1: Only Text - Normal Prompt Template - GPT4"
      ]
    },
    {
      "attachments": {},
      "cell_type": "markdown",
      "metadata": {
        "id": "5DLq8oet-_Av"
      },
      "source": [
        "### Prompt Setup"
      ]
    },
    {
      "cell_type": "code",
      "execution_count": null,
      "metadata": {
        "colab": {
          "base_uri": "https://localhost:8080/"
        },
        "id": "wX3gOJr9I3AN",
        "outputId": "5c51fc3d-af94-4586-e9dd-8dffb71b6eaf"
      },
      "outputs": [
        {
          "name": "stdout",
          "output_type": "stream",
          "text": [
            "Make reference to the context given to assess the scenario. If you do not know the answer. just say that \"I don't know\", don't try to make up an answer.\n",
            "You are a physician assistant giving advice on treatment for moderate to severe ulcerative colitis (UC). Perform the following step\n",
            "\n",
            "ANALYSE the given patient profile based on given query based on one of the following criteria:\n",
            "- Freshly treated patient or patient under maintenance\n",
            "- Prior response to Infliximab\n",
            "- Prior failure to Anti-TNF agents\n",
            "- Prior failure to Vedolizumab\n",
            "- Age\n",
            "- Pregnancy\n",
            "- Extraintestinale manifestations\n",
            "- Pouchitis\n",
            "\n",
            "FINALLY RETURN up to 2 TOP choices of biological drugs given patient profile. Explain the PROS and CONS of the 2 choices.\n",
            "\n",
            "Summaries\n",
            "\n",
            "The output should be formatted as a JSON instance that conforms to the JSON schema below.\n",
            "\n",
            "As an example, for the schema {\"properties\": {\"foo\": {\"title\": \"Foo\", \"description\": \"a list of strings\", \"type\": \"array\", \"items\": {\"type\": \"string\"}}}, \"required\": [\"foo\"]}}\n",
            "the object {\"foo\": [\"bar\", \"baz\"]} is a well-formatted instance of the schema. The object {\"properties\": {\"foo\": [\"bar\", \"baz\"]}} is not well-formatted.\n",
            "\n",
            "Here is the output schema:\n",
            "```\n",
            "{\"properties\": {\"drug_name\": {\"title\": \"Drug Name\", \"description\": \"Name of the drug\", \"type\": \"string\"}, \"advantages\": {\"title\": \"Advantages\", \"description\": \"Advantages of the drug \", \"type\": \"string\"}, \"disadvantages\": {\"title\": \"Disadvantages\", \"description\": \"Disadvantages of the drug\", \"type\": \"string\"}}, \"required\": [\"drug_name\", \"advantages\", \"disadvantages\"]}\n",
            "```\n",
            "\n",
            "Question: User Query\n",
            "Answer:\n",
            "\n"
          ]
        }
      ],
      "source": [
        "### STANDARD PROMPT TEMPLATE\n",
        "drug_parser = PydanticOutputParser(pydantic_object=DrugOutput)\n",
        "\n",
        "prompt_template = \"\"\"Make reference to the context given to assess the scenario. If you do not know the answer. just say that \"I don't know\", don't try to make up an answer.\n",
        "You are a physician assistant giving advice on treatment for moderate to severe ulcerative colitis (UC). Perform the following step\n",
        "\n",
        "ANALYSE the given patient profile based on given query based on one of the following criteria:\n",
        "- Freshly treated patient or patient under maintenance\n",
        "- Prior response to Infliximab\n",
        "- Prior failure to Anti-TNF agents\n",
        "- Prior failure to Vedolizumab\n",
        "- Age\n",
        "- Pregnancy\n",
        "- Extraintestinale manifestations\n",
        "- Pouchitis\n",
        "\n",
        "FINALLY RETURN up to 2 TOP choices of biological drugs given patient profile. Explain the PROS and CONS of the 2 choices.\n",
        "\n",
        "{summaries}\n",
        "\n",
        "{format_instructions}\n",
        "\n",
        "Question: {question}\n",
        "Answer:\n",
        "\"\"\"\n",
        "\n",
        "TEST_PROMPT_TEMPLATE_1 = PromptTemplate(\n",
        "    template = prompt_template,\n",
        "    input_variables = [\"summaries\", \"question\"],\n",
        "    partial_variables={\"format_instructions\": drug_parser.get_format_instructions()}\n",
        ")\n",
        "\n",
        "print(TEST_PROMPT_TEMPLATE_1.format(summaries = \"Summaries\", question = \"User Query\"))"
      ]
    },
    {
      "attachments": {},
      "cell_type": "markdown",
      "metadata": {
        "id": "0aqUPpf1JDd1"
      },
      "source": [
        "### Run Experiments"
      ]
    },
    {
      "cell_type": "code",
      "execution_count": 16,
      "metadata": {
        "id": "Xd_LvsydJzdp"
      },
      "outputs": [],
      "source": [
        "# Settings\n",
        "llm_type = \"gpt-4\"\n",
        "description = \"normal_prompt_1000_200\"\n",
        "emb_store_dir = os.path.join(EMBSTORE_DIR, \"v1_1000_50\")\n",
        "max_tokens = 1024\n",
        "time = datetime.now().strftime(\"%d-%m-%Y-%H-%M-%S\")\n",
        "verbose = True\n",
        "save_path = osp.join(ARTIFACT_DIR, f\"{llm_type}_{description}_{time}\")"
      ]
    },
    {
      "cell_type": "code",
      "execution_count": null,
      "metadata": {
        "id": "0-tAQR6i7BVw"
      },
      "outputs": [],
      "source": [
        "# Create and run experiment\n",
        "exp1 = Experiment(\n",
        "    prompt_template = TEST_PROMPT_TEMPLATE_1,\n",
        "    vector_store = emb_store_dir,\n",
        "    llm_type = llm_type,\n",
        "    max_tokens = max_tokens,\n",
        "    gt = osp.join(DATA_DIR, \"queries\", \"uc_gt.csv\"),\n",
        "    verbose = verbose\n",
        ")\n",
        "\n",
        "exp1.run_test_cases(test_cases)\n",
        "\n",
        "# Save Output\n",
        "exp1.save_json(save_path+\".json\")\n",
        "exp1.write_csv(save_path+\".csv\")"
      ]
    },
    {
      "attachments": {},
      "cell_type": "markdown",
      "metadata": {
        "id": "KHu-zQcL-26D"
      },
      "source": [
        "## Experiment 2: Only Text - CHAT Prompt Template - GPT4"
      ]
    },
    {
      "attachments": {},
      "cell_type": "markdown",
      "metadata": {
        "id": "5EPzgAOO_Jkp"
      },
      "source": [
        "### Prompt 1"
      ]
    },
    {
      "cell_type": "code",
      "execution_count": null,
      "metadata": {
        "colab": {
          "base_uri": "https://localhost:8080/"
        },
        "id": "3spHEtJ06cce",
        "outputId": "1655a9f6-4ec5-488c-93ff-e9d33a6aa75f"
      },
      "outputs": [
        {
          "name": "stdout",
          "output_type": "stream",
          "text": [
            "System: \n",
            "Make reference to the context given to assess the scenario. If you do not know the answer. just say that \"I don't know\", don't try to make up an answer.\n",
            "You are a physician assistant giving advice on treatment for moderate to severe ulcerative colitis (UC).\n",
            "\n",
            "ANALYSE the given patient profile based on given query based on one of the following criteria:\n",
            "- Whether treated patient is new patient or patient under maintenance\n",
            "- Prior response to Infliximab\n",
            "- Prior failure to Anti-TNF agents\n",
            "- Prior failure to Vedolizumab\n",
            "- Age\n",
            "- Pregnancy\n",
            "- Extraintestinale manifestations\n",
            "- Pouchitis\n",
            "\n",
            "FINALLY RETURN up to 2 TOP choices of biological drugs given patient profile. Explain the PROS and CONS of the 2 choices.\n",
            "Output your answer as a list of JSON objects with keys: drug_name, advantages, disadvantages.\n",
            "\n",
            "Summaries\n",
            "\n",
            "\n",
            "Human: User Query\n"
          ]
        }
      ],
      "source": [
        "### CHAT PROMTP TEMPLATE\n",
        "system_prompt = \"\"\"\n",
        "Make reference to the context given to assess the scenario. If you do not know the answer. just say that \"I don't know\", don't try to make up an answer.\n",
        "You are a physician assistant giving advice on treatment for moderate to severe ulcerative colitis (UC).\n",
        "\n",
        "ANALYSE the given patient profile based on given query based on one of the following criteria:\n",
        "- Whether treated patient is new patient or patient under maintenance\n",
        "- Prior response to Infliximab\n",
        "- Prior failure to Anti-TNF agents\n",
        "- Prior failure to Vedolizumab\n",
        "- Age\n",
        "- Pregnancy\n",
        "- Extraintestinale manifestations\n",
        "- Pouchitis\n",
        "\n",
        "FINALLY RETURN up to 2 TOP choices of biological drugs given patient profile. Explain the PROS and CONS of the 2 choices.\n",
        "Output your answer as a list of JSON objects with keys: drug_name, advantages, disadvantages.\n",
        "\n",
        "{summaries}\n",
        "\n",
        "\"\"\"\n",
        "\n",
        "TEST_PROMPT_TEMPLATE_2 = ChatPromptTemplate.from_messages(\n",
        "    [\n",
        "        SystemMessagePromptTemplate.from_template(system_prompt, input_variables = [\"summaries\"]),\n",
        "        HumanMessagePromptTemplate.from_template(\"{question}\")\n",
        "    ]\n",
        ")\n",
        "\n",
        "print(TEST_PROMPT_TEMPLATE_2.format(summaries = \"Summaries\", question = \"User Query\"))"
      ]
    },
    {
      "cell_type": "code",
      "execution_count": null,
      "metadata": {
        "id": "Do9b9jEu_Xr-"
      },
      "outputs": [],
      "source": [
        "# Settings\n",
        "llm_type = \"gpt-4\"\n",
        "description = \"Text_Only_With_CHAT_Prompt\"\n",
        "emb_store_dir = os.path.join(EMBSTORE_DIR, \"v1_1000_50\")\n",
        "max_tokens = 1024\n",
        "time = datetime.now().strftime(\"%d-%m-%Y-%H-%M-%S\")\n",
        "verbose = True\n",
        "save_path = osp.join(ARTIFACT_DIR, f\"{llm_type}_{description}_{time}\")\n",
        "print(\"Save directory:\", save_path)"
      ]
    },
    {
      "cell_type": "code",
      "execution_count": null,
      "metadata": {
        "colab": {
          "base_uri": "https://localhost:8080/"
        },
        "id": "YwDbSTHV_Xr-",
        "outputId": "dbb9b128-f1a6-40f7-ee7a-a6523ff32e49"
      },
      "outputs": [],
      "source": [
        "# Create and run experiment\n",
        "exp2 = Experiment(\n",
        "    prompt_template = TEST_PROMPT_TEMPLATE_2,\n",
        "    vector_store = emb_store_dir,\n",
        "    llm_type = llm_type,\n",
        "    max_tokens = max_tokens,\n",
        "    gt = osp.join(DATA_DIR, \"queries\", \"uc_gt.csv\"),\n",
        "    verbose = verbose\n",
        ")\n",
        "\n",
        "exp2.run_test_cases(test_cases)\n",
        "\n",
        "# Save Output\n",
        "exp2.save_json(save_path+\".json\")\n",
        "exp2.write_csv(save_path+\".csv\")"
      ]
    },
    {
      "attachments": {},
      "cell_type": "markdown",
      "metadata": {},
      "source": [
        "### Prompt 2"
      ]
    },
    {
      "cell_type": "code",
      "execution_count": 28,
      "metadata": {},
      "outputs": [
        {
          "name": "stdout",
          "output_type": "stream",
          "text": [
            "System: \n",
            "Make reference to the context given to assess the scenario. If you do not know the answer. just say that \"I don't know\", don't try to make up an answer.\n",
            "You are a physician assistant giving advice on treatment for moderate to severe ulcerative colitis (UC).\n",
            "\n",
            "Analyse the patient ulcerative colitis (UC) severity and list all risk factors.\n",
            "Analyse the patient profile and list all risk factors. Patient profile includes age, gender, pregnancy status, prior reactions to any drugs, whether the patient is newly diagnosed, extraintestinale manifestation, pouchtitis\n",
            "\n",
            "FINALLY RETURN up to 2 TOP choices of recommended biological drugs given patient profile. Explain the PROS and CONS of the 2 choices.\n",
            "Output your answer as a list of JSON objects with keys: drug_name, advantages, disadvantages.\n",
            "\n",
            "Summaries\n",
            "\n",
            "Human: User Query\n"
          ]
        }
      ],
      "source": [
        "### CHAT PROMTP TEMPLATE\n",
        "system_prompt = \"\"\"\n",
        "Make reference to the context given to assess the scenario. If you do not know the answer. just say that \"I don't know\", don't try to make up an answer.\n",
        "You are a physician assistant giving advice on treatment for moderate to severe ulcerative colitis (UC).\n",
        "\n",
        "Analyse the patient ulcerative colitis (UC) severity and list all risk factors.\n",
        "Analyse the patient profile and list all risk factors. Patient profile includes age, gender, pregnancy status, prior reactions to any drugs, whether the patient is newly diagnosed, extraintestinale manifestation, pouchtitis\n",
        "\n",
        "FINALLY RETURN up to 2 TOP choices of recommended biological drugs given patient profile. Explain the PROS and CONS of the 2 choices.\n",
        "Output your answer as a list of JSON objects with keys: drug_name, advantages, disadvantages.\n",
        "\n",
        "{summaries}\n",
        "\"\"\"\n",
        "\n",
        "TEST_PROMPT_TEMPLATE_3 = ChatPromptTemplate.from_messages(\n",
        "    [\n",
        "        SystemMessagePromptTemplate.from_template(system_prompt, input_variables = [\"summaries\"]),\n",
        "        HumanMessagePromptTemplate.from_template(\"{question}\")\n",
        "    ]\n",
        ")\n",
        "\n",
        "prompt_str = TEST_PROMPT_TEMPLATE_3.format(summaries = \"Summaries\", question = \"User Query\")\n",
        "print(prompt_str)"
      ]
    },
    {
      "cell_type": "code",
      "execution_count": 29,
      "metadata": {},
      "outputs": [
        {
          "name": "stdout",
          "output_type": "stream",
          "text": [
            "Save directory: /mnt/c/Users/QUAN/Desktop/medical-chatbot/artifacts/gpt-4_CHAT_Prompt_V2_07-07-2023-17-34-18\n"
          ]
        }
      ],
      "source": [
        "# Settings\n",
        "llm_type = \"gpt-4\"\n",
        "description = \"CHAT_Prompt_V2\"\n",
        "emb_store = \"v5-add-tables_2500_500\"\n",
        "max_tokens = 1024\n",
        "time = datetime.now().strftime(\"%d-%m-%Y-%H-%M-%S\")\n",
        "verbose = False\n",
        "save_path = osp.join(ARTIFACT_DIR, f\"{llm_type}_{description}_{time}\")\n",
        "print(\"Save directory:\", save_path)\n",
        "\n",
        "settings = {\n",
        "    \"project\": PROJECT,\n",
        "    \"test_case\": osp.join(DATA_DIR, \"queries\", \"uc.txt\"),\n",
        "    \"prompt\": prompt_str,\n",
        "    \"ground_truth\": \"uc_gt.csv\",\n",
        "    \"description\": description,\n",
        "    \"verbose\": verbose,\n",
        "\n",
        "    \"emb_type\": \"text-embedding-ada-002\",\n",
        "    \"vectorstore\": \"faiss/text-embedding-ada-002/\" + emb_store,\n",
        "    \"chunk_size\": emb_store.split(\"_\")[-2],\n",
        "    \"chunk_overlap\": emb_store.split(\"_\")[-1],\n",
        "    \"additional_docs\": \"data/additional_docs.json\",\n",
        "    \"pinecone_index_name\": None,\n",
        "\n",
        "    \"llm_type\": \"gpt-4\",\n",
        "    \"temperature\": 0,\n",
        "    \"max_tokens\": max_tokens,\n",
        "}"
      ]
    },
    {
      "cell_type": "code",
      "execution_count": null,
      "metadata": {},
      "outputs": [],
      "source": [
        "# Create and run experiment\n",
        "exp4 = Experiment(\n",
        "    prompt_template = TEST_PROMPT_TEMPLATE_3,\n",
        "    vector_store = os.path.join(EMBSTORE_DIR, emb_store),\n",
        "    llm_type = llm_type,\n",
        "    max_tokens = max_tokens,\n",
        "    gt = osp.join(DATA_DIR, \"queries\", \"uc_gt.csv\"),\n",
        "    verbose = verbose\n",
        ")\n",
        "\n",
        "exp4.run_test_cases(test_cases)\n",
        "\n",
        "# Save Output\n",
        "exp4.save_json(os.path.join(save_path+\"result.json\"))\n",
        "exp4.write_csv(os.path.join(save_path+\"result.csv\"))\n",
        "\n",
        "with open(os.path.join(save_path, \"settings.yaml\"), \"w\") as f:\n",
        "    yaml.dump(settings, f)"
      ]
    },
    {
      "attachments": {},
      "cell_type": "markdown",
      "metadata": {
        "id": "-AGiFA7-VosO"
      },
      "source": [
        "## Experiment 3 - Added Table:"
      ]
    },
    {
      "cell_type": "code",
      "execution_count": 9,
      "metadata": {},
      "outputs": [
        {
          "name": "stdout",
          "output_type": "stream",
          "text": [
            "Make reference to the context given to assess the scenario. If you do not know the answer. just say that \"I don't know\", don't try to make up an answer.\n",
            "You are a physician assistant giving advice on treatment for moderate to severe ulcerative colitis (UC). Perform the following step\n",
            "\n",
            "ANALYSE the given patient profile based on given query based on one of the following criteria:\n",
            "- Freshly treated patient or patient under maintenance\n",
            "- Prior response to Infliximab\n",
            "- Prior failure to Anti-TNF agents\n",
            "- Prior failure to Vedolizumab\n",
            "- Age\n",
            "- Pregnancy\n",
            "- Extraintestinale manifestations\n",
            "- Pouchitis\n",
            "\n",
            "FINALLY RETURN up to 2 TOP choices of biological drugs given patient profile. Explain the PROS and CONS of the 2 choices.\n",
            "\n",
            "Summaries\n",
            "\n",
            "The output should be formatted as a JSON instance that conforms to the JSON schema below.\n",
            "\n",
            "As an example, for the schema {\"properties\": {\"foo\": {\"title\": \"Foo\", \"description\": \"a list of strings\", \"type\": \"array\", \"items\": {\"type\": \"string\"}}}, \"required\": [\"foo\"]}}\n",
            "the object {\"foo\": [\"bar\", \"baz\"]} is a well-formatted instance of the schema. The object {\"properties\": {\"foo\": [\"bar\", \"baz\"]}} is not well-formatted.\n",
            "\n",
            "Here is the output schema:\n",
            "```\n",
            "{\"properties\": {\"drug_name\": {\"title\": \"Drug Name\", \"description\": \"Name of the drug\", \"type\": \"string\"}, \"advantages\": {\"title\": \"Advantages\", \"description\": \"Advantages of the drug \", \"type\": \"string\"}, \"disadvantages\": {\"title\": \"Disadvantages\", \"description\": \"Disadvantages of the drug\", \"type\": \"string\"}}, \"required\": [\"drug_name\", \"advantages\", \"disadvantages\"]}\n",
            "```\n",
            "\n",
            "Question: User Query\n",
            "Answer:\n",
            "\n"
          ]
        }
      ],
      "source": [
        "### STANDARD PROMPT TEMPLATE\n",
        "drug_parser = PydanticOutputParser(pydantic_object=DrugOutput)\n",
        "\n",
        "prompt_template = \"\"\"Make reference to the context given to assess the scenario. If you do not know the answer. just say that \"I don't know\", don't try to make up an answer.\n",
        "You are a physician assistant giving advice on treatment for moderate to severe ulcerative colitis (UC). Perform the following step\n",
        "\n",
        "ANALYSE the given patient profile based on given query based on one of the following criteria:\n",
        "- Freshly treated patient or patient under maintenance\n",
        "- Prior response to Infliximab\n",
        "- Prior failure to Anti-TNF agents\n",
        "- Prior failure to Vedolizumab\n",
        "- Age\n",
        "- Pregnancy\n",
        "- Extraintestinale manifestations\n",
        "- Pouchitis\n",
        "\n",
        "FINALLY RETURN up to 2 TOP choices of biological drugs given patient profile. Explain the PROS and CONS of the 2 choices.\n",
        "\n",
        "{summaries}\n",
        "\n",
        "{format_instructions}\n",
        "\n",
        "Question: {question}\n",
        "Answer:\n",
        "\"\"\"\n",
        "\n",
        "TEST_PROMPT_TEMPLATE_3 = PromptTemplate(\n",
        "    template = prompt_template,\n",
        "    input_variables = [\"summaries\", \"question\"],\n",
        "    partial_variables={\"format_instructions\": drug_parser.get_format_instructions()}\n",
        ")\n",
        "\n",
        "print(TEST_PROMPT_TEMPLATE_3.format(summaries = \"Summaries\", question = \"User Query\"))"
      ]
    },
    {
      "cell_type": "code",
      "execution_count": 11,
      "metadata": {},
      "outputs": [],
      "source": [
        "# Settings\n",
        "LLM_TYPE = \"gpt-4\"\n",
        "DESCRIPTION = \"With Some Tables\"\n",
        "MAX_TOKENS = 1024\n",
        "TIME = datetime.now().strftime(\"%d-%m-%Y-%H:%M:%S\")\n",
        "VERBOSE = True\n",
        "VECTORSTORE = os.path.join(EMBSTORE_DIR, PROJECT, \"faiss\", \"text-embedding-ada-002\", \"v2-add-rows_1000_200\")\n",
        "save_path = osp.join(ARTIFACT_DIR, f\"{LLM_TYPE}_{DESCRIPTION}_{TIME}\")"
      ]
    },
    {
      "attachments": {},
      "cell_type": "markdown",
      "metadata": {},
      "source": [
        "### Run Experiments"
      ]
    },
    {
      "cell_type": "code",
      "execution_count": null,
      "metadata": {},
      "outputs": [],
      "source": [
        "# Create and run experiment\n",
        "exp3 = Experiment(\n",
        "    prompt_template = TEST_PROMPT_TEMPLATE_3,\n",
        "    vector_store = VECTORSTORE,\n",
        "    llm_type = LLM_TYPE,\n",
        "    max_tokens = MAX_TOKENS,\n",
        "    gt = osp.join(MAIN_DIR, \"ground_truth.csv\"),\n",
        "    verbose = VERBOSE\n",
        ")\n",
        "\n",
        "exp3.run_test_cases(test_cases)\n",
        "\n",
        "# Save Output\n",
        "exp3.save_json(save_path + \".json\")\n",
        "exp3.write_csv(save_path + \".csv\")"
      ]
    },
    {
      "attachments": {},
      "cell_type": "markdown",
      "metadata": {},
      "source": [
        "## Experiment 4 - Changing to Different Settings\n",
        "\n",
        "### uc-3:\n",
        "- test_case: data/queries/uc.txt\n",
        "- prompt: uc_qa_source_1.py\n",
        "- faiss/text-embedding-ada-002/v2-add-rows_1000_200\n",
        "\n",
        "### uc-4:\n",
        "- test_case: data/queries/uc.txt\n",
        "- prompt: uc_qa_source_1.py\n",
        "- faiss/text-embedding-ada-002/v3-add-rows_2500_500\n",
        "\n",
        "### uc-5:\n",
        "- test_case: data/queries/uc.txt\n",
        "- prompt: uc_qa_source_1.py\n",
        "- faiss/text-embedding-ada-002/v4-add-tables_1000_200\n",
        "\n",
        "### uc-6:\n",
        "- test_case: data/queries/uc.txt\n",
        "- prompt: uc_qa_source_1.py\n",
        "- faiss/text-embedding-ada-002/v5-add-tables_2500_500\n",
        "\n",
        "### uc-7:\n",
        "- test_case: data/queries/uc.txt\n",
        "- prompt: uc_qa_source_1.py\n",
        "- faiss/text-embedding-ada-002/v6-add-tables_750_100\n",
        "\n",
        "### uc-8:\n",
        "- test_case: data/queries/uc.txt\n",
        "- prompt: uc_qa_source_2.py\n",
        "- faiss/text-embedding-ada-002/v5-add-tables_2500_500\n",
        "\n",
        "### uc-1_chat:\n",
        "- test_case: data/queries/uc.txt\n",
        "- prompt: uc_qa_source_chat_1.py\n",
        "- faiss/text-embedding-ada-002/v5-add-tables_2500_500\n",
        "\n",
        "### uc-2_chat:\n",
        "- test_case: data/queries/uc.txt\n",
        "- prompt: uc_qa_source_chat_1.py\n",
        "- faiss/text-embedding-ada-002/v3-add-rows_2500_500\n",
        "\n",
        "### uc-3_chat:\n",
        "- test_case: data/queries/uc.txt\n",
        "- prompt: uc_qa_source_chat_1.py\n",
        "- faiss/text-embedding-ada-002/v4-add-tables_1000_200\n",
        "\n",
        "### uc-4_chat:\n",
        "- test_case: data/queries/uc.txt\n",
        "- prompt: uc_qa_source_chat_2.py\n",
        "- faiss/text-embedding-ada-002/v5-add-tables_2500_500\n",
        "\n",
        "### uc-5_chat:\n",
        "- test_case: data/queries/uc_long.txt\n",
        "- prompt: uc_qa_source_chat_3.py\n",
        "- faiss/text-embedding-ada-002/v5-add-tables_2500_500"
      ]
    },
    {
      "cell_type": "code",
      "execution_count": null,
      "metadata": {},
      "outputs": [],
      "source": [
        "! ./src/bash/multi_exps.sh uc_7.yaml uc_8_chat.yaml uc_4_chat.yaml uc_5_chat.yaml"
      ]
    },
    {
      "attachments": {},
      "cell_type": "markdown",
      "metadata": {},
      "source": [
        "## Experiment 5 - Map Reduce"
      ]
    },
    {
      "attachments": {},
      "cell_type": "markdown",
      "metadata": {},
      "source": [
        "### QA with semantic search"
      ]
    },
    {
      "attachments": {},
      "cell_type": "markdown",
      "metadata": {},
      "source": [
        "#### Pregnant"
      ]
    },
    {
      "cell_type": "code",
      "execution_count": 9,
      "metadata": {},
      "outputs": [],
      "source": [
        "# Settings\n",
        "LLM_TYPE = \"gpt-4\"\n",
        "DESCRIPTION = \"Map_Reduce_1_Prompt_Pregnant\"\n",
        "MAX_TOKENS = 1024\n",
        "TIME = datetime.now().strftime(\"%d-%m-%Y-%H-%M-%S\")\n",
        "VERBOSE = False\n",
        "VECTORSTORE = os.path.join(EMBSTORE_DIR, PROJECT, \"faiss\",\n",
        "                           \"text-embedding-ada-002\",\"v5-add-tables_2500_500\")\n",
        "save_path = osp.join(ARTIFACT_DIR, f\"{LLM_TYPE}_{DESCRIPTION}_{TIME}\")"
      ]
    },
    {
      "cell_type": "code",
      "execution_count": 10,
      "metadata": {},
      "outputs": [],
      "source": [
        "human_prompt = \"\"\"\n",
        "=========\n",
        "QUESTION: {question}\n",
        "=========\n",
        "\"\"\"\n",
        "\n",
        "pregnancy_prompt = \"\"\"Make reference to the context given to assess the scenario. If you do not know the answer. just say that \"I don't know\", don't try to make up an answer.\n",
        "=========\n",
        "You are a physician assistant giving advice on treatment for moderate to severe ulcerative colitis (UC). Perform the following steps\n",
        "1. Identify if patient is pregnant.\n",
        "2. Search from REFERENCE TEXT the best biological drugs based on whether patient is pregnant.\n",
        "3. Return up to 2 TOP choices of biological drugs with the PROS and CONS of the 2 choices.\n",
        "\n",
        "=========\n",
        "REFERENCE TEXT:\n",
        "{summaries}\n",
        "\"\"\"\n",
        "\n",
        "PREGNANCY_PROMPT_TEMPLATE = ChatPromptTemplate.from_messages(\n",
        "    [\n",
        "        SystemMessagePromptTemplate.from_template(\n",
        "            pregnancy_prompt, input_variables=[\"summaries\"]\n",
        "        ),\n",
        "        HumanMessagePromptTemplate.from_template(human_prompt),\n",
        "    ]\n",
        ")\n",
        "\n",
        "age_prompt = \"\"\"Make reference to the context given to assess the scenario. If you do not know the answer. just say that \"I don't know\", don't try to make up an answer.\n",
        "=========\n",
        "You are a physician assistant giving advice on treatment for moderate to severe ulcerative colitis (UC). Perform the following steps\n",
        "1. Identify from user input the age of patient, if applicable.\n",
        "2. Search from REFERENCE TEXT the best biological drugs based on patient's age.\n",
        "3. Return up to 2 TOP choices of biological drugs with the PROS and CONS of the 2 choices.\n",
        "\n",
        "=========\n",
        "REFERENCE TEXT:\n",
        "{summaries}\n",
        "\"\"\"\n",
        "\n",
        "AGE_PROMPT_TEMPLATE = ChatPromptTemplate.from_messages(\n",
        "    [\n",
        "        SystemMessagePromptTemplate.from_template(\n",
        "            age_prompt, input_variables=[\"summaries\"]\n",
        "        ),\n",
        "        HumanMessagePromptTemplate.from_template(human_prompt),\n",
        "    ]\n",
        ")"
      ]
    },
    {
      "cell_type": "code",
      "execution_count": null,
      "metadata": {},
      "outputs": [],
      "source": [
        "exp5_pregnant =  Experiment(\n",
        "    prompt_template = PREGNANCY_PROMPT_TEMPLATE,\n",
        "    vector_store = VECTORSTORE,\n",
        "    llm_type = LLM_TYPE,\n",
        "    max_tokens = MAX_TOKENS,\n",
        "    verbose = VERBOSE\n",
        ")\n",
        "\n",
        "exp5_pregnant.run_test_cases(test_cases)\n",
        "settings = {\n",
        "    \"project\": PROJECT,\n",
        "    \"test_case\": osp.join(DATA_DIR, \"queries\", \"uc.txt\"),\n",
        "    \"prompt\": \"individual_prompts.py\",\n",
        "    \"ground_truth\": \"uc_gt.csv\",\n",
        "    \"description\": DESCRIPTION,\n",
        "    \"verbose\": False,\n",
        "\n",
        "    \"emb_type\": \"text-embedding-ada-002\",\n",
        "    \"vectorstore\": VECTORSTORE,\n",
        "    \"chunk_size\": 2500,\n",
        "    \"chunk_overlap\": 500,\n",
        "    \"additional_docs\": None,\n",
        "    \"pinecone_index_name\": None,\n",
        "\n",
        "    \"llm_type\": \"gpt-4\",\n",
        "    \"temperature\": 0,\n",
        "    \"max_tokens\": MAX_TOKENS,\n",
        "}\n",
        "\n",
        "os.makedirs(save_path, exist_ok=True)\n",
        "exp5_pregnant.save_json(os.path.join(save_path, \"result.json\"))\n",
        "exp5_pregnant.write_csv(os.path.join(save_path, \"result.csv\"))\n",
        "with open(os.path.join(save_path, \"settings.yaml\"), \"w\") as f:\n",
        "    yaml.dump(settings, f)"
      ]
    },
    {
      "cell_type": "code",
      "execution_count": 22,
      "metadata": {},
      "outputs": [],
      "source": [
        "# Settings\n",
        "LLM_TYPE = \"gpt-4\"\n",
        "DESCRIPTION = \"Map_Reduce_1_Prompt_Age\"\n",
        "MAX_TOKENS = 1024\n",
        "TIME = datetime.now().strftime(\"%d-%m-%Y-%H-%M-%S\")\n",
        "VERBOSE = True\n",
        "VECTORSTORE = os.path.join(EMBSTORE_DIR, PROJECT, \"faiss\",\n",
        "                           \"text-embedding-ada-002\",\"v5-add-tables_2500_500\")\n",
        "save_path = osp.join(ARTIFACT_DIR, f\"{LLM_TYPE}_{DESCRIPTION}_{TIME}\")"
      ]
    },
    {
      "cell_type": "code",
      "execution_count": 32,
      "metadata": {},
      "outputs": [
        {
          "name": "stdout",
          "output_type": "stream",
          "text": [
            "Query: 40 year old male with newly diagnosed moderate UC and articular extraintestinal manifestations\n",
            "\n",
            "\n",
            "\u001b[1m> Entering new RetrievalQAWithSourcesChain chain...\u001b[0m\n",
            "\n",
            "\u001b[1m> Finished chain.\u001b[0m\n",
            "Query: 70 year old female with newly diagnosed severe UC\n",
            "\n",
            "\n",
            "\u001b[1m> Entering new RetrievalQAWithSourcesChain chain...\u001b[0m\n",
            "\n",
            "\u001b[1m> Finished chain.\u001b[0m\n",
            "Query: 35 year old male with known moderate UC with prior exposure to infliximab but has worsening colitis on endoscopy despite compliance\n",
            "\n",
            "\n",
            "\u001b[1m> Entering new RetrievalQAWithSourcesChain chain...\u001b[0m\n",
            "\n",
            "\u001b[1m> Finished chain.\u001b[0m\n",
            "Query: 60 year old female with newly diagnosed moderate UC with a background of congestive cardiac failure\n",
            "\n",
            "\n",
            "\u001b[1m> Entering new RetrievalQAWithSourcesChain chain...\u001b[0m\n",
            "\n",
            "\u001b[1m> Finished chain.\u001b[0m\n",
            "Query: 38 year old female with newly diagnosed moderate UC and psoriasis\n",
            "\n",
            "\n",
            "\u001b[1m> Entering new RetrievalQAWithSourcesChain chain...\u001b[0m\n",
            "\n",
            "\u001b[1m> Finished chain.\u001b[0m\n",
            "Query: 25 year old pregnant woman with severe distal ulcerative colitis\n",
            "\n",
            "\n",
            "\u001b[1m> Entering new RetrievalQAWithSourcesChain chain...\u001b[0m\n",
            "\n",
            "\u001b[1m> Finished chain.\u001b[0m\n",
            "Query: 56 year old man with moderate to severe ulcerative colitis and ankylosing spondylitis\n",
            "\n",
            "\n",
            "\u001b[1m> Entering new RetrievalQAWithSourcesChain chain...\u001b[0m\n",
            "\n",
            "\u001b[1m> Finished chain.\u001b[0m\n",
            "Query: 38 year old man with severe ulcerative colitis and has lost response to vedolizumab\n",
            "\n",
            "\n",
            "\u001b[1m> Entering new RetrievalQAWithSourcesChain chain...\u001b[0m\n",
            "\n",
            "\u001b[1m> Finished chain.\u001b[0m\n",
            "Query: 28 year old woman who has severe extensive ulcerative colitis and has a history of lymphoma which was treated 4 years ago\n",
            "\n",
            "\n",
            "\u001b[1m> Entering new RetrievalQAWithSourcesChain chain...\u001b[0m\n",
            "\n",
            "\u001b[1m> Finished chain.\u001b[0m\n",
            "Query: 36 year old woman with moderate ulcerative colitis and multiple sclerosis\n",
            "\n",
            "\n",
            "\u001b[1m> Entering new RetrievalQAWithSourcesChain chain...\u001b[0m\n",
            "\n",
            "\u001b[1m> Finished chain.\u001b[0m\n"
          ]
        }
      ],
      "source": [
        "exp5_age =  Experiment(\n",
        "    prompt_template = AGE_PROMPT_TEMPLATE,\n",
        "    vector_store = VECTORSTORE,\n",
        "    llm_type = LLM_TYPE,\n",
        "    max_tokens = MAX_TOKENS,\n",
        "    verbose = VERBOSE\n",
        ")\n",
        "\n",
        "exp5_age.run_test_cases(test_cases)\n",
        "settings = {\n",
        "    \"project\": PROJECT,\n",
        "    \"test_case\": osp.join(DATA_DIR, \"queries\", \"uc.txt\"),\n",
        "    \"prompt\": \"individual_prompts.py\",\n",
        "    \"ground_truth\": \"uc_gt.csv\",\n",
        "    \"description\": \"Map_Reduce_1_Prompt_Age\",\n",
        "    \"verbose\": True,\n",
        "\n",
        "    \"emb_type\": \"text-embedding-ada-002\",\n",
        "    \"vectorstore\": VECTORSTORE,\n",
        "    \"chunk_size\": 2500,\n",
        "    \"chunk_overlap\": 500,\n",
        "    \"additional_docs\": None,\n",
        "    \"pinecone_index_name\": None,\n",
        "\n",
        "    \"llm_type\": \"gpt-4\",\n",
        "    \"temperature\": 0,\n",
        "    \"max_tokens\": MAX_TOKENS,\n",
        "}\n",
        "\n",
        "os.makedirs(save_path, exist_ok=True)\n",
        "exp5_age.save_json(os.path.join(save_path, \"result.json\"))\n",
        "exp5_age.write_csv(os.path.join(save_path, \"result.csv\"))\n",
        "with open(os.path.join(save_path, \"settings.yaml\"), \"w\") as f:\n",
        "    yaml.dump(settings, f)"
      ]
    },
    {
      "attachments": {},
      "cell_type": "markdown",
      "metadata": {},
      "source": [
        "### QA from docs\n",
        "#### Map Reduce"
      ]
    },
    {
      "cell_type": "code",
      "execution_count": 86,
      "metadata": {},
      "outputs": [
        {
          "name": "stdout",
          "output_type": "stream",
          "text": [
            "Number of text documents: 56\n",
            "Number of text chunks: 86\n",
            "Number of tokens in all documents: 80453\n",
            "Number of tokens in all text chunks: 84814\n",
            "Max tokens in all documents: 3301\n",
            "Max tokens in all text chunks: 2211\n"
          ]
        }
      ],
      "source": [
        "documents = load_documents(os.path.join(DOCUMENT_SOURCE, PROJECT),\n",
        "                           exclude_pages=EXCLUDE_DICT)\n",
        "text_splitter = RecursiveCharacterTextSplitter(\n",
        "    chunk_size=5000, chunk_overlap=500\n",
        ")\n",
        "texts = text_splitter.split_documents(documents)\n",
        "\n",
        "doc_max_tokens, text_max_tokens = 0, 0\n",
        "\n",
        "print(\"Number of text documents:\", len(documents))\n",
        "print(\"Number of text chunks:\", len(texts))\n",
        "\n",
        "print(\"Number of tokens in all documents:\", check_documents_token(documents))\n",
        "print(\"Number of tokens in all text chunks:\", check_documents_token(texts))\n",
        "\n",
        "for document in documents:\n",
        "    doc_tokens = check_documents_token(document)\n",
        "    if doc_tokens > doc_max_tokens:\n",
        "        doc_max_tokens = doc_tokens\n",
        "\n",
        "for text in texts:\n",
        "    text_tokens = check_documents_token(text)\n",
        "    if text_tokens > text_max_tokens:\n",
        "        text_max_tokens = text_tokens\n",
        "    \n",
        "print(\"Max tokens in all documents:\", doc_max_tokens)\n",
        "print(\"Max tokens in all text chunks:\", text_max_tokens)"
      ]
    },
    {
      "cell_type": "code",
      "execution_count": 93,
      "metadata": {},
      "outputs": [],
      "source": [
        "class MapReduceDocumentsChainV2(MapReduceDocumentsChain):\n",
        "    combine_max_tokens: int = 30000\n",
        "    collapse_max_tokens: int = 5000\n",
        "\n",
        "    @root_validator()\n",
        "    def check_maximum_context_length(cls, values: Dict) -> Dict:\n",
        "        max_token_dict = {\n",
        "            \"gpt-3.5-turbo\": 3000,\n",
        "            \"gpt-3.5-turbo-16k\": 14000,\n",
        "            \"gpt-4\": 7000,\n",
        "            \"gpt-4-32k\": 30000\n",
        "        }\n",
        "        \n",
        "        combine_doc_llm_model = values[\"combine_document_chain\"].llm_chain.llm.model_name\n",
        "        if combine_doc_llm_model in max_token_dict:\n",
        "            if max_token_dict[combine_doc_llm_model] < values[\"combine_max_tokens\"]:\n",
        "                values[\"combine_max_tokens\"] = max_token_dict[combine_doc_llm_model]\n",
        "        \n",
        "        if values[\"collapse_document_chain\"]:\n",
        "            collapse_doc_llm_model = values[\"collapse_document_chain\"].llm_chain.llm.model_name\n",
        "        else:\n",
        "            collapse_doc_llm_model = values[\"combine_document_chain\"].llm_chain.llm.model_name\n",
        "        \n",
        "        if collapse_doc_llm_model in max_token_dict:\n",
        "            if max_token_dict[collapse_doc_llm_model] < values[\"collapse_max_tokens\"]:\n",
        "                values[\"collapse_max_tokens\"] = max_token_dict[collapse_doc_llm_model]\n",
        "\n",
        "        return values\n",
        "\n",
        "    def combine_docs(\n",
        "        self,\n",
        "        docs: List[Document],\n",
        "        callbacks: Callbacks = None,\n",
        "        **kwargs: Any,\n",
        "    ) -> Tuple[str, dict]:\n",
        "        \"\"\"Combine documents in a map reduce manner.\n",
        "\n",
        "        Combine by mapping first chain over all documents, then reducing the results.\n",
        "        This reducing can be done recursively if needed (if there are many documents).\n",
        "        \"\"\"\n",
        "        results = self.llm_chain.apply(\n",
        "            # FYI - this is parallelized and so it is fast.\n",
        "            [{self.document_variable_name: d.page_content, **kwargs} for d in docs],\n",
        "            callbacks=callbacks,\n",
        "        )\n",
        "        return self._process_results(\n",
        "            results, docs, callbacks=callbacks, **kwargs\n",
        "        )\n",
        "\n",
        "    def _process_results(\n",
        "        self,\n",
        "        results: List[Dict],\n",
        "        docs: List[Document],\n",
        "        callbacks: Callbacks = None,\n",
        "        **kwargs: Any,\n",
        "    ) -> Tuple[str, dict]:\n",
        "        question_result_key = self.llm_chain.output_key\n",
        "        result_docs = [\n",
        "            Document(page_content=r[question_result_key], metadata=docs[i].metadata)\n",
        "            # This uses metadata from the docs, and the textual results from `results`\n",
        "            for i, r in enumerate(results)\n",
        "        ]\n",
        "        length_func = self.combine_document_chain.prompt_length\n",
        "        num_tokens = length_func(result_docs, **kwargs)\n",
        "\n",
        "        def _collapse_docs_func(docs: List[Document], **kwargs: Any) -> str:\n",
        "            return self._collapse_chain.run(\n",
        "                input_documents=docs, callbacks=callbacks, **kwargs\n",
        "            )\n",
        "\n",
        "        collapse_counter = 0\n",
        "        while num_tokens is not None and num_tokens > self.combine_max_tokens:\n",
        "            \n",
        "            # \n",
        "            collapse_counter += 1\n",
        "            if collapse_counter == 2:\n",
        "                raise Exception(\"Double Collapse steps. Stop\")            \n",
        "            \n",
        "            new_result_doc_list = _split_list_of_docs(\n",
        "                result_docs, length_func, self.collapse_max_tokens, **kwargs\n",
        "            )\n",
        "            result_docs = []\n",
        "            for docs in new_result_doc_list:\n",
        "                new_doc = _collapse_docs(docs, _collapse_docs_func, **kwargs)\n",
        "                result_docs.append(new_doc)\n",
        "            num_tokens = self.combine_document_chain.prompt_length(\n",
        "                result_docs, **kwargs\n",
        "            )\n",
        "        if self.return_intermediate_steps:\n",
        "            _results = [r[self.llm_chain.output_key] for r in results]\n",
        "            extra_return_dict = {\"intermediate_steps\": _results}\n",
        "        else:\n",
        "            extra_return_dict = {}\n",
        "        output = self.combine_document_chain.run(\n",
        "            input_documents=result_docs, callbacks=callbacks, **kwargs\n",
        "        )\n",
        "        return output, extra_return_dict"
      ]
    },
    {
      "cell_type": "code",
      "execution_count": 99,
      "metadata": {},
      "outputs": [],
      "source": [
        "llm = ChatOpenAI(temperature=0, model_name=\"gpt-3.5-turbo\",\n",
        "                 openai_api_key=OPENAI_KEY)\n",
        "reduce_llm = ChatOpenAI(temperature=0, model_name=\"gpt-3.5-turbo-16k\",\n",
        "                        openai_api_key=OPENAI_KEY)\n",
        "collapse_llm = ChatOpenAI(temperature=0, model_name=\"gpt-3.5-turbo-16k\",\n",
        "                        openai_api_key=OPENAI_KEY) "
      ]
    },
    {
      "cell_type": "code",
      "execution_count": 101,
      "metadata": {},
      "outputs": [],
      "source": [
        "## Map\n",
        "system_question_template = \"\"\"You are a physician assistant giving advice on treatment for moderate to severe ulcerative colitis (UC) using biological drugs.\n",
        "Use the following portion of a long document to see if any of the text is relevant to treatment of given patient profile using biological drugs. \n",
        "Return any relevant text verbatim.\n",
        "______________________\n",
        "{context}\"\"\"\n",
        "messages = [\n",
        "    SystemMessagePromptTemplate.from_template(system_question_template),\n",
        "    HumanMessagePromptTemplate.from_template(\"Patient Profile: {question}\"),\n",
        "]\n",
        "CHAT_QUESTION_PROMPT = ChatPromptTemplate.from_messages(messages)\n",
        "\n",
        "## Reduce\n",
        "\n",
        "system_combine_template = \"\"\"You are a physician assistant giving advice on treatment for moderate to severe ulcerative colitis (UC) using biological drugs.\n",
        "If you don't know the answer, just say that you don't know. Don't try to make up an answer.\n",
        "\n",
        "Given the following extracted information of a long document, return up to 2 top choices of biological drugs given the patient profile. \n",
        "Explain the PROS and CONS of the 2 choices with respect to the patient profile.\n",
        "\n",
        "Output your answer as a list of JSON objects with keys: drug_name, advantages, disadvantages.\n",
        "______________________\n",
        "{summaries}\"\"\"\n",
        "messages = [\n",
        "    SystemMessagePromptTemplate.from_template(system_combine_template),\n",
        "    HumanMessagePromptTemplate.from_template(\"{question}\"),\n",
        "]\n",
        "CHAT_COMBINE_PROMPT = ChatPromptTemplate.from_messages(messages)\n",
        "\n",
        "CHAT_COLLAPSE_PROMPT = CHAT_COMBINE_PROMPT"
      ]
    },
    {
      "cell_type": "code",
      "execution_count": 102,
      "metadata": {},
      "outputs": [],
      "source": [
        "map_chain = LLMChain(llm=llm, prompt=CHAT_QUESTION_PROMPT, verbose=verbose)\n",
        "reduce_chain = LLMChain(llm=reduce_llm, prompt=CHAT_COMBINE_PROMPT,\n",
        "                        verbose=verbose)\n",
        "collapse_chain = LLMChain(llm=collapse_llm, prompt=CHAT_COLLAPSE_PROMPT,\n",
        "                          verbose=verbose)\n",
        "\n",
        "combine_document_chain = StuffDocumentsChain(\n",
        "    llm_chain=reduce_chain,\n",
        "    document_variable_name=\"summaries\",\n",
        "    verbose=verbose\n",
        "    )\n",
        "\n",
        "collapse_document_chain = StuffDocumentsChain(\n",
        "    llm_chain=collapse_chain,\n",
        "    document_variable_name=\"summaries\",\n",
        "    verbose=verbose\n",
        ")\n",
        "\n",
        "map_reduce_qa_chain = MapReduceDocumentsChainV2(\n",
        "    llm_chain=map_chain,\n",
        "    combine_document_chain=combine_document_chain,  \n",
        "    collapse_document_chain=collapse_document_chain,\n",
        "    document_variable_name=\"context\",\n",
        "    combine_max_tokens = 14000,\n",
        "    collapse_max_tokens = 6000,\n",
        "    verbose=verbose,\n",
        "    return_intermediate_steps=True,\n",
        "    return_map_steps=True\n",
        ")"
      ]
    },
    {
      "cell_type": "code",
      "execution_count": 105,
      "metadata": {},
      "outputs": [
        {
          "data": {
            "text/plain": [
              "{'input_documents': [Document(page_content='Articles\\nwww.thelancet.com/gastrohep   Vol 7   February 2022 \\n161\\nLancet Gastroenterol Hepatol \\n2022; 7: 161–70\\nPublished Online \\nNovember 29, 2021 \\nhttps://doi.org/10.1016/ \\nS2468-1253(21)00377-0\\nSee Comment page 110\\n*Contributed equally\\nInflammatory Bowel Disease \\nUnit, Gastroenterology \\nSection, Department of \\nInternal Medicine, Centro de \\nEducación Médica e \\nInvestigaciones Clínicas, \\nBuenos Aires, Argentina \\n(J S Lasa MD, P A Olivera MD); \\nGastroenterology Department, \\nHospital Británico de Buenos \\nAires, Buenos Aires, Argentina \\n(J S Lasa); Zane Cohen Centre \\nfor Digestive Diseases, \\nLunenfeld-Tanenbaum \\nResearch Institute, Sinai Health \\nSystem, Toronto, ON, Canada \\n(P A Olivera); Division of \\nGastroenterology, Mount Sinai \\nHospital, University of Toronto, \\nToronto, ON, Canada \\n(P A Olivera); Gastroenterology \\nand Endoscopy, IRCCS Ospedale \\nSan Raffaele and University \\nVita-Salute San Raffaele, \\nMilano, Italy \\n(Prof S Danese MD); INSERM \\nNGERE and Department of \\nHepatogastroenterology, \\nNancy University Hospital, \\nLorraine University, \\nVandoeuvre-lés-Nancy, France \\n(Prof L Peyrin-Biroulet MD) \\nCorrespondence to: \\nProf Laurent Peyrin-Biroulet, \\nINSERM NGERE and Department \\nof Hepatogastroenterology, \\nNancy University Hospital, \\nLorraine University, Vandoeuvre-\\nlès-Nancy F-54511, France \\npeyrinbiroulet@gmail.com\\nEfficacy and safety of biologics and small molecule drugs for \\npatients with moderate-to-severe ulcerative colitis: \\na systematic review and network meta-analysis \\nJuan S Lasa*, Pablo A Olivera*, Silvio Danese, Laurent Peyrin-Biroulet\\nSummary\\nBackground There is a growing armamentarium for the treatment of moderate-to-severe ulcerative colitis. We aimed \\nto compare the relative efficacy and safety of biologics and small molecule drugs for the treatment of patients with \\nmoderate-to-severe ulcerative colitis.\\nMethods In this systematic review and network meta-analysis, we searched MEDLINE, Embase, and the Cochrane \\nCentral Register of Controlled Trials without language restrictions for articles published between Jan 1, 1990, and \\nJuly 1, 2021. Major congresses’ databases from Jan 1, 2018, to July 3, 2021, were reviewed manually. Phase 3, placebo-\\ncontrolled or head-to-head randomised controlled trials (RCTs) assessing the efficacy and safety of biologics or small \\nmolecule drugs as induction or maintenance therapies for patients with moderate-to-severe ulcerative colitis were \\nincluded. Phase 2 RCTs were excluded because of their small sample sizes and inclusion of doses not further explored \\nin phase 3 RCTs. Summary data from intention-to-treat analyses were extracted from included reports by JSL and PAO. \\nThe primary outcome was the induction of clinical remission. A network meta-analysis was done under the frequentist \\nframework, obtaining pairwise odds ratios (ORs) and 95% CIs. The surface under the cumulative ranking (SUCRA) \\nwas used to rank the included agents for each outcome. Higher SUCRA scores correlate with better efficacy, whereas \\nlower SUCRA scores correlate with better safety. Maintenance data on efficacy for treat-straight-through and \\nrandomised responder trials are also presented. This study is registered with PROSPERO, CRD42021225329.\\nFindings Our search yielded 5904 results, from which 29 studies (four being head-to-head RCTs) fulfilled our inclusion \\ncriteria and were included. Of these, 23 studies assessed induction therapy with either a biologic or small molecule \\ndrug, comprising 10 061 patients with ulcerative colitis. A risk of bias assessment showed a low risk of bias for most \\nof the included studies. Upadacitinib was significantly superior to all other interventions for the induction of clinical \\nremission (infliximab [OR 2·70, 95% CI 1·18–6·20], adalimumab [4·64, 2·47–8·71], golimumab [3·00, 1·32–6·82], \\nvedolizumab [3·56, 1·84–6·91], ustekinumab [2·92, 1·31–6·51], etrolizumab [4·91, 2·59–9·31], tofacitinib [2·84, \\n1·28–6·31], filgotinib 100 mg [6·15, 2·98–12·72], filgotinib 200 mg [4·49, 2·18–9·24], and ozanimod (2·70, \\n1·18–6·20), and ranked highest for the induction of clinical remission (SUCRA 0·996). No differences between active \\ninterventions were observed when assessing adverse events and serious adverse events. Vedolizumab ranked lowest \\nfor both adverse events (SUCRA 0·184) and serious adverse events (0·139), whereas upadacitinib ranked highest for \\nadverse events (0·843) and ozanimod ranked highest for serious adverse events (0·831).\\nInterpretation Upadacitinib was the best performing agent for the induction of clinical remission (the primary \\noutcome) but the worst performing agent in terms of adverse events in patients with moderate-to-severe ulcerative \\ncolitis. Vedolizumab was the best performing agent for safety outcomes. With the paucity of direct comparisons in the \\npublished literature, our results might help clinicians to position drugs in treatment algorithms.\\nFunding None.\\nCopyright © 2021 Elsevier Ltd. All rights reserved.\\nIntroduction \\nUlcerative colitis is a chronic, idiopathic, potentially \\ndisabling condition that is clinically characterised \\nby bloody diarrhoea, abdominal pain, and tenesmus.1 \\nUlcerative colitis most commonly presents during the \\nthird and fifth decades of life, and is associated with an \\nimpaired health-related quality of life and considerable \\neconomic burden.2,3\\nNearly 20 years ago, the advent of anti-tumour necrosis \\nfactor biologics (eg, infliximab, adalimumab, and \\ngolimumab) revolutionised therapeutics for ulcerative \\ncolitis, enabling better disease control in terms of \\nincreasing the rates of mucosal healing, deep remission, \\nand corticosteroid-free remission, and improving quality \\nof life. Biologics with other targets were later approved \\nfor the treatment of moderate-to-severe ulcerative colitis, \\nnamely vedolizumab and, more recently, usteki numab. \\nHowever, \\ntreatment \\nwith \\nbiologics \\nhas \\nseveral \\nlimit ations, including limited efficacy, primary non-\\nresponse, secondary loss of response, immunogenicity, \\n', metadata={'source': '/mnt/c/Users/QUAN/Desktop/medical-chatbot/data/document_store/uc/1-s2.0-S2468125321003770-main.pdf', 'file_path': '/mnt/c/Users/QUAN/Desktop/medical-chatbot/data/document_store/uc/1-s2.0-S2468125321003770-main.pdf', 'page': 0, 'total_pages': 10, 'format': 'PDF 1.7', 'title': 'Efficacy and safety of biologics and small molecule drugs for patients with moderate-to-severe ulcerative colitis: a systematic review and network meta-analysis', 'author': 'Juan S Lasa MD', 'subject': 'The Lancet Gastroenterology & Hepatology, 7 (2022) 161-170. doi:10.1016/S2468-1253(21)00377-0', 'keywords': '', 'creator': 'Elsevier', 'producer': 'Acrobat Distiller 6.0 for Windows', 'creationDate': \"D:20211223225432+05'30'\", 'modDate': \"D:20220108175830+05'30'\", 'trapped': '', 'modal': 'text'}),\n",
              "  Document(page_content='Articles\\n162 \\nwww.thelancet.com/gastrohep   Vol 7   February 2022\\nand parenteral adminis tration.4 Drug development has \\nshifted in the past decade to small molecule drugs in an \\neffort to overcome these limitations. Tofacitinib, a Janus \\nkinase (JAK) inhibitor, was the first next-generation \\nsmall molecule drug to receive approval from the US \\nFood and Drug Administration for the treatment of \\npatients with moderate-to-severe ulcerative colitis.5 \\nOzanimod became the second small molecule drug to \\nreceive approval. Other compounds, including filgotinib \\nand upadacitinib, have been efficacious for the treatment \\nof ulcerative colitis in phase 3 randomised clinical trials \\n(RCTs)6–8 and will probably become available in the clinic \\nin the near future. With a growing therapeutic \\narmamentarium, and a paucity of direct comparisons, \\ndrug positioning is a clinical challenge. Several network \\nmeta-analyses have compared the therapeutic options \\napproved for ulcerative colitis, but did not include \\nrecent data related to small molecule drugs.9–13 \\nAdditionally, subcutaneous formulations of infliximab \\nand vedolizumab were approved by the European \\nMedicines Agency in 2020 for the treatment of ulcerative \\ncolitis and Crohn’s disease. The aim of this systematic \\nreview and network meta-analysis is to give an updated \\ncomparison of the relative efficacy and safety of biologics \\nand small molecule drugs (approved or in a late stage of \\ndevelopment) in the treatment of patients with moderate-\\nto-severe ulcerative colitis.\\nMethods \\nSearch strategy and selection criteria \\nThis systematic review and network meta-analysis was \\ndone by use of an a priori established protocol, and \\nis reported according to the Preferred Reporting \\nItems for Systematic Reviews and Meta-Analyses \\nextension statement for systematic reviews incorporating \\nnet work meta-analyses for health-care interventions.14 \\nTwo authors (JSL and PAO) searched MEDLINE, \\nEmbase, and the Cochrane Central Register of Controlled \\nTrials without language restrictions for articles published \\nbetween Jan 1, 1990, and July 1, 2021. Major congresses’ \\ndatabases (European Crohn’s and Colitis Organization, \\nDigestive \\nDisease \\nWeek, \\nand \\nUnited \\nEuropean \\nGastroenterology Week) were also reviewed manually \\nfrom Jan 1, 2018, to July 3, 2021. Search algorithms \\nincluded the following terms: [“biologics” OR “anti-TNF” \\nOR “infliximab” OR “adalimumab” OR (“golimumab” \\nOR “CNTO-148”) OR “anti-integrin” OR (“vedolizumab” \\nOR “MLN-0002”) OR (“etrolizumab” OR “rhuMAb \\nBeta7”) OR (“ustekinumab” OR “CNTO-1275”) OR “JAK \\ninhibitor” OR (“tofacitinib” OR “CP-690550”) OR \\n(“filgotinib” OR “GLPG0634”) OR (“upadacitinib” OR \\n“ABT-494”) \\nOR \\n“sphingosine-1-phosphate \\nreceptor \\nmodulator” OR (“ozanimod” OR “RPC1063”) OR \\n“etrasimod” OR “TD-1473”] AND [“ulcerative colitis” \\nOR “inflammatory bowel disease”] AND [“efficacy” OR \\nResearch in context\\nEvidence before this study\\nThe therapeutic armamentarium for moderate-to-severe \\nulcerative colitis has expanded considerably in recent years. \\nDrug development has shifted over the last decade to small \\nmolecule drugs in an effort to overcome the intrinsic limitations \\nof treatment with biologics. In this context of ever-expanding \\ntreatment options, frequent updates of indirect comparisons \\nare warranted. We searched MEDLINE, Embase, and the \\nCochrane Central Register of Controlled Trials without language \\nrestrictions for articles published between Jan 1, 1990, and \\nJuly 1, 2021, using the search terms [“biologics” OR “anti-TNF” \\nOR “infliximab” OR “adalimumab” OR (“golimumab” OR \\n“CNTO-148”) OR “anti-integrin” OR (“vedolizumab” OR \\n“MLN-0002”) OR (“etrolizumab” OR “rhuMAb Beta7”) OR \\n(“ustekinumab” OR “CNTO-1275”) OR “JAK inhibitor” OR \\n(“tofacitinib” OR “CP-690550”) OR (“filgotinib” OR \\n“GLPG0634”) OR (“upadacitinib” OR “ABT-494”) OR \\n“sphingosine-1-phosphate receptor modulator” OR \\n(“ozanimod” OR “RPC1063”) OR “etrasimod” OR “TD-1473”] \\nAND [“ulcerative colitis” OR “inflammatory bowel disease”] AND \\n[“efficacy” OR “safety” OR “adverse events”]. Additionally, we \\nmanually reviewed major congresses’ databases (European \\nCrohn’s and Colitis Organization, Digestive Disease Week, and \\nUnited European Gastroenterology Week) from Jan 1, 2018, to \\nJuly 3, 2021. With the paucity of direct head-to-head trials, \\nindirect comparisons have become useful in the clinic to \\ndetermine drug positioning. Several network meta-analyses \\nhave compared approved therapeutic options for ulcerative \\ncolitis, but did not include recent data on the small molecule \\ndrugs ozanimod, filgotinib, and upadacitinib.\\nAdded value of this study\\nTo our knowledge, we are the first to include the novel drugs \\nozanimod, filgotinib, upadacitinib, and etrolizumab in a \\nsystematic review and network meta-analysis of treatments for \\nulcerative colitis. Additionally, we analysed steroid-free \\nremission as a novel outcome, which has not been evaluated in \\nany previous network meta-analyses. The network meta-\\nanalysis allowed us to make direct and indirect comparisons \\nbetween 23 randomised controlled trials that assessed \\ninduction therapy. Upadacitinib was the best performing agent \\nfor inducing clinical remission and endoscopic improvement, \\nbut ranked worst with regard to all adverse events. A similar \\ntrend towards a higher efficacy and a less favourable safety \\nprofile was seen with the other small molecule drugs.\\nImplications of all the available evidence\\nOur results of the relative efficacy and safety of all included \\ntreatment options might influence patterns of use and drug \\npositioning. To date, published results of only four head-to-\\nhead trials in patients with ulcerative colitis are available, and, \\nuntil more data become available, clinicians should rely on \\nindirect comparisons.\\n', metadata={'source': '/mnt/c/Users/QUAN/Desktop/medical-chatbot/data/document_store/uc/1-s2.0-S2468125321003770-main.pdf', 'file_path': '/mnt/c/Users/QUAN/Desktop/medical-chatbot/data/document_store/uc/1-s2.0-S2468125321003770-main.pdf', 'page': 1, 'total_pages': 10, 'format': 'PDF 1.7', 'title': 'Efficacy and safety of biologics and small molecule drugs for patients with moderate-to-severe ulcerative colitis: a systematic review and network meta-analysis', 'author': 'Juan S Lasa MD', 'subject': 'The Lancet Gastroenterology & Hepatology, 7 (2022) 161-170. doi:10.1016/S2468-1253(21)00377-0', 'keywords': '', 'creator': 'Elsevier', 'producer': 'Acrobat Distiller 6.0 for Windows', 'creationDate': \"D:20211223225432+05'30'\", 'modDate': \"D:20220108175830+05'30'\", 'trapped': '', 'modal': 'text'}),\n",
              "  Document(page_content='Articles\\nwww.thelancet.com/gastrohep   Vol 7   February 2022 \\n163\\n“safety” OR “adverse events”]. Additionally, experts in the \\nfield were contacted for any unpublished data.\\nWe included phase 3 RCTs that met the inclusion criteria: \\n(1) studies including adult (≥18 years) patients with \\nmoderate-to-severe ulcerative colitis (defined as a Mayo \\nScore of 6–12, with an endoscopic sub-score of 2–3) who \\nwere either biologic-naive or had previously been exposed \\nto at least one biologic; (2) studies either evaluating the \\nfollowing biologics and small molecule drugs in their \\napproved dose regimens, infliximab (intravenous or \\nsubcutaneous), adalimumab, golimumab, vedolizumab \\n(intravenous or sub cutaneous), ustekinumab (intravenous \\nor subcutaneous), tofacitinib, or ozanimod, or studies \\nevaluating etroli zumab, upadacitinib, filgotinib, etrasimod, \\nor TD-1473; (3) studies including an active comparator or \\nplacebo; and (4) studies assessing the following outcomes: \\nclinical remission (defined as a Mayo score of ≤2, with no \\nindividual sub-score >1) and endoscopic improvement \\n(Mayo endoscopic sub-score 0–1). We did not include \\nphase 2 trials because treatment effects can be over-\\nestimated or underestimated due to the intrinsically small \\nsample sizes of these studies. Additionally, given the dose-\\nranging nature of phase 2 trials, many of them include \\ndoses that will not be further explored in phase 3 trials.\\nFor approved agents, only approved doses were \\nincluded in our analyses (intravenous infliximab: \\n5 mg/kg in weeks 0, 2, and 6 in induction, and 5 mg/kg \\nevery 8 weeks in maintenance; subcutaneous infliximab: \\n120 mg every 2 weeks in maintenance; subcutaneous \\nadalimumab: 160 mg in week 0, 80 mg in week 2, and \\n40 mg in week 4 in induction, and 40 mg every other \\nweek in maintenance; subcutaneous golimumab: 200 mg \\nin week 0 and 100 mg in week 2 in induction, and 100 mg \\nevery 4 weeks in maintenance; intravenous vedolizumab: \\n300 mg in weeks 0, 2, and 6 in induction, and \\n300 mg every 8 weeks in maintenance; subcutaneous \\nvedolizumab: 108 mg every 2 weeks in maintenance; \\nustekinumab: 6 mg/kg intravenously in week 0 in \\ninduction, and 90 mg subcutaneously every 8 weeks in \\nmaintenance; oral tofacitinib: 10 mg twice daily for \\n8 weeks in induction, and 5 mg twice daily in \\nmaintenance; and oral ozanimod: 1 mg daily in induction \\nand maintenance). For non-approved agents in a late \\nstage of development (defined as the availability of results \\nfrom phase 3 trials), all evaluated doses were included in \\nthe analyses (oral filgotinib: 100 mg or 200 mg daily in \\ninduction and maintenance; oral upadacitinib: 45 mg \\ndaily in induction, and 15 mg daily and 30 mg daily in \\nmaintenance; and subcutaneous etrolizumab: 105 mg \\nevery 4 weeks in induction and maintenance).\\nSummary data from intention-to-treat analyses were \\nsought from the published reports. Two authors (JSL \\nand PAO) independently reviewed the titles and abstracts \\nof studies identified in the search and excluded those \\nthat were clearly irrelevant. The full text of the selected \\narticles was analysed to identify whether it contained \\ninformation on the topic of interest. The reference lists \\nof selected articles (and those of relevant systematic \\nreviews and meta-analyses) were manually searched to \\nidentify further relevant publications. Disagreements in \\nstudy selection between investigators (JSL and PAO) \\nwere resolved by discussion with a third author (LP-B). \\nJSL and PAO extracted data from the selected studies. \\nWe followed good practices stated in the International \\nSociety for Pharmacoeconomics and Outcomes Research \\nreport on interpreting indirect treatment comparisons \\nand network meta-analyses for health-care decision \\nmaking.15\\nData analysis \\nThe following information from each study was extracted \\ninto a specially designed data extraction form using \\nMicrosoft Access software, version 16.0: citation data; \\nfirst author’s last (family) name; study design; number of \\npatients; study duration; population characteristics; \\nexposure definition (eg, drug, dose, and duration); and \\nreported outcomes. Differences in data extraction were \\nsettled by consensus, referring to the original article. \\nTwo authors (JSL and PAO) independently rated the \\nquality of the included trials using the Cochrane Risk of \\nBias tool, version 2.0.16 If study results were reported in \\nmultiple publications, the most complete report of trial \\ndata was used for data extraction.\\nIn June, 2021, an amendment to the protocol was made \\nfor the purposes of the current analysis that included \\nthe following changes: the mucosal healing outcome \\nwas changed to endoscopic improvement, histological \\nremission was added as an exploratory outcome, and \\nclinical response was withdrawn as an outcome of interest.\\nThe primary outcome was the induction of clinical \\nremission. \\nSecondary \\noutcomes \\nwere \\nendoscopic \\nimprovement, steroid-free remission, adverse events, and \\nserious adverse events. Adverse events and serious adverse \\nevents were assessed after induction therapy, regardless of \\nthe dose among active interventions. A pairwise meta-\\nanalysis comprising trials that reported rates of histological \\nremission (Geboes score <2) was undertaken as a post-hoc \\nexploratory analysis. Additional prespecified, exploratory \\npairwise and network meta-analyses were done to evaluate \\nclinical re mission and endoscopic improvement for \\ninduction therapy in biologic-naive and biologic-exposed \\npopulations, including studies with available data on \\nprevious biologic exposure.\\nWe aimed to analyse both induction therapy and \\nmaintenance therapy for patients with ulcerative colitis. \\nPairwise and network meta-analyses of induction therapy \\nwere done to estimate the comparative efficacy of biologics \\nand small molecule drugs for the treatment of patients \\nwith moderate-to-severe ulcerative colitis. Trials assessing \\nmaintenance therapy had different designs (treat-straight-\\nthrough vs randomising responders to induction therapy). \\nTherefore, separate pairwise and network meta-analyses \\nfor these different trial designs were done for the following \\noutcomes: maintenance of clinical remission; endoscopic \\n', metadata={'source': '/mnt/c/Users/QUAN/Desktop/medical-chatbot/data/document_store/uc/1-s2.0-S2468125321003770-main.pdf', 'file_path': '/mnt/c/Users/QUAN/Desktop/medical-chatbot/data/document_store/uc/1-s2.0-S2468125321003770-main.pdf', 'page': 2, 'total_pages': 10, 'format': 'PDF 1.7', 'title': 'Efficacy and safety of biologics and small molecule drugs for patients with moderate-to-severe ulcerative colitis: a systematic review and network meta-analysis', 'author': 'Juan S Lasa MD', 'subject': 'The Lancet Gastroenterology & Hepatology, 7 (2022) 161-170. doi:10.1016/S2468-1253(21)00377-0', 'keywords': '', 'creator': 'Elsevier', 'producer': 'Acrobat Distiller 6.0 for Windows', 'creationDate': \"D:20211223225432+05'30'\", 'modDate': \"D:20220108175830+05'30'\", 'trapped': '', 'modal': 'text'}),\n",
              "  Document(page_content='Articles\\n164 \\nwww.thelancet.com/gastrohep   Vol 7   February 2022\\nimprovement; and steroid-free remission. For comparative \\nsafety, a network meta-analysis of all trials of induction \\ntherapy was done.\\nDirect comparisons were done by use of RevMan software \\n(version 5.4). Heterogeneity among studies was evaluated \\nby I² tests, with values greater than 50% suggesting \\nsubstantial heterogeneity. A random-effects model was \\nused to give a more conserv ative estimate of the effect of \\nindividual therapies, allowing for any heterogeneity among \\nstudies. Outcome measures were described as odds \\nratios (ORs), with their corres ponding 95% CIs. Possible \\npublication bias was assessed with the Egger test. We then \\nconducted a network meta-analysis using the multi variate \\nfrequentist approach described by Rücker and Schwarzer, \\nusing R software, version 4.0.3.17 We calculated the relative \\nranking of agents for each outcome (ie, clinical remission, \\nendoscopic improvement, adverse events, and serious \\nadverse events) as their surface under the cumulative \\nranking (SUCRA), which represents the percentage of \\nefficacy or safety achieved by an agent compared with an \\nimaginary agent that is always the best without uncertainty. \\nA higher SUCRA score means a higher ranking for efficacy \\noutcomes. A lower SUCRA score correlates with better \\nsafety (ie, a lower ranking for adverse events and serious \\nadverse events).\\nThe Grading of Recommendations Assessment, \\nDevelopment, and Evaluation approach was followed to \\nevaluate the confidence in estimates derived from our \\nnetwork meta-analysis of the outcomes. For this \\npurpose, six domains were considered: within-study \\nbias, reporting bias, indirectness, imprecision, hetero-\\ngeneity, and incoherence.18 Our study protocol was \\nregistered with PROSPERO, CRD42021225329.\\nRole of the funding source \\nThere was no funding source for this study.\\nResults \\nOur bibliographical search yielded 5904 results, of which \\n29 studies (four being head-to-head RCTs) that fulfilled \\nour inclusion criteria were included (figure 1). Of these \\n29 studies, 23 assessed induction therapy with either a \\nbiologic or a small molecule drug, comprising a total of \\n10 061 patients with ulcerative colitis. There were five \\nstudies of intravenous infliximab (ACT 1 and 2,19 Jiang \\nand colleagues,20 Kobayashi and colleagues,21 and \\nNCT0155129022), three studies of adalimumab (ULTRA 1 \\nand 223,24 and Suzuki and colleagues25), one study of \\ngolimumab (PURSUIT-SC26), three studies of intravenous \\nvedolizumab (GEMINI I,27 Motoya and colleagues,28 and \\nVARSITY29), two studies of tofacitinib (OCTAVE 1 and \\n230), \\none \\nstudy \\nof \\nustekinumab \\n(UNIFI31), \\none \\nstudy of ozanimod (True North32), one study of \\nfilgotinib (SELECTION6), four studies of etrolizumab \\n(HIBISCUS I and II,33 GARDENIA,34 and HICKORY35), \\nand two studies of upadacitinib (U-ACHIEVE7 and \\nFigure 1: Study selection\\nRCTs=randomised controlled trials.\\n5896 records identiﬁed through\\ndatabase searching\\n8 records identiﬁed through other\\nsources\\n5144 screened for title and abstract eligibility\\n4959 excluded for \\nnon-relevance\\n760 duplicates excluded\\n185 full-text articles assessed for eligibility\\n29 studies included in systematic review and meta-analysis\\n156 excluded \\n3 article corrections\\n2 editorials\\n2 letters to editor \\n6 practice guidelines\\n47 non-controlled studies\\n17 pooled analyses of RCTs \\n11 post-hoc analyses of\\nRCTs\\n50 reviews\\n7 ineligible populations\\n8 phase 2 trials\\n3 insuﬃcient information\\non outcomes \\nFigure 2: Network map for induction trials assessing clinical remission in \\npatients with moderate-to-severe ulcerative colitis (overall population)\\nNode size (the size of the circle) corresponds to the number of study participants \\nfor each intervention, and connection size (line thickness) corresponds to the \\nnumber of studies for each comparison.\\nTofacitinib\\nUstekinumab\\nGolimumab\\nVedolizumab\\nAdalimumab\\nPlacebo\\nInﬂiximab\\nEtrolizumab\\nUpadacitinib\\nFilgotinib\\n200 mg\\nFilgotinib\\n100 mg\\nOzanimod\\n', metadata={'source': '/mnt/c/Users/QUAN/Desktop/medical-chatbot/data/document_store/uc/1-s2.0-S2468125321003770-main.pdf', 'file_path': '/mnt/c/Users/QUAN/Desktop/medical-chatbot/data/document_store/uc/1-s2.0-S2468125321003770-main.pdf', 'page': 3, 'total_pages': 10, 'format': 'PDF 1.7', 'title': 'Efficacy and safety of biologics and small molecule drugs for patients with moderate-to-severe ulcerative colitis: a systematic review and network meta-analysis', 'author': 'Juan S Lasa MD', 'subject': 'The Lancet Gastroenterology & Hepatology, 7 (2022) 161-170. doi:10.1016/S2468-1253(21)00377-0', 'keywords': '', 'creator': 'Elsevier', 'producer': 'Acrobat Distiller 6.0 for Windows', 'creationDate': \"D:20211223225432+05'30'\", 'modDate': \"D:20220108175830+05'30'\", 'trapped': '', 'modal': 'text'}),\n",
              "  Document(page_content='Articles\\nwww.thelancet.com/gastrohep   Vol 7   February 2022 \\n165\\nU-ACCOMPLISH8). No phase 3 RCTs with etrasimod or \\nTD-1473 were found.\\nAmong 22 studies evaluating maintenance therapy, ten \\nwere done by use of a treat-straight-through strategy \\n(2528 patients)19–22,24,25,29,34,36 and 12 followed a randomised \\nresponders design (3484 patients).6,27,28,30–32,35,37–41 Only seven \\nstudies evaluated histological remission.6,29,31,32,35,38,41 The \\nmain characteristics of the included trials are described \\nin the appendix (pp 2–4). All outcomes were assessed \\nuniformly on the basis of the standard definition of the \\nMayo score, with follow-up durations of 6–14 weeks for \\ninduction therapy and 26–66 weeks for maintenance \\ntherapy (appendix pp 2–4). All studies were industry \\nsponsored. A risk of bias assessment showed a low risk \\nof bias for most of the included studies (appendix p 5). \\nConfidence in the estimates derived from our meta-\\nanalysis is shown in the appendix (pp 6–8).\\nA network map of induction trials assessing clinical \\nremission in patients with moderate-to-severe ulcerative \\ncolitis is shown in figure 2. When evaluating the \\ninduction of clinical remission, all interventions, except \\nfor filgotinib 100 mg (OR 1·55, 95% CI 0·98–2·46), were \\nsignificantly superior to placebo in the direct, pairwise \\nmeta-analysis (appendix p 9); overall heterogeneity was \\nsubstantial (I²=81%). The results from our network meta-\\nanalysis are shown in figure 3. When comparing active \\ntreatments, adalimumab (OR 0·54, 95% CI 0·37–0·79; \\nmoderate confidence), etrolizumab (0·51, 0·36–0·72; \\nhigh confidence), filgotinib 100 mg (0·41, 0·23–0·71; \\nmoderate confidence), and filgotinib 200 mg (0·56, \\n0·32–0·97; moderate confidence) were significantly \\ninferior to infliximab in inducing clinical remission. \\nOzanimod (OR 2·27, 95% CI 1·05–4·89; moderate \\nconfidence), tofacitinib (0·46, 0·22–0·95; moderate \\nconfidence), \\nand \\nustekinumab \\n(0·47, \\n0·22–0·99; \\nmoderate confidence) were significantly superior to \\nfilgotinib 100 mg. Upadacitinib was significantly superior \\nto all other interventions (figure 3; moderate-to-high \\nconfidence) and ranked highest for the induction of \\nclinical remission (SUCRA 0·996), followed by infliximab \\n(0·771; appendix p 10).\\nWhen evaluating the induction of endoscopic \\nimprovement, all interventions, except for filgotinib \\n100 mg (OR 1·38, 95% CI 0·61–3·14), were signifi cantly \\nsuperior to placebo in the direct, pairwise meta-analysis; \\noverall heterogeneity was substantial (I²=80%; appendix \\np 11). In our network meta-analysis, in direct comparison \\nof active treat ments showed that adalimumab (mode rate \\nFigure 3: Indirect comparison of biologics and small molecule drugs for the induction of clinical remission and endoscopic improvement in patients with moderate-to-severe ulcerative colitis \\n(overall population) in a network meta-analysis\\nComparisons should be read from left to right; to obtain odds ratios from right to left, reciprocals should be taken. The odds ratio (95% CI) for comparisons are in the cell in common between the \\ncolumn-defining and row-defining treatments. The violet boxes represent statistically significant comparisons and the white boxes represent non-statistically significant comparisons. \\nEndoscopic improvement\\n8·23\\n(5·32–12·75)\\n2·74\\n(1·72–4·34)\\n2·82\\n(1·30–6·12)\\n1·38\\n(0·60–3·14)\\n2·71\\n(1·81–4·02)\\n1·74\\n(1·34–2·26)\\n1·74\\n(1·34–2·26)\\n1·74\\n(1·22–2·49)\\n1·82\\n(1·25–2·63)\\n1·52\\n(1·21–1·92)\\n3·00\\n(2·33–3·82)\\nPlacebo\\n2·75\\n(1·66–4·55)\\n0·91\\n(0·54–1·54)\\n0·94\\n(0·41–2·14)\\n0·46\\n(0·19–1·09)\\n0·90\\n(0·56–1·44)\\n0·58\\n(0·43–0·78)\\n0·79\\n(0·49–1·27)\\n0·58\\n(0·37–0·91)\\n0·60\\n(0·39–0·95)\\n0·51\\n(0·37–0·69)\\nInﬂiximab\\n3·76\\n(2·77–5·12)\\n5·41\\n(3·30–8·86)\\n1·79\\n(1·07–3·01)\\n1·85\\n(0·82–4·15)\\n0·90\\n(0·38–2·12)\\n1·77\\n(1·11–2·81)\\n1·14\\n(0·88–1·49)\\n1·56\\n(0·98–2·48)\\n1·15\\n(0·75–1·75)\\n1·19\\n(0·77–1·84)\\nAdalimumab\\n0·54\\n(0·37–0·79)\\n2·05\\n(1·54–2·73)\\n4·52\\n(2·55–8·01)\\n1·50\\n(0·83–2·72)\\n1·54\\n(0·65–3·65)\\n0·75\\n(0·30–1·86)\\n1·48\\n(0·86–2·55)\\n0·95\\n(0·61–1·51)\\n1·31\\n(0·76–2·26)\\n0·95\\n(0·57–1·60)\\nGolimumab\\n1·54\\n(0·79–3·01)\\n0·84\\n(0·43–1·65)\\n3·17\\n(1·74–5·79)\\n4·71\\n(2·68–8·28)\\n1·56\\n(0·87–2·81)\\n1·61\\n(0·68–3·79)\\n0·79\\n(0·32–1·93)\\n1·54\\n(0·90–2·63)\\n1·00\\n(0·64–1·55)\\n1·36\\n(0·79–2·33)\\nVedolizumab\\n0·84\\n(0·41–1·68)\\n1·30\\n(0·96–1·74)\\n0·71\\n(0·45–1·10)\\n2·67\\n(1·87–3·80)\\n3·45\\n(1·90–6·24)\\n1·14\\n(0·62–2·11)\\n1·18\\n(0·49–2·83)\\n0·57\\n(0·23–1·44)\\n1·13\\n(0·64–1·99)\\n0·73\\n(0·45–1·18)\\nUstekinumab\\n1·22\\n(0·62–2·39)\\n1·02\\n(0·44–2·35)\\n1·59\\n(0·83–3·02)\\n0·86\\n(0·45–1·66)\\n3·26\\n(1·83–5·79)\\n4·71\\n(2·83–7·83)\\n1·56\\n(0·92–2·66)\\n1·61\\n(0·71–3·65)\\n0·78\\n(0·33–1·86)\\n1·54\\n(0·96–2·48)\\nEtrolizumab\\n0·59\\n(0·31–1·14)\\n0·72\\n(0·48–1·08)\\n0·61\\n(0·31–1·21)\\n0·94\\n(0·69–1·29)\\n0·51\\n(0·36–0·72)\\n1·94\\n(1·42–2·64)\\n3·05\\n(1·68–5·51)\\n1·01\\n(0·55–1·86)\\n1·04\\n(0·43–2·50)\\n0·51\\n(0·20–1·27)\\nTofacitinib\\n1·72\\n(0·90–3·29)\\n1·02\\n(0·45–2·30)\\n1·25\\n(0·64–2·45)\\n1·05\\n(0·46–2·41)\\n1·63\\n(0·86–3·08)\\n0·89\\n(0·46–1·69)\\n3·35\\n(1·90–5·91)\\n5·96\\n(2·35–15·14)\\n1·98\\n(0·77–5·09)\\n2·04\\n(0·66–6·33)\\nFilgotinib\\n100 mg\\n0·46\\n(0·22–0·95)\\n0·79\\n(0·45–1·39)\\n0·47\\n(0·22–0·99)\\n0·57\\n(0·32–1·03)\\n0·48\\n(0·22–1·03)\\n0·75\\n(0·43–1·30)\\n0·41\\n(0·23–0·71)\\n1·54\\n(0·97–2·45)\\n2·91\\n(1·19–7·10)\\n0·97\\n(0·39–2·39)\\nFilgotinib\\n200 mg\\n1·37\\n(0·71–2·62)\\n0·63\\n(0·30–1·31)\\n1·09\\n(0·63–1·89)\\n0·65\\n(0·31–1·35)\\n0·79\\n(0·44–1·41)\\n0·66\\n(0·31–1·42)\\n1·03\\n(0·60–1·77)\\n0·56\\n(0·32–0·97)\\n2·12\\n(1·34–3·35)\\n3·01\\n(1·59–5·67)\\nOzanimod\\n1·65\\n(0·77–3·55)\\n2·27\\n(1·05–4·89)\\n1·05\\n(0·45–2·41)\\n1·81\\n(0·91–3·60)\\n1·07\\n(0·46–2·49)\\n1·31\\n(0·65–2·67)\\n1·10\\n(0·47–2·61) \\n1·71\\n(0·87–3·37)\\n0·93 \\n(0·47–1·85)\\n3·52\\n(1·91–6·49)\\nUpadacitinib\\n2·70\\n(1·18–6·20)\\n4·49\\n(2·18–9·24)\\n6·15\\n(2·98–12·72)\\n2·84\\n(1·28–6·31)\\n4·91\\n(2·59–9·31)\\n2·92\\n(1·31–6·51)\\n3·56\\n(1·84–6·91)\\n3·00\\n(1·32–6·82)\\n4·64\\n(2·47–8·71)\\n2·70\\n(1·18–6·20)\\n9·54\\n(5·45–16·69)\\nClinical remission\\nSee Online for appendix\\n', metadata={'source': '/mnt/c/Users/QUAN/Desktop/medical-chatbot/data/document_store/uc/1-s2.0-S2468125321003770-main.pdf', 'file_path': '/mnt/c/Users/QUAN/Desktop/medical-chatbot/data/document_store/uc/1-s2.0-S2468125321003770-main.pdf', 'page': 4, 'total_pages': 10, 'format': 'PDF 1.7', 'title': 'Efficacy and safety of biologics and small molecule drugs for patients with moderate-to-severe ulcerative colitis: a systematic review and network meta-analysis', 'author': 'Juan S Lasa MD', 'subject': 'The Lancet Gastroenterology & Hepatology, 7 (2022) 161-170. doi:10.1016/S2468-1253(21)00377-0', 'keywords': '', 'creator': 'Elsevier', 'producer': 'Acrobat Distiller 6.0 for Windows', 'creationDate': \"D:20211223225432+05'30'\", 'modDate': \"D:20220108175830+05'30'\", 'trapped': '', 'modal': 'text'}),\n",
              "  Document(page_content='Articles\\n166 \\nwww.thelancet.com/gastrohep   Vol 7   February 2022\\nconfidence), vedoli zumab (moderate confidence), goli-\\nmumab (moderate confidence), and etrolizumab (high \\ncon fidence) were significantly inferior to infliximab for \\nthe induction of endoscopic improvement (figure 3). In \\naddition, \\nozanimod \\n(moderate \\nconfidence) \\nand \\ntofacitinib (moderate confidence) were significantly \\nsuperior to adalimumab (figure 3). Once again, \\nupadacitinib was significantly superior to all other \\ninterventions (figure 3; moderate-to-high confidence) \\nand ranked highest for the induction of endoscopic \\nimprovement (SUCRA 0·999), followed by infliximab \\n(SUCRA 0·783; appendix p 10).\\nIn our network meta-analysis, no difference in \\nadverse events and serious adverse events between active \\ninterventions was observed (figure 4). Upadacitinib ranked \\nhighest when considering adverse events (SUCRA 0·843; \\nappendix p 12). When considering serious adverse events, \\nozanimod (SUCRA 0·831) and placebo (0·784) ranked \\nhighest, followed by etrolizumab (0·766) and filgotinib \\n(0·755; appendix p 12). Vedolizumab ranked lowest for \\nboth adverse events (0·184) and serious adverse events \\n(0·139; appendix p 12).\\nAll interventions were significantly superior to placebo \\nin maintaining clinical remission in our direct, \\npairwise meta-analysis of treat-straight-through studies; \\nheterogeneity was moderate (I²=58%; appendix p 13). In a \\nhead-to-head comparison, vedolizumab was significantly \\nsuperior to adalimumab (OR 1·61, 95% CI 1·13–2·29), and \\nsubcutaneous infliximab was not different to intra venous \\ninfliximab (appendix p 13). Vedolizumab was significantly \\nsup erior to adalimumab for the maintenance of clinical \\nremission in our network meta-analysis (OR 1·60, 95% CI \\n1·12–2·28; moderate confidence); there was no difference \\nin this outcome for all other active treatment comparisons \\n(appendix p 14). Vedolizumab (SUCRA 0·906) and sub-\\ncutaneous infliximab (SUCRA 0·716) ranked highest for \\nthe maintenance of clinical remission (appendix p 15).\\nWhen evaluating the maintenance of endoscopic \\nimprovement in treat-straight-through studies, all active \\ninterventions were significantly superior to placebo in \\nour direct, pairwise meta-analysis; heterogeneity was \\nsubstantial (I²=67%; appendix p 16). In our network \\nmeta-analysis, vedolizumab was significantly superior to \\nadalimumab in maintaining endoscopic improvement \\n(OR 1·78, 95% CI 1·28–2·49; moderate confidence; \\nappendix p 14). We found no other significant difference \\nin the indirect comparison of other active interventions \\n(appendix p 14). Vedolizumab ranked highest for the \\nmaintenance of endoscopic improvement in treat-\\nstraight-through studies (SUCRA 0·967; appendix p 15).\\nIn our direct, pairwise meta-analysis of treat-straight-\\nthrough studies, infliximab (OR 5·07, 95% CI 2·48–10·37) \\nFigure 4: Indirect comparison of biologics and small molecule drugs for the development of adverse events and serious adverse events in patients with moderate-to-severe ulcerative colitis \\n(overall population) in a network meta-analysis\\nComparisons should be read from left to right; to obtain odds ratios from right to left, reciprocals should be taken. The odds ratio (95% CI) for comparisons are in the cell in common between the \\ncolumn-defining and row-defining treatments. The violet boxes represent statistically significant comparisons and the white boxes represent non-statistically significant comparisons. \\nSerious adverse events\\n1·23\\n(0·51–3·01)\\n0·61\\n(0·31–1·19)\\n1·00\\n(0·53–1·87)\\n1·85\\n(0·52–6·61)\\n0·92\\n(0·30–2·82) \\n1·51\\n(0·51–4·51)\\n2·31\\n(0·74–7·17)\\n1·14\\n(0·43–3·00) \\n1·88\\n(0·74–4·79)\\n1·14\\n(0·31–4·12)\\n0·56\\n(0·18–1·76)\\n0·93\\n(0·30–2·82)\\n2·84\\n(0·85–9·46)\\n1·40\\n(0·49–4·00)\\n2·31\\n(0·83–6·40)\\n3·89\\n(0·94–16·04)\\n1·93\\n(0·53–6·96)\\n3·18\\n(0·90–11·21)\\n2·56\\n(0·80–8·19)\\n1·26\\n(0·46–3·44) \\n2·08\\n(0·79–5·51)\\n2·00\\n(0·66–6·03)\\n1·00\\n(0·39–2·51)\\n1·63\\n(0·66–4·01)\\n1·22\\n(0·41–3·65)\\n0·61\\n(0·24–1·52)\\nFilgotinib\\n2·02\\n(0·65–6·18)\\nUpadacitinib\\n1·46\\n(0·99–2·11)\\nOzanimod\\n0·89\\n(0·58–1·37)\\n0·61\\n(0·32–1·16) \\n0·48\\n(0·23–1·01)\\n0·25\\n(0·10–0·94)\\n0·92\\n(0·31–2·78)\\n0·72\\n(0·22–2·32)\\n0·47\\n(0·11–1·96)\\n1·15\\n(0·45–2·96)\\n0·90\\n(0·32–2·49)\\n0·59\\n(0·16–2·16)\\n0·56\\n(0·18–1·74)\\n0·44\\n(0·13–1·45)\\n0·29\\n(0·07–1·22)\\n1·41\\n(0·50–3·95)\\n1·11\\n(0·37–3·30)\\n0·73\\n(0·18–2·83)\\n1·94\\n(0·54–6·90)\\n1·52\\n(0·40–5·70)\\nVedolizumab\\n1·27\\n(0·47–3·40)\\nUstekinumab\\n1·43\\n(0·85–2·42)\\nTofacitinib\\n0·86\\n(0·56–1·31)\\n1·23\\n(0·74–2·06)\\n0·87\\n(0·59–1·29)\\n0·75\\n(0·50–1·13)\\n1·08\\n(0·66–1·78)\\n1·27\\n(0·86–1·89)\\n1·10\\n(0·73–1·65)\\n1·58\\n(0·94–2·60)\\n0·43\\n(0·19–0·96)\\n1·07\\n(0·43–2·71)\\n0·53\\n(0·26–1·06)\\n0·65\\n(0·19–2·17)\\n1·62\\n(0·45–5·88)\\n0·80\\n(0·25–2·49)\\n0·81\\n(0·28–2·34)\\n2·02\\n(0·64–6·41)\\nAdalimumab\\n0·40\\n(0·12–1·35)\\nEtrolizumab\\n0·91\\n(0·54–1·53)\\nGolimumab\\n1·03\\n(0·61–1·73)\\n0·94\\n(0·61–1·47)\\n0·79\\n(0·47–1·34)\\nGolimumab\\n0·82\\n(0·46–1·48)\\n0·75\\n(0·44–1·27)\\n1·14\\n(0·73–1·78)\\n1·18\\n(0·71–1·98)\\n1·08\\n(0·70–1·68)\\n0·98\\n(0·64–1·51)\\n1·02\\n(0·62–1·69)\\n0·93\\n(0·61–1·43)\\n0·86\\n(0·57–1·30)\\n0·89\\n(0·55–1·46)\\n0·82\\n(0·54–1·23)\\n1·26\\n(0·83–1·90)\\n1·31\\n(0·80–2·13)\\n1·19\\n(0·79–1·80)\\n0·66\\n(0·27–1·62)\\nPlacebo\\nInﬂiximab\\n0·93\\n(0·46–1·90)\\n1·09\\n(0·50–2·37) \\n1·02\\n(0·74–1·39)\\n1·00\\n(0·43–2·27)\\n0·93\\n(0·62–1·41)\\n1·03\\n(0·47–2·25)\\n0·96\\n(0·71–1·32)\\n0·82\\n(0·36–1·88)\\n0·77\\n(0·50–1·17)\\n1·19\\n(0·54–2·58)\\n1·11\\n(0·81–1·51)\\n1·02\\n(0·47–2·20)\\n0·95\\n(0·71–1·28)\\n0·89\\n(0·41–1·91)\\n0·84\\n(0·64–1·09)\\n1·30\\n(0·61–2·79)\\n1·22\\n(0·93–1·59)\\n1·30\\n(0·84–1·99)\\n1·14\\n(0·73–1·78)\\n0·98\\n(0·62–1·55)\\n1·41\\n(0·82–2·42)\\n1·12\\n(0·71–1·78)\\n1·16\\n(0·68–1·98)\\n1·06\\n(0·67–1·69)\\n1·16\\n(0·53–2·56)\\n1·09\\n(0·78–1·53)\\nAdverse events\\n', metadata={'source': '/mnt/c/Users/QUAN/Desktop/medical-chatbot/data/document_store/uc/1-s2.0-S2468125321003770-main.pdf', 'file_path': '/mnt/c/Users/QUAN/Desktop/medical-chatbot/data/document_store/uc/1-s2.0-S2468125321003770-main.pdf', 'page': 5, 'total_pages': 10, 'format': 'PDF 1.7', 'title': 'Efficacy and safety of biologics and small molecule drugs for patients with moderate-to-severe ulcerative colitis: a systematic review and network meta-analysis', 'author': 'Juan S Lasa MD', 'subject': 'The Lancet Gastroenterology & Hepatology, 7 (2022) 161-170. doi:10.1016/S2468-1253(21)00377-0', 'keywords': '', 'creator': 'Elsevier', 'producer': 'Acrobat Distiller 6.0 for Windows', 'creationDate': \"D:20211223225432+05'30'\", 'modDate': \"D:20220108175830+05'30'\", 'trapped': '', 'modal': 'text'}),\n",
              "  Document(page_content='Articles\\nwww.thelancet.com/gastrohep   Vol 7   February 2022 \\n167\\nand adalimumab (3·94, 1·27–12·26) were significantly \\nsuperior to placebo in maintaining steroid-free remission \\n(appendix p 17). In our network meta-analysis, no active \\ntreatment showed significant differences with each other \\nin the maintenance of steroid-free remission (appendix \\np 18). Infliximab ranked highest for the maintenance of \\nsteroid-free remission in treat-straight-through studies \\n(SUCRA 0·812; appendix p 19).\\nAll active interventions, except for golimumab 100 mg, \\netrolizumab, and filgotinib 100 mg, were significantly \\nsuperior to placebo in maintaining clinical remission in \\nour direct, pairwise meta-analysis of studies with a \\nrandomised responders design (appendix p 20). \\nFurthermore, subcutaneous vedolizumab was not \\ndifferent from intravenous vedolizumab (appendix p 20). \\nIn our network meta-analysis of studies with a \\nrandomised responders design, upadacitinib 15 mg \\nand upadacitinib 30 mg were significantly superior to \\nfilgotinib 100 mg, ustekinumab, golimumab, and \\netrolizumab in maintaining clinical remission (moderate \\nconfidence; appendix p 21). In addition, upadacitinib \\n30 mg was significantly superior to ozanimod 1 mg \\n(appendix p 21). Upadacitinib 30 mg ranked highest for \\nthe maintenance of clinical remission in this study type \\n(SUCRA 0·954; appendix p 19).\\nWhen evaluating the maintenance of endoscopic \\nimprovement in our pairwise meta-analysis of studies of \\nrandomised responders, all interventions were significantly \\nsuperior to placebo, except for filgotinib 100 mg (appendix \\np 22). In our network meta-analysis assessing indirect \\ncomparisons of active treatments, upadacitinib 30 mg was \\nsignificantly superior to all other treatments, except for \\nupadacitinib 15 mg (moderate confidence), in the \\nmaintenance of endoscopic improvement (appendix p 21). \\nUpadacitinib 15 mg was significantly superior to \\nozanimod, filgotinib 100 mg, ustekinumab, golimumab, \\nand etrolizumab (moderate confidence; appendix p 21). \\nUpadacitinib 30 mg ranked highest for the maintenance of \\nendoscopic improvement among these studies of \\nrandomised responders (SUCRA 0·987; appendix p 15).\\nIn our evaluation of the maintenance of steroid-free \\nremission in studies of randomised responders, all \\ninterventions but filgotinib 100 mg, golimumab, and \\netrolizumab were significantly superior to placebo in our \\ndirect, pairwise meta-analysis (appendix p 23). In our \\nnetwork meta-analysis, tofacitinib (moderate confidence) \\nand subcutaneous vedolizumab (moderate confidence) \\nwere significantly superior to golimumab (appendix p 24). \\nTofacitinib was also significantly superior to etrolizumab \\n(moderate confidence; appendix p 24). Upadacitinib 30 mg \\nand upadacitinib 15 mg were significantly superior to \\nozanimod and golimumab (moderate confidence); in \\naddition, upadacitinib 30 mg was significantly superior to \\nintravenous vedolizumab (moderate confidence) and \\netrolizumab (moderate confidence; appendix p 24). \\nOzanimod was significantly inferior to tofacitinib and \\nsubcutaneous vedolizumab (appendix p 24). Tofacitinib \\nranked highest for the maintenance of steroid-free \\nremission in randomised responders trials (SUCRA \\n0·868; appendix p 19).\\nThe induction of clinical remission and endoscopic \\nimprovement was evaluated in biologic-naive and biologic-\\nexposed populations in prespecified analyses. Data for \\nupadacitinib according to previous biologic exposure were \\nnot available and so not included in this analysis. For the \\ninduction of clinical remission in biologic-naive patients, \\nall inter ventions, except for filgotinib 100 mg, were \\nsuperior to place bo in our pairwise, direct meta-analysis \\n(data not shown); heterogeneity was substantial (I²=57%). \\nWhen comparing active treatments in our network \\nmeta-analysis in the biologic-naive population, adali-\\nmumab (moderate confidence), etrolizumab (moderate \\ncon fidence), filgotinib 100 mg (moderate confidence), and \\nfilgotinib 200 mg (moderate confidence) were signifi-\\ncantly inferior to infliximab; additionally, ustekinumab, \\nvedolizumab, golimumab, and ozanimod were signifi-\\ncantly superior to filgotinib 100 mg (moderate confidence; \\nappendix p 25). Infliximab (SUCRA 0·853) and ozanimod \\n(0·847) ranked the highest for the induction of clinical \\nremission among biologic-naive patients (appendix p 26).\\nFor the induction of endoscopic improvement in \\nbiologic-naive patients, all interventions, except for \\nfilgotinib 100 mg, were significantly superior to placebo \\nin our direct, pairwise meta-analysis, with a low estimate \\nof heterogeneity (I²=23%; data not shown). In our \\nnetwork \\nmeta-analysis, \\nindirect \\ncomparison \\nof \\nactive treat ments showed that adalimumab (moderate \\nconfidence), golimumab (moderate confidence), and \\netrolizumab (moderate confidence) were significantly \\ninferior to infliximab; in addition, ustekinumab (moderate \\nconfidence) and ozanimod (moderate confidence) were \\nsignificantly superior to adalimumab (appendix p 25). \\nOverall, ustekinumab ranked highest for the induction of \\nendoscopic improvement in biologic-naive patients \\n(SUCRA 0·825; appendix p 26).\\nIn our direct, pairwise meta-analysis in biologic-exposed \\npatients, only ustekinumab, tofacitinib, and filgotinib \\n200 mg were significantly superior to placebo in the \\ninduction of clinical remission (I²=36%; data not \\nshown). Indirect comparison of active treatments in a \\nnet work meta-analysis showed that tofacitinib (moderate \\nconfidence), ustekinumab (moderate confidence), and \\netrolizumab (moderate confidence) were significantly \\nsuperior to adalimumab (appendix p 27). Additionally, \\ntofacitinib (moderate confidence) and ustekinumab \\n(mod erate confidence) were significantly superior to \\nvedoli zumab (appendix p 27). No other indirect \\ncomparison between active treatments was statistically \\nsignificant (appendix p 27). Tofacitinib (SUCRA 0·927) \\nand ustekinumab (0·887) ranked highest for the \\ninduction of clinical remission in biologic-exposed \\npatients (appendix p 26).\\nFor the induction of endoscopic improvement in biologic-\\nexposed patients, only tofacitinib and ustekinumab were \\n', metadata={'source': '/mnt/c/Users/QUAN/Desktop/medical-chatbot/data/document_store/uc/1-s2.0-S2468125321003770-main.pdf', 'file_path': '/mnt/c/Users/QUAN/Desktop/medical-chatbot/data/document_store/uc/1-s2.0-S2468125321003770-main.pdf', 'page': 6, 'total_pages': 10, 'format': 'PDF 1.7', 'title': 'Efficacy and safety of biologics and small molecule drugs for patients with moderate-to-severe ulcerative colitis: a systematic review and network meta-analysis', 'author': 'Juan S Lasa MD', 'subject': 'The Lancet Gastroenterology & Hepatology, 7 (2022) 161-170. doi:10.1016/S2468-1253(21)00377-0', 'keywords': '', 'creator': 'Elsevier', 'producer': 'Acrobat Distiller 6.0 for Windows', 'creationDate': \"D:20211223225432+05'30'\", 'modDate': \"D:20220108175830+05'30'\", 'trapped': '', 'modal': 'text'}),\n",
              "  Document(page_content='Articles\\n168 \\nwww.thelancet.com/gastrohep   Vol 7   February 2022\\nsignificantly superior to placebo in our direct, pairwise \\nmeta-analysis, with substantial heterogeneity (I²=57%; data \\nnot shown). As observed for clinical remission, our network \\nmeta-analysis found that both tofacitinib and ustekinumab \\nwere significantly superior to both vedolizumab and \\nadalimumab for the induction of endoscopic improvement \\n(moderate confidence; appendix p 27). Tofacitinib \\n(SUCRA 0·936) and ustekinumab (0·851) ranked highest \\nfor the induction of endoscopic improvement in biologic-\\nexposed patients (appendix p 26).\\nOverall, seven studies reported rates of histo logical \\nremission (ie, VARSITY, UNIFI, True North, SELECTION, \\nVISIBLE 1, LAUREL, and HICKORY) that could be \\ncompared. Results of our post-hoc, direct, pairwise meta-\\nanalysis for histological remission are shown in the \\nappendix (p 28).\\nDiscussion \\nWe reviewed available efficacy and safety data from RCTs \\nof biologics and small molecule drugs (approved or in a \\nlate stage of development) for induction and maintenance \\ntreatment of patients with moderate-to-severe ulcerative \\ncolitis. All small molecule drugs and approved biologics, \\nexcept filgotinib 100 mg, were significantly better than \\nplacebo in terms of inducing clinical remission and \\nendoscopic improvement. A novel finding of this study \\nwas that upadacitinib ranked highest for the induction of \\nclinical remission and endoscopic improvement, and \\nwas notably superior for these outcomes to all other \\ninterventions in our network meta-analysis. Infliximab \\nranked second for both outcomes. Regarding safety, \\nvedolizumab was still ranked as the safest drug in \\nterms of adverse events and serious adverse events, as \\npreviously \\nobserved \\nby \\nSingh \\nand \\ncolleagues.13 \\nUpadacitinib had the highest SUCRA for all adverse \\nevents, showing that its remarkable efficacy might come \\nat a cost of more adverse events. Results regarding \\nfilgotinib’s safety were puzzling: it had the second lowest \\nSUCRA for all adverse events, but ranked third highest \\nfor serious adverse events among active interventions. \\nRepresenting another novel finding of this study, \\ntofacitinib \\nand \\ninfliximab \\nwere \\nranked \\nhighest \\nfor the maintenance of steroid-free remission in \\nrandomised \\nresponders \\nand \\ntreat-straight-through \\nstudies, respectively.\\nOur study included RCTs evaluating infliximab, \\nadalimumab, golimumab, vedolizumab, ustekinumab, \\netrolizumab, \\ntofacitinib, \\nfilgotinib, \\nozanimod, \\nand \\nupadacitinib. Evidence regarding the induction of clinical \\nremission, endoscopic improvement, and safety outcomes \\nfrom 29 studies was synthesised, and indirect comparisons \\nbetween therapies were made. Since the most recent \\nsystematic review was published,13 a large amount of new \\ndata involving novel compounds has become available. \\nThis sheer increase in the number of therapeutic options \\nfor ulcerative colitis makes frequent updates of indirect \\ncomparisons useful in the clinical setting.\\nThe inflammatory bowel disease pipeline has shifted in \\nthe past 5 years towards small molecule drugs, in an \\neffort \\nto \\novercome \\nthe \\nintrinsic \\nlimitations \\nof \\nbiological \\ntreatment: \\nmoderate \\nefficacy, \\nloss \\nof \\nresponse, immunogenicity, and parenteral adminis-\\ntration. However, available data from RCTs of small \\nmolecule drugs show that they induce similar rates of \\nclinical remission and endoscopic improvement to \\nbiologics.42 Moreover, safety concerns have arisen \\nsurrounding the use of tofacitinib, especially regarding \\nthe potential risk of venous thromboembolism and \\nherpes zoster infection. One meta-analysis found an \\nincreased risk of herpes zoster infection with the use of \\nJAK inhibitors in patients with immune-mediated \\ninflammatory diseases, including inflammatory bowel \\ndisease.43 This adverse event could be easily prevented by \\nappropriate vaccination. The same meta-analysis did not \\nfind an increased risk of venous thromboembolism with \\nthe use of JAK inhibitors, although, until further evidence \\nbecomes available, caution is advised when considering \\nJAK inhibitors as treatment options, especially in patients \\nwith known risk factors for thrombosis. Selective JAK-1 \\ninhibitors, such as upadacitinib and filgotinib, were \\ndeveloped to improve the risk–benefit profile of this \\ntherapeutic class.44 However, in our study, upadacitinib \\nwas ranked highest for all adverse events and filgotinib \\nwas ranked third highest among active interventions (ie, \\nnot including placebo) for serious adverse events, \\nopposing this notion.\\nRepresenting a surprising finding of this study, \\nozanimod ranked highest for the occurrence of serious \\nadverse events. Ozanimod is a selective sphingosine \\n1-phosphate modulator approved for the treatment of \\nmultiple sclerosis and ulcerative colitis in the USA. Another \\nmeta-analysis showed that sphingosine 1-phosphate \\nmodulators are associated with an increased risk of herpes \\nzoster infection and transient cardiovascular events.45\\nOur study has several limitations besides the usual \\nlimitations of network meta-analyses. First, data from \\nsome clinical trials with newer small molecule drugs were \\nextracted from conference abstracts, and the full data could \\nnot be completely analysed. Notably, we could only analyse \\noutcomes for the overall population as the main analysis, \\nand not according to previous exposure to biologics. We \\ndid do an exploratory analysis according to previous \\nbiologic exposure, but data for upadacitinib could not be \\nincluded. Second, no phase 3 RCTs with etrasimod or \\nTD-1473 were found; results from phase 3 clinical trials \\ntesting novel small molecule drugs (eg, etrasimod) in \\npatients with moderate-to-severe ulcerative colitis are \\nexpected soon, which will warrant further updates \\nof this analysis. Additionally, several newer biologics, \\nespecially anti-IL-23 drugs (ie, risankizumab, mirikizumab, \\nguselkumab, and brazikumab), are also expected to yield \\npositive results in phase 3 clinical trials, so these data \\nshould also be considered in the future to determine \\ntheir position in treatment algorithms. Third, thorough \\n', metadata={'source': '/mnt/c/Users/QUAN/Desktop/medical-chatbot/data/document_store/uc/1-s2.0-S2468125321003770-main.pdf', 'file_path': '/mnt/c/Users/QUAN/Desktop/medical-chatbot/data/document_store/uc/1-s2.0-S2468125321003770-main.pdf', 'page': 7, 'total_pages': 10, 'format': 'PDF 1.7', 'title': 'Efficacy and safety of biologics and small molecule drugs for patients with moderate-to-severe ulcerative colitis: a systematic review and network meta-analysis', 'author': 'Juan S Lasa MD', 'subject': 'The Lancet Gastroenterology & Hepatology, 7 (2022) 161-170. doi:10.1016/S2468-1253(21)00377-0', 'keywords': '', 'creator': 'Elsevier', 'producer': 'Acrobat Distiller 6.0 for Windows', 'creationDate': \"D:20211223225432+05'30'\", 'modDate': \"D:20220108175830+05'30'\", 'trapped': '', 'modal': 'text'}),\n",
              "  Document(page_content='Articles\\nwww.thelancet.com/gastrohep   Vol 7   February 2022 \\n169\\ncomparisons between all the included studies could only \\nbe done for induction outcomes, as different trial designs \\n(treat-straight-through vs randomised res ponders) for \\nmaintenance studies could only be analysed in two \\ndifferent meta-analyses, in an approach similar to that \\nused by Singh and colleagues.13 Fourth, the included \\nstudies had important differences. Endoscopic outcomes \\nwere centrally read in more recent trials only; for most \\ntrials of biologics (except for the trials UNIFI31 and \\nVARSITY29), these outcomes were defined locally. \\nAdditionally, a more stringent definition of clinical \\nremission, with a rectal bleeding sub-score of 0, was used \\nin more recent clinical trials of small molecule drugs \\n(ie, tofacitinib, ozanimod, filgotinib, and upadacitinib). \\nFifth, we analysed steroid-free remission—a more robust \\nand \\nclinically \\nmeaningful \\noutcome \\nthan \\nclinical \\nremission—in maintenance trials only, as corticosteroid \\ntapering was not allowed in induction trials. In addition, \\nnot all clinical trials reported on steroid-free remission, \\nparticularly the older trials. Finally, some preliminary \\nreports, such as the trial of maintenance with subcutaneous \\nvedolizumab, did not report relevant data for endoscopic \\nimprovement. \\nAs with any indirect comparison, the results presented \\nin this study should be interpreted with caution but could \\nhelp clinicians to navigate the current scenario in which \\nthe number of therapeutic options for moderate-to-\\nsevere ulcerative colitis is steadily increasing. These \\nfindings should be interpreted as hypothesis-generating, \\nuntil direct comparisons by means of head-to-head trials \\nbecome available to fully elucidate the positioning of \\nthese therapies. Until then, these results might help \\nclinicians to position drugs in treatment algorithms.\\nContributors\\nLP-B contributed to the study concept and design. JSL and PAO \\ncontributed to data acquisition. JSL, PAO, and LP-B contributed to data \\nanalysis and data interpretation. PAO and JSL wrote the first draft of the \\nmanuscript. All authors critically revised the manuscript for intellectual \\ncontent. SD and LP-B were guarantors of the Article. JSL and PAO \\naccessed and verified the data. All authors had full access to all the data \\nin the study and had final responsibility for the decision to submit for \\npublication.\\nDeclaration of interests\\nJSL declares consulting fees from AbbVie and honoraria from Janssen. \\nPAO declares consulting fees from AbbVie, Takeda, and Janssen; \\nhonoraria from Takeda and Janssen; and financial support for attending \\nmeetings, travel, or both from AbbVie, Takeda, Janssen, and Ferring. \\nSD declares honoraria from AbbVie, Ferring, Hospira, Johnson and \\nJohnson, Merck, MSD, Takeda, Mundipharma, Pfizer, Tigenix, UCB \\nPharma, Vifor, Biogen, Celgene, Allergan, Celltrion, Sandoz, and \\nBoehringer Ingelheim. LP-B declares grants from AbbVie, MSD, Takeda, \\nand Fresenius Kabi; consulting fees from Galapagos, AbbVie, Janssen, \\nGenentech, Ferring, Tillots, Pharmacosmos, Celltrion, Takeda, Boerhinger \\nIngelheim, Pfizer, Index Pharmaceuticals, Sandoz, Celgene, Biogen, \\nSamsung Bioepis, Alma, Sterna, Nestle, Inotrem, Enterome, Allergan, \\nMSD, Roche, Arena, Gilead, Hikma, Amgen, BMS, Vifor, Norgine, Mylan, \\nLilly, Fresenius Kabi, Oppilan Pharma, Sublimity Therapeutics, Applied \\nMolecular Transport, OSE Immunotherapeutics, Enthera, Theravance, \\nand Pandion Therapeutics; honoraria from AbbVie, Galapagos, Janssen, \\nFerring, Tillots, Pharmacosmos, Celltrion, Takeda, Pfizer, Sandoz, Biogen, \\nMSD, Arena, Gilead, Hikma, Amgen, and Vifor; financial support for \\nattending meetings, travel, or both from AbbVie, Galapagos, Janssen, \\nFerring, Tillots, Pharmacosmos, Celltrion, Takeda, Pfizer, Sandoz, Biogen, \\nMSD, Arena, Gilead, Hikma, Amgen, and Vifor; participation on a data \\nsafety monitoring board or advisory board for Galapagos, AbbVie, Janssen, \\nGenentech, Ferring, Tillots, Pharmacosmos, Celltrion, Takeda, Boerhinger \\nIngelheim, Pfizer, Index Pharmaceuticals, Sandoz, Celgene, Biogen, \\nSamsung Bioepis, Alma, Sterna, Nestle, Inotrem, Enterome, Allergan, \\nMSD, Roche, Arena, Gilead, Hikma, Amgen, BMS, Vifor, Norgine, Mylan, \\nLilly, Fresenius Kabi, Oppilan Pharma, Sublimity Therapeutics, Applied \\nMolecular Transport, OSE Immunotherapeutics, Enthera, Theravance, \\nand Pandion Therapeutics; and stock options from CT-SCOUT. \\nData sharing\\nAll data are provided in the Article and its appendix.\\nReferences\\n1 \\nUngaro R, Mehandru S, Allen PB, Peyrin-Biroulet L, Colombel J-F. \\nUlcerative colitis. Lancet 2017; 389: 1756–70.\\n2 \\nCohen RD, Yu AP, Wu EQ, Xie J, Mulani PM, Chao J. Systematic \\nreview: the costs of ulcerative colitis in Western countries. \\nAliment Pharmacol Ther 2010; 31: 693–707.\\n3 \\nPaschos P, Katsoula A, Salanti G, Giouleme O, Athanasiadou E, \\nTsapas A. Systematic review with network meta-analysis: the impact \\nof medical interventions for moderate-to-severe ulcerative colitis on \\nhealth-related quality of life. Aliment Pharmacol Ther 2018; \\n48: 1174–85.\\n4 \\nOlivera P, Danese S, Peyrin-Biroulet L. Next generation of small \\nmolecules in inflammatory bowel disease. Gut 2017; 66: 199–209.\\n5 \\nOlivera P, Danese S, Peyrin-Biroulet L. JAK inhibition in \\ninflammatory bowel disease. Expert Rev Clin Immunol 2017; \\n13: 693–703.\\n6 \\nFeagan BG, Danese S, Loftus EV Jr, et al. Filgotinib as induction \\nand maintenance therapy for ulcerative colitis (SELECTION): \\na phase 2b/3 double-blind, randomised, placebo-controlled trial. \\nLancet 2021; 397: 2372–84. \\n7 \\nDanese S, Vermeire S, Zhou W, et al. OP24 efficacy and safety of \\nupadacitinib induction therapy in patients with moderately to \\nseverely active ulcerative colitis: results from the phase 3 \\nU-ACHIEVE study. J Crohn’s Colitis 2021; 15 (suppl 1): S022–24.\\n8 \\nVermeire S, Danese S, Zhou W, et al. OP23 efficacy and safety of \\nupadacitinib as induction therapy in patients with moderately to \\nseverely active ulcerative colitis: results from phase 3 \\nU-ACCOMPLISH study. J Crohn’s Colitis 2021; 15 (suppl 1): S021–22.\\n9 \\nThorlund K, Druyts E, Mills EJ, Fedorak RN, Marshall JK. \\nAdalimumab versus infliximab for the treatment of moderate to \\nsevere ulcerative colitis in adult patients naïve to anti-TNF therapy: \\nan indirect treatment comparison meta-analysis. J Crohn’s Colitis \\n2014; 8: 571–81.\\n10 \\nDanese S, Fiorino G, Peyrin-Biroulet L, et al. Biological agents for \\nmoderately to severely active ulcerative colitis: a systematic review \\nand network meta-analysis. Ann Intern Med 2014; 160: 704–11.\\n11 \\nSingh S, Fumery M, Sandborn WJ, Murad MH. Systematic review \\nwith network meta-analysis: first- and second-line pharmacotherapy \\nfor moderate-severe ulcerative colitis. Aliment Pharmacol Ther 2018; \\n47: 162–75.\\n12 \\nBonovas S, Lytras T, Nikolopoulos G, Peyrin-Biroulet L, Danese S. \\nSystematic review with network meta-analysis: comparative \\nassessment of tofacitinib and biological therapies for moderate-to-\\nsevere ulcerative colitis. Aliment Pharmacol Ther 2018; 47: 454–65.\\n13 \\nSingh S, Murad MH, Fumery M, Dulai PS, Sandborn WJ. First- and \\nsecond-line pharmacotherapies for patients with moderate to \\nseverely active ulcerative colitis: an updated network meta-analysis. \\nClin Gastroenterol Hepatol 2020; 18: 2179–91.e6.\\n14 \\nMoher D, Liberati A, Tetzlaff J, Altman DG. Preferred reporting \\nitems for systematic reviews and meta-analyses: the PRISMA \\nstatement. Ann Intern Med 2009; 151: 264–69.\\n15 \\nJansen JP, Fleurence R, Devine B, et al. Interpreting indirect \\ntreatment comparisons and network meta-analysis for health-care \\ndecision making: report of the ISPOR Task Force on Indirect \\nTreatment Comparisons Good Research Practices: part 1. \\nValue Health 2011; 14: 417–28.\\n16 \\nSterne JAC, Savović J, Page MJ, et al. RoB 2: a revised tool for \\nassessing risk of bias in randomised trials. BMJ 2019; 366: l4898.\\n17 \\nRücker G, Schwarzer G. Ranking treatments in frequentist network \\nmeta-analysis works without resampling methods. \\nBMC Med Res Methodol 2015; 15: 58.\\n', metadata={'source': '/mnt/c/Users/QUAN/Desktop/medical-chatbot/data/document_store/uc/1-s2.0-S2468125321003770-main.pdf', 'file_path': '/mnt/c/Users/QUAN/Desktop/medical-chatbot/data/document_store/uc/1-s2.0-S2468125321003770-main.pdf', 'page': 8, 'total_pages': 10, 'format': 'PDF 1.7', 'title': 'Efficacy and safety of biologics and small molecule drugs for patients with moderate-to-severe ulcerative colitis: a systematic review and network meta-analysis', 'author': 'Juan S Lasa MD', 'subject': 'The Lancet Gastroenterology & Hepatology, 7 (2022) 161-170. doi:10.1016/S2468-1253(21)00377-0', 'keywords': '', 'creator': 'Elsevier', 'producer': 'Acrobat Distiller 6.0 for Windows', 'creationDate': \"D:20211223225432+05'30'\", 'modDate': \"D:20220108175830+05'30'\", 'trapped': '', 'modal': 'text'}),\n",
              "  Document(page_content='REVIEWS IN BASIC AND CLINICAL GASTROENTEROLOGY\\nAND HEPATOLOGY\\nDouglas J. Robertson and Vincent W. Yang, Section Editors\\nApproach to the Management of Recently Diagnosed\\nInﬂammatory Bowel Disease Patients: A User’s Guide for Adult\\nand Pediatric Gastroenterologists\\nManasi Agrawal,1,* Elizabeth A. Spencer,2,* Jean-Frederic Colombel,1 and Ryan C. Ungaro1\\n1The Dr Henry D. Janowitz Division of Gastroenterology, Icahn School of Medicine at Mount Sinai, New York, New York; and\\n2The Division of Pediatric Gastroenterology and Nutrition, Icahn School of Medicine at Mount Sinai, New York, New York\\nInﬂammatory bowel diseases (IBDs), including Crohn’s\\ndisease and ulcerative colitis, are chronic, progressive,\\nimmune-mediated diseases of adults and children that\\nhave no cure. IBD can cause signiﬁcant morbidity and lead\\nto complications such as strictures, ﬁstulas, infections, and\\ncancer.\\nIn\\nchildren,\\nIBD\\ncan\\nalso\\nresult\\nin\\ngrowth\\nimpairment and pubertal delays. IBD is highly heteroge-\\nnous, with severity ranging from mild to severe and\\nsymptoms ranging from mild to debilitating. Delay in IBD\\ndiagnosis, especially in Crohn’s disease, is common and\\nassociated with adverse outcomes. Early diagnosis and\\nprompt institution of treatment are the cornerstones for\\nimproving outcomes and maximizing health. Early diag-\\nnosis requires a low threshold of suspicion and red ﬂags to\\nguide early specialist referral at the primary provider\\nlevel. Although the armamentarium of IBD medications is\\ngrowing, many patients will not respond to treatment, and\\nthe selection of ﬁrst-line therapy is critical. Risk stratiﬁ-\\ncation of disease severity, based on clinical, demographic,\\nand serologic markers, can help guide selection of ﬁrst-line\\ntherapy. Clinical decision support tools, genomics, and\\nother biomarkers of response to therapy and risk of\\nadverse events are the future of personalized medicine.\\nAfter starting appropriate therapy, it is important to\\nconﬁrm remission using objective end points (treat to\\ntarget) with continued control of inﬂammation with\\nadjustment of therapy using surrogate biomarkers (tight\\ncontrol). Lastly, IBD therapy extends far beyond medica-\\ntions, and other aspects of the overall health and wellbeing\\nof the patient are critical. These include preventive health,\\nnutrition, and psychobehavioral support addressing pa-\\ntients’\\nconcerns\\naround\\ncomplementary\\ntherapy\\nand\\nmedication\\nadherence,\\nprevention\\nof\\ndisability,\\nand\\nensuring open communication.\\nKeywords: Inﬂammatory Bowel Disease; Crohn’s Disease; Ul-\\ncerative Colitis; Early Diagnosis; Early Therapy; Personalized\\nTherapy; Adult; Pediatric.\\nI\\nnﬂammatory bowel diseases (IBDs), including the\\nmain subtypes Crohn’s disease (CD) and ulcerative\\ncolitis (UC), are chronic, progressive, immune-mediated\\ndiseases of the intestinal tract that have no cure.1,2 IBDs\\nare associated with signiﬁcant morbidity, disability, and risk\\nof complications.3,4 Although they can occur at any age, IBDs\\nare most common among adolescents and young adults. In\\ndeveloped counties, IBD incidence, although stable at\\napproximately 1%, is higher than mortality, leading to\\ncompounding prevalence and rising burden of IBDs.5 In\\ndeveloping countries, IBD incidence and prevalence are also\\non the rise, especially in the last few decades.6 Direct and\\nindirect costs of IBD are substantial. Within the United\\nStates, direct health care costs among IBD patients are 3\\ntimes as high compared as those among non-IBD patients.7,8\\nEarly management of IBD, including both diagnosis and\\ntreatment, are critical to improve quality of life and prevent\\ncomplications. This review summarizes the existing litera-\\nture on, and proposes a framework for how to best manage,\\nCD and UC early in the disease course in adult and pediatric\\npatients.\\nEarly Diagnosis and Treatment:\\nGateways for Improved Prognosis in\\nInﬂammatory Bowel Diseases\\nInﬂammatory Bowel Diseases Are Progressive\\nDiseases\\nThe natural history of both CD and UC can vary from\\nmild disease with few symptoms to complicated disease\\nwith strictures and ﬁstulas. In a French population-based\\nstudy\\nof\\nincident\\nCD,\\nthe\\ncumulative\\nprobability\\nof\\n*Authors share co-ﬁrst authorship.\\nAbbreviations used in this paper: ADA, adalimumab; AGA, American\\nGastroenterological Association; CD, Crohn’s disease; CDST, clinical\\ndecision support tool; CI, conﬁdence interval; CRP, C-reactive protein;\\nEEN, exclusive enteral nutrition; EIM, extraintestinal manifestation; FC,\\nfecal calprotectin; HR, hazard ratio; IBD, inﬂammatory bowel disease; ICR,\\nileocolic resection; IFX, inﬂiximab; IMM, immunomodulator; IQR, inter-\\nquartile range; MRI, magnetic resonance imaging; NUDT15, nudix hydro-\\nlase; OR, odds ratio; SUCRA, surface under the cumulative ranking; TDM,\\ntherapeutic drug monitoring; TPMT, thiopurine methyltransferase; TNFi,\\ntumor necrosis factor inhibitor; UC, ulcerative colitis; UST, ustekinumab;\\nVDZ, vedolizumab.\\nMost current article\\n© 2021 by the AGA Institute\\n0016-5085/$36.00\\nhttps://doi.org/10.1053/j.gastro.2021.04.063\\nGastroenterology 2021;161:47–65\\nREVIEWS AND\\nPERSPECTIVES\\n', metadata={'source': '/mnt/c/Users/QUAN/Desktop/medical-chatbot/data/document_store/uc/agrawal.pdf', 'file_path': '/mnt/c/Users/QUAN/Desktop/medical-chatbot/data/document_store/uc/agrawal.pdf', 'page': 0, 'total_pages': 19, 'format': 'PDF 1.7', 'title': \"Approach to the Management of Recently Diagnosed Inflammatory Bowel Disease Patients: A User's Guide for Adult and Pediatric Gastroenterologists\", 'author': 'Manasi Agrawal', 'subject': 'Gastroenterology, 161 (2021) 47-65. doi:10.1053/j.gastro.2021.04.063', 'keywords': '', 'creator': 'Elsevier', 'producer': 'Acrobat Distiller 8.1.0 (Windows)', 'creationDate': \"D:20210619033246+05'30'\", 'modDate': \"D:20210619033336+05'30'\", 'trapped': '', 'modal': 'text'}),\n",
              "  Document(page_content='perianal CD varied between 11% and 19% at 1–10 years\\nafter diagnosis.9 In a study of 983 patients with CD in Asia,\\nstricturing or penetrating CD occurred in 41% and perianal\\ndisease in 25% of patients.10 At the other end of the spec-\\ntrum, incidental terminal ileitis can be diagnosed in 1.6% of\\nindividuals undergoing nondiagnostic colonoscopy, with an\\nuncertain but likely low rate of progression to overt CD.11\\nWith respect to UC, most patients have mild to moderate\\nseverity and 10%–15% of patients can experience a severe\\ncourse.12 In a population-based cohort study, proctosigmoid\\nlocation of colitis occurred in 73% of patients; of these,\\ndisease extension occurred in 23% of patients at 7 years of\\nfollow-up and it was a marker of worse prognosis.13 The\\nrisk of surgery for CD and UC can be up to 46.6% and 15.6%\\n10 years after diagnosis, respectively, and has decreased\\nsigniﬁcantly during the last 6 decades.14\\nThe symptoms associated with IBD can be waxing and\\nwaning, but the underlying systemic inﬂammation can lead\\nto progressive, cumulative, and often irreversible intestinal\\ndamage\\nand\\nrisk\\nof\\ncomplications\\nif\\nnot\\ntreated\\nadequately.15\\nComplications\\nassociated\\nwith\\nongoing\\ninﬂammation in CD include strictures, obstructions, ﬁstulas,\\nabscesses, and surgery,3,16 and those associated with UC\\ninclude loss of colonic and anorectal function, surgery, and\\ncolorectal cancer.2,4,17 Other complications include anemia,\\nnutritional deﬁciencies, loss of bone density, and progres-\\nsive loss of quality of life. In children, persistent inﬂamma-\\ntion\\nis\\nassociated\\nwith\\ngrowth\\nimpairment,\\nrisking\\npermanent loss of height.18 Similar to other chronic dis-\\neases, such as rheumatoid arthritis, the concept of cumula-\\ntive damage is now acknowledged in IBD and can be\\nmeasured using validated tools, such as the Lemann Index.19\\nLimited Correlations Among Inﬂammation,\\nSymptoms, and Complications\\nThe concordance between intestinal inﬂammation and\\nsymptoms can be limited, especially in CD.20,21 In a\\npopulation-based cohort, more than 20% of CD patients\\nwere found to have strictures and penetrating disease at the\\ntime of diagnosis, suggesting that clinically silent inﬂam-\\nmation may precede formal diagnosis.22 The STRIDE\\n(Selecting Therapeutic Targets in Inﬂammatory Bowel Dis-\\nease) recommendations, updated recently, are meant to\\ntarget endoscopic healing, minimize disability, and restore\\nquality of life and adequate growth in children, in addition\\nto control of symptoms.23 Therefore, rather than a gradual\\n“step-up” approach, in which treatment adjustment is based\\non the severity of symptoms, the recommended treat-to-\\ntarget approach aims to achieve endoscopic healing and\\ncontrol of inﬂammation and involves early, aggressive\\ntreatment in appropriate patients.23\\nDelay in Diagnosis Leads to Adverse Outcomes\\nDelay in diagnosis is more common in CD than UC\\n(median delay, 7.6 months; interquartile range [IQR], 3.1–\\n15.0 months and 3.3 months; IQR, 1.9–7.3 months, respec-\\ntively; P < .001).24 Data from the Swiss IBD cohort\\ndemonstrate that CD diagnosis can be delayed in pediatric\\nand adult patients by 3 months (IQR, 1–9 months) and 6\\nmonths (IQR, 1–24 months), respectively. Adults were more\\nlikely to present with strictures (P < .001) and require\\nbowel surgery (P < .001). Furthermore, the duration of\\ndiagnostic delay has been associated with complications\\nsuch as strictures and internal ﬁstulae.25 In a study, of adult\\nCD patients in France, delay in diagnosis longer than 13\\nmonths was associated with higher risk of a major surgery\\n(P ¼ .05).26\\nEvidence of Disease Activity Before Diagnosis\\nThere is a signiﬁcant increase in gastrointestinal symp-\\ntoms before IBD diagnosis (9.6% and 10.4% 5 years before\\nCD and UC diagnosis, respectively, compared with 5.8% of\\ncontrols).27 In addition, patients who were diagnosed with\\nirritable bowel syndrome or depression were less likely to\\nreceive timely specialist referral (irritable bowel syndrome:\\nhazard ratio [HR], 0.77; 95% conﬁdence interval [CI], 0.60–\\n0.99, depression: HR, 0.77, 95% CI, 0.60–0.98), suggesting\\nthat delays in IBD diagnosis may be related to focusing on\\ncomorbid or inaccurate diagnoses.27 In a population-based\\nstudy using data from the Danish registry, Vadstrup\\net al28 found a signiﬁcant increase in costs associated with\\nhealth care services, prescription medicine, home care ser-\\nvices, and labor productivity loss in the 10 years before IBD\\ndiagnosis.\\nGrowth Impairment and Pubertal Delays in\\nChildren\\nIBD and ongoing inﬂammation can lead to impairment of\\ngrowth and pubertal development to children. Impaired\\nlinear growth may be the only presenting symptom of IBD\\nin pediatric patients.29,30 Growth impairment is multifacto-\\nrial in nature, representing the summation of nutritional\\ndeﬁciencies, altered eating habits, inﬂammatory cytokines,\\nand corticosteroid use. Marked growth impairment at\\ndiagnosis, deﬁned as a height z-score < –2.5, is a poor\\nprognostic sign.31 Furthermore, IBD patients exhibit “catch\\nup” growth beyond the typically expected age for growth\\nplate closure (median additional years to reach adult height:\\nmale patients with CD, 1.9 years and male patients with UC,\\n2.5 years; female patients with CD: 2.6 years and female\\npatients with UC, 2.8 years), suggesting that achieving\\nremission even after reaching adolescence may allow for\\nmaximal growth potential.18\\nEarly Management Can Alter Disease Course and\\nPrevent Complications\\nData have consistently demonstrated that long-term IBD\\ncomplications are mitigated by early treatment and remis-\\nsion. In the long-term follow-up data from the CALM trial,\\npatients with early CD who achieved deep remission,\\ncompared to those who did not, had a signiﬁcantly lower\\nrisk of new ﬁstulas, abscesses, hospitalization, or surgery for\\nCD (adjusted HR, 0.19; 95% CI, 0.07–0.31) during a median\\n3 years’ follow-up.32 Other CD studies have similarly\\ndemonstrated\\nthat\\nearly\\ntreatment\\nis\\nindependently\\n48\\nAgrawal et al\\nGastroenterology Vol. 161, No. 1\\nREVIEWS AND\\nPERSPECTIVES\\n', metadata={'source': '/mnt/c/Users/QUAN/Desktop/medical-chatbot/data/document_store/uc/agrawal.pdf', 'file_path': '/mnt/c/Users/QUAN/Desktop/medical-chatbot/data/document_store/uc/agrawal.pdf', 'page': 1, 'total_pages': 19, 'format': 'PDF 1.7', 'title': \"Approach to the Management of Recently Diagnosed Inflammatory Bowel Disease Patients: A User's Guide for Adult and Pediatric Gastroenterologists\", 'author': 'Manasi Agrawal', 'subject': 'Gastroenterology, 161 (2021) 47-65. doi:10.1053/j.gastro.2021.04.063', 'keywords': '', 'creator': 'Elsevier', 'producer': 'Acrobat Distiller 8.1.0 (Windows)', 'creationDate': \"D:20210619033246+05'30'\", 'modDate': \"D:20210619033336+05'30'\", 'trapped': '', 'modal': 'text'}),\n",
              "  Document(page_content='associated with improved long-term outcomes.33 Data on\\nthe impact of early therapy in UC are more limited, but, as\\nUC is also a progressive disease with risk of colorectal\\ncancer, surgery, and loss of colonic function, it is reasonable\\nto treat early to mitigate these risks.\\nHow to Diagnose Inﬂammatory Bowel Disease\\nEarly\\nIBD is heterogenous with wide variation in presentation.\\nDisease activity at presentation can range from mild to severe\\nand, as discussed, symptoms may be mild to none. These can\\nmake the IBD diagnosis challenging, especially at a primary\\ncare level. Danese et al34 have proposed a Red Flags Index\\nconsisting of a 21-item questionnaire to help providers triage\\nand identify patients with concerning symptoms in a timely\\nmanner and refer to specialists appropriately. A useful adjunct\\nto symptom-based criteria is fecal calprotectin (FC), a stool\\nmarker of inﬂammation; in a large meta-analysis, FC � 40 mg/\\ng carried a �1% probability of IBD, effectively excluding the\\ndiagnosis of IBD.35 Similarly, in the Red Flags Index validation\\nstudy, combining the index with FC (Red Flags Index �8 and/\\nor FC >250 mg/g) increased the positive predictive value from\\n4% to 21% and negative predictive value from 97% to\\n100%.36 Diagnostic criteria for IBD involve a composite of\\nclinical symptoms, endoscopic, biomarker, and cross-sectional\\nimaging features, which are beyond the scope of this review.\\nWe refer readers to the excellent guidelines laid out by the\\nAmerican College of Gastroenterology, European Crohn’s and\\nColitis\\nOrganization,\\nand\\nBritish\\nSociety\\nof\\nGastro-\\nenterology.37–40\\nRisk Stratiﬁcation and Prognostication\\nat Diagnosis\\nAppropriately\\nrisk-stratifying\\nprognosis\\nin\\npatients\\nrecently diagnosed with IBD is essential to inform selection\\nof the most appropriate treatment and monitoring strate-\\ngies. CD and UC phenotype and disease activity at initial\\npresentation can vary widely from limited and mild to\\nextensive and complicated. Certain baseline clinical features\\nare associated with a more aggressive disease course with\\nhigher risk of progression and complications. In higher-risk\\npatients, early control of inﬂammation with immune-\\nmodifying therapies is critical. However, immunosuppres-\\nsive therapies are associated with safety concerns in the\\nshort- and long-term, and entail signiﬁcant health care costs.\\nTherefore, a consideration of risks, beneﬁts, and alternatives\\nis key to develop an individualized therapeutic plan for the\\ninformed patient.\\nIt is important to differentiate between disease activity\\nand severity. Although the former refers to the burden of\\ninﬂammation at any given point in time, the latter takes into\\naccount the disease phenotype and course, and is helpful in\\ndetermining\\nprognosis\\nand\\npredicting\\ncomplications\\n(Figure 1). For example, a patient with low disease activity\\n(little to no symptoms and low inﬂammatory markers) may\\nactually have high severity (due to disease history or\\nbehavior) increasing the risk for disease progression, and\\nshould be managed more proactively and aggressively. We\\nwill review predictors of IBD severity and activity.\\nAge of Inﬂammatory Bowel Disease Diagnosis\\nNumerous studies suggest that younger age at diagnosis\\nis tied to adverse outcomes in both CD and UC.41 In CD,\\nbeing diagnosed before the age of 40 years is associated\\nwith an increased risk (odds ratio [OR], 2.1; 95% CI, 1.3–\\n3.6) of disabling disease 5 years after diagnosis, including\\nhigher rates of surgery, hospitalization, steroid dependence,\\nand disease recurrence.42,43 In UC, younger age at diagnosis\\nis linked to more frequent relapses, colectomy, and colo-\\nrectal cancer.44,45 There are conﬂicting data on the disease\\ncourse in the very-early-onset IBD population of patients\\ndiagnosed before age 6 years, with studies reporting both\\nsimilar\\nand\\nworse\\noutcomes\\nin\\nvery-early-onset\\nIBD\\ncompared to the general pediatric population.46 Similar to\\nthe youngest patients with IBD, elderly-onset IBD (diag-\\nnosed at 60–65 years of age) has conﬂicting evidence on\\nprognosis, with 1 study reporting fewer hospitalizations and\\nless frequent requirement of immunosuppression in pa-\\ntients diagnosed after age 60 years,47 and a meta-analysis\\nsuggested\\nthat,\\nalthough\\nelderly\\nIBD\\npresents\\nless\\ncommonly with complications, there are similar or higher\\nrates of surgery compared to a nonelderly population.48 It is\\nbeing increasingly recognized that frailty, rather than\\nchronologic age, may be the driver of adverse outcomes in\\nthis group.49,50\\nOther Demographic Variables\\nThere are signiﬁcant differences in IBD phenotype\\nand outcomes based on race and ethnicity, likely due to\\na multitude of factors, both social and biologic. Emer-\\ngency department use, hospitalization, complicated dis-\\nease\\ncourse,\\nand\\nIBD-related\\ndisability\\nare\\nmore\\ncommon in minority and lower socioeconomic status\\ngroups.51,52 In a study of 770 patients with IBD, South\\nAsian immigrants living in the United Kingdom were\\nmore\\nlikely\\nto\\nhave\\nextensive\\nUC\\nand\\ncolonic\\nCD\\ncompared with their native counterparts,53 which might\\nbe related, in part, to limited access to care.54 Genes\\nimplicated in IBD risk also differ in non-White compared\\nwith White patients with IBD.55 Being aware of the\\nhigher vulnerability to adverse IBD-related outcomes in\\nthese vulnerable groups should prompt careful moni-\\ntoring to limit adverse outcomes.\\nThere are increasing data on sex-based differences in\\nIBD phenotype and outcomes, which may signal differences\\nin pathogenic pathways and progression. Of note, extra-\\nintestinal manifestations (EIMs) consistently tend to be\\nmore common in female patients (CD: OR, 2.3; 95% CI, 1.9–\\n2.8 and UC: OR, 1.5; 95% CI, 1.1–2.3, in a large Dutch Bio-\\nBank).56 Similarly, in a retrospective pediatric study of\\nnearly 1000 patients with CD, girls were more likely to have\\nEIMs and less likely to have growth impairment compared\\nwith boys,57 the latter is possibly related to lower insulin-\\nlike growth factor-1 level in boys.58\\nJuly 2021\\nManagement of early IBD\\n49\\nREVIEWS AND\\nPERSPECTIVES\\n', metadata={'source': '/mnt/c/Users/QUAN/Desktop/medical-chatbot/data/document_store/uc/agrawal.pdf', 'file_path': '/mnt/c/Users/QUAN/Desktop/medical-chatbot/data/document_store/uc/agrawal.pdf', 'page': 2, 'total_pages': 19, 'format': 'PDF 1.7', 'title': \"Approach to the Management of Recently Diagnosed Inflammatory Bowel Disease Patients: A User's Guide for Adult and Pediatric Gastroenterologists\", 'author': 'Manasi Agrawal', 'subject': 'Gastroenterology, 161 (2021) 47-65. doi:10.1053/j.gastro.2021.04.063', 'keywords': '', 'creator': 'Elsevier', 'producer': 'Acrobat Distiller 8.1.0 (Windows)', 'creationDate': \"D:20210619033246+05'30'\", 'modDate': \"D:20210619033336+05'30'\", 'trapped': '', 'modal': 'text'}),\n",
              "  Document(page_content='Disease Phenotype and Clinical Characteristics\\nThe International Organization for the Study of Inﬂam-\\nmatory Bowel Disease and the American Gastroenterological\\nAssociation (AGA) provide a framework for categorization of\\nCD and UC severity into mild-, moderate-, and high-risk\\ngroups based on phenotype and other characteristics.59,60\\nIn CD, the presence of large or deep mucosal lesions on\\nendoscopy or magnetic resonance imaging (MRI), history of\\na ﬁstula, abscess, or intestinal resection are predictors of\\nworse outcomes.59,60 In a prospective population-based\\ninception cohort of 213 patients with CD, penetrating\\nbehavior was associated with a higher risk of progression to\\nperianal disease (HR, 5.65; 95% CI, 2.65–12.03) and was a\\nrisk factor for resection (HR, 3.92; 95% CI, 1.86–8.67) and\\nhospitalization (HR, 1.01; 95% CI, 1.00–1.01).16 Ileal and\\nupper gastrointestinal disease location and extensive dis-\\nease are also markers of severe disease.61 Cigarette smoking\\nis associated with complications and need for therapy\\nescalation.61\\nIn CD, the threshold of suspicion should be low for high-\\nquality imaging of the pelvis, such as MRI, to rule our\\nperianal CD. In a retrospective study of 136 pediatric CD\\npatients, presence of anal ﬁssures and skin tags, non-White\\nrace, and elevated C-reactive protein (CRP) were risk factors\\nfor perianal CD.62 In another study of 274 patients in China\\nwith recently diagnosed CD, all of whom underwent MRI\\npelvis, asymptomatic perianal ﬁstulas were diagnosed in\\n17.5% of patients and colonic location of CD was a risk\\nfactor for asymptomatic perianal ﬁstulas.63\\nIn UC, corresponding predictors of aggressive disease\\nadvised by the International Organization for the Study of\\nInﬂammatory Bowel Disease include active colonic ulcers\\nand prior use of biologics.59 Extensive colitis, deep ulcers,\\nneed for corticosteroids, hospitalization, Clostridium difﬁcile,\\nand cytomegalovirus infection also indicate higher colec-\\ntomy risk.64 Of note, disease extension from limited disease\\nto\\nextensive\\nor\\npancolitis\\nis\\nassociated\\nwith\\nworse\\nprognosis.45,65\\nIn addition, co-occurrence of other immune-mediated\\ninﬂammatory diseases can occur, most commonly with\\npsoriasis and asthma, but also, in more rare instances, with\\nother gastrointestinal diseases (eg, celiac, nonalcoholic fatty\\nliver disease,66 and eosinophilic esophagitis).67,68 Presence\\nof a concomitant immune-mediated inﬂammatory disease is\\nFigure\\n1. Inﬂammatory\\nbowel disease severity vs\\ndisease activity variables.\\nASCA, anti-Saccharomyces\\ncerevisiae\\nantibodies;\\nANCA,\\nanti-neutrophil\\ncytoplasmic\\nantibodies;\\nGMCSF,\\ngranulocyte-\\nmacrophage\\ncolony-\\nstimulating\\nfactor;\\nTI,\\nterminal ileum.\\n50\\nAgrawal et al\\nGastroenterology Vol. 161, No. 1\\nREVIEWS AND\\nPERSPECTIVES\\n', metadata={'source': '/mnt/c/Users/QUAN/Desktop/medical-chatbot/data/document_store/uc/agrawal.pdf', 'file_path': '/mnt/c/Users/QUAN/Desktop/medical-chatbot/data/document_store/uc/agrawal.pdf', 'page': 3, 'total_pages': 19, 'format': 'PDF 1.7', 'title': \"Approach to the Management of Recently Diagnosed Inflammatory Bowel Disease Patients: A User's Guide for Adult and Pediatric Gastroenterologists\", 'author': 'Manasi Agrawal', 'subject': 'Gastroenterology, 161 (2021) 47-65. doi:10.1053/j.gastro.2021.04.063', 'keywords': '', 'creator': 'Elsevier', 'producer': 'Acrobat Distiller 8.1.0 (Windows)', 'creationDate': \"D:20210619033246+05'30'\", 'modDate': \"D:20210619033336+05'30'\", 'trapped': '', 'modal': 'text'}),\n",
              "  Document(page_content='associated with worse outcomes. In a systematic review of\\n93 studies, the risk of extensive or pancolitis and IBD-\\nrelated surgery was higher in IBD patients with immune-\\nmediated inﬂammatory diseases (risk ratio, 1.38; 95% Cl,\\n1.25–1.52; P < .01; I2 ¼ 86% and risk ratio, 1.17; 95% Cl,\\n1.01–1.36; P ¼ .03; I2 ¼ 85%, respectively).69\\nSerologic Biomarkers\\nOf routinely available serologic biomarkers, CRP, an\\ninterleukin-6–dependent acute-phase reactant, is correlated\\nwith inﬂammatory burden, albeit nonspeciﬁcally, and is\\nused for IBD risk stratiﬁcation, with higher CRP (�5 mg/dL)\\nconsistent with moderate to severe disease.59,70 In addition,\\ncommercially available IBD serologic markers can help with\\nprognostication. These include perinuclear antineutrophil\\nantibody and several antimicrobial antibodies, notably anti-\\nSaccharomyces cerevisiae antibody, antibody to Escherichia\\ncoli outer-membrane porin C, and antibody to ﬂagellin\\n(CBir1). In the Pediatric RISK Stratiﬁcation study, a large\\nprospective study of CD, patients positive for 2 or more\\nserologic markers (anti-Saccharomyces cerevisiae antibody,\\nouter-membrane porin C, and/or CBir1) progressed to a\\npenetrating or stricturing complication more quickly than\\nthose with only 1 serologic marker, and those receiving anti-\\nTNF in this cohort had a reduced likelihood of progression\\nto penetrating complications, indicating a window to change\\ndisease complication.41 Another autoantibody of interest is\\nthat to granulocyte-macrophage colony-stimulating factor,\\nof which high expression has been associated with stric-\\nturing and penetrating behavior in adult and pediatric\\nCD.71,72\\nFecal Calprotectin\\nStool markers of inﬂammation, of which FC is the\\nmost widely used, are more speciﬁc for bowel inﬂam-\\nmation compared to serum markers.73 FC is limited by\\npatients’ reticence to collect stool and lack of speciﬁcity\\nfor IBD, but it remains an important tool for stratifying\\nnewly diagnosed patients with IBD for risk of progres-\\nsion and response to ﬁrst therapy. Practically, it is\\nimportant to discuss the collection with patients, high-\\nlighting that the sample can be from any time, only a\\nsmall amount of stool is necessary for the analysis and,\\ngiven instability at room temperature leading to falsely\\nlow values, it should be remitted to the laboratory\\nimmediately or placed in the refrigerator,74 not the\\nfreezer, for the most accurate results. If the result is\\nunexpectedly high, it is appropriate to repeat based on\\nclinical judgment, as there can be variability among\\nmeasurements within the same individual even on the\\nsame day.75 Lastly, there is variability between assays\\nand it is important to use assay-speciﬁc cutoff values\\nuntil there is standardization.76\\nFC has been shown to accurately discriminate between\\nendoscopic disease severity in both UC73 and CD.77 Kennedy\\net al78 demonstrated that an elevated FC (>250 mg/g) at\\nindex visit for CD was associated with increased rates of\\ndisease\\nprogression.\\nMore\\nrecently,\\nthe\\nsame\\ngroup\\nreported that achieving an FC <250 mg/g within 12 months\\nof diagnosis was associated with a reduction in the risk of\\ndisease progression.79\\nGenetic Risk Predictors\\nThere are more than 200 identiﬁed risk loci for IBD.55,80\\nIBD susceptibility mutations in nucleotide-binding oligo-\\nmerization domain 2 (NOD2), which is involved in the host–\\nmicrobe immune response, were the ﬁrst identiﬁed and\\nconfer the greatest risk for IBD.81,82 In a large genotype–\\nphenotype study of CD, NOD2 was noted to be strongly\\ntied to ileal disease location and younger age at diagnosis\\nand, when accounting for ileal disease location, an associa-\\ntion with stricturing disease no longer remained.83\\nPolygenic risk scores (a summation of risk alleles\\nweighted by effect size derived from genome-wide associ-\\nation studies) have been studied, but the methods used to\\ncreate the scores vary widely. Within the RISK cohort,\\nneither a polygenic risk score nor NOD2 were associated\\nwith stricturing or ﬁstulizing behavior.41 As more expansive,\\ngenome-wide polygenic risk scores improve and evolve with\\nthe help of more sophisticated techniques, they continue to\\nwarrant further exploration as a prognostic test.84\\nRisk Prediction Tools\\nRisk prediction models are being incorporated consis-\\ntently across diseases toward risk stratiﬁcation and shared\\ndecision-making at the individual level. For CD patients,\\nSiegel et al85 developed and validated a web-based predic-\\ntion tool (PROSPECT) to individualize risk of complications\\nusing clinical, serologic, and genetic markers. Variables in\\nthe prediction tool included the presence of small bowel\\ndisease (HR, 2.12; 95% CI, 1.05–4.29), left colonic disease\\n(HR, 0.73; 95% CI, 0.49–1.09), perianal disease (HR, 4.12;\\n95% CI, 1.01–16.88), anti-Saccharomyces cerevisiae antibody\\n(HR, 1.35; 95% CI, 1.16–1.58), anti-CBir1 (HR, 1.29; 95% CI,\\n1.07–1.55), anti-neutrophil cytoplasmic antibody (HR, 0.77;\\n95% CI, 0.62–0.95), and the NOD2 frameshift mutation/\\nSNP13 (HR, 2.13; 95% CI, 1.33–3.40), with a predictive ac-\\ncuracy of 73% and 75% in adults and children, respectively.\\nThis is expected to be available for clinical use in early 2021.\\nClinical risk features (disease severity), as well as degree\\nof intestinal inﬂammation (disease activity), can be very\\nuseful to stratify outcomes of IBD and guide personalized\\ntherapy. Newer biomarkers, serologic and genetic, will help\\nimprove the precision of IBD therapy.\\nEarly Therapy of Inﬂammatory Bowel\\nDisease\\nRisk stratiﬁcation is a key element of determining the\\ninitial selection of IBD therapy. Medication safety proﬁle,\\npatient preference, and payer preference are other impor-\\ntant variables to consider. For the purpose of this discus-\\nsion, we risk-stratify patients into mild, moderate, or severe\\ndisease\\nbased\\non\\nguidance\\nlaid\\nout\\nby\\nthe\\nAGA\\n(Figure 2)60,64 and illustrate therapeutic options for CD and\\nUC in Figures 3 and 4, respectively.\\nJuly 2021\\nManagement of early IBD\\n51\\nREVIEWS AND\\nPERSPECTIVES\\n', metadata={'source': '/mnt/c/Users/QUAN/Desktop/medical-chatbot/data/document_store/uc/agrawal.pdf', 'file_path': '/mnt/c/Users/QUAN/Desktop/medical-chatbot/data/document_store/uc/agrawal.pdf', 'page': 4, 'total_pages': 19, 'format': 'PDF 1.7', 'title': \"Approach to the Management of Recently Diagnosed Inflammatory Bowel Disease Patients: A User's Guide for Adult and Pediatric Gastroenterologists\", 'author': 'Manasi Agrawal', 'subject': 'Gastroenterology, 161 (2021) 47-65. doi:10.1053/j.gastro.2021.04.063', 'keywords': '', 'creator': 'Elsevier', 'producer': 'Acrobat Distiller 8.1.0 (Windows)', 'creationDate': \"D:20210619033246+05'30'\", 'modDate': \"D:20210619033336+05'30'\", 'trapped': '', 'modal': 'text'}),\n",
              "  Document(page_content='Early Therapy for Crohn’s Disease\\nMedical therapy. There is good evidence-based guid-\\nance for the management of moderate to severe CD, but the\\ntreatment of mild CD is less clear in the absence of clinical\\ntrials devoted to this group of patients. In a small minority\\nof cases that have mild inﬂammatory CD with mild endo-\\nscopic activity, no symptoms and no evidence of stricturing\\nor ﬁstulizing, the risk of progression is likely to be low.86 It\\nFigure 2. Stratiﬁcation of\\ninﬂammatory\\nbowel\\ndis-\\nease risk of progression\\nbased on disease severity\\nand\\nactivity.\\nBMI,\\nbody\\nmass index; CDAI, Crohn’s\\nDisease\\nActivity\\nIndex;\\nESR,\\nerythrocyte\\nsedi-\\nmentation\\nrate;\\nUCEIS,\\nUlcerative\\nColitis\\nEndo-\\nscopic Index of Severity.\\n*Refer to Figure 1. **From\\nTorres\\net\\na1,1\\nadapted\\nwith permission. ***From\\nRubin et al,38 adapted with\\npermission.\\n52\\nAgrawal et al\\nGastroenterology Vol. 161, No. 1\\nREVIEWS AND\\nPERSPECTIVES\\n', metadata={'source': '/mnt/c/Users/QUAN/Desktop/medical-chatbot/data/document_store/uc/agrawal.pdf', 'file_path': '/mnt/c/Users/QUAN/Desktop/medical-chatbot/data/document_store/uc/agrawal.pdf', 'page': 5, 'total_pages': 19, 'format': 'PDF 1.7', 'title': \"Approach to the Management of Recently Diagnosed Inflammatory Bowel Disease Patients: A User's Guide for Adult and Pediatric Gastroenterologists\", 'author': 'Manasi Agrawal', 'subject': 'Gastroenterology, 161 (2021) 47-65. doi:10.1053/j.gastro.2021.04.063', 'keywords': '', 'creator': 'Elsevier', 'producer': 'Acrobat Distiller 8.1.0 (Windows)', 'creationDate': \"D:20210619033246+05'30'\", 'modDate': \"D:20210619033336+05'30'\", 'trapped': '', 'modal': 'text'}),\n",
              "  Document(page_content='may be reasonable to monitor such patients off therapy with\\nclose follow-up and frequent symptom reassessment and\\nmonitoring of FC and CRP. If patients have mild disease\\nactivity, then an 8-week course of budesonide can be tried\\nand patients can be monitored off therapy after stopping\\nsteroids. Immunomodulators (IMMs) may be a consider-\\nation in moderate disease nonresponsive to budesonide;\\nhowever, long-term safety concerns limit this approach.60\\nDue to lack of head-to-head trials, biologic positioning is\\nreliant on indirect data, such as network meta-analyses and\\nreal-world retrospective studies. In the former, the surface\\nunder the cumulative ranking (SUCRA), a measure of the\\nrelative ranking of each treatment, is used for comparisons.\\nSUCRA ranges from 0 to 1, with a higher number indicating\\nhigher ranking. For the management of early moderate to\\nsevere CD, tumor necrosis factor inhibitors (TNFis) remain\\nthe mainstay of treatment. In a network meta-analysis of\\nrandomized controlled trial data,87 inﬂiximab (IFX) and\\nadalimumab (ADA) were superior to other therapies for\\nmoderate CD (SUCRA 0.93 and 0.75, respectively). Of note,\\nbiosimilars are approved as inexpensive alternatives to\\nIFX.88 Ustekinumab (UST) was associated with a lower risk\\nof serious adverse events and infections (SUCRA 0.72 and\\n0.71, respectively), and may be a consideration among risk-\\naverse patients. In moderate CD, especially when limited to\\nthe colon and no high-risk features, vedolizumab (VDZ) and\\nUST are efﬁcacious ﬁrst-line options with good safety\\nproﬁles. In addition, although response to VDZ is lower\\namong TNFi exposed, biologic-naïve patients have higher\\nrates of response. Results from ongoing head-to-head trials\\nsuch\\nas\\nUST\\nvs\\nadalimumab\\n(ClinicalTrials.gov\\nID:\\nNCT03464136) and risankizumab vs UST (ClinicalTrials.\\ngov ID: NCT04524611) will help clarify the positioning of\\nbiologics.\\nIn the case of severe CD, or when particularly high-risk\\nfeatures, such as ﬁstulizing or stricturing disease, or prox-\\nimal involvement, a TNFi, particularly IFX, remains the ﬁrst\\nchoice. Of note, there is no beneﬁt of concomitant mesal-\\namine with biologic therapy in CD and it should be stopped\\nat the time of escalation to a biologic.89\\nFigure\\n3. Therapeutic\\nstrategies\\nfor\\nthe\\nman-\\nagement of recently diag-\\nnosed CD. IMMs include\\nthiopurines\\nand\\nmetho-\\ntrexate.\\nCDED,\\nCrohn’s\\ndisease exclusion diet; TI,\\nterminal ileum.\\nJuly 2021\\nManagement of early IBD\\n53\\nREVIEWS AND\\nPERSPECTIVES\\n', metadata={'source': '/mnt/c/Users/QUAN/Desktop/medical-chatbot/data/document_store/uc/agrawal.pdf', 'file_path': '/mnt/c/Users/QUAN/Desktop/medical-chatbot/data/document_store/uc/agrawal.pdf', 'page': 6, 'total_pages': 19, 'format': 'PDF 1.7', 'title': \"Approach to the Management of Recently Diagnosed Inflammatory Bowel Disease Patients: A User's Guide for Adult and Pediatric Gastroenterologists\", 'author': 'Manasi Agrawal', 'subject': 'Gastroenterology, 161 (2021) 47-65. doi:10.1053/j.gastro.2021.04.063', 'keywords': '', 'creator': 'Elsevier', 'producer': 'Acrobat Distiller 8.1.0 (Windows)', 'creationDate': \"D:20210619033246+05'30'\", 'modDate': \"D:20210619033336+05'30'\", 'trapped': '', 'modal': 'text'}),\n",
              "  Document(page_content='Combination therapy of a biologic with IMM, best-\\nstudied with TNFi, is an important consideration in severe\\ndisease, especially penetrating or perianal disease. It is\\nassociated with improved outcomes, a decrease in loss of\\nTNFi response, and fewer long-term complications.90,91 The\\nmechanism of action may be due to decrease in immuno-\\ngenicity and impact on drug level. Similar effects have not\\nbeen seen with adding IMM to UST of VDZ therapy, possibly\\ndue to a lower role of immunogenicity in drug meta-\\nbolism.92 For patients with perianal CD, a multidisciplinary\\napproach with early referral to a colorectal surgeon is key to\\nimproved outcomes.93\\nIleocolic resection as a ﬁrst-line therapy. Surgery\\nis often viewed as a late-stage therapeutic option for CD, to\\nbe positioned after medical therapies, and the rate of sur-\\ngery for CD has declined over time.94 The LIR!C (Laparo-\\nscopic Ileocolic Resection Versus Inﬂiximab Treatment of\\nDistal\\nIleitis\\nin\\nCrohn’s\\nDisease)\\ntrial,\\na\\nrandomized\\ncontrolled trial of IFX vs laparoscopic ileocolic resection\\n(ICR) in adult patients with limited terminal ileal disease,\\nfound no difference in safety or measures of quality of life at\\n1 year between the 2 groups.95 Furthermore, on long-term\\nfollow-up (median 5 years), the ICR group had no subse-\\nquent resection, 42% received no treatment at all, and 74%\\nreceived\\nno\\nbiologic\\ntreatment.96\\nMore\\nrecent\\ncost-\\neffectiveness\\nanalyses\\nfound\\nthat\\nICR\\nis\\nmore\\ncost-\\neffective than IFX.97 ICR should be considered a viable\\ninitial treatment modality not only in patients presenting\\nwith a complication at diagnosis, but also in those with\\nlimited nonpenetrating ileocecal CD in the setting of shared\\ndecision-making or when concerns about biologic safety are\\na signiﬁcant consideration.\\nDietary therapy. Exclusive enteral nutrition (EEN) is\\nthe use of polymeric or elemental formula typically for 8–12\\nweeks to induce remission in CD. European Pediatric\\nConsensus guidelines recommend EEN as the ﬁrst-line\\ntherapy to induce remission in pediatric patients with\\nluminal CD.31 This is based on numerous randomized\\ncontrolled trials demonstrating that EEN is as effective as\\ncorticosteroids.\\nMeta-analyses\\nof\\nthese\\nrandomized\\ncontrolled trials have reported clinical remission rates of\\n73%–95%.98,99 Relapse after this period of induction is\\ncommon, typically leading to maintenance management\\nwith IMM or biologics.100 To increase adherence, a combi-\\nnation of partial enteral nutrition and the CD exclusion diet\\nmay be more tolerable and as effective in inducing remis-\\nsion in mild to moderate pediatric CD.101 Studies on EEN in\\nadults are limited and have shown mixed results but war-\\nrant consideration in select cases.102\\nThe modiﬁcation of whole foods in diet as a therapeutic\\nstrategy in IBD is an emerging area of interest, such as the\\nTrial of Speciﬁc Carbohydrate and Mediterranean Diets to\\nInduce Remission of CD (DINE-CD).103 Dietary studies are\\nhighly heterogenous due to the relevance of macro- and\\nFigure\\n4. Therapeutic\\nstrategies\\nfor\\nthe\\nman-\\nagement\\nof\\nrecently-\\ndiagnosed\\nulcerative\\ncolitis.\\nIMMs\\ninclude\\nthiopurines\\nand\\nmetho-\\ntrexate.\\n5-ASA,\\n5-amino\\nsalicylic\\nacid;\\nASUC,\\nacute\\nsevere\\nulcerative\\ncolitis; IPAA, ileal pouch\\nanal anastomosis.\\n54\\nAgrawal et al\\nGastroenterology Vol. 161, No. 1\\nREVIEWS AND\\nPERSPECTIVES\\n', metadata={'source': '/mnt/c/Users/QUAN/Desktop/medical-chatbot/data/document_store/uc/agrawal.pdf', 'file_path': '/mnt/c/Users/QUAN/Desktop/medical-chatbot/data/document_store/uc/agrawal.pdf', 'page': 7, 'total_pages': 19, 'format': 'PDF 1.7', 'title': \"Approach to the Management of Recently Diagnosed Inflammatory Bowel Disease Patients: A User's Guide for Adult and Pediatric Gastroenterologists\", 'author': 'Manasi Agrawal', 'subject': 'Gastroenterology, 161 (2021) 47-65. doi:10.1053/j.gastro.2021.04.063', 'keywords': '', 'creator': 'Elsevier', 'producer': 'Acrobat Distiller 8.1.0 (Windows)', 'creationDate': \"D:20210619033246+05'30'\", 'modDate': \"D:20210619033336+05'30'\", 'trapped': '', 'modal': 'text'}),\n",
              "  Document(page_content='micronutrients in diet, as well as food additives, processing,\\nand packaging.104 Currently, there is no recommendation\\nfor whole foods–based management of IBD, but future\\nstudies will delineate this further.\\nEarly Therapy of Ulcerative Colitis\\nIn UC, mild disease can be managed with oral and/or\\ntopical mesalamine therapy, generally with adequate con-\\ntrol of disease.38 For moderate UC, VDZ and UST are effec-\\ntive options,105,106 and may be better ﬁrst-choice options\\nthan TNFi, given safety proﬁle. In the VARSITY trial, the only\\nhead-to-head trial of 2 biologics (n ¼ 769), VDZ was supe-\\nrior to ADA in achieving clinical remission (31.3% vs 22.5%;\\nP ¼ .006) and endoscopic improvement (39.7% vs 27.7%; P\\n< .001) in moderate to severe UC.105 In case VDZ or UST\\nmay not be feasible due to payer preference, TNFi, partic-\\nularly IFX, is an effective option with good safety proﬁle.107\\nThiopurines may be considered in moderate UC after\\nweighing risks against beneﬁts.64 In patients with severe UC\\nrequiring hospitalization, IFX is the preferred biologic for\\ninduction and maintenance of remission, with or without\\nIMM. Combination therapy in the SUCCESS trial was asso-\\nciated with improved clinical, but not endoscopic, outcomes\\ncompared to IFX monotherapy.108 When using IFX as a\\nmonotherapy in moderate to severe UC, given the potential\\nfor the colon to act as a “sink” for drugs, we advocate for\\nchecking early drug concentrations to ensure proper dosing\\nand detecting immunogenicity early along with other\\npharmacokinetic and safety-related variables.109 There is no\\nclear beneﬁt of concomitant mesalamine with biologic\\ntherapy in UC and it can be stopped in patients escalating to\\nbiologics.110 Some patients may present with acute severe\\nUC\\nwhere\\nTNFi,\\ncyclosporine,\\nor\\nsubtotal\\ncolectomy\\nfollowed by ileal pouch anal anastomosis can be a good\\ninitial strategy; discussion of management of acute severe\\nUC is beyond the scope of this article.\\nTaking Extraintestinal Manifestation Into\\nConsideration\\nEIMs are common in IBD, estimated to affect 30%–40% of\\npatients.111,112 In a Swiss cohort study, symptoms of EIMs\\nbefore IBD in one-quarter of the patients113; collaboration\\nacross specialties, including but not limited to rheumatolo-\\ngists, dermatologists, ophthalmologists, is vital not only to\\nprompt referral of patients with EIM suspicious for IBD to\\nallow for expedient initiation of therapy for both conditions,\\nbut also to allow for consideration of both in the selection of\\ntherapy, dose, and chronicity of treatment. For example, VDZ,\\nwhich is gut-selective, is associated with an increased risk of\\nde novo or worsening EIM.114,115 In patients with signiﬁcant\\nsymptoms of EIM, one should weigh the potential beneﬁt of\\nVDZ against another therapy, such as TNFi, that might more\\nbroadly target gut and systemic inﬂammation.116\\nPredictors of Response to Inﬂammatory Bowel\\nDisease Therapy\\nThe number of therapeutic agents in the IBD arma-\\nmentarium are numbered, and each agent has limited\\nefﬁcacy. In addition, the ﬁrst biologic, regardless of choice,\\nhas the highest probability of success. For all of these rea-\\nsons, it is important to be thoughtful in selecting the initial\\ntherapy. Clinical decision support tools (CDSTs) and pre-\\ndiction models are being developed to help with this.\\nSmoking has been associated with lower response to\\nTNFi, and among responders, shorter response duration.117\\nUsing ACT1 and ACT2 trial data, Vande Casteele et al118\\ndeveloped a CDST incorporating IFX clearance, stool fre-\\nquency, rectal bleeding scores, white blood cell count, and\\nbody weight to predict endoscopic healing in UC at different\\ntime points, with accuracy in the range of 80% or higher.\\nExternal validation models, however, had lower predictive\\nvalue, with an area under of the curve of 0.67 (95% CI,\\n0.61–0.74). Similar CDSTs have been developed to predict\\nresponse to CD and UC with VDZ.119,120 Such tools require\\nclinical variables that are widely available, have no associ-\\nated costs, and are feasible to incorporate in discussions\\nwith the patient. Ultimately, biomarkers that are speciﬁc to\\nunderlying mechanisms of action may be most accurate in\\nhelping select the right therapy for the patient. Although\\nthese CDSTs and predictors show promise, none have been\\nprospectively validated and are not yet ready for full\\nincorporation into routine clinical care.\\nPredictors of Adverse Events With Inﬂammatory\\nBowel Disease Therapy\\nGenetic heterogeneity pertaining to drug metabolism\\nimpacts adverse events and can be leveraged to guide\\ntherapy. Thiopurine methyltransferase (TPMT), the ﬁrst\\nidentiﬁed variant impacting IBD therapy, is involved in\\nthiopurine metabolism with decreased activity resulting in\\nsevere leukopenia. Thiopurines should be avoided or the\\ndose lowered based on genotype and the associated TPMT\\nactivity.121 Nudix hydrolase (NUDT15) mutations have been\\nimplicated in leukopenia risk with thiopurine in European\\nand Asian populations.122,123 A combination of TPMT and\\nNUDT15 mutations accounts for nearly 50% of cases with\\nsevere thiopurine-induced leukopenia.123 Testing for TPMT\\ngenotype or enzyme level and NUDT15 genotype before\\ninitiating thiopurine therapy is recommended. In addition,\\npolymorphism in the HLA class II region (rs2647087) is\\nassociated with pancreatitis risk in thiopurine-treated in-\\ndividuals, 9% risk in heterozygotes and 17% risk in\\nhomozygotes.124\\nBeyond IMMs, there is promise in using genetic variants\\nto further aid in identiﬁcation of adverse events with bio-\\nlogic therapies. Most notably, in a genome-wide association\\nstudy of 1240 biologic-naïve, primarily European patients,\\nthe Personalising Anti-TNF Therapy in Crohn’s disease\\n(PANTS) Consortium found that the allele HLA-DQA1*05\\nsigniﬁcantly\\nincreased\\nthe\\nrisk\\nof\\nanti-drug\\nantibody\\ndevelopment to TNFi drugs (HR, 1.90; 95% CI, 1.60–\\n2.25).125 Additional analyses have revealed that differences\\nin haplotypes are associated with differences in immuno-\\ngenicity to IFX vs ADA.126 More recently, enrichment in a\\npolymorphism in TNF-a (rs1799964) was found in patients\\nwith paradoxical psoriasis with TNFi compared to those\\nJuly 2021\\nManagement of early IBD\\n55\\nREVIEWS AND\\nPERSPECTIVES\\n', metadata={'source': '/mnt/c/Users/QUAN/Desktop/medical-chatbot/data/document_store/uc/agrawal.pdf', 'file_path': '/mnt/c/Users/QUAN/Desktop/medical-chatbot/data/document_store/uc/agrawal.pdf', 'page': 8, 'total_pages': 19, 'format': 'PDF 1.7', 'title': \"Approach to the Management of Recently Diagnosed Inflammatory Bowel Disease Patients: A User's Guide for Adult and Pediatric Gastroenterologists\", 'author': 'Manasi Agrawal', 'subject': 'Gastroenterology, 161 (2021) 47-65. doi:10.1053/j.gastro.2021.04.063', 'keywords': '', 'creator': 'Elsevier', 'producer': 'Acrobat Distiller 8.1.0 (Windows)', 'creationDate': \"D:20210619033246+05'30'\", 'modDate': \"D:20210619033336+05'30'\", 'trapped': '', 'modal': 'text'}),\n",
              "  Document(page_content='without in a small cohort of 53 patients with IBD.127 Further\\nstudy to validate these ﬁndings is needed, but genetic var-\\niants may have an expanded role in future selection of early\\ntherapies.\\nTreat-to-Target Strategy\\nChoice of initial therapy should be accompanied by a\\nplan for a treat-to-target strategy with decisions made about\\nhow response to therapy will be assessed, how therapy will\\nbe optimized, and long-term monitoring strategies to be\\nundertaken\\nafter\\nachieving\\ntarget\\ngoals\\nto\\nsupport\\ncontinued tight control.\\nSelecting the Target\\nThe STRIDE program, initiated by the International Or-\\nganization for the Study of Inﬂammatory Bowel Disease,\\npublished a consensus statement on treat-to-target strate-\\ngies with the primary therapeutic goal being clinical and\\nendoscopic remission.128 This was recently updated to\\ninclude normalization of biomarkers as a short-term target\\nfollowing the landmark CALM trial.23 CALM, a randomized\\ncontrolled trial of 244 patients with recently diagnosed\\nmoderate to severe CD treated with TNFi early in their\\ndisease course, showed a treat-to-target strategy of esca-\\nlating TNFi and thiopurine therapy based on clinical\\nsymptoms and biomarker normalization resulted in more\\npatients achieving the primary end point (mucosal healing\\n[Crohn’s Disease Endoscopic Index of Severity <4] with\\nabsence of deep ulcers) at week 48 compared to using\\nclinical symptoms alone (adjusted risk difference, 16.1%;\\n95% CI, 3.9–28.3; P ¼ .010).129 The long-term extension of\\nCALM has further demonstrated that attainment of target\\ngoals of either endoscopic or deep remission by week 48 led\\nto reduction in progression of disease during a median 3\\nyears’ follow-up.32\\nGiven the issue of nonadherence with collecting a stool\\nsample to measure FC, there is increasing interest in\\nidentifying serum-based biomarkers as therapeutics tar-\\ngets. A serologic panel of 13 protein markers, the Endo-\\nscopic Healing Index (Monitr, Prometheus Biosciences,\\nSan Diego, CA), validated in CD to distinguish endoscopic\\nactivity, is comparable to FC and likely superior to CRP\\nalone.130 Another modality of interest is point-of-care in-\\ntestinal ultrasound, which allows for noninvasive and\\ninexpensive evaluation of variables correlated with dis-\\nease activity (bowel wall thickness, Doppler signal, and\\nwall layer stratiﬁcation) and has been used to measure\\ninitial response to therapy,131 as well as ongoing assess-\\nment of disease activity in both CD and UC.132,133 MRI is a\\nreasonable alternative monitoring modality, with 2 small\\nstudies\\nreporting\\nthe\\nability\\nof\\nMRI\\nto\\naccurately\\ndiscriminate mucosal healing based on cut points of Ma-\\nRIA and Nancy scores.134,135\\nWe\\nrecommend\\nidentifying\\nan\\nappropriate\\ntarget,\\ndepending on disease characteristics, availability of re-\\nsources and patient preference, and treating to achieve\\nnormalization\\nof\\nthe\\ntarget,\\nfollowed\\nby\\nperiodic\\nreassessment.\\nAchieving the Target: Therapy Optimization and\\nDrug Monitoring\\nWhatever the choice of initial therapy, it is important to\\noptimize it to achieve maximal beneﬁt to the patient as well\\nas to fully exploit its efﬁcacy in the setting of expanding, but\\nstill limited, therapeutic choices. This optimization entails\\ndose and interval adjustments or the addition of a medica-\\ntion to use in combination and is often based on therapeutic\\ndrug monitoring (TDM). This can be as simple as dose\\nescalation of mesalamine (deﬁned as increasing dose by 2.4\\ng/day), which, even in clinically quiescent patients, led to\\nreduction of calprotectin levels to <100 mg/g and was tied\\nto longer time to relapse.136\\nTDM is typically used to optimize both thiopurines and\\nbiologics (Table 1). With thiopurines, monitoring metabo-\\nlites has long been accepted.137 AGA guidelines currently\\nrecommend the use of TDM to achieve target drug con-\\ncentrations and assess for presence of high-level neutral-\\nizing anti-drug antibodies at time of treatment failure for\\nTNFi therapies.121 However, controversy remains over the\\nutility of proactive TDM with TNFi agents.138 Proactive TDM\\nfor biologics may also offer a cost beneﬁt compared to\\nempirical adjustments of therapy.139 A further nuance to\\nTDM with biologics is the choice of target concentration.\\nBoth the AGA121 and the BRIDGe (Building Research in IBD\\nGlobally) Group have suggested target concentrations based\\non the currently available literature; BRIDGe offers a web-\\nbased tool to assist in choosing target drug concentrations\\nbased on patient characteristics (Table 1).140,141 If these\\ntargets are not achieved, escalation of dose, shortening of\\ninterval, and/or adding an immunomodulator, in the case of\\nTNFi, are recommended, with subsequent reassessment of\\ndrug concentration until targets are reached.\\nMaintaining the Target: Tight Control\\nOnce achieving target goals, patients should continue to\\nbe monitored serially every 3–6 months with clinical visit\\nand noninvasive inﬂammatory markers (FC and CRP).\\nProspective studies show that FC can increase and predict\\nrelapse 3–4 months before clinical symptoms in both UC\\nand CD, making it a viable biomarker for monitoring, even\\nin the quiescent state.142 In the post-hoc analysis of the\\nTAILORIX (Drug Concentration Versus Symptom-Driven\\nDose Adaptation of IFX in Patients With Active CD) study,\\nFC was highly predictive of mucosal healing in their cohort\\nafter week 2, and, in the setting of a persistently abnormal\\nFC, they recommended assessing a drug concentration at\\nthe same time to determine a possible pharmacokinetic\\ncause of failure to achieve endoscopic and histologic\\nremission.143 Future studies will determine the role of the\\nEndoscopic Healing Index as a biomarker to monitor tight\\ncontrol.\\n360-Degree Inﬂammatory Bowel\\nDisease Care\\nBeyond prognostication and medical and surgical man-\\nagement, outcomes in IBD are improved when there is a\\n56\\nAgrawal et al\\nGastroenterology Vol. 161, No. 1\\nREVIEWS AND\\nPERSPECTIVES\\n', metadata={'source': '/mnt/c/Users/QUAN/Desktop/medical-chatbot/data/document_store/uc/agrawal.pdf', 'file_path': '/mnt/c/Users/QUAN/Desktop/medical-chatbot/data/document_store/uc/agrawal.pdf', 'page': 9, 'total_pages': 19, 'format': 'PDF 1.7', 'title': \"Approach to the Management of Recently Diagnosed Inflammatory Bowel Disease Patients: A User's Guide for Adult and Pediatric Gastroenterologists\", 'author': 'Manasi Agrawal', 'subject': 'Gastroenterology, 161 (2021) 47-65. doi:10.1053/j.gastro.2021.04.063', 'keywords': '', 'creator': 'Elsevier', 'producer': 'Acrobat Distiller 8.1.0 (Windows)', 'creationDate': \"D:20210619033246+05'30'\", 'modDate': \"D:20210619033336+05'30'\", 'trapped': '', 'modal': 'text'}),\n",
              "  Document(page_content='360-degree approach to care of the patient (Figure 5),\\ninterweaving preventative care, nutrition, psychobehavioral\\nmanagement, and socioeconomic considerations, as well as\\nfostering open communication with the patient and family.\\nAn interdisciplinary care team, often described as a “medical\\nhome,” should include services to address all of these facets\\nof care and, when implemented early in the disease course,\\nhas been shown to improve patient outcomes.144,145 There\\nis potential, with the rise of telemedicine and remote\\nmonitoring tools, to expand comprehensive services for\\npatients with IBD to locations formerly with issues of\\naccess.146,147\\nPreventative Care\\nThere are well-accepted guidelines for preventative care\\nin IBD,148,149 but it has also been shown that preventative\\ncare is often overlooked.150,151 It is important for the\\ngastroenterologist to engage in preventative care for their\\npatients with IBD, whether it be by informing the primary\\nphysician of services needed, informing the patient and\\nempowering them to seek the preventative services, or of-\\nfering those services themselves in clinic, for example,\\nvaccinations. Early in the disease course, preventative care,\\nin particular vaccinations, should be highlighted as strate-\\ngies that are important in reducing the risk of disease and\\ntreatment-related complications. Supplementary Figures 1–\\n7, which include detailed sections on preventative care, are\\ncomprehensive checklists to promote 360-degree care\\nstarting from the very ﬁrst visit.\\nNutrition\\nNutritional services should be offered to patients with\\nIBD to address nutritional deﬁciencies, aid in catch-up\\ngrowth in pediatrics, provide support for enteral nutrition\\nas needed, and explore any speciﬁc patient concerns about\\ndiet. There is burgeoning patient interest in the use of\\nspecialized diets (eg, speciﬁc carbohydrate diet and anti-\\ninﬂammatory diet) as an adjunct to medical therapy.152 It\\nis useful to be open to discussion and provide referral to a\\nwell-informed nutritionist to provide accurate information\\nand support.\\nPsychobehavioral Support\\nThere is a well-described increase in anxiety and\\ndepression in IBD patients, and patients with psychological\\ncomorbidities are more likely to be hospitalized (OR, 4.13;\\n95% CI, 1.25–13.61).153 When a biopsychosocial integrated\\ncare model that included cognitive behavior therapy was\\ninstituted for IBD patients, there were improvements in\\ndisease activity and quality of life, with signiﬁcant re-\\nductions in the use of opioids (P ¼ .037), hospitalizations\\n(48% to 30%), and inpatient care costs (P ¼ .005).154 High\\nresilience, or an ability to recover from adversity, has been\\nshown\\nto\\nbe\\nassociated\\nwith\\nlower\\ndisease\\nactivity,\\nimproved quality of life, and fewer operations in CD.155\\nScreening for psychological comorbidities and low resil-\\nience early in the disease course with referral for psycho-\\nbehavioral support could lead to improvements in outcomes\\namong patients with IBD.\\nComplementary Therapies\\nComplementary treatments are also commonly pursued\\nby patients with IBD156 and, just as with diet and nutrition,\\nit is important to engage with your patient in open discus-\\nsion\\nabout\\nthese\\ntherapies\\nto\\nfoster\\na\\ntherapeutic\\nrelationship.157\\nTable 1.Target Thiopurine Metabolite Levels and Biologic Trough Concentrations\\nDrug\\nTarget\\nBRIDGe141\\nAGA Guideline121\\nThiopurine monotherapy\\nClinical remission\\n—\\n6-TGN 230–450 pmol/8 � 108\\nInﬂiximab (and biosimilars)\\nClinical remission\\nEndoscopic healing\\nwk 14 and beyond:\\n�3 mg/mLa\\n�7 mg/mL\\n�5 mg/mL\\nAdalimumabb\\nClinical remission\\nEndoscopic healing\\nwk 4 and beyond:\\n�5 mg/mLa\\n�7 mg/mL\\n�7.5 mg/mL\\nCertolizumab\\nClinical remission\\nwk 6: �32 mg/mL\\nRemission: �15 mg/mL\\n�20 mg/mL\\nGolimumab\\nClinical remission\\nwk 6: �2.5 mg/mL\\nRemission: �1 mg/mL\\nNo recommendation\\nVDZc and USTd\\nNo recommendation\\nNo recommendation\\nBRIDGe, Building Research in IBD Globally.\\naIf active, do not abandon therapy unless >10 mg/mL.\\nbAdalimumab, on achieving a steady state in maintenance, does not need to be a trough concentration.\\ncSuggested targets for VDZ163: wk 6 �25 mg/mL; maintenance �15 mg/mL.\\ndSuggested targets for UST164: wk 8: 3.7–8.7þ mg/mL; maintenance �1.3 mg/mL.\\nJuly 2021\\nManagement of early IBD\\n57\\nREVIEWS AND\\nPERSPECTIVES\\n', metadata={'source': '/mnt/c/Users/QUAN/Desktop/medical-chatbot/data/document_store/uc/agrawal.pdf', 'file_path': '/mnt/c/Users/QUAN/Desktop/medical-chatbot/data/document_store/uc/agrawal.pdf', 'page': 10, 'total_pages': 19, 'format': 'PDF 1.7', 'title': \"Approach to the Management of Recently Diagnosed Inflammatory Bowel Disease Patients: A User's Guide for Adult and Pediatric Gastroenterologists\", 'author': 'Manasi Agrawal', 'subject': 'Gastroenterology, 161 (2021) 47-65. doi:10.1053/j.gastro.2021.04.063', 'keywords': '', 'creator': 'Elsevier', 'producer': 'Acrobat Distiller 8.1.0 (Windows)', 'creationDate': \"D:20210619033246+05'30'\", 'modDate': \"D:20210619033336+05'30'\", 'trapped': '', 'modal': 'text'}),\n",
              "  Document(page_content='Medication Management\\nMedications in IBD need to be taken long-term and\\nrequire a high level of adherence to be effective and to avoid\\nrelapse and/or development of anti-drug antibodies. Patient\\nunderstanding and “buy-in” to therapy is critical. A clinical\\npharmacist, if available, can facilitate a discussion with pa-\\ntients regarding these medications to promote under-\\nstanding.158 Furthermore, there are available resources to\\noff-set the ﬁnancial burden from medications.7 Numerous\\nadvocacy groups (eg, Crohn’s and Colitis Foundation; AGA;\\nand North American Society for Pediatric Gastroenterology,\\nHepatology & Nutrition) have useful resources for education\\nand support, directing patients to these trusted sources can\\nbe invaluable.\\nProviding Support for Disability\\nIBD takes a toll on school and work life. Absenteeism\\nand presenteeism are common in patients with active\\nIBD.159,160 In pediatrics, discussion about the need for ac-\\ncommodations at school should be routinely asked and a\\nplan provided as needed. For adults, physicians should\\nFigure 5. 360� care of the patient with IBD. Please see Supplementary Figure 1 for screening tool to identify patients who may\\nneed 360-degree care services. CBC, complete blood count; CMP, comprehensive metabolic panel; CRP, C-reactive protein;\\nCTE, computed tomography enterography; DEXA, dual energy X-ray absorptiometry; EBV, Epstein-Barr virus; ESR, erythro-\\ncyte sedimentation rate; IgG, immunoglobulin G; MMA, methylmalonic acid; MRE, magnetic resonance enterography; PPD,\\npuriﬁed protein derivative; ; PPSV23, pneumococcal polysaccharide vaccine 23; sAb, surface antibody; sAg, surface antigen;\\nSB, small bowel; SBFT, small bowel follow through; SBUS, small bowel ultrasound.\\n58\\nAgrawal et al\\nGastroenterology Vol. 161, No. 1\\nREVIEWS AND\\nPERSPECTIVES\\n', metadata={'source': '/mnt/c/Users/QUAN/Desktop/medical-chatbot/data/document_store/uc/agrawal.pdf', 'file_path': '/mnt/c/Users/QUAN/Desktop/medical-chatbot/data/document_store/uc/agrawal.pdf', 'page': 11, 'total_pages': 19, 'format': 'PDF 1.7', 'title': \"Approach to the Management of Recently Diagnosed Inflammatory Bowel Disease Patients: A User's Guide for Adult and Pediatric Gastroenterologists\", 'author': 'Manasi Agrawal', 'subject': 'Gastroenterology, 161 (2021) 47-65. doi:10.1053/j.gastro.2021.04.063', 'keywords': '', 'creator': 'Elsevier', 'producer': 'Acrobat Distiller 8.1.0 (Windows)', 'creationDate': \"D:20210619033246+05'30'\", 'modDate': \"D:20210619033336+05'30'\", 'trapped': '', 'modal': 'text'}),\n",
              "  Document(page_content='devise a plan with the patient how to best address their\\nconcerns and needs for support based on their speciﬁc sit-\\nuation and preferences.\\nCommunication\\nLastly, open communication between the patient and\\nprovider is key to success.161 Effective shared decision-\\nmaking is important in fostering satisfaction with treat-\\nment decisions, reducing decisional conﬂict and regret,162\\nand improving adherence.\\nConclusions\\nIn summary, early diagnosis and early management of\\nIBDs are critical to minimizing complications and ensuring\\npositive outcomes. Selection of appropriate ﬁrst-line ther-\\napy should be based on risk assessment, disease activity,\\nand clinical characteristics of the patient. Ongoing head-to-\\nhead trials will provide further clarity as to the relative\\npositioning of available therapies. Comprehensive care of\\nthe IBD patients involves a thoughtful, individualized, and\\nwell-rounded assessment and treatment plan, taking into\\nconsideration feedback from the patient. Personalized IBD\\ncare is fast-evolving, and sophisticated prediction models\\nincorporating multi-omic platforms are likely to be the\\nfuture of IBD therapeutics.\\nSupplementary Material\\nNote: To access the supplementary material accompanying\\nthis article, visit the online version of Gastroenterology at\\nwww.gastrojournal.org, and at http://dxdoi.org/10.1053/\\nj.gastro.2021.04.063.\\nReferences\\n1. Torres J, Mehandru S, Colombel JF, et al. Crohn’s dis-\\nease. Lancet 2017;389:1741–1755.\\n2. Ungaro R, Mehandru S, Allen PB, et al. Ulcerative colitis.\\nLancet 2017;389:1756–1770.\\n3. Peyrin-Biroulet L, Loftus EV Jr, Colombel JF, et al. The\\nnatural history of adult Crohn’s disease in population-\\nbased cohorts. Am J Gastroenterol 2010;105:289–297.\\n4. Torres J, Billioud V, Sachar DB, et al. Ulcerative colitis as\\na progressive disease: the forgotten evidence. Inﬂamm\\nBowel Dis 2012;18:1356–1363.\\n5. Coward S, Clement F, Benchimol EI, et al. Past and\\nfuture burden of inﬂammatory bowel diseases based on\\nmodeling of population-based data. Gastroenterology\\n2019;156:1345–1353.e4.\\n6. Ng SC, Shi HY, Hamidi N, et al. Worldwide incidence and\\nprevalence of inﬂammatory bowel disease in the 21st\\ncentury:\\na\\nsystematic\\nreview\\nof\\npopulation-based\\nstudies. Lancet 2018;390:2769–2778.\\n7. Park KT, Ehrlich OG, Allen JI, et al. The cost of inﬂam-\\nmatory bowel disease: an initiative from the Crohn’s &\\nColitis Foundation. Inﬂamm Bowel Dis 2020;26:1–10.\\n8. van Gennep S, Evers SW, Rietdijk ST, et al. High disease\\nburden drives indirect costs in employed inﬂammatory\\nbowel disease patients: the WORK-IBD study. Inﬂamm\\nBowel Dis 2021;27:352–363.\\n9. Brochard C, Rabilloud ML, Hamonic S, et al. Natural\\nhistory of perianal Crohn’s disease: long-term follow-up\\nof a population-based cohort [published online ahead of\\nprint December 24, 2020]. Clin Gastroenterol Hepatol\\nhttps://doi.org/10.1016/j.cgh.2020.12.024.\\n10. Ng SC, Leung WK, Shi HY, et al. Epidemiology of in-\\nﬂammatory bowel disease from 1981 to 2014: results\\nfrom a territory-wide population-based registry in Hong\\nKong. Inﬂamm Bowel Dis 2016;22:1954–1960.\\n11. Agrawal M, Bento-Miranda M, Walsh S, et al. Prevalence\\nand progression of incidental terminal ileitis on non-\\ndiagnostic\\ncolonoscopy:\\na\\nsystematic\\nreview\\nand\\nmeta-analysis [published online ahead of print February\\n14, 2021]. J Crohns Colitis https://doi.org/10.1093/ecco-\\njcc/jjab030.\\n12. Fumery M, Singh S, Dulai PS, et al. Natural history of\\nadult ulcerative colitis in population-based cohorts: a\\nsystematic review. Clin Gastroenterol Hepatol 2018;\\n16:343–356.e3.\\n13. Burisch J, Ungaro R, Vind I, et al. Proximal disease\\nextension in patients with limited ulcerative colitis: a\\nDanish population-based inception cohort. J Crohns\\nColitis 2017;11:1200–1204.\\n14. Frolkis AD, Dykeman J, Negrón ME, et al. Risk of surgery\\nfor inﬂammatory bowel diseases has decreased over\\ntime:\\na\\nsystematic\\nreview\\nand\\nmeta-analysis\\nof\\npopulation-based\\nstudies.\\nGastroenterology\\n2013;\\n145:996–1006.\\n15. Bouguen G, Levesque BG, Feagan BG, et al. Treat to\\ntarget: a proposed new paradigm for the management of\\nCrohn’s\\ndisease.\\nClin\\nGastroenterol\\nHepatol\\n2015;\\n13:1042–1050.e2.\\n16. Zhao M, Lo BZS, Vester-Andersen MK, et al. A 10-year\\nfollow-up\\nstudy\\nof\\nthe\\nnatural\\nhistory\\nof\\nperianal\\ncrohn’s disease in a danish population-based inception\\ncohort. Inﬂamm Bowel Dis 2019;25:1227–1236.\\n17. Rutter M, Saunders B, Wilkinson K, et al. Severity of\\ninﬂammation is a risk factor for colorectal neoplasia in\\nulcerative colitis. Gastroenterology 2004;126:451–459.\\n18. Gupta N, Liu C, King E, et al. Continued statural growth\\nin older adolescents and young adults with Crohn’s\\ndisease and ulcerative colitis beyond the time of ex-\\npected growth plate closure. Inﬂamm Bowel Dis 2020;\\n26:1880–1889.\\n19. Pariente B, Torres J, Burisch J, et al. SA1895 Validation\\nof the Lémman index in Crohn’s disease. Gastroenter-\\nology 2020;158:S-469.\\n20. Cellier C, Sahmoud T, Froguel E, et al; Correlations be-\\ntween clinical activity, endoscopic severity, and biolog-\\nical parameters in colonic or ileocolonic Crohn’s disease.\\nA prospective multicentre study of 121 cases. The\\nGroupe\\nd’Etudes\\nThérapeutiques\\ndes\\nAffections\\nInﬂammatoires Digestives. Gut 1994;35:231–235.\\n21. Pariente B, Cosnes J, Danese S, et al. Development of\\nthe\\nCrohn’s\\ndisease\\ndigestive\\ndamage\\nscore,\\nthe\\nLémann score. Inﬂamm Bowel Dis 2011;17:1415–1422.\\n22. Thia KT, Sandborn WJ, Harmsen WS, et al. Risk factors\\nassociated with progression to intestinal complications\\nJuly 2021\\nManagement of early IBD\\n59\\nREVIEWS AND\\nPERSPECTIVES\\n', metadata={'source': '/mnt/c/Users/QUAN/Desktop/medical-chatbot/data/document_store/uc/agrawal.pdf', 'file_path': '/mnt/c/Users/QUAN/Desktop/medical-chatbot/data/document_store/uc/agrawal.pdf', 'page': 12, 'total_pages': 19, 'format': 'PDF 1.7', 'title': \"Approach to the Management of Recently Diagnosed Inflammatory Bowel Disease Patients: A User's Guide for Adult and Pediatric Gastroenterologists\", 'author': 'Manasi Agrawal', 'subject': 'Gastroenterology, 161 (2021) 47-65. doi:10.1053/j.gastro.2021.04.063', 'keywords': '', 'creator': 'Elsevier', 'producer': 'Acrobat Distiller 8.1.0 (Windows)', 'creationDate': \"D:20210619033246+05'30'\", 'modDate': \"D:20210619033336+05'30'\", 'trapped': '', 'modal': 'text'}),\n",
              "  Document(page_content='Burr et al. \\n \\n1 of 45 \\nAccepted 2nd December 2021 \\nTITLE PAGE \\n \\nTitle: Efficacy of Biological Therapies and Small Molecules in Moderate to Severe \\nUlcerative Colitis: Systematic Review and Network Meta-analysis. \\n \\nShort title: Network Meta-analysis of Biological Therapies and Small Molecules for UC. \\n \\nAuthors: Nicholas E. Burr MD1,2, David J Gracie PhD1,2, Christopher J. Black PhD1,2*, \\nAlexander C. Ford MD1,2*. \\n*Joint last author \\n \\n1Leeds Gastroenterology Institute, St. James’s University Hospital, Leeds, UK. \\n2Leeds Institute of Medical Research at St. James’s, University of Leeds, Leeds, UK. \\n \\nAbbreviations: \\nCI \\n \\nconfidence interval \\nRCT \\n \\nrandomised controlled trial \\nRR \\n \\nrelative risk \\nTNF \\n \\ntumour necrosis factor \\nUC \\n \\nulcerative colitis \\n \\nCorrespondence: \\nProfessor Alex Ford \\nLeeds Gastroenterology Institute \\nRoom 125 \\n4th Floor \\n', metadata={'source': '/mnt/c/Users/QUAN/Desktop/medical-chatbot/data/document_store/uc/gutjnl-2021-326390R2 CLEAN.pdf', 'file_path': '/mnt/c/Users/QUAN/Desktop/medical-chatbot/data/document_store/uc/gutjnl-2021-326390R2 CLEAN.pdf', 'page': 1, 'total_pages': 46, 'format': 'PDF 1.7', 'title': 'Efficacy of biological therapies and small molecules in moderate to severe ulcerative colitis: systematic review and network meta-analysis', 'author': 'Burr, NE, Gracie, DJ, Black, CJ and Ford, AC', 'subject': '', 'keywords': 'meta-analysis; ulcerative colitis', 'creator': 'Microsoft® Word for Microsoft 365', 'producer': 'GPL Ghostscript 9.25', 'creationDate': \"D:20230106151148Z00'00'\", 'modDate': \"D:20230106151148Z00'00'\", 'trapped': '', 'modal': 'text'}),\n",
              "  Document(page_content=\"Positioning biologics in the treatment of IBD: A practical guide – Which\\nmechanism of action for whom?\\nPascal Juillerat a,b,*, Maude Martinho Grueber a,b, Roseline Ruetsch b, Giulia Santi a,\\nMarianne Vuill�emoz b, Pierre Michetti b,c\\na Gastroenterology, Clinic for Visceral Surgery and Medicine, Inselspital, Bern University Hospital, University of Bern, Bern, Switzerland\\nb Crohn and Colitis Center, Gastro-ent�erologie Beaulieu SA, Lausanne, Switzerland\\nc Division of Gastroenterology and Hepatology, Centre Hospitalier Universitaire Vaudois and University of Lausanne, Lausanne, Switzerland\\nA R T I C L E I N F O\\nKeywords:\\nBiological therapy\\nMonoclonal antibodies\\nInﬂiximab\\nAdalimumab\\nVedolizumab\\nUstekinumab\\nA B S T R A C T\\nThe number of available biological therapies have doubled over the last 10 years and the arrival of novel mol-\\necules (interleukin 23p19 inhibitors) is ongoing alongside the development of small molecules. As a result of this\\nvast landscape of treatment, positioning advanced therapies (according to clinical situation, efﬁcacy and safety) is\\nof paramount importance to providing personalized, appropriate IBD treatment.\\nIn this publication the recent available literature is summarized for practical integration into clinical practice\\nincluding comparative efﬁcacy data, patient and disease demographics. We refer to recent publications and expert\\nopinion in order to facilitate the decision making process of positioning biologicals IBD treatment.\\n1. Introduction\\nBiological therapies have revolutionized the management of inﬂam-\\nmatory bowel diseases (IBD). Monoclonal antibodies against tumor ne-\\ncrosis factor alpha (anti-TNF) have been the cornerstone of IBD therapy\\nsince the start of the century. In 1998, inﬂiximab was the ﬁrst biological\\nmedication approved for the use of Crohn's disease (CD), followed by\\nadalimumab. Numerous studies have demonstrated their efﬁcacy and\\ncost effectiveness for the induction and maintenance of remission in CD\\n(Townsend et al., 2020) and ulcerative colitis (UC) (Colombel et al.,\\n2007; Pantavou et al., 2019). Golimumab for UC (Sandborn et al., 2014)\\nand Certolizumab pegol for CD (Schreiber et al., 2010; Yamazaki et al.,\\n2019) are other anti-TNF inhibitors that are currently available. After\\nover 20 years of experience of prescribing anti-TNF agents, their safety\\nproﬁle has been well described and dose optimization has been incor-\\nporated into daily clinical practice although proactive monitoring re-\\nmains a question of debate (Argollo et al., 2020).\\nMore recently, two additional biologicals, with different mechanisms\\nof action, have complemented the IBD armamentarium. The ﬁrst is\\nvedolizumab, a humanized monoclonal antibody to the homing receptor\\nα4β7 integrin complex, blocking the interaction of the surface homing\\nmolecules of activated immune cells with the endothelium to reduce\\ndiapedesis. The second is ustekinumab, a humanized monoclonal\\nantibody to the interleukin (IL) p40 subunit common to IL12/23. These\\nnew agents have now proved their efﬁcacy not only against placebo but\\nalso in head-to-head trials against anti-TNF agents in speciﬁc indications\\n(Sands et al., 2019, 2021; Irving et al., 2021). Consequently, they possess\\na comfortable market position compared to the historical anti-TNF\\nagents, when not surpassing them for certain targeted groups of pa-\\ntients. However, striking efﬁcacy differences have not been shown to\\nsupport their superiority and anti-TNF agents remain the most appro-\\npriate medications in presence of most concomitant extraintestinal\\nmanifestations or in ﬁstulizing CD (Juillerat et al., 2020; Papamichael\\net al., 2021; Singh et al., 2021). Additionally, other biologicals such as\\netrolizumab (Danese et al., 2021; Peyrin-Biroulet et al., 2021; Rubin\\net al., 2021) (monoclonal antibody against the B7 subunit of integrins\\nα4β7 and αЕβ7) as well as guselkumab, mirikizumab and risankizumab,\\nother monoclonal antibodies which binds to p19 subunit of interleukin\\n23 (Sandborn et al., 2020; Schett et al., 2021) are emerging in the market.\\nAs treatment choices expand with the introduction of newer bi-\\nologicals with proven efﬁcacy against placebo decision making pathways\\nbecome necessary in order to differentiate between the biologicals. The\\naim of this publication is to provide an evidence based guidance which\\naids the decision making process in positioning biologicals according to\\nthe efﬁcacy, patient characteristics, safety proﬁle and speciﬁc in-\\ndications. The positioning of the novel small molecules in the treatment\\nof IBD is beyond the scope of this article.\\n* Corresponding author. Clinic for Visceral Surgery and Medicine Inselspital, Bern University Hospital Freiburgstrasse 10, CH-3010, Bern, Switzerland.\\nE-mail address: pjuillerat@gesb.ch (P. Juillerat).\\nContents lists available at ScienceDirect\\nCurrent Research in Pharmacology and Drug Discovery\\njournal homepage: www.journals.elsevier.com/current-research-in-pharmacology-\\nand-drug-discovery\\nhttps://doi.org/10.1016/j.crphar.2022.100104\\nReceived 12 January 2022; Received in revised form 4 April 2022; Accepted 24 April 2022\\n2590-2571/© 2022 The Authors. Published by Elsevier B.V. This is an open access article under the CC BY-NC-ND license (http://creativecommons.org/licenses/by-\\nnc-nd/4.0/).\\nCurrent Research in Pharmacology and Drug Discovery 3 (2022) 100104\\n\", metadata={'source': '/mnt/c/Users/QUAN/Desktop/medical-chatbot/data/document_store/uc/juillerat 2022.pdf', 'file_path': '/mnt/c/Users/QUAN/Desktop/medical-chatbot/data/document_store/uc/juillerat 2022.pdf', 'page': 0, 'total_pages': 9, 'format': 'PDF 1.7', 'title': 'Positioning biologics in the treatment of IBD: A practical guide - Which mechanism of action for whom?', 'author': 'Pascal Juillerat', 'subject': 'Current Research in Pharmacology and Drug Discovery, 3 (2022) 100104. doi:10.1016/j.crphar.2022.100104', 'keywords': '', 'creator': 'Elsevier', 'producer': 'Acrobat Distiller 8.1.0 (Windows)', 'creationDate': \"D:20221210111351+05'30'\", 'modDate': \"D:20221210111432+05'30'\", 'trapped': '', 'modal': 'text'}),\n",
              "  Document(page_content=\"2. Comparative efﬁcacy of available biological agents\\nThe biological agents available for IBD treatment and their individual\\ncharacteristics are summarized in Table 1.\\n2.1. Head to head trials\\nDirect comparison of drugs are uncommon in the IBD literature.\\nRandomized, double blinded, double dummy, head to head comparative\\ntrials in IBD provide evidence comparing two drugs and overcome the\\nproblem of bias that is often present in observational studies. In the IBD\\nﬁeld, the ﬁrst head to head published was the VARSITY trial (Sands et al.,\\n2019). This trial, conducted over 1 year, compared 383 UC patients\\ntreated with vedolizumab to 386 UC patients treated with adalimumab.\\nThe primary outcome was reached. At week 52 the clinical remission rate\\n(31.3% vs. 22.5%; P ¼ 0.006) and endoscopic improvement (39.7% vs.\\n27.7%; P < 0.001) was signiﬁcantly higher with vedolizumab compared\\nto adalimumab. There were no striking safety differences between the\\ntwo drugs over the 1-year period.\\nThe ﬁrst head to head in Crohn's disease was recently presented at\\nDigestive Disease Week (DDW) 2021(Sands et al., 2021) and European\\nCrohn's and Colitis Organization (ECCO) congress 2021(Irving et al.,\\n2021). The SEAVUE study compared ustekinumab with adalimumab in\\n386 bio-naïve patients with moderate to severe CD over 52 weeks.\\nParticipants were required to discontinue immunomodulators prior to\\ninitiation. This study showed similar efﬁcacy between the 2 groups at\\nweek 52: 65% in the ustekinumab group (n124/N191) vs. 61% in the\\nadalimumab (n119/N195), p ¼ 0.47. Interestingly, the rapidity of\\nresponse was also similar between the two groups. The subanalyses re-\\nported a trend toward more safety, less use of concomitant steroids and a\\nslightly better endoscopic response (particularly in patients with higher\\nendoscopic scores at baseline) in the ustekinumab group.\\nAdditional head to head trials have been conducted in the etrolizu-\\nmab study program (GARDENIA vs. inﬂiximab (Danese et al., 2021) and\\nHIBISCUS vs. adalimumab (Rubin et al., 2021)) and Guselkumab phase II\\nstudy (GALAXY vs. Ustekinumab (Sandborn et al., 2022)) which were\\npresented at the United European Gastroenterology (UEG) conference in\\n2020. These studies didn't show signiﬁcant differences in the primary\\nendpoints. More head to head trials are certainly under way and will help\\nus better position biological agents and small molecules in the treatment\\nalgorithm (Pouillon et al., 2020). Of note, the result of the ﬁrst positive\\nhead to head study (VARSITY) had been foreseen by prior indirect\\ncomparison information from network meta-analyses.\\n2.2. Network meta-analysis\\nWhen no head to head trials are available, network meta-analysis are\\nused to compare efﬁcacy of biologics agents against placebo.\\nOne of the ﬁrst meta-analyses, published in 2015, focused on the\\nefﬁcacy of ﬁrst line biological therapy in UC (Danese et al., 2014). The\\nauthors suggested that in naïve UC patients inﬂiximab and vedolizumab\\nare more effective in inducing clinical response (Odd ratios (OR) 5.33\\nand 4.51, resp.) and maintaining remission (OR 2.78 and 5.19 resp.)\\ncompared to other regimens. These observations were conﬁrmed in the\\nmost recent meta-analysis from the same group (Bonovas et al., 2018)\\nand another analysis that included ustekinumab (Singh et al., 2018a).\\nThis latter meta-analysis reported some beneﬁt of ustekinumab over\\nadalimumab or vedolizumab after anti-TNF exposure in UC patients.\\nAmong anti-TNF agents, inﬂiximab remains the most efﬁcient agent in\\nAbbreviations\\nCD\\nCrohn's disease\\nIBD\\ninﬂammatory bowel disease\\nOR\\nodd ratio\\nTNF\\nTumor Necrosis Factor alpha\\nUC\\nulcerative colitis\\nTable 1\\nCharacteristics of the available biologics.\\nP. Juillerat et al.\\nCurrent Research in Pharmacology and Drug Discovery 3 (2022) 100104\\n2\\n\", metadata={'source': '/mnt/c/Users/QUAN/Desktop/medical-chatbot/data/document_store/uc/juillerat 2022.pdf', 'file_path': '/mnt/c/Users/QUAN/Desktop/medical-chatbot/data/document_store/uc/juillerat 2022.pdf', 'page': 1, 'total_pages': 9, 'format': 'PDF 1.7', 'title': 'Positioning biologics in the treatment of IBD: A practical guide - Which mechanism of action for whom?', 'author': 'Pascal Juillerat', 'subject': 'Current Research in Pharmacology and Drug Discovery, 3 (2022) 100104. doi:10.1016/j.crphar.2022.100104', 'keywords': '', 'creator': 'Elsevier', 'producer': 'Acrobat Distiller 8.1.0 (Windows)', 'creationDate': \"D:20221210111351+05'30'\", 'modDate': \"D:20221210111432+05'30'\", 'trapped': '', 'modal': 'text'}),\n",
              "  Document(page_content=\"UC (Thorlund et al., 2015), but not in terms of cost effectiveness (Toor\\net al., 2015).\\nIn CD, a meta-analysis of 9 randomized trials with mixed ﬁrst-line and\\nsecond line indications conﬁrmed the superiority of inﬂiximab alone for\\ninduction (OR 2.8) or in combination with azathioprine for maintenance\\nof remission (OR 3.0) (Hazlewood et al., 2015). A recent pooled analysis\\nof 4 clinical trial programs (EXTEND, UNITY, VERSIFY, CPT-13 BIO-\\nSIMILAR) was presented at ECCO congress 2022 and conﬁrmed that\\ninﬂiximab achieved a higher proportion of 1-year endoscopic healing\\ncompared to adalimumab, ustekinumab and vedolizumab in CD patients,\\nbut not in bio-naïve patients (Narula et al., 2022).\\nAs second line therapy, it is also important to consider that the efﬁ-\\ncacy of vedolizumab will be inﬂuenced by previous anti-TNF exposure, a\\nnumerical difference was seen in the response to therapy in UC (Feagan\\net al., 2017) and CD patients (Sands et al., 2017). An impact which was\\nclearly signiﬁcant at week 6 after induction (Sands et al., 2014).\\nIn summary, the most recent meta-analysis in CD which included\\nustekinumab concluded that inﬂiximab or adalimumab are the best ﬁrst-\\nline agents, and ustekinumab a preferred second-line agent in patients\\nwith prior anti-TNF alpha agents’ exposure (Singh et al., 2018b).\\n2.3. Real life propensity score weighted data\\nAnother way to compare efﬁcacy between drugs is a retrospective\\nanalysis of prospective data from epidemiological cohort studies using\\nthe best adjustment of confounders. A good example of this a the Mayo\\nClinic study using propensity score matching to evaluate the efﬁcacy of\\nanti-TNF agents in >3000 biologic-naïve CD patients, extracted from a\\nnational administrative claims database (Singh et al., 2016). The authors\\ndemonstrated that inﬂiximab was associated with less hospitalization,\\nabdominal surgery and corticosteroid use compared to adalimumab and\\ncertolizumab.\\nAnother recent propensity score matched post hoc analysis of clinical\\ntrial programs compared inﬂiximab with the newcomer ustekinumab\\n(Narula et al., 2021a). This suggested a similar efﬁcacy of the two\\ncompounds as ﬁrst line biological agents in CD patients. The same\\nanalysis was conducted in naïve UC patients, which showed that inﬂix-\\nimab and had similar efﬁcacy based on clinical response, but a signiﬁcant\\nhigher rate of steroid free clinical remission (30% vs. 15%) and endo-\\nscopic remission (36% vs. 26%) was achieved in inﬂiximab treated pa-\\ntients (Narula et al., 2021b). The Sicilian Network for IBD reported\\nsimilar efﬁcacy for adalimumab and vedolizumab in CD patients in a\\npropensity score matched analysis of a cohort conducted between 2016\\nand 2019 (Macaluso et al., 2021), but superiority of vedolizumab in UC\\npatients (Macaluso et al., 2020). Finally, a propensity score matched\\nanalysis of a cohort conducted in Germany (the VEDO IBD study from\\nKompetenznetz Darmerkrankungen) has been presented at the recent\\nECCO congress 2022 comparing vedolizumab and anti-TNF agents in UC\\npatients. This work conﬁrmed a more persistent clinical response (61.7%\\nvs. 40.3%; OR 2.39 (95% CI 1.39–4.10)) and steroid-free remission\\n(36.5% vs. 24.0%; OR 1.82 (95% CI 1.00–3.34)) at one year under\\nvedolizumab (Plachta-Danielzik et al., 2022).\\n2.4. Available data on treatment sequences in algorithms and guidelines\\nData from the literature on strategies to position biological therapy is\\nscarce. Guidance and consensus statements exist to help aid the decision\\nmaking process. However there is a tendency to position all biologics on\\nthe same level and to consider them as interchangeable in the ECCO\\nGuidelines (Torres et al., 2020; Raine et al., 2021). These guidelines, used\\nthe novel Grade methodology which prioritizes meta-analyses (or\\nperform their own) to extract the necessary data to answer speciﬁc (so\\ncall PICO) questions on IBD management (e.g. for anti-TNF agents in UC)\\n(Raine et al., 2021)).\\nIn the most recent publication from the American Gastroenterology\\nAssociation: “Technical Review, the Medical Management of Moderate to\\nSevere Luminal and Perianal Fistulizing Crohn's Disease”, the question of\\ncomparing the efﬁcacy between all available biologics is addressed\\n(Singh et al., 2021). The conclusion was that in biologic-naïve patients\\nwith moderate to severely active CD, inﬂiximab, adalimumab, and\\nustekinumab are the most effective compared to vedolizumab and cer-\\ntolizumab pegol. Inﬂiximab was considered the strongest for induction.\\nHowever, in patients exposed to anti-TNF agents (mostly to inﬂiximab),\\nthe beneﬁt of one biological agent over the other remains uncertain. A\\nsummary of the efﬁcacies of the various biological agents, according to\\nthe line of treatment and previous treatment failures and patients'\\nphenotype, is provided in Table 2. The ﬁnal word about the efﬁcacy of\\nbiologics in IBD and the theoretical “therapeutic ceiling” which cannot be\\nbroken (Alsoud et al., 2021) could potentially come from combining\\nthese agents such as demonstrated by the recent VEGA study. This 3-arm\\ntrial presented as one of the highlights of the recent ECCO congress 2022,\\ncompared golimumab (GOL), guselkumab (GUS) and their combined use\\nduring induction period of 12 weeks. This showed a signiﬁcant higher\\nrate of clinical response (83% for combination therapy vs. 75% for GUS\\n(p ¼ 0.215) and 61% for GOL (p ¼ 0.003)) and clinical remission (47%\\nfor combination therapy vs. 24% for GUS (p ¼ 0.005) and 25% for GOL\\n(p ¼ 0.007) based on modiﬁed Mayo score) without added risks for safety\\nin moderate to severely active UC patients naïve to biologics (Sands et al.,\\n2022).\\n3. Personalizing choice of biologic\\n3.1. Prior biologic exposure\\nIn current clinical practice we are confronted with numerous options\\nof treatment sequencing. Personalizing IBD treatment depends on pre-\\nvious drug exposure IBD (1st, 2nd, 3rd line of treatment), prior treatment\\nresponse, comorbidities, safety proﬁle, patient preferences and patient\\nrisk for future IBD complications (disease severity). For example, primary\\nnon response to an anti-TNF was found to be a predictor for diminished\\ntreatment efﬁcacy with an anti-integrin biologic (Singh et al., 2018c).\\nFirst and second line agent treatment sequences and treatment response\\nhave been presented in the previous chapter. However, data are even\\nscarcer concerning third line of treatment after two anti-TNFs exposure.\\nA retrospective small series of 67 patients with Crohn's disease treated\\nwith 3rd line anti-TNF agent (Allez et al., 2010) reported a lower\\nresponse rate and the lack of late responders at 6 months. A recent\\nmulticenter retrospective study reported the outcome of patients with\\nlate CD who had failed treatment with one anti-TNF agent and either\\nvedolizumab or ustekinumab. After 48 weeks on a third line of biologic\\ntherapy the remission rate was 30.7% whereas the surgery rate was\\n23.5% (Kassouri et al., 2020).\\nThere is a mechanistic role for anti-IL 23 agents in TNF refractory IBD\\npatients. During anti TNF treatment, in non-responders compared to re-\\nsponders, there is upregulation of apoptosis resistant IL23p19, IL23R,\\nand IL17 A as demonstrated by studies using immunophenotyping of T\\ncells. (Bek et al., 2016; Schmitt et al., 2019). This phenomenon suggests\\nthat ustekinumab (as IL-12/IL-23 inhibitor) and other IL-23 inhibitor\\nagents may have a mechanistic potential in late CD (Eftychi et al., 2019)\\nwhen an expansion of Th1 and Th17 cells (Veny et al., 2010) may have\\noccurred.\\n3.2. Disease characteristics and patient proﬁle\\n3.2.1. Comorbidities, age, gender and body mass index and muscle mass\\nThe decision on drug selection in clinical practice is often guided by\\ndisease severity that requires efﬁcacious treatment with rapid onset of\\naction, an acceptable safety proﬁle balanced against potential adverse\\neffects, in particular when the decision results in the use of high dose of\\ncorticosteroids (Ford et al., 2011) (Graphical Abstract). When the sit-\\nuation is less acute, depending patient comorbidities, the safety proﬁle of\\nthe biologic is one of the major factor inﬂuencing the decision. For\\nP. Juillerat et al.\\nCurrent Research in Pharmacology and Drug Discovery 3 (2022) 100104\\n3\\n\", metadata={'source': '/mnt/c/Users/QUAN/Desktop/medical-chatbot/data/document_store/uc/juillerat 2022.pdf', 'file_path': '/mnt/c/Users/QUAN/Desktop/medical-chatbot/data/document_store/uc/juillerat 2022.pdf', 'page': 2, 'total_pages': 9, 'format': 'PDF 1.7', 'title': 'Positioning biologics in the treatment of IBD: A practical guide - Which mechanism of action for whom?', 'author': 'Pascal Juillerat', 'subject': 'Current Research in Pharmacology and Drug Discovery, 3 (2022) 100104. doi:10.1016/j.crphar.2022.100104', 'keywords': '', 'creator': 'Elsevier', 'producer': 'Acrobat Distiller 8.1.0 (Windows)', 'creationDate': \"D:20221210111351+05'30'\", 'modDate': \"D:20221210111432+05'30'\", 'trapped': '', 'modal': 'text'}),\n",
              "  Document(page_content='example the risk of speciﬁc biologic adverse events, such as infections or\\nlymphomas is higher in the elderly population (Sturm et al., 2017; Hruz\\net al., 2020). This is also a key point in the management of frail or\\nmalnourished patients (Kochar et al., 2020). A pooled analysis of data\\nfrom four randomized trials including 2257 UC patients reported that\\nolder patients have an increased baseline risk of adverse effects not\\nrelated to anti-TNF therapy. In older IBD patients, a protective effect\\nagainst the development of severe adverse events have been demon-\\nstrated in UC (OR 0.54 (0.35–0.83, p < 0.01) but not CD (OR 1.3\\n(0.8–1.20)) when administering vedolizumab compared to anti-TNF\\nagents (Cheng et al., 2021). Earlier publications, also suggested a very\\ngood safety of anti-TNF agents in older populations (Bonovas et al.,\\n2016). At this stage, we can thus consider all biological agents, when\\nindicated, as safe in all populations.\\nIn some large clinical trials, initiation of biologic therapy at a younger\\nage was associated with better response, for example inﬂiximab in both\\nCD and UC patients (Vermeire et al., 2002; Billiet et al., 2015). However,\\nother studies, (particularly in long term follow-up of patients cohorts),\\ndid not ﬁnd such an association as well as no differences in response\\naccording to gender (Ferrante et al., 2008; Sprakes et al., 2012; Arias\\net al., 2015; Iborra et al., 2017). Although much fewer studies are\\navailable, remission rates observed with vedolizumab in elderly and\\npediatric population appear to match those reported in the general adult\\npopulation (Asscher et al., 2020; Ibraheim et al., 2020). The same ob-\\nservations were also made for ustekinumab (Asscher et al., 2020; Conrad\\nand Kelsen, 2020; Gisbert and Chaparro, 2020).\\nObesity may contribute to the development and to the course of IBD\\nthrough\\naltered\\npharmacokinetics\\nand\\nobesity-mediated\\nchronic\\ninﬂammation (Singh et al., 2020). However, it remains unclear whether\\nobesity inﬂuences response to biological therapies. On the one hand, a\\nrecent meta-analysis that investigated the outcome of anti-TNF therapy\\nin IBD patients stratiﬁed by BMI, Dai et al. observed a higher rate of\\ntreatment failure in UC but not in CD patients with higher BMI (Dai et al.,\\n2020). On the other hand, other reports failed to ﬁnd an association\\nbetween BMI and treatment response in IBD (Singh et al., 2018d). At this\\nstage, there is little data on the impact of BMI on the response to vedo-\\nlizumab or ustekinumab in IBD, but response to the second was lower in a\\nstudy of obese patients with psoriasis (Pirro et al., 2021).\\nSarcopenia, often associated with malnutrition, has an important\\nimpact in IBD patients on quality of life, prognosis, outcome of surgical\\nTable 2\\nEfﬁcacy of biological treatments according to the line of treatment, earlier exposure, disease phenotype and patient characteristics.\\nP. Juillerat et al.\\nCurrent Research in Pharmacology and Drug Discovery 3 (2022) 100104\\n4\\n', metadata={'source': '/mnt/c/Users/QUAN/Desktop/medical-chatbot/data/document_store/uc/juillerat 2022.pdf', 'file_path': '/mnt/c/Users/QUAN/Desktop/medical-chatbot/data/document_store/uc/juillerat 2022.pdf', 'page': 3, 'total_pages': 9, 'format': 'PDF 1.7', 'title': 'Positioning biologics in the treatment of IBD: A practical guide - Which mechanism of action for whom?', 'author': 'Pascal Juillerat', 'subject': 'Current Research in Pharmacology and Drug Discovery, 3 (2022) 100104. doi:10.1016/j.crphar.2022.100104', 'keywords': '', 'creator': 'Elsevier', 'producer': 'Acrobat Distiller 8.1.0 (Windows)', 'creationDate': \"D:20221210111351+05'30'\", 'modDate': \"D:20221210111432+05'30'\", 'trapped': '', 'modal': 'text'}),\n",
              "  Document(page_content='interventions and treatment with biologics and immunomodulators\\n(Ryan et al., 2019). Only two studies investigated the direct effect of\\nbiological agents on sarcopenia: the ﬁrst reported an improvement of\\nquadriceps muscle volume and strength in CD patients after 25 weeks of\\ninﬂiximab treatment (Subramaniam et al., 2015), whereas Csontos et al.\\nobserved that UC and CD patients on anti-TNF agents had an improve-\\nment in fat free mass index after 12 week already (Csontos et al., 2016).\\n3.2.2. Disease duration, phenotype, genetics, biomarkers, and extraintestinal\\nmanifestations\\nShort duration of disease has long been associated with better\\nresponse to inﬂiximab as well as other anti-TNF agents. This was reported\\nin the ﬁrst pediatric randomized trial by Hyams et al., which yielded\\nbetter response and remission rates than observed in adults with longer\\nduration of disease. This observation later conﬁrmed in others pediatric\\nstudies (Hyams et al., 2007; Walters et al., 2014). Similarly, registration\\ntrials with adalimumab and certolizumab pegol, which stratiﬁed ac-\\ncording to disease duration showed better responses in patients with\\nshorter disease duration (Colombel et al., 2007; Schreiber et al., 2010). A\\nlarge meta-analysis of 60168 CD patients, conﬁrmed and extended this\\nobservation for other biological therapies, including golimumab and\\nvedolizumab (Ben-Horin et al., 2021). However, the same analyses,\\nfailed to show an association between disease duration and response in\\n30227 UC patients. Regarding vedolizumab, a retrospective analysis of\\nthe Swiss IBD cohort showed an impact of disease duration on response in\\nUC but not in CD patients (Mader et al., 2021). Very limited data are\\navailable regarding ustekinumab in early CD. In a retrospective pediatric\\ncohort, treated with ustekinumab, the rate of remission was 61.1% in\\npatients despite prior anti-TNF failure, suggesting a high potential with\\nthis agent in early disease (Kim et al., 2021).\\nDifferentiationcanalsobemade ontheextensionandlocationofdisease\\nwhich may have a direct impact on the response to biological treatment\\n(AtreyaandSiegmund,2021).Inarecentgeneticassociationstudy,Cleynen\\netal.determinedthattheseparationofIBDbetweenilealCD,colonicCDand\\nUCcouldbeconsideredas acontinuumofphenotypes,towhichspeciﬁc risk\\nscore could be applied (Cleynen et al., 2016). Concerning disease behavior,\\nbetter results were obtained in CD with anti-TNF agents in patients with\\nnon-stricturing, non-penetrating disease (B1 according to the Montr�eal\\nclassiﬁcation), as compared to stricturing disease (B2) or ﬁstulizing disease\\n(B3)(Moranetal.,2014;Bouhniketal.,2018;Nunez-Gomezetal.,2018).In\\nUC,onlylimiteddataareavailabletoguidetherapyofisolatedproctitiswith\\nbiological agents. In a national retrospective study in France, half of 104\\npatients with ulcerative proctitis achieved remission with various anti-TNF\\ntherapies and 60% achieved mucosal healing (Pineton de Chambrun et al.,\\n2020). In a large retrospective single center cohort, clinical response to\\nbiological therapy (mostly inﬂiximab) was obtained in 70% of 118 5-ASA\\nrefractory ulcerative proctitis patients, as compared to 11% with azathio-\\nprine (Dubois et al., 2020).\\nConcerning pouch patients, a recent large randomized, double-blind\\nplacebo-controlled study presented at ECCO congress, the EARNEST\\ntrial, was the ﬁrst signiﬁcant beneﬁts across multiple treatment outcomes\\nin patients with chronic pouchitis after IPAA for UC (Travis et al., 2022).\\nTill then our best options for pouchitis refractory to antibiotics were\\nmostly anti-TNF agents but without very high level of evidence (Kayal\\nand Dubinsky, 2022): only one randomized controlled trial with adali-\\nmumab (Kjær et al., 2019).\\nRecent studies have linked the risk of antibody development against\\nbiologic therapies, in particular anti-TNF agents, to the HLA proﬁle of\\npatients (Sazonovs et al., 2020, 2021). The authors associated the car-\\nriage of the HLA-DQA1*05 allele, common to 40% of Europeans, with a\\nhigher rate of immunogenicity to inﬂiximab and adalimumab. Although\\ndetails of the evidence has been discussed, the same association was\\nfound in the ABIRISK consortium in autoimmune diseases (Hassler et al.,\\n2020). Whether information on HLA allele carriage can be used pro-\\nspectively to identify patients at risk of developing antibodies for a spe-\\nciﬁc prospective intervention remains to be seen.\\nAlthough the serological biomarkers ASCA and pANCA have long\\nbeen used to help classify indeterminate colitis, their value in guiding\\nmedical therapy is still limited. A recent study associated presence of\\nASCA with extensive and severe disease phenotype and the need for an\\nearly use of biologics for a better prognosis in a cohort of 273 CD pedi-\\natric patients (Chandrakumar et al., 2019), whereas a meta-analysis\\nfound that pANCA positive IBD patients had a lower response rate to\\ninﬂiximab therapy (Nguyen et al., 2015).\\nExtraintestinal manifestations occur in half of IBD patients and\\nrepresent an important cause of morbidity and disability (Vavricka et al.,\\n2011; Juillerat et al., 2020). Among EIMs, articular manifestations affect\\n30% of patients. They include non-inﬂammatory joint pain as well as\\ninﬂammatory joint manifestations including axial arthritis considered as\\nspondyloarthropathies. Since their approval in IBD, inﬂiximab and later\\nthe other anti-TNF agents represent the best treatment choice in IBD\\npatient with rheumatological manifestations, supported by multiple trials\\nin both CD and UC, in addition to their well-established efﬁcacies in most\\nrheumatological indications (Herfarth et al., 2002; Generini et al., 2004;\\nLofberg et al., 2012; Louis et al., 2018).\\nVedolizumab may not represent the most appropriate biologic in\\npresence of articular manifestations of IBD. Indeed, by virtue of its\\nbinding to α4β7 integrin, this antibody may not impede the entry of\\nproinﬂammatory cells in joints. In fact, it may even contribute to higher\\ninﬂux of these cells to distant sites, as suggested by Diaz et al., who\\nobserved de novo extraintestinal manifestations in vedolizumab-treated\\nIBD patients (Diaz et al., 2020). An increased incidence of extra-\\nintestinal manifestation in vedolizumab treated IBD patients have also\\nbeen observed, compared to anti-TNF agents in a large American claims\\ndatabase (Dubinsky et al., 2018). However, by improving disease activity\\nthese drugs could still have an indirect impact on associated EIM, mostly\\nperipheral arthritis, as suggested by the recent EMOTIVE retrospective\\nanalysis (Kopylov et al., 2021). Ustekinumab, however, has also limited\\nrole in this indication, as this drug is also indicated in rheumatoid\\narthritis (Kerschbaumer et al., 2020). Dermatological extraintestinal\\nmanifestations occur in up to 15% of IBD patients (Vavricka et al., 2011).\\nThe most common, erythema nodosum, depends on the underlying dis-\\nease activity, whereas pyoderma gangrenosum may be associated with\\nactive or inactive intestinal disease and requires rapid management, most\\ncommonly with systemic medication. Treatment includes oral cortico-\\nsteroids, cyclosporine, tacrolimus and anti-TNF therapy (inﬂiximab or\\nadalimumab), drugs that have good efﬁcacy in several cases reports and\\nsmall case series (Juillerat et al., 2007). Cases reports and a recent\\nsemi-systematic review suggest that IBD cutaneous lesions may respond\\nto the newer IBD drugs. This is the case for ustekinumab and less\\nfrequently for vedolizumab (Phillips et al., 2020; Ben Abdallah et al.,\\n2021). Uveitis also appears to respond to anti-TNF agents (Leal et al.,\\n2019), whereas no biological agents, despite high expectations for\\nvedolizumab, has shown efﬁcacy in primary sclerosing cholangitis\\n(Christensen et al., 2018; Lynch et al., 2020).\\nFistula development affects up to 50% of CD patients over 20 years of\\ndisease course. Half of these patients experience perianal ﬁstula (Rub-\\nbino et al., 2021). After surgical drainage of pelvic sepsis, medical ther-\\napy may be undertaken. Best results so far are obtained with anti-TNF\\nagents. Among them, only inﬂiximab has been evaluated in a large,\\ndedicated placebo-randomized trial. Out of 366 patients who received\\ninduction with 5 mg/kg inﬂiximab at Week 0, 2 and 6, 195 responders\\nwere randomized to maintenance therapy or placebo. At Week 54, 36%\\nof inﬂiximab treated patients had a complete absence of ﬁstula against\\n19% in the placebo group (Sands et al., 2004). Regarding the other bi-\\nologicals, subanalyses of randomized trials showed effectiveness of\\nadalimumab, vedolizumab and ustekinumab in ﬁstula closure, however\\nthe patient numbers are limited. All the data regarding these studies are\\nput in perspective in the previously cited AGA Technical Review (Singh\\net al., 2021). Recently, a small, randomized trial prospectively tested two\\nvedolizumab regimens in ﬁstulizing CD patients with better results\\nachieved in the high dose group. However, the trial was prematurely\\nP. Juillerat et al.\\nCurrent Research in Pharmacology and Drug Discovery 3 (2022) 100104\\n5\\n', metadata={'source': '/mnt/c/Users/QUAN/Desktop/medical-chatbot/data/document_store/uc/juillerat 2022.pdf', 'file_path': '/mnt/c/Users/QUAN/Desktop/medical-chatbot/data/document_store/uc/juillerat 2022.pdf', 'page': 4, 'total_pages': 9, 'format': 'PDF 1.7', 'title': 'Positioning biologics in the treatment of IBD: A practical guide - Which mechanism of action for whom?', 'author': 'Pascal Juillerat', 'subject': 'Current Research in Pharmacology and Drug Discovery, 3 (2022) 100104. doi:10.1016/j.crphar.2022.100104', 'keywords': '', 'creator': 'Elsevier', 'producer': 'Acrobat Distiller 8.1.0 (Windows)', 'creationDate': \"D:20221210111351+05'30'\", 'modDate': \"D:20221210111432+05'30'\", 'trapped': '', 'modal': 'text'}),\n",
              "  Document(page_content=\"interrupted due to recruitment challenges (Schwartz et al., 2021). These\\nresults are in keeping with others, suggesting that therapeutic drug\\nmonitoring to achieve high trough levels is of prime importance to\\nachieve the therapeutic goal of ﬁstula closure (Nones et al., 2021).\\n4. Conclusions\\nProviding personalized IBD treatment by appropriately positioning\\nbiologics relies on numerous factors. Treatment decision is based not\\nonly on drug efﬁcacy but also depends on IBD disease severity, activity\\nand phenotype, the patient's current situation and wishes. The most\\nappropriate drug should combine a rapid resolution of symptoms, good\\npotential on pre-set targets, as well as an optimal long term safety proﬁle.\\nIn this regard, perhaps the current available biological agents will be\\nchallenged by the development of the novel small molecules and a new\\ngeneration of antibodies which are more focused on the key inﬂamma-\\ntory pathways and involved in the pathogenesis of IBD.\\nSources of support\\nNone.\\nDisclosure of funding received for this work\\nThis work did not receive any speciﬁc grant from funding agencies in\\nthe public, commercial, or not-for-proﬁt sectors.\\nCRediT authorship contribution statement\\nPascal Juillerat: Conceptualization, Data curation, Methodology,\\nWriting\\n–\\noriginal\\ndraft,\\nFunding\\nacquisition.\\nMaude\\nMartinho\\nGrueber: Conceptualization, Methodology, Investigation, Writing – re-\\nview & editing. Roseline Ruetsch: Conceptualization, Methodology,\\nInvestigation, Writing – review & editing, Funding acquisition. Giulia\\nSanti: Conceptualization, Methodology, Investigation, Writing – review\\n& editing, Funding acquisition. Marianne Vuill�emoz: Methodology,\\nInvestigation, Writing – review & editing, Funding acquisition. Pierre\\nMichetti: Conceptualization, Data curation, Methodology, Writing –\\noriginal draft.\\nDeclaration of competing interest\\nPascal Juillerat received consulting fees from AbbVie, Arena\\nPharma, Amgen, BMS, Ferring, Gilead, Janssen, Lilly, MSD, Pﬁzer, Pierre\\nFabre, Roche, Takeda, and Vifor Pharma. Lecture fees from AbbVie,\\nAmgen, Janssen, Pﬁzer, Takeda, UCB pharma and Vifor Pharma and\\nresearch grants from Vifor Pharma. Maude Martinho Grueber, Rose-\\nline Ruetsch, Giulia Santi and Marianne Vulli�emoz have no conﬂict of\\ninterest to declare. Pierre Michetti received consulting fees from\\nAstraZeneca, AbbVie, Ferring Pharmaceuticals, Janssen, MSD, Nestl�e\\nHealth Sciences, Pﬁzer, Pierre Fabre, Takeda, UCB Pharma, and Vifor\\nPharma, lecture fees from Ferring Pharmaceuticals, Janssen, Hospira,\\nMSD, Pﬁzer, Takeda, UCB Pharma, and Vifor Pharma and research grants\\nfrom iQone.\\nReferences\\nAllez, M., Vermeire, S., Mozziconacci, N., Michetti, P., Laharie, D., Louis, E., Bigard, M.A.,\\nHebuterne, X., Treton, X., Kohn, A., Marteau, P., Cortot, A., Nichita, C., van\\nAssche, G., Rutgeerts, P., Lemann, M., Colombel, J.F., 2010. The efﬁcacy and safety of\\na third anti-tnf monoclonal antibody in crohn's disease after failure of two other anti-\\ntnf antibodies. Aliment. Pharmacol. Ther. 31 (1), 92–101.\\nAlsoud, D., Verstockt, B., Fiocchi, C., Vermeire, S., 2021. Breaking the therapeutic ceiling\\nin drug development in ulcerative colitis. Lancet Gastroenterol Hepatol 6 (7),\\n589–595.\\nArgollo, M., Kotze, P.G., Kakkadasam, P., D'Haens, G., 2020. Optimizing biologic therapy\\nin ibd: how essential is therapeutic drug monitoring? Nat. Rev. Gastroenterol.\\nHepatol. 17 (11), 702–710.\\nArias, M.T., Vande Casteele, N., Vermeire, S., de Buck van Overstraeten, A., Billiet, T.,\\nBaert, F., Wolthuis, A., Van Assche, G., Noman, M., Hoffman, I., D'Hoore, A., Gils, A.,\\nRutgeerts, P., Ferrante, M., 2015. A panel to predict long-term outcome of inﬂiximab\\ntherapy for patients with ulcerative colitis. Clin. Gastroenterol. Hepatol. 13 (3),\\n531–538.\\nAsscher, V.E.R., Biemans, V.B.C., Pierik, M.J., Dijkstra, G., Lowenberg, M., van der\\nMarel, S., de Boer, N.K.H., Bodelier, A.G.L., Jansen, J.M., West, R.L., Haans, J.J.L.,\\nvan Dop, W.A., Weersma, R.K., Hoentjen, F., Maljaars, P.W.J., Dutch Initiative on, C.,\\nColitis, 2020. Comorbidity, not patient age, is associated with impaired safety\\noutcomes in vedolizumab- and ustekinumab-treated patients with inﬂammatory\\nbowel disease-a prospective multicentre cohort study. Aliment. Pharmacol. Ther. 52\\n(8), 1366–1376.\\nAtreya, R., Siegmund, B., 2021. Location is important: differentiation between ileal and\\ncolonic crohn's disease. Nat. Rev. Gastroenterol. Hepatol. 18 (8), 544–558.\\nBek, S., Nielsen, J.V., Bojesen, A.B., Franke, A., Bank, S., Vogel, U., Andersen, V., 2016.\\nSystematic review: genetic biomarkers associated with anti-tnf treatment response in\\ninﬂammatory bowel diseases. Aliment. Pharmacol. Ther. 44 (6), 554–567.\\nBen-Horin, S., Novack, L., Mao, R., Guo, J., Zhao, Y., Sergienko, R., Zhang, J.,\\nKobayashi, T., Hibi, T., Chowers, Y., Peyrin-Biroulet, L., Colombel, J.F., Kaplan, G.G.,\\nChen, M.H., 2021. Efﬁcacy of biologic drugs in short-duration versus long-duration\\ninﬂammatory bowel disease: a systematic review and an individual-patient data\\nmeta-analysis of randomized controlled trials. Gastroenterology 162 (2), 482–494.\\nBen Abdallah, H., Fogh, K., Vestergaard, C., Bech, R., 2021. Pyoderma gangrenosum and\\ninterleukin inhibitors: a semi-systematic review. Dermatology 1–8.\\nBilliet, T., Papamichael, K., de Bruyn, M., Verstockt, B., Cleynen, I., Princen, F., Singh, S.,\\nFerrante, M., Van Assche, G., Vermeire, S., 2015. A matrix-based model predicts\\nprimary response to inﬂiximab in crohn's disease. J Crohns Colitis 9 (12), 1120–1126.\\nBonovas, S., Fiorino, G., Allocca, M., Lytras, T., Nikolopoulos, G.K., Peyrin-Biroulet, L.,\\nDanese, S., 2016. Biologic therapies and risk of infection and malignancy in patients\\nwith inﬂammatory bowel disease: a systematic review and network meta-analysis.\\nClin. Gastroenterol. Hepatol. 14 (10), 1385–1397.\\nBonovas, S., Lytras, T., Nikolopoulos, G., Peyrin-Biroulet, L., Danese, S., 2018. Systematic\\nreview with network meta-analysis: comparative assessment of tofacitinib and\\nbiological therapies for moderate-to-severe ulcerative colitis. Aliment. Pharmacol.\\nTher. 47 (4), 454–465.\\nBouhnik, Y., Carbonnel, F., Laharie, D., Stefanescu, C., Hebuterne, X., Abitbol, V.,\\nNachury, M., Brixi, H., Bourreille, A., Picon, L., Bourrier, A., Allez, M., Peyrin-\\nBiroulet, L., Moreau, J., Savoye, G., Fumery, M., Nancey, S., Roblin, X., Altwegg, R.,\\nBouguen, G., Bommelaer, G., Danese, S., Louis, E., Zappa, M., Mary, J.Y.,\\nGroup, G.C.S., 2018. Efﬁcacy of adalimumab in patients with crohn's disease and\\nsymptomatic small bowel stricture: a multicentre, prospective, observational cohort\\n(creole) study. Gut 67 (1), 53–60.\\nChandrakumar, A., Georgy, M., Agarwal, P., Jong, G.W. t, El-Matary, W., 2019. Anti-\\nsaccharomyces cerevisiae antibodies as a prognostic biomarker in children with\\ncrohn disease. J. Pediatr. Gastroenterol. Nutr. 69 (1), 82–87.\\nCheng, D., Cushing, K.C., Cai, T., Ananthakrishnan, A.N., 2021. Safety and efﬁcacy of\\ntumor necrosis factor antagonists in older patients with ulcerative colitis: patient-\\nlevel pooled analysis of data from randomized trials. Clin. Gastroenterol. Hepatol. 19\\n(5), 939–946.\\nChristensen, B., Micic, D., Gibson, P.R., Yarur, A., Bellaguarda, E., Corsello, P.,\\nGaetano, J.N., Kinnucan, J., Rao, V.L., Reddy, S., Singh, S., Pekow, J., Rubin, D.T.,\\n2018. Vedolizumab in patients with concurrent primary sclerosing cholangitis and\\ninﬂammatory bowel disease does not improve liver biochemistry but is safe and\\neffective for the bowel disease. Aliment. Pharmacol. Ther. 47 (6), 753–762.\\nCleynen, I., Boucher, G., Jostins, L., Schumm, L.P., Zeissig, S., Ahmad, T., Andersen, V.,\\nAndrews, J.M., Annese, V., Brand, S., Brant, S.R., Cho, J.H., Daly, M.J., Dubinsky, M.,\\nDuerr, R.H., Ferguson, L.R., Franke, A., Gearry, R.B., Goyette, P., Hakonarson, H.,\\nHalfvarson, J., Hov, J.R., Huang, H., Kennedy, N.A., Kupcinskas, L., Lawrance, I.C.,\\nLee, J.C., Satsangi, J., Schreiber, S., Theatre, E., van der Meulen-de Jong, A.E.,\\nWeersma, R.K., Wilson, D.C., International Inﬂammatory Bowel Disease Genetics, C.,\\nParkes, M., Vermeire, S., Rioux, J.D., Mansﬁeld, J., Silverberg, M.S., Radford-\\nSmith, G., McGovern, D.P., Barrett, J.C., Lees, C.W., 2016. Inherited determinants of\\ncrohn's disease and ulcerative colitis phenotypes: a genetic association study. Lancet\\n387 (10014), 156–167.\\nColombel, J.F., Sandborn, W.J., Rutgeerts, P., Enns, R., Hanauer, S.B., Panaccione, R.,\\nSchreiber, S., Byczkowski, D., Li, J., Kent, J.D., Pollack, P.F., 2007. Adalimumab for\\nmaintenance of clinical response and remission in patients with crohn's disease: the\\ncharm trial. Gastroenterology 132 (1), 52–65.\\nConrad, M.A., Kelsen, J.R., 2020. The treatment of pediatric inﬂammatory bowel disease\\nwith biologic therapies. Curr. Gastroenterol. Rep. 22 (8), 36–51.\\nCsontos, A.A., Molnar, A., Piri, Z., Katona, B., Dako, S., Palﬁ, E., Miheller, P., 2016. The\\neffect of anti-tnfalpha induction therapy on the nutritional status and dietary intake\\nin inﬂammatory bowel disease. J Gastrointestin Liver Dis 25 (1), 49–56.\\nDai, Z.H., Xu, X.T., Ran, Z.H., 2020. Associations between obesity and the effectiveness of\\nanti-tumor necrosis factor-alpha agents in inﬂammatory bowel disease patients: a\\nliterature review and meta-analysis. Ann. Pharmacother. 54 (8), 729–741.\\nDanese, S., Colombel, J.F., Lukas, M., Gisbert, J.P., D’Haens, G., Hayee, B., Panaccione, R.,\\nKim, H.S., Reinisch, W., Tyrrell, H., Oh, Y.S., Tole, S., Chai, A., Chamberlain-\\nJames, K., Tang, M.T., Schreiber, S., Group, G.S., 2021. Etrolizumab versus inﬂiximab\\nfor the treatment of moderately to severely active ulcerative colitis (gardenia): a\\nrandomised, double-blind, double-dummy, phase 3 study. Lancet Gastroenterol\\nHepatol 7 (2), 118–127.\\nDanese, S., Fiorino, G., Peyrin-Biroulet, L., Lucenteforte, E., Virgili, G., Moja, L.,\\nBonovas, S., 2014. Biological agents for moderately to severely active ulcerative\\ncolitis: a systematic review and network meta-analysis. Ann. Intern. Med. 160 (10),\\n704–711.\\nP. Juillerat et al.\\nCurrent Research in Pharmacology and Drug Discovery 3 (2022) 100104\\n6\\n\", metadata={'source': '/mnt/c/Users/QUAN/Desktop/medical-chatbot/data/document_store/uc/juillerat 2022.pdf', 'file_path': '/mnt/c/Users/QUAN/Desktop/medical-chatbot/data/document_store/uc/juillerat 2022.pdf', 'page': 5, 'total_pages': 9, 'format': 'PDF 1.7', 'title': 'Positioning biologics in the treatment of IBD: A practical guide - Which mechanism of action for whom?', 'author': 'Pascal Juillerat', 'subject': 'Current Research in Pharmacology and Drug Discovery, 3 (2022) 100104. doi:10.1016/j.crphar.2022.100104', 'keywords': '', 'creator': 'Elsevier', 'producer': 'Acrobat Distiller 8.1.0 (Windows)', 'creationDate': \"D:20221210111351+05'30'\", 'modDate': \"D:20221210111432+05'30'\", 'trapped': '', 'modal': 'text'}),\n",
              "  Document(page_content=\"Crohn's & Colitis 360, XXXX, 5, 1–17\\nhttps://doi.org/10.1093/crocol/otad009\\nAdvance access publication 1 March 2023\\nObservations and Research\\nEfficacy and Safety of Advanced Therapies for Moderately \\nto Severely Active Ulcerative Colitis at Induction and \\nMaintenance: An Indirect Treatment Comparison Using \\nBayesian Network Meta-analysis\\nRemo\\xa0Panaccione, MD, FRCPC,*,\\n Eric B.\\xa0Collins, MPH,†,\\n Gil Y.\\xa0Melmed, MD,‡,\\n \\nSeverine\\xa0Vermeire,MD, PhD,§,\\n Silvio\\xa0Danese, MD, PhD,‖,\\n Peter D.R.\\xa0Higgins, MD, PhD, MSc \\n(CRDSA), AGAF,¶ Christina S.\\xa0Kwon, PhD,# Wen\\xa0Zhou, MD, PhD,** Dapo\\xa0Ilo, MBBS, MRCS, MSC, \\nMBA,** Dolly\\xa0Sharma, PhD,** Yuri\\xa0Sanchez Gonzalez, MS, MSc, PhD,**,\\n and  \\nSi-Tien\\xa0Wang, MS†,\\n*Inflammatory Bowel Disease Unit, Division of Gastroenterology and Hepatology, University of Calgary, Calgary, Alberta, Canada\\n†Medicus Economics LLC, Milton, Massachusetts, USA\\n‡Cedars-Sinai Medical Center, Los Angeles, California, USA\\n§Department of Gastroenterology & Hepatology, University Hospital Leuven, KU Leuven, Leuven, Belgium\\n‖Gastroenterology and Endoscopy, IRCCS Ospedale San Raffaele, Department of Gastroenterology, University Vita-Salute San Raffaele, Milan, \\nItaly\\n¶Department of Medicine, Division of Gastroenterology, University of Michigan, Ann Arbor, Michigan, USA\\n#Cytel, Inc., Waltham, Massachusetts, USA\\n**AbbVie Inc., North Chicago, Illinois, USA\\nAddress correspondence to: Remo Panaccione, MD, FRCPC, Rm 6D32, TRW Building, 3280 Hospitals Drive NW, Calgary, AB T3R1B1, Canada (rpanacci@\\nucalgary.ca).\\nBackground:  Given rapid innovation in advanced therapies for moderately to severely active ulcerative colitis (UC), we investigated their com-\\nparative efficacy and safety during induction and maintenance through network meta-analysis.\\nMethods:  Using Bayesian methods, endpoints of clinical remission and clinical response per Full Mayo score, and endoscopic improvement \\nwere assessed in bio-naive and -exposed populations. Safety was assessed in overall populations by all adverse events (AEs), serious AEs, \\ndiscontinuation due to AEs, and serious infections. Phase 3 randomized controlled trials were identified via systematic literature review, in-\\ncluding the following advanced therapies: infliximab, adalimumab, vedolizumab, golimumab, tofacitinib, ustekinumab, filgotinib, ozanimod, and \\nupadacitinib. Random effects models were used to address between-study heterogeneity. Intent-to-treat (ITT) efficacy rates were calculated by \\nadjusting maintenance outcomes by likelihood of induction response.\\nResults:  Out of 48 trials identified, 23 were included. Across all outcomes and regardless of prior biologic exposure, ITT efficacy rates were \\nhighest for upadacitinib, owing to its highest ranking for all efficacy outcomes in induction and for all but clinical remission during maintenance \\namong bio-naive induction responders. For all advanced therapies versus placebo, there were no significant differences in serious AEs or \\nserious infections across therapies. For all AEs, golimumab had higher odds versus placebo during maintenance; for discontinuation due to \\nAEs, upadacitinib had lower odds versus placebo during induction, while ustekinumab and vedolizumab had lower odds versus placebo during \\nmaintenance.\\nConclusions:  Upadacitinib may be the most efficacious therapy for moderately to severely active UC based on ITT analyses, with similar safety \\nacross advanced therapies.\\nLay Summary \\nIndirect evidence suggests upadacitinib may be more efficacious than other advanced therapies at achieving clinical response, clinical remis-\\nsion, and endoscopic response over 1 year for moderately to severely active ulcerative colitis patients, with similar safety assessments across \\nadvanced therapies.\\nKey Words: ulcerative colitis, clinical trials, advanced therapies, network meta-analysis\\nIntroduction\\nUlcerative colitis (UC) is a chronic inflammatory bowel dis-\\nease that affects the colorectum and is clinically characterized \\nby bloody diarrhea, urgency, tenesmus, abdominal pain, ma-\\nlaise, weight loss, and fever. Disease onset commonly occurs \\nbetween the ages of 15 and 30 years and the annual global \\n© The Author(s) 2023. Published by Oxford University Press on behalf of Crohn's & Colitis Foundation.\\nThis is an Open Access article distributed under the terms of the Creative Commons Attribution License (https://creativecommons.org/licenses/by/4.0/), \\nwhich permits unrestricted reuse, distribution, and reproduction in any medium, provided the original work is properly cited.\\nReceived for publication: September 21, 2022. Editorial Decision: January 25, 2023\\n \\nDownloaded from https://academic.oup.com/crohnscolitis360/article/5/2/otad009/7066911 by National University of Singapore user on 23 May 2023\\n\", metadata={'source': '/mnt/c/Users/QUAN/Desktop/medical-chatbot/data/document_store/uc/otad009.pdf', 'file_path': '/mnt/c/Users/QUAN/Desktop/medical-chatbot/data/document_store/uc/otad009.pdf', 'page': 0, 'total_pages': 17, 'format': 'PDF 1.4', 'title': '', 'author': '', 'subject': '', 'keywords': '', 'creator': 'Adobe InDesign 15.1 (Windows)', 'producer': 'Adobe PDF Library 15.0; modified using iTextSharp 4.1.6 by 1T3XT', 'creationDate': \"D:20230328133539+05'30'\", 'modDate': \"D:20230523091651+00'00'\", 'trapped': '', 'modal': 'text'}),\n",
              "  Document(page_content='2\\nEfficacy and Safety of Advanced Therapies\\nincidence ranges from 9 to 20 cases per 100 000 per year with \\nhigher incidence in North America and Northern Europe.1\\nThe advanced therapeutic armamentarium for adults \\nwith moderately to severely active UC is rapidly evolving. \\nFor over 20 years, biologics targeting specific inflamma-\\ntory pathways have been the mainstay, beginning with those \\ntargeting tumor necrosis alpha (TNFi; eg, infliximab [INF], \\nadalimumab [ADA], and golimumab [GOL]) followed by \\nbiologics with other modes of action (eg, vedolizumab [VED] \\nand ustekinumab [UST]). However, treatment limitations for \\nmoderately to severely active UC remain, including primary \\nnonresponse, secondary loss of response, immunogenicity, and \\nparenteral administration.2 To overcome these limitations, \\nthere has been increasing interest in small molecule drugs \\n(SMDs), which can be orally administered and lack immu-\\nnogenicity.3 Of particular interest are SMDs that inhibit the \\nJanus kinase (JAK)-mediated inflammatory pathway, of which \\ntofacitinib (TOF), filgotinib (FIL), and upadacitinib (UPA) are \\ncurrently approved for use in adults with moderately to se-\\nverely active UC who have had an inadequate response or in-\\ntolerance to conventional therapy and/or TNFi’s.4–7 All orally \\nadministered, TOF, FIL, and UPA are distinguished by their \\nJAK selectivity: TOF is a pan-JAK inhibitor while FIL and \\nUPA are approximately 30- and 60-fold selective for JAK1 \\nover JAK2, respectively.8,9 In human cellular assays, UPA pref-\\nerentially inhibits signaling by JAK1 or JAK1/3 with func-\\ntional selectivity over cytokine receptors that signal via pairs \\nof JAK2.5 In addition, ozanimod (OZA), a SMD that selec-\\ntively modulates the sphingosine-1-phosphase receptor (S1P), \\nis also approved for use in UC.10\\nWith this rapid innovation, much attention has been paid \\ntoward establishing the comparative efficacy and safety of \\nbiologics and SMDs that are approved or in late stages of \\ndevelopment for moderately to severely active UC. Most \\nrecently, Lasa et al11 and Burr et al12 each conducted and \\npublished a systematic literature review (SLR) and frequentist \\nnetwork meta-analysis (NMA) on the efficacy and safety of \\nbiologics and SMDs for patients with moderately to severely \\nUC. Both studies assessed all outcomes after induction (6–14 \\nweeks); Lasa et al11 additionally assessed efficacy after main-\\ntenance (26–66 weeks) separately for treat-through (TT) and \\nre-randomized responders (RR) randomized clinical trials \\n(RCTs). Both studies also assessed all outcomes in overall \\npopulations, as well as induction efficacy outcomes by prior \\nbiologic exposure, though UPA was excluded from subgroup \\nanalyses in Lasa et al11 due to lack of published data.\\nDespite these recent publications, there remain key gaps \\nin our understanding of the comparative efficacy and safety \\nof advanced therapies for moderately to severely active UC. \\nFirst, an indirect comparison of maintenance treatment \\nsafety remains unpublished. Second, so far only separate \\nNMAs have been conducted for induction and maintenance \\ntreatments, when in practice clinicians would consider the \\noverall comparative efficacy of treatments across induction \\nand maintenance in their decision-making. Finally, Lasa et \\nal11 and Burr et al12 conducted their literature searches in \\nJuly 2021 and October 2021, respectively, and more data \\nhave become available to address the research question, \\nincluding more comprehensive UPA data from its phase 3 \\nRCT. We therefore performed Bayesian NMAs to determine \\nthe latest comparative efficacy and safety of all currently \\napproved biologics and SMDs for moderately to severely \\nactive UC. First, consistent with prior published NMAs, we \\nconducted separate NMAs for induction and maintenance \\ntreatments.11,12 Then, rather than burdening medical decision \\nmakers with the task of reconciling results from disparate \\nanalyses of induction and maintenance, we took the novel \\nadditional step to combine induction and maintenance NMA \\nresults to simulate absolute treatment efficacy in an intent-\\nto-treat (ITT) population of induction responders in an RR \\nmaintenance RCT.\\nMaterials and Methods\\nSearch Strategy\\nA clinical SLR was conducted per guidance from the Cochrane \\nHandbook for Systematic Reviews of Interventions,13 Centre \\nfor Reviews and Dissemination’s Guidance for Undertaking \\nReviews in Healthcare,14 and Methods for the Development \\nof National Institute for Health and Care Excellence (NICE) \\nPublic Health Guidance.15 Using the Ovid platform,16 searches \\nfor English-language publications of RCTs reporting the clin-\\nical efficacy and/or safety of relevant treatments for adults with \\nmoderately to severely active UC were conducted on January \\n6, 2022 (from inception of the databases) in MEDLINE, \\nEmbase, and other relevant databases. Keyword searches of \\nthe annual proceedings of relevant scientific meetings (from \\nlast 4 years) and clinical trial registers (no date limit) were \\nalso conducted for additional available data. Finally, the \\nbibliographies of SLRs and meta-analyses identified through \\ndatabase searches and selected key RCTs were reviewed to \\nensure literature saturation. Details of the search strategy are \\npresented in Appendix 1; the full SLR protocol has been reg-\\nistered with PROSPERO.17\\nStudy Selection\\nTitle/abstract and full-text screenings were conducted sequen-\\ntially and in parallel by 2 independent researchers to iden-\\ntify studies that met the SLR eligibility criteria, which are \\ndescribed in detail in Appendix 2. From the SLR, to meet the \\nstudy objectives and minimize between-study heterogeneity, a \\nnarrower set of inclusion criteria was imposed for the NMA \\nwhich is described in Table 1.\\nOutcomes\\nEfficacy outcomes based on the Full Mayo score (FMS) were \\nassessed as possible. The FMS consists of 4 items, each with \\na subscore that ranges from 0 to 3 whole points: stool fre-\\nquency subscore (SFS), rectal bleeding subscore (RBS), en-\\ndoscopic Mayo subscore (EMS), and physician’s global \\nassessment (PGA).18 The efficacy outcomes analyzed by prior \\nbiologic exposure were clinical response (decrease from base-\\nline in FMS ≥3 points and ≥30%, accompanied by a decrease \\nin RBS of ≥1 or an absolute RBS ≤1), clinical remission (FMS \\n≤2 with no subscore >1), and endoscopic improvement (EMS \\n≤1). Deviations from these definitions are noted in Appendix \\n5. The safety outcomes analyzed in the overall populations \\nwere all adverse events (AEs), discontinuation due to AEs, \\nserious AEs, and serious infections, as reported in the RCT \\npublications. Only outcomes evaluated during randomized, \\ndouble-blinded phases were considered. Each binary outcome \\nwas assessed after induction and maintenance, for a total \\nof 20 NMAs conducted (ie, induction and maintenance of \\nDownloaded from https://academic.oup.com/crohnscolitis360/article/5/2/otad009/7066911 by National University of Singapore user on 23 May 2023\\n', metadata={'source': '/mnt/c/Users/QUAN/Desktop/medical-chatbot/data/document_store/uc/otad009.pdf', 'file_path': '/mnt/c/Users/QUAN/Desktop/medical-chatbot/data/document_store/uc/otad009.pdf', 'page': 1, 'total_pages': 17, 'format': 'PDF 1.4', 'title': '', 'author': '', 'subject': '', 'keywords': '', 'creator': 'Adobe InDesign 15.1 (Windows)', 'producer': 'Adobe PDF Library 15.0; modified using iTextSharp 4.1.6 by 1T3XT', 'creationDate': \"D:20230328133539+05'30'\", 'modDate': \"D:20230523091651+00'00'\", 'trapped': '', 'modal': 'text'}),\n",
              "  Document(page_content='Panaccione et al\\n3\\nclinical response, clinical remission, and endoscopic improve-\\nment in bio-naive and -exposed populations; 4 induction and \\nmaintenance safety outcomes in overall populations).\\nData Extraction and Imputation\\nFor each NMA-eligible RCT, relevant data for overall and bio-\\nnaive/exposed subgroups were extracted into an Excel data-\\nbase: study characteristics (eg, name, design, total randomized, \\nduration), exposure definition (eg, drug, dose, and duration), \\nbaseline patient characteristics (eg, age, gender, weight, dis-\\nease duration, extensive colitis or pancolitis, FMS, C-reactive \\nprotein, concurrent immunomodulators, and corticosteroids), \\nand reported outcomes (eg, number assessed [N] and number \\nwith event [n]). Two researchers independently rated the \\nquality of the included RCTs using the Cochrane Risk of Bias \\ntool, version 2.0.19 For UPA, FMS outcomes were obtained \\nfrom ad hoc analyses of its patient-level trial data.\\nWhile Lasa et al11 conducted separate NMAs on the ef-\\nficacy of maintenance treatments assessed in TT versus RR \\ntrials, we instead combined them by adjusting the observed \\ndata from TT trials to mimic those of RR trials, based on the \\nassumption that the number of responders at the end of in-\\nduction is a proxy for the total number of patients entering \\nmaintenance. Thus, to the extent that they are reported, clin-\\nical outcomes for induction responder subset of TT trials \\nwere used. If induction responder data were not reported, \\nthen values were assumed per the Evidence Review Group \\n(ERG) maintenance-only NMA in the NICE submission \\nfor UST in UC (TA633).20 Accepted and used by the NICE-\\ncommissioned ERG, this imputation had one noted draw-\\nback—it ignored nonresponders at the end of the induction \\nphase who could have potentially become responders by the \\nend of the maintenance phase.20 Details of the TT-to-RR ad-\\njustment are described in Appendix 6.\\nData Analysis\\nPer NICE guidelines, NMAs were conducted in a Generalized \\nLinear Model (GLM) framework using a binomial likelihood, \\nlogit link, and Bayesian Markov chain Monte Carlo (MCMC) \\nsimulation with 3 chains of 100 000 posterior iterations \\neach.21 Models were considered to converge when their \\nPotential Scale Reduction Factor (PSRF) fell below 1.05.22 \\nBy default, independent baseline (placebo [PBO]) risks were \\nassumed and noninformative prior distributions were used \\n(normal [0, 1002] for continuous parameters and uniform [0, \\n5] for the between-study heterogeneity SD of a random effects \\n[RE] model). Deviations from these defaults were made to \\naccount for data sparsity (eg, exchangeable baseline assump-\\ntion when ≥1 PBO arms have zero events, slightly informative \\nhalf-normal [0, 0.322] prior for SD when ≥50% of treatments \\nin a network are informed by a single RCT). RE models \\nwere utilized to account for expected heterogeneity in trial \\nendpoints and study design. RE models adjusted for baseline \\nrisk were selected if the model successfully converged and \\nif the associated meta-regression term was significant (95% \\ncredible interval [CrI] excluded zero). In networks with evi-\\ndence loops, network consistency was assessed by comparing \\nthe fit of an RE unrelated mean effects (UME) model to the \\nassociated RE model NMA.23\\nFrom each logit NMA, pairwise odds ratios (ORs; median \\nand 95% CrI), surface under the cumulative ranking curve \\n(SUCRA) values, and absolute rates were estimated to inform \\nrelative treatment effect size, statistical significance, and treat-\\nment rankings. SUCRA serves as a numerical summary for \\nthe probability of each treatment being ranked first, second, \\nthird, and so on; SUCRA would be 100% for the most fa-\\nvorable treatment (ie, has the highest efficacy rate or lowest \\nsafety event rate) and 0% for the least favorable treatment in \\nthe network (ie, has the lowest efficacy rate or highest safety \\nTable 1. Inclusion criteria from SLR to NMA.\\nElement\\nInclusion\\nPatient pop-\\nulation\\n• Randomized adults (≥16 years) with moderately to severely active UC\\nInterventions\\nEvaluated the following FDA- and/or EMA-approved biologic or SMD doses:\\n•  ADA (subcutaneous [SC] 160 mg at week 0, 80 mg at week 2, and 40 mg at week 4 [ADA160/80] for induction, and SC 40 \\nmg every other week [ADA40Q2W] or every week [ADA40QW] for maintenance)\\n• FIL (oral 100 mg [FIL100] or 200 mg [FIL200] QD for induction and maintenance)\\n•  GOL (SC 200 mg at week 0 and 100 mg at week 2 [GOL200/100] for induction, and SC 100 mg [GOL100] or 50 mg \\n[GOL50] every 4 weeks for maintenance)\\n• INF (IV 5 mg/kg [INF5] or 10 mg/kg [INF10a] at weeks 0, 2, and 6 then every 8 weeks for induction and maintenance)\\n• OZA (oral 0.23 mg QD for 4 days, 0.46 mg QD for 3 days, then 0.92 mg QD [OZA0.92] for induction and maintenance)\\n• TOF (oral 10 mg BID [TOF10] for 8 weeks for induction, and oral 5 mg BID [TOF5] or TOF10 for maintenance)\\n• UPA (oral 45 mg QD for 8 weeks [UPA45] for induction, and oral 15 mg [UPA15] or 30 mg [UPA30] QD for maintenance)\\n•  UST (IV 6 mg/kg at week 0 [UST6] for induction, and SC 90 mg at week 8 then every 12 weeks [UST90Q12W] or 8 weeks \\n[UST90Q8W] for maintenance)\\n•  VED (IV 300 mg at weeks 0, 2, and 6 [VED300] for induction, and IV 300 mg every 8 weeks [VED300Q8W] or every 4 \\nweeks [VED300Q4W] for maintenance)\\nComparators\\n• Included an active comparator that enabled network link or PBO\\nOutcomes \\nmeasures\\n•  Reported an outcome of interest after 6–10 weeks of induction treatment and/or after at least 40 weeks of maintenance \\ntreatment\\nStudy design\\n• Double-blinded, phase 3+ RCT\\nAbbreviations: ADA, adalimumab; BID, twice daily; EMA, European Medicines Agency; FDA, US Food and Drug Administration; FIL, filgotinib; GOL, \\ngolimumab; INF, infliximab; IV, intravenous; NMA, network meta-analysis; OZA, ozanimod; PBO, placebo; QD, once daily; RCT, randomized clinical \\ntrial; SC, subcutaneous; SLR, systematic literature review; SMD, small molecule drug; TOF, tofacitinib; UC, ulcerative colitis; UPA, upadacitinib; UST, \\nustekinumab; VED, vedolizumab.\\naDose unapproved but used in clinical practice.\\nDownloaded from https://academic.oup.com/crohnscolitis360/article/5/2/otad009/7066911 by National University of Singapore user on 23 May 2023\\n', metadata={'source': '/mnt/c/Users/QUAN/Desktop/medical-chatbot/data/document_store/uc/otad009.pdf', 'file_path': '/mnt/c/Users/QUAN/Desktop/medical-chatbot/data/document_store/uc/otad009.pdf', 'page': 2, 'total_pages': 17, 'format': 'PDF 1.4', 'title': '', 'author': '', 'subject': '', 'keywords': '', 'creator': 'Adobe InDesign 15.1 (Windows)', 'producer': 'Adobe PDF Library 15.0; modified using iTextSharp 4.1.6 by 1T3XT', 'creationDate': \"D:20230328133539+05'30'\", 'modDate': \"D:20230523091651+00'00'\", 'trapped': '', 'modal': 'text'}),\n",
              "  Document(page_content='4\\nEfficacy and Safety of Advanced Therapies\\nevent rate).24 Absolute rates were estimated relative to PBO \\nrates modeled using a baseline natural history RE model.23 \\nFinally, to simulate treatment efficacies in an ITT population \\nof an RR maintenance trial, MCMC chains of induction re-\\nsponse rates were multiplied with those of maintenance ef-\\nficacy rates to obtain ITT efficacy rates. From these ITT \\nefficacy rates, and absolute event rates for safety outcomes, \\nthe numbers-needed-to-treat (NNTs) or -harm (NNHs) were \\nestimated for UPA relative to each comparator as the inverse \\nof rate difference between UPA and the comparator. All logit \\nNMAs were run using Just Another Gibbs Sampler (JAGS; \\nversion 4.3.0) via the bnma package (version 1.4.0) in the R \\nstatistical software (R Foundation for Statistical Computing, \\nVienna, Austria; version 4.0.2).25–27\\nFor networks with significant baseline risk heterogeneity, \\nbut baseline risk adjustment for the selected logit model did \\nnot converge or run due to data sparsity, a fixed effects (FE) \\nmodel using a\\xa0 risk difference (RD) link was alternatively \\ntested. The RD link is a valid though noncanonical method \\nto potentially minimize the impact of PBO heterogeneity. \\nAdditional RD NMAs were conducted as needed to generate \\ncorresponding ITT efficacy rates in sensitivity analysis. These \\nRD NMAs were run in WinBUGS.23,28–30\\nEthical Considerations\\nThe Independent Ethics Committee or Institutional Review \\nBoard at each study site approved the study protocol, in-\\nformed consent forms, and recruitment materials before pa-\\ntient enrollment for the UPA phase 3 clinical trials. These \\nstudies were conducted in accordance with the International \\nConference \\nfor \\nHarmonisation \\nguidelines, \\napplicable \\nregulations, and the Declaration of Helsinki. Patients pro-\\nvided written informed consent before screening. Data for all \\nother advanced therapies were based on a SLR of published \\nphase 3 studies.\\nResults\\nStudy Selection and Characteristics\\nThe SLR search strategy identified 5629 records, of which \\n3966 proceeded to title/abstract review and 812 to full-text \\nreview. Ultimately, 293 records covering 48 original RCTs \\nwere included in the SLR (Figure 1). From SLR to NMA, 23 \\nRCTs reported by 62 records were found eligible, of which 18 \\n(39 records; 8823 patients) contributed data to the induction \\nnetwork (Figure 2) and 14 (47 records; 5321 patients) to the \\nmaintenance network (Figure 3). A total of 25 RCTs were \\nexcluded due to study characteristics (eg, phase 2, open-label, \\nsingle-arm), outcomes (eg, outside of eligible timeframes, \\nnot Mayo score based), and/or interventions (eg, not a bio-\\nlogic/SMD of interest). An overview of the 23 included RCTs \\nand their baseline characteristics by induction and mainte-\\nnance populations are presented in Appendix 3. The included \\nRCT populations were largely comparable in their baseline \\ncharacteristics, though some heterogeneity was noted in \\nweight, disease duration, extent of disease, and concomitant \\nmedications. A risk of bias assessment showed a low risk of \\nbias for all included RCTs, which were all industry sponsored \\n(Appendix 4).\\nThe outcome contributions and definitions of included \\nRCTs are described in Appendix 5. For induction, 18 and 10 \\nRCTs contributed efficacy data for bio-naive and -exposed \\npopulations, respectively, and 14 RCTs contributed safety \\ndata for overall populations. For maintenance, 12 and 9 \\nRCTs contributed efficacy data for bio-naive and -exposed \\npopulations, respectively, and 14 RCTs contributed safety \\ndata for overall populations. The following differences in \\noutcome definitions across the RCTs were observed: location \\nof endoscopic reading (generally local in RCTs for biologics \\nvs central in RCTs for SMDs), Mayo score type (all RCTs \\nreported FMS except for TRUE NORTH which only re-\\nported an adapted Mayo score [AMS] that excluded the PGA \\nsubscore), treatment duration (6–10 weeks induction with \\nmost RCTs at 8 weeks, and 42–54 weeks maintenance), and \\nprior biologic experience (most studies defined experience \\nusing exposure with some defining it using failure). Of note, \\ninduction safety outcomes were assessed after 10 weeks in 2 \\nRCTs (Japic CTI-060298 at 14 weeks and SELECTION at \\n11 weeks) but were included to be able to assess INF and FIL \\n(Appendix 5).\\nOf the 14 included maintenance RCTs, 11 (GEMINI 1, \\nNCT02039505, OCTAVE Sustain, PURSUIT-J, PURSUIT-M, \\nSELECTION, SERENE-UC, TRUE NORTH, U-ACHIEVE, \\nUNIFI, and VISIBLE 1) had RR designs and 3 (ACT-1, M10-\\n447, and ULTRA-2) had TT designs. RR clinical response \\nand remission were imputed for ACT-1 and ULTRA-2; no \\nother imputation was performed due to lack of reported \\ndata. For M10-447 and ULTRA-2, maintenance-only safety \\nevents were obtained by subtracting induction from overall \\nevents; for ACT-1, only overall events were reported and thus \\nwere included as is. No adjustment for induction responders \\nwas made for maintenance safety, based on the assumption \\nFigure 1. PRISMA diagram for clinical evidence.\\nDownloaded from https://academic.oup.com/crohnscolitis360/article/5/2/otad009/7066911 by National University of Singapore user on 23 May 2023\\n', metadata={'source': '/mnt/c/Users/QUAN/Desktop/medical-chatbot/data/document_store/uc/otad009.pdf', 'file_path': '/mnt/c/Users/QUAN/Desktop/medical-chatbot/data/document_store/uc/otad009.pdf', 'page': 3, 'total_pages': 17, 'format': 'PDF 1.4', 'title': '', 'author': '', 'subject': '', 'keywords': '', 'creator': 'Adobe InDesign 15.1 (Windows)', 'producer': 'Adobe PDF Library 15.0; modified using iTextSharp 4.1.6 by 1T3XT', 'creationDate': \"D:20230328133539+05'30'\", 'modDate': \"D:20230523091651+00'00'\", 'trapped': '', 'modal': 'text'}),\n",
              "  Document(page_content='Panaccione et al\\n5\\nthat treatment safety and efficacy are independent, unrelated \\noutcomes. The final data inputs for each NMA are provided \\nin Appendix 6, including a table detailing the TT-to-RR main-\\ntenance efficacy imputation.\\nNoted in Appendix 7, an assessment of heterogeneity in \\nbaseline (PBO) risks for each outcome revealed significance \\n(Wald test P-value <.05) in the following networks, justifying \\ntesting the RD link in sensitivity analysis where baseline \\nrisk adjustment failed: induction of clinical response (bio-\\nnaive), endoscopic improvement (bio-naive and -exposed), all \\nAEs, and discontinuation due to AEs; maintenance of clin-\\nical response (bio-naive and -exposed), clinical remission \\n(bio-naive), endoscopic improvement (bio-naive), all AEs, dis-\\ncontinuation due to AEs, and serious AEs. No evidence of \\ninconsistency was detected by UME models in the relevant \\nnetworks.\\nModel specifications and selections are detailed in Appendix \\n7. Findings of selected models in terms of induction and ITT \\nefficacy in bio-naive and -exposed populations, as well as \\ninduction and maintenance safety in overall populations, \\nare subsequently described with statistically significant \\ncomparisons as determined by pairwise comparisons on the \\nOR scale explicitly noted. Details of maintenance-only effi-\\ncacy findings among induction responders are presented in \\ntables and figures.\\nEfficacy in Bio-naive Populations\\nThe bio-naive induction network includes 12 treatments, 5080 \\npatients, and 66 possible pairwise comparisons. The main-\\ntenance network includes 17 treatments (14 for endoscopic \\nimprovement), 2648 patients (2579 for clinical response and \\n2230 for endoscopic improvement), and 136 possible pair-\\nwise comparisons (91 for endoscopic improvement).\\nClinical response\\nAll treatments are significantly more efficacious than PBO \\nat inducing clinical response, with UPA45 ranking highest \\n(SUCRA 99%; OR 6.9; absolute rate 79% [95% CrI: \\n68%–87%]) followed by UST6, INF5, and INF10 (Table \\n2; Appendix 11, Figure S27). Between active induction \\ntreatments, significantly higher efficacies are found for UPA45 \\nFigure 2. Induction network plot.\\nDownloaded from https://academic.oup.com/crohnscolitis360/article/5/2/otad009/7066911 by National University of Singapore user on 23 May 2023\\n', metadata={'source': '/mnt/c/Users/QUAN/Desktop/medical-chatbot/data/document_store/uc/otad009.pdf', 'file_path': '/mnt/c/Users/QUAN/Desktop/medical-chatbot/data/document_store/uc/otad009.pdf', 'page': 4, 'total_pages': 17, 'format': 'PDF 1.4', 'title': '', 'author': '', 'subject': '', 'keywords': '', 'creator': 'Adobe InDesign 15.1 (Windows)', 'producer': 'Adobe PDF Library 15.0; modified using iTextSharp 4.1.6 by 1T3XT', 'creationDate': \"D:20230328133539+05'30'\", 'modDate': \"D:20230523091651+00'00'\", 'trapped': '', 'modal': 'text'}),\n",
              "  Document(page_content='6\\nEfficacy and Safety of Advanced Therapies\\nversus all other treatments except FIL200 and UST6, and for \\nINF5 versus ADA160/80 (Appendix 8, Figure S6). The me-\\ndian ITT rate of clinical response at the end of maintenance \\nis highest for UPA45 × UPA30 (66.7% [95% CrI: 44.9%–\\n79.7%]), followed by UPA45 × UPA15 (56.6% [95% CrI: \\n30.5%–74.4%]) and TOF10 × TOF10 (47.1% [95% CrI: \\n26.9%–63.3%]) (Figure 4; Appendix 11, Figure S26).\\nClinical remission\\nAll treatments except UST6, FIL200, FIL100, and ADA160/80 \\nare significantly more efficacious than PBO at inducing clin-\\nical remission, with UPA45 ranking highest (SUCRA 97%; \\nOR 9.6; absolute rate 50% [95% CrI: 25%–77%]) followed \\nby INF5, OZA0.92, and VED300 (Table 2; Appendix 11, \\nFigure S28). Between active induction treatments, signif-\\nicantly higher efficacies are found for UPA45 versus all \\nother treatments except GOL200/100, VED300, INF5, and \\nOZA0.92, and for INF5 versus ADA160/80 (Appendix 8, \\nFigure S8). The median ITT rate of clinical remission at the \\nend of maintenance is highest for UPA45 × UPA30 (40.6% \\n[95% CrI: 15.8%–65.9%]), followed by TOF10 × TOF10 \\n(39.0% [95% CrI: 17.6%–58.6%]) and TOF10 × TOF5 \\n(37.5% [95% CrI: 16.5%–57.6%]) (Figure 4; Appendix 11, \\nFigure S26).\\nEndoscopic improvement\\nAll treatments except FIL100 are significantly more effica-\\ncious than PBO at inducing endoscopic improvement, with \\nUPA45 ranking highest (SUCRA 99%; OR 6.9; absolute rate \\n69% [95% CrI: 54%–81%]) followed by OZA0.92, INF5, \\nand INF10 (Table 2). Between active induction treatments, \\nsignificantly higher efficacies are found for UPA45 versus all \\nother treatments except OZA0.92, and for OZA0.92, INF10, \\nand INF5 each versus FIL100 and ADA160/80 (Appendix \\n8, Figure S10). The median ITT rate of endoscopic im-\\nprovement at the end of maintenance is highest for UPA45 \\nFigure 3. Maintenance network plot.\\nDownloaded from https://academic.oup.com/crohnscolitis360/article/5/2/otad009/7066911 by National University of Singapore user on 23 May 2023\\n', metadata={'source': '/mnt/c/Users/QUAN/Desktop/medical-chatbot/data/document_store/uc/otad009.pdf', 'file_path': '/mnt/c/Users/QUAN/Desktop/medical-chatbot/data/document_store/uc/otad009.pdf', 'page': 5, 'total_pages': 17, 'format': 'PDF 1.4', 'title': '', 'author': '', 'subject': '', 'keywords': '', 'creator': 'Adobe InDesign 15.1 (Windows)', 'producer': 'Adobe PDF Library 15.0; modified using iTextSharp 4.1.6 by 1T3XT', 'creationDate': \"D:20230328133539+05'30'\", 'modDate': \"D:20230523091651+00'00'\", 'trapped': '', 'modal': 'text'}),\n",
              "  Document(page_content='Panaccione et al\\n7\\nTable 2. NMA of efficacy outcomes (clinical response, clinical remission, endoscopic improvement) in bio-naive populationsj.\\nPhase \\nTreatment \\nClinical response\\nClinical remission\\nEndoscopic improvement\\nOR (vs PBO) \\nAbsolute rate \\nSUCRA \\nOR (vs PBO) \\nAbsolute rate \\nSUCRA \\nOR (vs PBO) \\nAbsolute rate \\nSUCRA \\nInduction (6–10 weeks \\npost-baseline)\\nUpadacitinib \\n45\\xa0mg QD\\n6.9i\\n79% (68%–87%)\\n99%\\n9.6i\\n50% (25%–77%)\\n97%\\n6.9i\\n69% (54%–81%)\\n99%\\nUstekinumab \\n6\\xa0mg/kga\\n3.6i\\n67% (50%–80%)\\n74%\\n2.0\\n18% (6%–41%)\\n37%\\n1.9i\\n38% (24%–54%)\\n39%\\nInfliximab 5 \\nmgb\\n3.4i\\n65% (53%–76%)\\n71%\\n3.9i\\n29% (15%–48%)\\n74%\\n3.0i\\n50% (39%–60%)\\n74%\\nInfliximab 10 \\nmgb\\n3.4i\\n65% (51%–77%)\\n70%\\n3.2i\\n25% (12%–45%)\\n61%\\n3.1i\\n50% (38%–61%)\\n74%\\nFilgotinib \\n200\\xa0mg QD\\n3.4i\\n65% (47%–79%)\\n69%\\n2.3\\n20% (8%–42%)\\n44%\\n2.0i\\n39% (26%–56%)\\n45%\\nTofacitinib \\n10\\xa0mg BIDc\\n3.1i\\n63% (49%–76%)\\n63%\\n2.3i\\n19% (8%–41%)\\n42%\\n2.1i\\n40% (27%–56%)\\n46%\\nFilgotinib \\n100\\xa0mg QD\\n2.5i\\n58% (40%–74%)\\n41%\\n1.5\\n13% (5%–32%)\\n19%\\n1.4\\n31% (19%–47%)\\n19%\\nAdalimumab \\n160/80 mgd\\n2.2i\\n55% (41%–67%)\\n30%\\n1.8\\n16% (7%–31%)\\n27%\\n1.6i\\n34% (25%–44%)\\n26%\\nVedolizumab \\n300 mgb\\n2.1i\\n54% (39%–69%)\\n30%\\n3.3i\\n26% (11%–51%)\\n62%\\n2.5i\\n45% (31%–60%)\\n60%\\nOzanimod \\n0.92 mge\\n2.1i\\n54% (37%–69%)\\n29%\\n4.1i\\n30% (12%–59%)\\n73%\\n3.6i\\n54% (37%–70%)\\n81%\\nGolimumab \\n200/100 mgf\\n1.9i\\n52% (36%–68%)\\n24%\\n3.2i\\n25% (10%–51%)\\n61%\\n1.8i\\n37% (25%–51%)\\n36%\\nPBO\\n1.0\\n36% (27%–46%)\\n0%\\n1.0\\n9% (5%–17%)\\n3%\\n1.0\\n24% (20%–29%)\\n2%\\nMaintenancek (42–54 weeks \\npost-induction response)\\nUpadacitinib \\n30\\xa0mg QD\\n10.4i\\n85% (58%–96%)\\n96%\\n4.2i\\n52% (20%–82%)\\n72%\\n7.2i\\n70% (37%–90%)\\n86%\\nTofacitinib \\n10\\xa0mg BIDc\\n5.6i\\n76% (45%–92%)\\n82%\\n6.6i\\n63% (29%–88%)\\n87%\\n6.7i\\n69% (36%–89%)\\n84%\\nVedolizumab \\n300\\xa0mg Q8W\\n4.7i\\n73% (42%–91%)\\n76%\\n3.5i\\n47% (22%–74%)\\n65%\\n4.1i\\n58% (28%–82%)\\n64%\\nUpadacitinib \\n15\\xa0mg QD\\n4.6i\\n72% (39%–91%)\\n73%\\n3.0\\n43% (15%–77%)\\n57%\\n3.7i\\n55% (23%–83%)\\n57%\\nTofacitinib \\n5\\xa0mg BIDc\\n4.0i\\n69% (37%–89%)\\n67%\\n5.9i\\n60% (27%–86%)\\n84%\\n4.8i\\n61% (29%–86%)\\n69%\\nFilgotinib \\n200\\xa0mg QD\\n3.5i\\n66% (34%–88%)\\n60%\\n4.9i\\n56% (24%–84%)\\n79%\\n4.3i\\n58% (27%–84%)\\n65%\\nVedolizumab \\n300\\xa0mg Q4W\\n3.4i\\n65% (33%–88%)\\n59%\\n3.9i\\n50% (20%–79%)\\n69%\\n4.6i\\n60% (28%–85%)\\n68%\\nUstekinumab \\n90\\xa0mg Q8W\\n3.1i\\n64% (31%–88%)\\n55%\\n2.2\\n36% (12%–69%)\\n42%\\n2.5\\n45% (18%–76%)\\n39%\\nDownloaded from https://academic.oup.com/crohnscolitis360/article/5/2/otad009/7066911 by National University of Singapore user on 23 May 2023\\n', metadata={'source': '/mnt/c/Users/QUAN/Desktop/medical-chatbot/data/document_store/uc/otad009.pdf', 'file_path': '/mnt/c/Users/QUAN/Desktop/medical-chatbot/data/document_store/uc/otad009.pdf', 'page': 6, 'total_pages': 17, 'format': 'PDF 1.4', 'title': '', 'author': '', 'subject': '', 'keywords': '', 'creator': 'Adobe InDesign 15.1 (Windows)', 'producer': 'Adobe PDF Library 15.0; modified using iTextSharp 4.1.6 by 1T3XT', 'creationDate': \"D:20230328133539+05'30'\", 'modDate': \"D:20230523091651+00'00'\", 'trapped': '', 'modal': 'text'}),\n",
              "  Document(page_content='8\\nEfficacy and Safety of Advanced Therapies\\nPhase \\nTreatment \\nClinical response\\nClinical remission\\nEndoscopic improvement\\nOR (vs PBO) \\nAbsolute rate \\nSUCRA \\nOR (vs PBO) \\nAbsolute rate \\nSUCRA \\nOR (vs PBO) \\nAbsolute rate \\nSUCRA \\nUstekinumab \\n90\\xa0mg Q12W\\n3.0i\\n63% (30%–87%)\\n54%\\n1.9\\n33% (11%–66%)\\n36%\\n2.2\\n42% (16%–73%)\\n31%\\nGolimumab \\n100\\xa0mg \\nQ4Wg\\n2.7i\\n60% (31%–84%)\\n47%\\n2.9i\\n43% (19%–74%)\\n57%\\n2.9i\\n49% (24%–77%)\\n47%\\nInfliximab \\n10\\xa0mg/kg \\nQ8Wh\\n2.5\\n58% (25%–85%)\\n44%\\n1.5\\n27% (8%–63%)\\n26%\\nNA\\nNA\\nNA\\nGolimumab \\n50\\xa0mg Q4Wg\\n2.2i\\n55% (26%–82%)\\n36%\\n2.3\\n37% (14%–69%)\\n44%\\n2.4i\\n44% (19%–74%)\\n35%\\nInfliximab \\n5\\xa0mg/kg \\nQ8Wh\\n2.1\\n54% (22%–83%)\\n35%\\n1.4\\n26% (8%–62%)\\n24%\\nNA\\nNA\\nNA\\nOzanimod \\n0.92\\xa0mg QDe\\n1.8\\n50% (22%–78%)\\n26%\\n2.5\\n38% (14%–70%)\\n47%\\n2.3\\n43% (18%–73%)\\n33%\\nFilgotinib \\n100\\xa0mg QD\\n1.6\\n47% (19%–77%)\\n22%\\n1.9\\n33% (11%–67%)\\n36%\\n1.6\\n35% (12%–67%)\\n19%\\nAdalimumab \\n40\\xa0mg Q2Wh\\n1.3\\n42% (15%–74%)\\n15%\\n1.2\\n23% (7%–55%)\\n17%\\nNA\\nNA\\nNA\\nPBO\\n1.0\\n36% (16%–61%)\\n4%\\n1.0\\n20% (9%–39%)\\n8%\\n1.0\\n25% (12%–44%)\\n2%\\nColoring in SUCRA columns is based on SUCRA value; values of 100% are green in color, values of 0% are red in color, intermediates values are colored along the green-to-red gradient. Abbreviations: AM, \\nadapted Mayo score; BID, twice daily; CrI, credible interval; IV, intravenous; NA, not available; NMA, network meta-analysis; OR, odds ratio; PBO, placebo; Q#W, every # week; QD, once daily; RBS, rectal \\nbleeding score; RE, random effects model; REA, RE model adjusted for baseline/PBO risk; SC, subcutaneous; SFS, stool frequency score; SUCRA, surface under the cumulative ranking curve.\\naIV dose based on body weight (~6 mg/kg) at week 0.\\nbIV doses at week 0, 2, and 6 for induction.\\ncTofacitinib studies (OCTAVE 1, OCTAVE 2, and OCTAVE Sustain) additionally required RBS = 0 for clinical remission and for maintenance, bio-naive was defined as non-bio-failure.\\ndSC 160 mg at week 0 and 80 mg at week 2, then 40 mg Q2W.\\neOral 0.23 mg QD for 4 days, 0.46 mg QD for 3 days, then 0.92 mg QD starting on day 8. Ozanimod study (TRUE NORTH) used AM to define clinical response (decrease in AM ≥2% and ≥35% from baseline, \\nand a decrease in RBS ≥1 or an absolute RBS ≤1) and remission (SFS ≤1- and ≥1-point decrease from baseline, RBS = 0, and endoscopic subscore ≤1).\\nfSC 200 mg at week 0 and 100 mg at week 2.\\ngGolimumab study PURSUIT-J reported maintenance clinical remission and response as sustained over 2 post-induction timepoints, while study PURSUIT-M reported maintenance clinical response and endoscopic \\nimprovement as sustained over 2 post-induction timepoints.\\nhMaintenance outcomes for infliximab and adalimumab from the treat-through studies ACT-1 and ULTRA-2, respectively, were imputed to mimic re-randomized responder design outcomes.\\niDenotes statistical significance (OR 95% CrI excludes 1). 95% CrIs can be found in Appendices 8 and 9.\\njResults (medians with 95% CrI as applicable) displayed for ‘best-fitting’ model per fit statistics (REA for induction clinical response, RE for all other outcomes) and ordered in descending (best to worst rank) \\nSUCRA values for clinical response.\\nkOutcomes of maintenance treatment among induction responders.\\nTable 2. Continued\\nDownloaded from https://academic.oup.com/crohnscolitis360/article/5/2/otad009/7066911 by National University of Singapore user on 23 May 2023\\n', metadata={'source': '/mnt/c/Users/QUAN/Desktop/medical-chatbot/data/document_store/uc/otad009.pdf', 'file_path': '/mnt/c/Users/QUAN/Desktop/medical-chatbot/data/document_store/uc/otad009.pdf', 'page': 7, 'total_pages': 17, 'format': 'PDF 1.4', 'title': '', 'author': '', 'subject': '', 'keywords': '', 'creator': 'Adobe InDesign 15.1 (Windows)', 'producer': 'Adobe PDF Library 15.0; modified using iTextSharp 4.1.6 by 1T3XT', 'creationDate': \"D:20230328133539+05'30'\", 'modDate': \"D:20230523091651+00'00'\", 'trapped': '', 'modal': 'text'}),\n",
              "  Document(page_content='Panaccione et al\\n9\\n× UPA30 (55.0% [95% CrI: 28.8%–73.5%]), followed by \\nUPA45 × UPA15 (43.1% [95% CrI: 18.3%–66.6%]) and \\nTOF10 × TOF10 (42.7% [95% CrI: 22.1%–60.6%]) (Figure \\n4; Appendix 11, Figure S26).\\nThe high ITT efficacy rates of UPA45 × UPA30 translated \\nto positive, low NNTs relative to all comparators, many with \\n95% CrI that exclude zero (Appendix 13, Table S27). For \\nmaintenance-only among bio-naive induction responders, \\nUPA30 also exhibits high comparative efficacy, ranking first \\nfor clinical response and endoscopic improvement, while \\nTOF10 ranks first for clinical remission (Table 2). The bio-\\nnaive clinical response induction and all efficacy ITT logit \\nmodel findings are numerically consistent with their corre-\\nsponding RD model findings (Appendix 12).\\nEfficacy in Bio-exposed Populations\\nThe bio-exposed induction network includes 9 treatments, \\n2839 patients (2823 for clinical response and endoscopic \\nimprovement), and 36 possible pairwise comparisons. The \\nmaintenance network includes 13 treatments (12 for en-\\ndoscopic improvement), 1405 patients (1348 for clin-\\nical response and 1283 for endoscopic improvement), \\nand 78 possible pairwise comparisons (66 for endoscopic \\nimprovement).\\nClinical response\\nAll treatments except VED300 and ADA160/80 are signifi-\\ncantly more efficacious than PBO at inducing clinical re-\\nsponse, with UPA45 ranking highest (SUCRA 99%; OR \\n13.6; absolute rate 79% [95% CrI: 60%–90%]) followed \\nby FIL200, TOF10, and UST6 (Table 3; Appendix 11, Figure \\nS27). Between active induction treatments, significantly higher \\nefficacies are found for UPA45 versus all other treatments ex-\\ncept FIL200, and for FIL200 versus ADA160/80 and VED300 \\n(Appendix 9, Figure S12). The median ITT rate of clinical \\nresponse at the end of maintenance is highest for UPA45 \\n× UPA30 (59.8% [95% CrI: 39.0%–76.3%]), followed by \\nUP45 × UPA15 (52.2% [95% CrI: 31.0%–70.9%]) and \\nTOF10 × TOF10 (35.4% [95% CrI: 18.4%–55.1%]) (Figure \\n5; Appendix 11, Figure S26).\\nClinical remission\\nAll treatments except FIL100 and ADA160/80 are signifi-\\ncantly more efficacious than PBO at inducing clinical remis-\\nsion, with UPA45 ranking highest (SUCRA 97%; OR 9.8; \\nabsolute rate 18% [95% CrI: 6%–45%]) followed by UST6, \\nTOF10, and OZA0.92 (Table 3; Appendix 11, Figure S28). \\nBetween active induction treatments, significantly higher \\nefficacies are found for UPA45 versus all other treatments ex-\\ncept TOF10 and UST6, and for TOF10 and UST6 each versus \\nFIL100 (Appendix 9, Figure S14). The median ITT rate of \\nclinical remission at the end of maintenance is highest for \\nUPA45 × UPA30 (51.0% [95% CrI: 26.0%–73.5%], followed \\nby UPA45 × UPA15 (46.9% [95% CrI: 22.3%–71.2%]) and \\nFIL200 × FIL200 (17.7% [95% CrI: 5.8%–40.5%]) (Figure \\n5; Appendix 11, Figure S26).\\nEndoscopic improvement\\nUPA45, FIL200, TOF10, and UST6 are significantly more effi-\\ncacious than PBO at inducing endoscopic improvement, with \\nUPA45 ranking highest (SUCRA 99%; OR 15.1; absolute \\nrate 61% [95% CrI: 33%–85%]) followed by TOF10, UST6, \\nand FIL200 (Table 3). Between active induction treatments, \\nsignificantly higher efficacies are found for UPA45 versus \\nall other treatments except TOF10, and for TOF10 versus \\nADA160/80 and VED300 (Appendix 9, Figure S16). The me-\\ndian ITT rate of endoscopic improvement at the end of main-\\ntenance is highest for UPA45 × UPA30 (54.1% [95% CrI: \\n30.8%–73.9%], followed by UPA45 × UPA15 (46.6% [95% \\nCrI: 23.5%–69.1%]) and TOF10 × TOF10 (21.7% [95% \\nCrI: 8.9%–40.9%]) (Figure 5; Appendix 11, Figure S26).\\nThe high ITT efficacy rates of UPA45 × UPA30 translated \\nto positive, low NNTs relative to all comparators, with \\nthe associated 95% CrIs excluding 0 (Appendix 13, Table \\nS27). For maintenance-only among bio-exposed induction \\nresponders, UPA30 also exhibits high comparative efficacy, \\nFigure 4. Bio-naive intent-to-treat (ITT) maintenance efficacy adjusted by induction response (absolute rate samples for induction response [per \\nREA] were multiplied by absolute rates samples for each maintenance efficacy [per RE] to obtain ITT rates; median ± 95% CrI rates are presented; \\ntreatments are ordered by descending ITT rates for clinical response). Abbreviations: CrI, credible interval; PBO, placebo; RE, random effects model; \\nREA, RE model adjusted for baseline/PBO risk.\\nDownloaded from https://academic.oup.com/crohnscolitis360/article/5/2/otad009/7066911 by National University of Singapore user on 23 May 2023\\n', metadata={'source': '/mnt/c/Users/QUAN/Desktop/medical-chatbot/data/document_store/uc/otad009.pdf', 'file_path': '/mnt/c/Users/QUAN/Desktop/medical-chatbot/data/document_store/uc/otad009.pdf', 'page': 8, 'total_pages': 17, 'format': 'PDF 1.4', 'title': '', 'author': '', 'subject': '', 'keywords': '', 'creator': 'Adobe InDesign 15.1 (Windows)', 'producer': 'Adobe PDF Library 15.0; modified using iTextSharp 4.1.6 by 1T3XT', 'creationDate': \"D:20230328133539+05'30'\", 'modDate': \"D:20230523091651+00'00'\", 'trapped': '', 'modal': 'text'}),\n",
              "  Document(page_content='10\\nEfficacy and Safety of Advanced Therapies\\nTable 3. NMA of efficacy outcomes (clinical response, clinical remission, endoscopic improvement) in bio-exposed populationsh.\\nPhase \\nTreatment \\nClinical response\\nClinical remission\\nEndoscopic improvement\\nOR (vs PBO) \\nAbsolute rate \\nSUCRA \\nOR (vs PBO) \\nAbsolute rate \\nSUCRA \\nOR (vs PBO) \\nAbsolute rate \\nSUCRA \\nInduction (6–10 weeks \\npost-baseline)\\nUpadacitinib \\n45\\xa0mg QD\\n13.6g\\n79% (60%–90%)\\n99%\\n9.8g\\n18% (6%–45%)\\n97%\\n15.1g\\n61% (33%–85%)\\n99%\\nFilgotinib \\n200\\xa0mg QD\\n5.4g\\n59% (35%–80%)\\n80%\\n3.3g\\n7% (2%–21%)\\n47%\\n2.6g\\n21% (8%–47%)\\n61%\\nTofacitinib \\n10\\xa0mg BIDa\\n3.8g\\n51% (30%–72%)\\n66%\\n5.2g\\n10% (3%–29%)\\n72%\\n4.8g\\n33% (14%–62%)\\n80%\\nUstekinumab \\n6\\xa0mg/kgb\\n3.6g\\n49% (26%–72%)\\n62%\\n5.9g\\n12% (3%–35%)\\n77%\\n3.7g\\n28% (11%–56%)\\n72%\\nOzanimod \\n0.92 mgc\\n2.6g\\n42% (19%–69%)\\n47%\\n3.5g\\n7% (2%–23%)\\n50%\\n1.5\\n14% (4%–39%)\\n37%\\nFilgotinib \\n100\\xa0mg QD\\n2.6g\\n42% (21%–66%)\\n46%\\n1.9\\n4% (1%–14%)\\n21%\\n1.8\\n16% (6%–39%)\\n43%\\nVedolizumab \\n300 mgd\\n1.6\\n30% (14%–53%)\\n24%\\n3.2g\\n7% (2%–20%)\\n45%\\n1.2\\n11% (4%–26%)\\n25%\\nAdalimumab \\n160/80 mge\\n1.4\\n28% (12%–53%)\\n21%\\n2.7\\n6% (1%–19%)\\n38%\\n1.1\\n10% (4%–26%)\\n20%\\nPBO\\n1.0\\n21% (12%–34%)\\n4%\\n1.0\\n2% (1%–6%)\\n2%\\n1.0\\n9% (5%–18%)\\n12%\\nMaintenancei (42–54 weeks \\npost–induction response)\\nUpadacitinib \\n30\\xa0mg QD\\n12.1g\\n78% (54%–91%)\\n93%\\n19.4g\\n66% (35%–90%)\\n93%\\n14.6g\\n70% (42%–90%)\\n93%\\nTofacitinib \\n10\\xa0mg BIDa\\n8.7g\\n71% (47%–88%)\\n84%\\n4.7g\\n32% (14%–59%)\\n55%\\n4.8g\\n44% (21%–71%)\\n62%\\nUpadacitinib \\n15\\xa0mg QD\\n7.4g\\n68% (42%–86%)\\n76%\\n15.4g\\n61% (30%–87%)\\n87%\\n9.5g\\n61% (32%–85%)\\n81%\\nFilgotinib \\n200\\xa0mg QD\\n5.1g\\n59% (34%–80%)\\n63%\\n4.4g\\n31% (11%–64%)\\n52%\\n2.8g\\n31% (13%–60%)\\n41%\\nTofacitinib \\n5\\xa0mg BID\\n4.8g\\n58% (33%–80%)\\n59%\\n2.6\\n21% (8%–45%)\\n30%\\n3.1g\\n33% (14%–61%)\\n43%\\nVedolizumab \\n300\\xa0mg Q8Wd\\n4.3g\\n55% (30%–79%)\\n55%\\n8.2g\\n45% (21%–75%)\\n74%\\n7.1g\\n53% (26%–80%)\\n73%\\nOzanimod \\n0.92\\xa0mg QDc\\n3.8g\\n52% (28%–76%)\\n49%\\n3.8g\\n28% (11%–58%)\\n46%\\n2.8g\\n31% (13%–59%)\\n41%\\nVedolizumab \\n300\\xa0mg Q4W\\n3.8g\\n52% (24%–79%)\\n48%\\n8.0g\\n45% (17%–78%)\\n72%\\n9.6g\\n61% (29%–87%)\\n82%\\nUstekinumab \\n90\\xa0mg Q8W\\n3.0g\\n46% (24%–69%)\\n37%\\n3.2g\\n24% (10%–48%)\\n39%\\n2.8g\\n31% (14%–57%)\\n41%\\nAdalimumab \\n40\\xa0mg Q2Wf\\n2.9\\n45% (18%–77%)\\n37%\\n2.7\\n21% (5%–62%)\\n34%\\nNA\\nNA\\nNA\\nFilgotinib \\n100\\xa0mg QD\\n2.3\\n40% (19%–66%)\\n27%\\n3.8g\\n28% (9%–61%)\\n45%\\n2.1\\n25% (9%–54%)\\n29%\\nDownloaded from https://academic.oup.com/crohnscolitis360/article/5/2/otad009/7066911 by National University of Singapore user on 23 May 2023\\n', metadata={'source': '/mnt/c/Users/QUAN/Desktop/medical-chatbot/data/document_store/uc/otad009.pdf', 'file_path': '/mnt/c/Users/QUAN/Desktop/medical-chatbot/data/document_store/uc/otad009.pdf', 'page': 9, 'total_pages': 17, 'format': 'PDF 1.4', 'title': '', 'author': '', 'subject': '', 'keywords': '', 'creator': 'Adobe InDesign 15.1 (Windows)', 'producer': 'Adobe PDF Library 15.0; modified using iTextSharp 4.1.6 by 1T3XT', 'creationDate': \"D:20230328133539+05'30'\", 'modDate': \"D:20230523091651+00'00'\", 'trapped': '', 'modal': 'text'}),\n",
              "  Document(page_content='Panaccione et al\\n11\\nranking first for all outcomes (Table 3). The bio-exposed \\nclinical response and endoscopic improvement induc-\\ntion and efficacy ITT logit model findings are numerically \\nconsistent with their corresponding RD model findings \\n(Appendix 12).\\nSafety in Overall Populations\\nThe induction network for safety events (eg, all AEs, discon-\\ntinuation due to AEs, serious AEs, and serious infections) \\nincludes 11 treatments (10 treatments for discontinuation \\ndue to AEs), 14 studies (13 for discontinuation due to AEs), \\n7380 patients (6741 for discontinuation due to AEs), and 55 \\npossible pairwise comparisons (45 for discontinuation due to \\nAEs). The maintenance network includes 17 treatments (18 \\nfor serious infections), 13 studies (11 serious infections), 4841 \\npatients (4778 for discontinuation due to AEs and 5001 for \\nserious infections), and 136 possible pairwise comparisons \\n(120 for discontinuation due to AEs and 153 for serious \\ninfections).\\nBetween induction treatments including PBO, a handful \\nof significant differences in the safety events assessed are \\nobserved. For all AEs, GOL200/100 is ranked highest while \\nINF5 is ranked lowest and has significantly higher odds than \\nVED300 and FIL100 (Table 4; Appendix 10, Figure S18). For \\ndiscontinuation due to AEs, UPA45 is ranked highest and has \\nsignificantly lower odds than TOF10, ADA160/80, and PBO, \\nwhile PBO is ranked lowest (Table 4; Appendix 10, Figure \\nS20; Appendix 11, Figure S27), a finding that the RD analysis \\nconfirms (Appendix 12). For serious AEs, GOL200/100 and \\nOZA0.92 are ranked highest and lowest, respectively, with \\nno significant difference observed (Table 4; Appendix 10, \\nFigure S22; Appendix 11, Figure S27). Likewise, for serious \\ninfections, GOL200/100 and PBO are ranked highest and \\nlowest, respectively, with no significant difference observed \\n(Table 4; Appendix 10, Figure S24).\\nBetween maintenance treatments including PBO, some \\nsignificant differences in the safety events assessed are \\nlikewise observed. For all AEs, UST90Q12W is ranked \\nhighest, while GOL100 is ranked lowest and has signifi-\\ncantly higher odds than UST90Q12W and PBO (Table 4; \\nAppendix 10, Figure S19). In the RD analysis, OZA0.92 \\nis ranked lowest instead (Appendix 12). For discontinua-\\ntion due to AEs, UST90Q8W, UPA15, VED300Q4W, and \\nVED300Q8W are ranked first to fourth, respectively, and \\nhave significantly lower odds than FIL100; UST90Q8W, \\nUPA15, and VED300Q8W have significantly lower odds \\nthan ADA40Q2W; UST90Q8W has significantly lower \\nodds than GOL100; and UST90Q8W and VED400Q8W \\nhave significantly lower odds than PBO (Table 4; Appendix \\n10, Figure S21). For serious AEs, UPA30 is ranked highest \\nand has significantly lower odds than ADA40Q2W, which \\nis ranked lowest (Table 4; Appendix 10, Figure S23). For se-\\nrious infections, ADA40QW and INF10 are ranked highest \\nand lowest, respectively, with no significant difference \\nobserved (Table 4; Appendix 10, Figure S25).\\nFinally, NNHs of UPA versus comparators for safety events \\nin overall populations are consistent with the above findings, \\nwith all estimates being negative (indicating lower risk vs \\ncomparators) or high positive values (indicating positive but \\nsmall RD vs comparators). Furthermore, all NNH estimates \\nthat achieved statistical significance were negative (Appendix \\n13, Table S28).\\nPhase \\nTreatment \\nClinical response\\nClinical remission\\nEndoscopic improvement\\nOR (vs PBO) \\nAbsolute rate \\nSUCRA \\nOR (vs PBO) \\nAbsolute rate \\nSUCRA \\nOR (vs PBO) \\nAbsolute rate \\nSUCRA \\nUstekinumab \\n90\\xa0mg Q12W\\n2.0\\n37% (18%–61%)\\n21%\\n1.9\\n16% (6%–36%)\\n20%\\n1.2\\n16% (6%–36%)\\n11%\\nPBO\\n1.0\\n22% (15%–31%)\\n1%\\n1.0\\n9% (6%–14%)\\n2%\\n1.0\\n14% (9%–22%)\\n5%\\nColoring in SUCRA columns is based on SUCRA value; values of 100% are green in color, values of 0% are red in color, intermediates values are colored along the green-to-red gradient. Abbreviations: AM, \\nadapted Mayo score; BID, twice daily; CrI, credible interval; IV, intravenous; NA, not available; NMA, network meta-analysis; OR, odds ratio; PBO, placebo; Q#W, every # week; QD, once daily; RBS, rectal \\nbleeding score; RE, random effects model; SC, subcutaneous; SFS, stool frequency score; SUCRA, surface under the cumulative ranking curve.\\naTofacitinib studies (OCTAVE 1, OCTAVE 2, and OCTAVE Sustain) additionally required RBS=0 for clinical remission and for maintenance, bio-exposed was defined as bio-failed.\\nbIV dose based on body weight (~6 mg/kg) at week 0. Ustekinumab study (UNIFI) defined bio-exposed as bio-failed for clinical remission and endoscopic improvement.\\ncOral 0.23 mg QD for 4 days, 0.46 mg QD for 3 days, then 0.92 mg QD starting on day 8. Ozanimod study (TRUE NORTH) used AM to define clinical response (decrease in AM ≥2% and ≥35% from baseline, \\nand a decrease in RBS ≥1 or an absolute RBS ≤1) and remission (SFS ≤1- and ≥1-point decrease from baseline, RBS = 0, and endoscopic subscore ≤1).\\ndIV doses at weeks 0, 2, and 6 for induction. Vedolizumab study (GEMINI) defined bio-exposed as bio-failed.\\neSC 160 mg at week 0 and 80 mg at week 2, then 40 mg Q2W.\\nfMaintenance outcomes for adalimumab from the treat-through study ULTRA-2 were imputed to mimic re-randomized responder design outcomes.\\ngDenotes statistical significance (OR 95% CrI excludes 1). 95% CrIs can be found in Appendices 8 and 9.\\nhResults (medians with 95% CrI as applicable) displayed for ‘best-fitting’ model per fit statistics (RE for all outcomes) and ordered in descending (best to worst rank) SUCRA values for clinical response.\\niOutcomes of maintenance treatment among induction responders.\\nTable 3. Continued\\nDownloaded from https://academic.oup.com/crohnscolitis360/article/5/2/otad009/7066911 by National University of Singapore user on 23 May 2023\\n', metadata={'source': '/mnt/c/Users/QUAN/Desktop/medical-chatbot/data/document_store/uc/otad009.pdf', 'file_path': '/mnt/c/Users/QUAN/Desktop/medical-chatbot/data/document_store/uc/otad009.pdf', 'page': 10, 'total_pages': 17, 'format': 'PDF 1.4', 'title': '', 'author': '', 'subject': '', 'keywords': '', 'creator': 'Adobe InDesign 15.1 (Windows)', 'producer': 'Adobe PDF Library 15.0; modified using iTextSharp 4.1.6 by 1T3XT', 'creationDate': \"D:20230328133539+05'30'\", 'modDate': \"D:20230523091651+00'00'\", 'trapped': '', 'modal': 'text'}),\n",
              "  Document(page_content='12\\nEfficacy and Safety of Advanced Therapies\\nDiscussion\\nWith a growing number of advanced therapies available for \\nmoderately to severely active UC, it is important for clinicians \\nto better understand the relative efficacy and safety of avail-\\nable options. In the absence of direct comparisons gained \\nin head-to-head studies, indirect comparisons conducted \\nthrough NMAs provide clinicians valuable insights that \\nmay aid in their decision-making. In the present study, we \\nconfirmed the findings of recent NMAs by Lasa et al11 and \\nBurr et al12 that UPA 45 mg was the most efficacious induc-\\ntion therapy, significantly so versus most comparators and \\nindependent of prior biologic exposure, at inducing clinical \\nresponse, clinical remission, and endoscopic improvement. \\nFor maintenance results based on induction responders only \\n(not per ITT), we confirmed the finding by Lasa et al11 that \\nUPA 30 mg had high comparative efficacy, ranking first \\nfor all outcomes except for clinical remission in bio-naive \\npopulations, where it ranked fourth after TOF10, TOF5, and \\nFIL200.\\nGoing beyond the scope of currently published NMAs, \\nwe simulated the absolute ITT efficacies of treatments in \\nan RR maintenance trial by multiplying the MCMC chains \\nof treatments’ induction clinical response rates with each \\nof their maintenance clinical response, clinical remission, \\nand endoscopic improvement rates. The resulting ITT rates \\nshow UPA45 induction followed by UPA30 maintenance for \\nresponders (UPA45 × UPA30) as most efficacious for all 3 ef-\\nficacy outcomes in both bio-naive and -exposed populations. \\nFurthermore, UPA45 induction followed by UPA15 mainte-\\nnance for responders (UPA45 × UPA15) came second for all \\nefficacy outcomes except for clinical remission in bio-naive \\npopulations, for which TOF 10 mg induction and mainte-\\nnance for responders (TOF10 × TOF10) came second. These \\nITT estimates of efficacy provide a more holistic approach for \\nclinicians to assess and decide the appropriate UC treatment \\nfor their patients.\\nThe presentation of ITT efficacy after induction and \\nmaintenance is a novel component of this study. We believe \\nthis to be a straightforward, interpretable approach to ad-\\ndress an inherent limitation of maintenance NMA efficacy \\nresults which must be interpreted as contingent on induction \\nresponse. As a validation of this approach, ITT results can \\nbe compared against a TT trial not included in the NMA, \\nnamely VARSITY.31 The VARSITY study is a TT, head-to-\\nhead study of VED versus ADA that was excluded from the \\nNMA as it lacked sufficient data to conduct TT-to-RR effi-\\ncacy imputation. VARSITY reported the endpoint durable \\nclinical remission, defined as clinical remission at both weeks \\n14 and 52. This endpoint is akin to ITT clinical remission, al-\\nbeit in an ITT population defined by a later timepoint induc-\\ntion remission rather than induction response. Despite this \\ndifference, similar absolute efficacy can likely be expected for \\ndurable clinical remission and ITT clinical remission. Indeed, \\nVARSITY reported the durable clinical remission absolute ef-\\nficacy of VED and ADA in the overall population to be 18.3% \\nand 11.9%, respectively. These rates observed in the TT \\ntrial are between the respective ITT clinical remission rates \\nestimated in the NMA in bio-naive (25.0% and 12.2%, re-\\nspectively) and bio-exposed (13.2% and 5.8%, respectively) \\npopulations.31 In all, this provides external validity for the \\nITT methodology, and at a minimum for the ITT clinical re-\\nmission of VED and ADA.\\nRegarding safety, the present NMA observed only a \\nhandful of significant differences between treatments and \\nPBO for the 4 safety events assessed (ie, all AEs, discontin-\\nuation due to AEs, serious AEs, serious infections) during \\ninduction and maintenance. Discontinuation rates are im-\\nportant to consider because they may signal a balance be-\\ntween drug efficacy and drug safety. Specifically, relative to \\nPBO, UPA45 was significantly better at avoiding discontin-\\nuation due to AEs during induction, GOL100 was signif-\\nicantly worse at avoiding all AEs during maintenance, and \\nboth UST90Q8W and VED300Q8W were significantly better \\nat avoiding discontinuation due to AEs during maintenance. \\nNo significant difference between all treatments versus PBO \\nwas observed for serious infections and serious AEs. Lasa et \\nal11 likewise observed insignificant and minimal differences \\nbetween treatments for all and serious AEs during induction, \\nrespectively. No published NMA to date has assessed treat-\\nment safety during maintenance. Together, these observations \\nsuggest that the safety profiles of currently approved biologics \\nand SMDs for moderately to severely active UC are generally \\ncomparable. However, the NMA methodology may be limited \\nFigure 5. Bio-exposed intent-to-treat (ITT) maintenance efficacy adjusted by induction response (absolute rate samples for induction response [per \\nRE] were multiplied by absolute rates samples for each maintenance efficacy [per RE] to obtain ITT rates; median ± 95% CrI rates are presented; \\ntreatments are ordered by descending ITT rates for clinical response). Abbreviations: CrI, credible interval; PBO, placebo; RE, random effects model.\\nDownloaded from https://academic.oup.com/crohnscolitis360/article/5/2/otad009/7066911 by National University of Singapore user on 23 May 2023\\n', metadata={'source': '/mnt/c/Users/QUAN/Desktop/medical-chatbot/data/document_store/uc/otad009.pdf', 'file_path': '/mnt/c/Users/QUAN/Desktop/medical-chatbot/data/document_store/uc/otad009.pdf', 'page': 11, 'total_pages': 17, 'format': 'PDF 1.4', 'title': '', 'author': '', 'subject': '', 'keywords': '', 'creator': 'Adobe InDesign 15.1 (Windows)', 'producer': 'Adobe PDF Library 15.0; modified using iTextSharp 4.1.6 by 1T3XT', 'creationDate': \"D:20230328133539+05'30'\", 'modDate': \"D:20230523091651+00'00'\", 'trapped': '', 'modal': 'text'}),\n",
              "  Document(page_content='Panaccione et al\\n13\\nTable 4. NMA of safety outcomes (all AEs, discontinuation due to AEs, serious AEs, serious infections) in overall populationsh.\\nPhase \\nTreatment \\nAll AEs\\nDiscontinuation due to AEs\\nSerious AEs\\nSerious Infections\\nOR  \\n(vs PBO) \\nAbsolute rate \\nSUCRA \\nOR  \\n(vs PBO) \\nAbsolute rate \\nSUCRA \\nOR  \\n(vs PBO)  \\nAbsolute rate \\nSUCRA \\nOR vs  \\nPBO) \\nAbsolute rate \\nSUCRA \\nInduction (6–10 \\nweeks post-\\nbaseline)\\nGolimumab \\n200/100 mga\\n0.7\\n43% (30%–57%)\\n87.8%\\n0.3\\n1.1% (0.0%–11.1%)\\n77.2%\\n0.4\\n2.7% (0.9%–7.5%)\\n79.1%\\n0.2\\n0.2% (0.0%–1.5%\\n82.6%\\nVedolizumab 300 \\nmgd\\n0.7\\n45% (35%–57%)\\n80.2%\\n0.7\\n2.9% (0.7%–10.2%)\\n52.0%\\n0.6\\n3.9% (1.5%–9.8%)\\n59.8%\\n0.3\\n0.4% (0.0%–2.0%\\n68.9%\\nOzanimod 0.92 \\nmgb\\n0.7\\n45% (33%–60%)\\n77.4%\\n1.0\\n4.4% (1.2%–14.8%)\\n31.0%\\n1.3\\n7.8% (2.7%-22.2%)\\n18.0%\\n0.8\\n0.9% (0.2%–4.1%\\n37.8%\\nFilgotinib 100\\xa0mg \\nQD\\n0.9\\n49% (37%–60%)\\n65.3%\\n0.7\\n3.0% (1.0%–8.9%)\\n52.0%\\n1.1\\n6.7% (2.6%-16.5%)\\n22.9%\\n0.9\\n1.0% (0.2%–4.1%\\n32.7%\\nAdalimumab \\n160/80 mgc\\n0.9\\n51% (41%–61%)\\n51.6%\\n0.9\\n3.6% (1.7%–8.0%)\\n40.9%\\n0.6\\n3.8% (1.8%–7.9%)\\n61.7%\\n0.9\\n1.0% (0.2%–3.5%\\n32.4%\\nFilgotinib 200\\xa0mg \\nQD\\n1.0\\n52% (40%–64%)\\n44.5%\\n0.9\\n3.8% (1.3%–11.1%)\\n36.6%\\n0.9\\n5.8% (2.2%–14.7%)\\n33.0%\\n0.5\\n0.5% (0.1%–2.5%\\n59.6%\\nUstekinumab \\n6\\xa0mg/kge\\n1.0\\n52% (40%–64%)\\n44.1%\\nNA\\nNA\\nNA\\n0.5\\n3.0% (1.1%–8.1%)\\n74.1%\\n0.2\\n0.2% (0.0%–1.6%\\n80.9%\\nPBO\\n1.0\\n53% (45%–60%)\\n39.5%\\n1.0\\n4.2% (2.8%–6.2%)\\n28.8%\\n1.0\\n6.2% (3.8%–10.0%)\\n23.2%\\n1.0\\n1.1% (0.5%–2.5%\\n22.9%\\nTofacitinib 10\\xa0mg \\nBID\\n1.0\\n54% (43%–64%)\\n33.4%\\n1.0\\n4.1% (1.6%–11.1%)\\n33.6%\\n0.6\\n4.0% (1.7%–9.5%)\\n57.2%\\n0.6\\n0.7% (0.2%–2.6%\\n47.9%\\nUpadacitinib \\n45\\xa0mg QD\\n1.1\\n56% (45%–66%)\\n22.3%\\n0.2g\\n1.1% (0.4%–2.8%)\\n90.1%\\n0.5\\n3.5% (1.4%–8.4%)\\n66.9%\\n0.9\\n0.9% (0.2%–3.4%\\n33.2%\\nInfliximab 5 mgd\\n2.3\\n72% (48%–87%)\\n4.0%\\n0.6\\n2.5% (0.6%–10.1%)\\n58.0%\\n0.7\\n4.2% (1.3%–12.1%)\\n54.1%\\n0.5\\n0.6% (0.0%–5.0%\\n51.2%\\nMaintenancei \\n(40–54 weeks \\npost–induction \\nresponse)\\nUstekinumab \\n90\\xa0mg Q12W\\n0.6\\n53% (30%–76%)\\n90.4%\\n0.4\\n3.2% (1.0%–9.8%)\\n67.4%\\n0.7\\n6.7% (2.3%–6.7%)\\n57.3%\\n1.5\\n2.9% (0.7%–13.4%)\\n29.9%\\nTofacitinib 5\\xa0mg \\nBID\\n0.9\\n62% (38%–81%)\\n73.0%\\n0.4\\n3.3% (1.2%–8.9%)\\n67.6%\\n0.8\\n6.8% (2.2%–6.8%)\\n56.1%\\n1.0\\n1.9% (0.2%–17.5%)\\n45.7%\\nVedolizumab \\n300\\xa0mg Q4W\\n0.9\\n63% (37%–83%)\\n69.6%\\n0.3\\n2.6% (0.7%–8.5%)\\n75.1%\\n0.6\\n5.6% (1.9%–5.6%)\\n67.7%\\n0.5\\n0.9% (0.1%–5.7%)\\n67.2%\\nFilgotinib 100\\xa0mg \\nQD\\n0.9\\n63% (39%–82%)\\n69.1%\\n1.9\\n13.1% (3.7%–37.7%)\\n11.8%\\n1.2\\n10.5% (3.0%–10.5%)\\n32.1%\\n1.8\\n3.4% (0.4%–27.4%)\\n29.3%\\nUstekinumab \\n90\\xa0mg Q8W\\n0.9\\n64% (39%–83%)\\n66.9%\\n0.2g\\n1.7% (0.4%–5.8%)\\n88.5%\\n0.9\\n7.6% (2.7%–7.6%)\\n48.9%\\n0.7\\n1.3% (0.2%–7.5%)\\n57.3%\\nPBO\\n1.0\\n66% (50%–79%)\\n63.8%\\n1.0\\n7.4% (4.5%–11.7%)\\n29.1%\\n1.0\\n8.7% (6.0%–8.7%)\\n37.7%\\n1.0\\n1.9% (1.2%–3.1%)\\n44.3%\\nVedolizumab \\n300\\xa0mg Q8W\\n1.0\\n67% (45%–83%)\\n58.0%\\n0.4g\\n3.0% (1.1%–7.6%)\\n71.7%\\n0.7\\n6.7% (3.0%–6.7%)\\n57.4%\\n0.8\\n1.5% (0.3%–7.0%)\\n52.2%\\nUpadacitinib \\n15\\xa0mg QD\\n1.1\\n68% (43%–86%)\\n53.3%\\n0.3\\n2.4% (0.6%–8.2%)\\n77.8%\\n0.5\\n4.4% (1.5%–4.4%)\\n78.1%\\n0.8\\n1.6% (0.3%–6.5%)\\n51.6%\\nUpadacitinib \\n30\\xa0mg QD\\n1.2\\n69% (44%–86%)\\n49.5%\\n0.5\\n4.1% (1.2%–12.3%)\\n57.5%\\n0.4\\n3.8% (1.2%–3.8%)\\n84.1%\\n0.6\\n1.2% (0.2%–5.3%)\\n61.1%\\nFilgotinib 200\\xa0mg \\nQD\\n1.2\\n70% (47%–86%)\\n46.5%\\n1.1\\n8.2% (2.1%–27.3%)\\n29.1%\\n1.2\\n10.5% (3.1%–10.5%)\\n31.6%\\n1.0\\n1.9% (0.2%–18.2%)\\n46.6%\\nDownloaded from https://academic.oup.com/crohnscolitis360/article/5/2/otad009/7066911 by National University of Singapore user on 23 May 2023\\n', metadata={'source': '/mnt/c/Users/QUAN/Desktop/medical-chatbot/data/document_store/uc/otad009.pdf', 'file_path': '/mnt/c/Users/QUAN/Desktop/medical-chatbot/data/document_store/uc/otad009.pdf', 'page': 12, 'total_pages': 17, 'format': 'PDF 1.4', 'title': '', 'author': '', 'subject': '', 'keywords': '', 'creator': 'Adobe InDesign 15.1 (Windows)', 'producer': 'Adobe PDF Library 15.0; modified using iTextSharp 4.1.6 by 1T3XT', 'creationDate': \"D:20230328133539+05'30'\", 'modDate': \"D:20230523091651+00'00'\", 'trapped': '', 'modal': 'text'}),\n",
              "  Document(page_content='14\\nEfficacy and Safety of Advanced Therapies\\nPhase \\nTreatment \\nAll AEs\\nDiscontinuation due to AEs\\nSerious AEs\\nSerious Infections\\nOR  \\n(vs PBO) \\nAbsolute rate \\nSUCRA \\nOR  \\n(vs PBO) \\nAbsolute rate \\nSUCRA \\nOR  \\n(vs PBO)  \\nAbsolute rate \\nSUCRA \\nOR vs  \\nPBO) \\nAbsolute rate \\nSUCRA \\nInfliximab 5\\xa0mg/\\nkg Q8W\\n1.2\\n70% (43%–88%)\\n45.4%\\n0.9\\n6.6% (2.0%–20.1%)\\n36.4%\\n0.8\\n7.0% (2.7%–7.0%)\\n54.9%\\n0.6\\n1.1% (0.2%–5.5%)\\n63.0%\\nTofacitinib 10\\xa0mg \\nBID\\n1.3\\n71% (47%–87%)\\n41.5%\\n0.5\\n3.5% (1.3%–9.4%)\\n64.4%\\n0.8\\n7.5% (2.5%–7.5%)\\n49.8%\\n0.4\\n0.8% (0.0%–10.8%)\\n67.0%\\nAdalimumab \\n40\\xa0mg Q2Wf\\n1.4\\n73% (54%–86%)\\n33.5%\\n1.3\\n9.5% (3.9%–23.5%)\\n19.5%\\n1.7\\n14.3% (6.5%–14.3%)\\n12.6%\\n0.4\\n0.8% (0.0%–10.5%)\\n66.5%\\nGolimumab \\n50\\xa0mg Q4W\\n1.6\\n75% (54%–90%)\\n27.6%\\n0.8\\n5.9% (1.6%–18.6%)\\n42.2%\\n0.9\\n7.9% (2.7%–7.9%)\\n47.2%\\n1.8\\n3.4% (0.7%–17.0%)\\n27.5%\\nInfliximab 10\\xa0mg/\\nkg Q8W\\n1.8\\n77% (51%–92%)\\n23.5%\\n1.0\\n7.3% (2.2%–21.8%)\\n32.0%\\n0.9\\n7.9% (3.1%–7.9%)\\n46.3%\\n1.7\\n3.3% (0.9%–12.5%)\\n26.1%\\nOzanimod \\n0.92\\xa0mg QD\\n1.7\\n76% (55%–89%)\\n23.0%\\n0.5\\n3.5% (0.6%–15.8%)\\n62.5%\\n0.6\\n5.7% (2.0%–5.7%)\\n65.7%\\n0.4\\n0.9% (0.1%–5.4%)\\n68.8%\\nGolimumab \\n100\\xa0mg Q4W\\n1.9g\\n79% (60%–91%)\\n15.5%\\n1.5\\n10.4% (3.4%–28.5%)\\n17.6%\\n1.4\\n11.8% (4.4%–11.8%)\\n22.4%\\n1.8\\n3.4% (0.6%–17.1%)\\n27.1%\\nAdalimumab \\n40\\xa0mg QW\\nNA\\nNA\\nNA\\nNA\\nNA\\nNA\\nNA\\nNA\\nNA\\n0.4\\n0.7% (0.0%–11.4%)\\n68.9%\\nColoring in SUCRA columns is based on SUCRA value; values of 100% are green in color, values of 0% are red in color, intermediates values are colored along the green-to-red gradient. Abbreviations: AE, \\nadverse event; BID, twice daily; CrI, credible interval; IV, intravenous; NA, not available; NMA, network meta-analysis; OR, odds ratio; PBO, placebo; Q#W, every # week; QD, once daily; RE, random effects \\nmodel; REA, RE model adjusted for baseline/PBO risk; SC, subcutaneous; SUCRA, surface under the cumulative ranking curve.\\naSC 200 mg at week 0 and 100 mg at week 2.\\nbIV dose based on body weight (~6 mg/kg) at week 0.\\ncSC 160 mg at week 0 and 80 mg at week 2, then 40 mg Q2W.\\ndIV doses at weeks 0, 2, and 6.\\neOral 0.23 mg QD for 4 days, 0.46 mg QD for 3 days, then 0.92 mg QD starting on day 8.\\nfFor treat-through trials M10-447 and ULTRA-2 for adalimumab, induction numbers were subtracted from the overall numbers to obtain maintenance numbers.\\ngDenotes statistical significance (OR 95% CrI excludes 1). 95% CrIs can be found in Appendices 8 and 9.\\nhResults (medians with 95% CrI as applicable) displayed for ‘best-fitting’ model per fit statistics (REA for all AEs; RE for all others) and ordered in descending absolute rates for all AEs. Safety endpoints as \\ndefined in trials.\\niOutcomes of maintenance treatment among induction responders.\\nTable 4. Continued\\nDownloaded from https://academic.oup.com/crohnscolitis360/article/5/2/otad009/7066911 by National University of Singapore user on 23 May 2023\\n', metadata={'source': '/mnt/c/Users/QUAN/Desktop/medical-chatbot/data/document_store/uc/otad009.pdf', 'file_path': '/mnt/c/Users/QUAN/Desktop/medical-chatbot/data/document_store/uc/otad009.pdf', 'page': 13, 'total_pages': 17, 'format': 'PDF 1.4', 'title': '', 'author': '', 'subject': '', 'keywords': '', 'creator': 'Adobe InDesign 15.1 (Windows)', 'producer': 'Adobe PDF Library 15.0; modified using iTextSharp 4.1.6 by 1T3XT', 'creationDate': \"D:20230328133539+05'30'\", 'modDate': \"D:20230523091651+00'00'\", 'trapped': '', 'modal': 'text'}),\n",
              "  Document(page_content='Panaccione et al\\n15\\nat identifying significant differences in safety outcomes given \\nthat rates of safety events, particularly serious ones, observed \\nin phase 3 RCTs are considerably lower relative to efficacy \\noutcomes.23\\nOur study included RCTs evaluating INF, ADA, GOL, \\nVED, UST, TOF, FIL, OZA, and UPA. Deviating from Lasa \\net al11 and Burr et al,12 we did not consider etrolizumab \\nnor the subcutaneous (SC) formulation of VED and INF \\nmaintenance to be relevant interventions but included all \\napproved maintenance doses of TOF (5 or 10 mg BID), \\nintravenous (IV) VED (every 4 or 8 weeks), UST (every \\n8 or 12 weeks), ADA (every 1 or 2 weeks), GOL (50 or \\n100 mg), and IV INF (5 or 10 mg/kg) as separate nodes in \\nthe networks. After imposing duration limits for induction \\n(6–10 weeks) and maintenance (at least 40 weeks) to mini-\\nmize outcome heterogeneity, which Lasa et al11 and Burr et \\nal12 did not account for, we synthesized efficacy and safety \\nevidence from 23 phase 3 RCTs. Even with these differences \\nin the evidence base, recent NMAs—those conducted in \\n2021 or later—generally show similar distributions of \\ntreatment rankings.11,12 An earlier published NMA that \\nexcluded the more recent therapies (ie, FIL, OZA, and UPA) \\nfound INF to be most efficacious in bio-naive populations, \\nand UST and TOF to be most efficacious in bio-exposed \\npopulations.32\\nIn contrast to recently published NMAs of maintenance \\ntreatments in moderately to severely active UC,11,32 instead \\nof conducting separate NMAs for RR and TT maintenance \\ntrials, we combined them in the same NMAs using the \\nTT-to-RR efficacy imputation approved and used by the ERG \\nfor TA633.20 In every network, we addressed concerns of het-\\nerogenous treatment carryover effects and/or baseline risks \\nby (1) assessing the significance of baseline (PBO) risk het-\\nerogeneity; (2) testing the selected model with baseline risk \\nadjustment; and (3) if baseline risk heterogeneity was signifi-\\ncant but adjustment did not converge or run, testing the RD \\nmodel assuming FE. Ultimately, baseline risk adjustment was \\nsuccessful and selected in 2 networks (ie, induction clinical \\nresponse in bio-naive populations and all AEs) and of the 7 \\nRD models tested, none substantially changed the original \\nconclusions.\\nThe present study has several limitations besides the \\nusual limitations of NMAs (ie, dependence on assumptions \\nof transitivity and consistency, susceptibility to the meth-\\nodological quality of included RCTs).33,34 First, there are \\nimportant sources of heterogeneity across the included \\nRCTs. For example, endoscopic readings were generally \\nperformed locally in older RCTs of biologic agents and \\ncentrally in newer RCTs of SMDs, potentially resulting in \\nhigher PBO rates for biologics.35 However, baseline risk \\nadjustments in the present study would have mitigated \\nmuch of this heterogeneity. Another source of heteroge-\\nneity is the use of AMS rather than FMS in the RCTs for \\nUPA and OZA to re-randomize patients and/or define treat-\\nment efficacy. In the present study, FMS outcomes were \\nobtained for UPA from ad hoc analyses of its patient-level \\ndata, which were not available for Lasa et al11 and Burr et \\nal.12 Given that results were directionally similar across the \\npresent study, Lasa et al,11 and Burr et al,12 a large differ-\\nence in AMS outcomes for OZA would not be expected. \\nAn additional limitation of the present study is related to \\nthe imputation of TT-to-RR maintenance efficacy, which \\nintroduced assumptions (eg, number of responders at end \\nof induction is a proxy for the total number of patients en-\\ntering maintenance) into the NMA dataset. However, sim-\\nilar assumptions were likewise used in the NICE assessment \\nof UST for UC.20 Additionally, evidence produced by this \\nNMA, which sourced treatment efficacy and safety data \\nfrom industry-sponsored RCTs, should be weighed in the \\ncontext of real-world data when available. Incorporation \\nof any future academic studies, especially studies utilizing \\nhead-to-head trial design, would likely improve the gener-\\nalizability of the NMA. Finally, as noted by Lasa et al,11 \\nseveral newer biologics currently in phase 2 of clinical de-\\nvelopment, especially anti-IL-23 drugs (ie, risankizumab, \\nmirikizumab, guselkumab, and brazikumab), are also ex-\\npected to yield phase 3 RCT results, so another update of \\nthis NMA may soon be necessary.\\nConclusion\\nThe present study suggests that UPA 45 mg induction and \\n30 mg maintenance may be overall highest performing ad-\\nvanced treatment at inducing and maintaining clinical re-\\nsponse, clinical remission, and endoscopic improvement in \\npatients with moderately to severely active UC, regardless \\nof prior biologic exposure. It also suggests that the safety \\nprofiles of currently approved advanced treatments, to the \\nextent that they can be indirectly assessed with NMA, are \\ngenerally consistent. As with any indirect comparison, the \\nresults presented in the present study should be interpreted \\nwith caution and in the context of a patient’s individual \\nneeds. However, given the limited evidence from head-to-\\nhead trials, these results can help clinicians better under-\\nstand the growing repertoire of advanced treatments for \\nmoderately to severely active UC.\\nSupplementary Data\\nSupplementary data is available at Crohn’s and Colitis 360 \\nonline.\\nFunding\\nThis work was supported by AbbVie Inc., who funded this \\nstudy and participated in the study design, research, analy-\\nsis, data collection, interpretation of data, reviewing, and ap-\\nproval of the publication. All authors had access to relevant \\ndata and participated in the drafting, review, and approval of \\nthis publication. No honoraria or payments were made for \\nauthorship. Medicus Economics LLC has received funding \\nfrom AbbVie Inc. for technical writing assistance.\\nAuthors’ Contributions\\nRemo Panaccione: Writing—review and editing (equal), Eric \\nB. Collins: Methodology (supporting), formal analysis (e-\\nqual), software (lead), visualization (lead), writing—original \\ndraft (supporting), writing—review and editing (equal), Gil \\nY. Melmed: Writing—review and editing (equal), Severine \\nVermeire: Writing—review and editing (equal), Silvio Danese: \\nWriting—review and editing (equal), Peter D.R. Higgins: \\nWriting—review and editing (equal), Christina S. Kwon: \\nData curation (lead), writing—review and editing (equal), \\nDownloaded from https://academic.oup.com/crohnscolitis360/article/5/2/otad009/7066911 by National University of Singapore user on 23 May 2023\\n', metadata={'source': '/mnt/c/Users/QUAN/Desktop/medical-chatbot/data/document_store/uc/otad009.pdf', 'file_path': '/mnt/c/Users/QUAN/Desktop/medical-chatbot/data/document_store/uc/otad009.pdf', 'page': 14, 'total_pages': 17, 'format': 'PDF 1.4', 'title': '', 'author': '', 'subject': '', 'keywords': '', 'creator': 'Adobe InDesign 15.1 (Windows)', 'producer': 'Adobe PDF Library 15.0; modified using iTextSharp 4.1.6 by 1T3XT', 'creationDate': \"D:20230328133539+05'30'\", 'modDate': \"D:20230523091651+00'00'\", 'trapped': '', 'modal': 'text'}),\n",
              "  Document(page_content='SYSTEMATIC REVIEWS AND META-ANALYSES\\nSiddharth Singh, Section Editor\\nFirst- and Second-Line Pharmacotherapies for Patients With\\nModerate to Severely Active Ulcerative Colitis: An Updated\\nNetwork Meta-Analysis\\nSiddharth Singh,*,‡ Mohammad Hassan Murad,§ Mathurin Fumery,j\\nParambir S. Dulai,* and William J. Sandborn*\\n*Division of Gastroenterology, ‡Division of Biomedical Informatics, University of California San Diego, La Jolla, California;\\n§Robert D and Patricia E Kern Center for the Science of Health Care Delivery, Mayo Clinic, Rochester, Minnesota;\\n||Gastroenterology Unit, Peritox UMR I-0I, Amiens University and Hospital, Université de Picardie Jules Verne, Amiens, France\\nBACKGROUND & AIMS:\\nWe compared the efﬁcacy and safety of different ﬁrst-line (biologic-naïve) and second-line\\n(prior exposure to tumor necrosis factor [TNF] antagonists) agents for treatment of moder-\\nate to severely active ulcerative colitis in a systematic review and network meta-analysis.\\nMETHODS:\\nWe searched publication databases through September 30, 2019, for randomized trials of\\nadults with moderate to severe ulcerative colitis treated with TNF antagonists, vedolizumab,\\ntofacitinib, or ustekinumab, as ﬁrst-line or second-line agents, compared with placebo or\\nanother active agent. Efﬁcacy outcomes were induction and maintenance of remission and\\nendoscopic improvement; safety outcomes were serious adverse events and infections. We\\nperformed a ﬁxed-effects network meta-analysis using the frequentist approach, and calculated\\nodds ratios (ORs) and 95% CI values. Agents were ranked using surface under the cumulative\\nranking (SUCRA) probabilities. Overall quality of evidence was rated using GRADE (Grading of\\nRecommendations, Assessment, Development and Evaluation).\\nRESULTS:\\nIn biologic-naïve patients, inﬂiximab was ranked highest for induction of clinical remission (OR\\nvs placebo, 4.07; 95% CI, 2.67–6.21; SUCRA, 0.95) and endoscopic improvement (SUCRA, 0.95)\\n(moderate conﬁdence in estimates [CE]). In patients with prior exposure to TNF antagonists,\\nustekinumab (SUCRA, 0.87) and tofacitinib (SUCRA, 0.87) were ranked highest for induction of\\nclinical remission and were superior to vedolizumab (ustekinumab vs vedolizumab: OR, 5.99;\\n95% CI, 1.13–31.76 and tofacitinib vs vedolizumab: OR, 6.18; 95% CI, 1.003–8.00; moderate CE)\\nand adalimumab (ustekinumab vs adalimumab: OR, 10.71; 95% CI, 2.01–57.20 and tofacitinib\\nvs adalimumab: OR, 11.05; 95% CI, 1.79–68.41; moderate CE). Vedolizumab had the lowest risk\\nof infections (SUCRA, 0.81), followed by ustekinumab (SUCRA, 0.63) in maintenance trials.\\nCONCLUSIONS:\\nIn a systematic review and network meta-analysis, we found inﬂiximab to be ranked highest in\\nbiologic-naïve patients, and ustekinumab and tofacitinib were ranked highest in patients with\\nprior exposure to TNF antagonists, for induction of remission and endoscopic improvement in\\npatients with moderate to severe ulcerative colitis. More trials of direct comparisons are\\nneeded to inform clinical decision making with greater conﬁdence.\\nKeywords: GRADE; Pharmacotherapy; Inﬂammatory Bowel Disease; UC; Comparative Efﬁcacy.\\nU\\nlcerative colitis affects 1 in 200 to 1 in 400 people\\nin Western nations, and its global incidence and\\nprevalence is increasing.1 Although the majority of\\npatients have a mild–moderate course, approximately\\n10% to 15% of patients experience a severe disease\\ncourse with signiﬁcant morbidity, with frequent ﬂares\\nand\\nhospitalizations\\nrequiring\\nimmunosuppressive\\ntherapies and corticosteroids, and impose a signiﬁcant\\ndirect and indirect economic burden in population-\\nbased cohorts.2,3 Several treatment options now are\\navailable\\nfor\\nthe\\nmanagement\\nof\\nmoderate–severe\\nulcerative colitis, with variable efﬁcacy and safety pro-\\nﬁles, and positioning different agents in the treatment\\ncourse as ﬁrst-line (in biologic-naïve patients) and\\nAbbreviations used in this paper: GRADE, Grading of Recommendations\\nAssessment, Development and Evaluation; OCTAVE, Oral Clinical Trials\\nfor tofAcitinib in ulceratiVE colitis; OR, odds ratio; RCT, randomized\\ncontrolled trial; SUCRA, surface under the cumulative ranking; TNF, tumor\\nnecrosis factor.\\nMost current article\\n© 2020 by the AGA Institute\\n1542-3565/$36.00\\nhttps://doi.org/10.1016/j.cgh.2020.01.008\\nClinical Gastroenterology and Hepatology 2020;18:2179–2191\\n', metadata={'source': '/mnt/c/Users/QUAN/Desktop/medical-chatbot/data/document_store/uc/PIIS1542356520300446.pdf', 'file_path': '/mnt/c/Users/QUAN/Desktop/medical-chatbot/data/document_store/uc/PIIS1542356520300446.pdf', 'page': 0, 'total_pages': 19, 'format': 'PDF 1.7', 'title': 'First- and Second-Line Pharmacotherapies for Patients With Moderate to Severely Active Ulcerative Colitis: An Updated Network Meta-Analysis', 'author': 'Siddharth Singh', 'subject': 'Clinical Gastroenterology and Hepatology, 18 (2020) 2179-2197. doi:10.1016/j.cgh.2020.01.008', 'keywords': '', 'creator': 'Elsevier', 'producer': 'Acrobat Distiller 8.1.0 (Windows)', 'creationDate': \"D:20200816062640+05'30'\", 'modDate': \"D:20200816062734+05'30'\", 'trapped': '', 'modal': 'text'}),\n",
              "  Document(page_content='second-line (in patients with prior exposure to tumor\\nnecrosis factor [TNF]-a antagonists) is a key knowl-\\nedge gap. In the absence of head-to-head comparisons,\\nprior\\nnetwork\\nmeta-analyses\\nhave\\nattempted\\nto\\naddress this gap, but have been limited by the number\\nof studies, especially regarding comparative efﬁcacy of\\nagents in patients with prior exposure to TNFa antag-\\nonists.4,5 With the recent labeling and dosing change\\nfor tofacitinib in light of safety considerations, recent\\npublication of a head-to-head trial comparing vedolizu-\\nmab vs adalimumab in patients with moderate–severe\\nulcerative colitis, and recent regulatory approval of\\nustekinumab for these patients, the results of these an-\\nalyses warrant updating.6,7\\nHence, we updated our prior systematic review with\\nnetwork meta-analyses, comparing the relative efﬁcacy\\nand safety of inﬂiximab, adalimumab, golimumab, vedo-\\nlizumab, tofacitinib, and ustekinumab as ﬁrst- and\\nsecond-line agents in patients with moderate–severe\\nulcerative colitis. We used the Grading of Recommen-\\ndations\\nAssessment,\\nDevelopment\\nand\\nEvaluation\\n(GRADE)\\napproach\\nfor\\nnetwork\\nmeta-analysis\\nto\\nappraise the conﬁdence in estimates.8\\nMethods\\nThis systematic review was performed using an a\\npriori established protocol, and is reported according\\nto the Preferred Reporting Items for Systematic Re-\\nviews and Meta-Analyses extension statement for sys-\\ntematic reviews incorporating network meta-analyses\\nfor\\nhealth\\ncare\\ninterventions.9\\nWe\\nfollowed\\ngood\\nresearch practices outlined in the International Society\\nfor Pharmacoeconomics and Outcomes Research report\\non interpreting indirect treatment comparisons and\\nnetwork\\nmeta-analysis\\nfor\\nhealth\\ncare\\ndecision\\nmaking.10\\nStudy Selection\\nWe conducted 2 separate pairwise and network\\nmeta-analyses of induction therapy to estimate the\\ncomparative efﬁcacy of different agents in biologic-\\nnaïve patients and in patients with prior exposure to\\nTNFa antagonists for management of moderate–severe\\nulcerative\\ncolitis.\\nStudies\\nincluded\\nin\\nthese\\nmeta-\\nanalyses were phase II or III randomized controlled\\ntrials (RCTs) that met the following inclusion criteria:\\n(1) patients: adults (age, >18 y) with moderate to\\nsevere ulcerative colitis (Mayo Clinic score of 6–12,\\nwith an endoscopic subscore of 2 or 3) who were\\neither\\ntreatment-naïve\\n(ﬁrst-line)\\nor\\npreviously\\nexposed to TNFa antagonists (second-line); (2) inter-\\nvention: biologic therapy with inﬂiximab, adalimumab,\\ngolimumab, vedolizumab, tofacitinib, or ustekinumab,\\nwith a minimum duration of therapy of 14 days; (3)\\ncomparator: another active intervention or placebo;\\nand (4) outcome: induction of clinical remission (Mayo\\nClinic score of �2 with no individual subscore of >1)\\nand endoscopic improvement (Mayo endoscopy sub-\\nscore of 0 or 1).\\nBecause trials of maintenance therapy of biologic\\nagents had different designs (treat straight-through\\ndesign vs rerandomizing responders to induction ther-\\napy), we conducted separate pairwise and network\\nmeta-analyses for these different trial designs. Because\\nsafety is unlikely to be inﬂuenced signiﬁcantly by main-\\ntenance therapy trial design, to inform comparative\\nsafety, we conducted a single network meta-analysis of\\nall trials of maintenance therapy, regardless of different\\ntrial design. Detailed inclusion criteria for trials of\\nmaintenance therapy and exclusion criteria are listed in\\nthe Supplementary Appendix.\\nSearch Strategy, Data Abstraction, and Risk of\\nBias Assessment\\nWe updated our previous literature search, conduct-\\ned as part the American Gastroenterological Association\\ntechnical review on management of moderate–severe\\nulcerative colitis (date of search, March 30, 2018), on\\nSeptember 30, 2019, with no language restrictions. De-\\ntails\\nof\\nthe\\nsearch\\nstrategy\\nare\\nshown\\nin\\nthe\\nSupplementary Appendix. Data on study-, participant-,\\ndisease-,\\nand\\ntreatment-related characteristics were\\nabstracted onto a standardized form by 2 investigators\\nindependently (S.S. and M.F.), and discrepancies were\\nWhat You Need to Know\\nBackground\\nA systematic review and network meta-analysis is\\nneeded to compare efﬁcacy and safety of ﬁrst-line\\n(biologic-naïve) and second-line (prior exposure to\\ntumor necrosis factor [TNF] antagonists) agents for\\ntreatment of moderate to severely active ulcerative\\ncolitis.\\nFindings\\nInﬂiximab was ranked highest in biologic-naïve pa-\\ntients, and ustekinumab and tofacitinib were ranked\\nhighest in patients with prior exposure to TNF an-\\ntagonists, for induction of remission and endoscopic\\nimprovement. More trials of direct comparisons are\\nneeded to inform clinical decision-making with\\ngreater conﬁdence.\\nImplications for patient care\\nPatients with moderate to severely active ulcerative\\ncolitis should receive inﬂiximab or vedolizumab as\\nﬁrst-line therapy, or ustekinumab or tofacitinib if\\nthey have prior exposure to TNF antagonists.\\n2180 Singh et al\\nClinical Gastroenterology and Hepatology Vol. 18, No. 10\\n', metadata={'source': '/mnt/c/Users/QUAN/Desktop/medical-chatbot/data/document_store/uc/PIIS1542356520300446.pdf', 'file_path': '/mnt/c/Users/QUAN/Desktop/medical-chatbot/data/document_store/uc/PIIS1542356520300446.pdf', 'page': 1, 'total_pages': 19, 'format': 'PDF 1.7', 'title': 'First- and Second-Line Pharmacotherapies for Patients With Moderate to Severely Active Ulcerative Colitis: An Updated Network Meta-Analysis', 'author': 'Siddharth Singh', 'subject': 'Clinical Gastroenterology and Hepatology, 18 (2020) 2179-2197. doi:10.1016/j.cgh.2020.01.008', 'keywords': '', 'creator': 'Elsevier', 'producer': 'Acrobat Distiller 8.1.0 (Windows)', 'creationDate': \"D:20200816062640+05'30'\", 'modDate': \"D:20200816062734+05'30'\", 'trapped': '', 'modal': 'text'}),\n",
              "  Document(page_content='resolved by consensus, referring back to the original\\narticle, in consultation with a third reviewer (W.J.S.). Two\\nstudy investigators (M.F. and S.S.) independently rated\\nthe quality of included trials using the Cochrane Risk of\\nBias Tool.11\\nOutcomes\\nFor trials of induction therapy, the efﬁcacy outcome\\nwas induction of clinical remission (deﬁned as a Mayo\\nClinic score of �2, with no individual subscore >1), and\\nendoscopic improvement (deﬁned as an endoscopy\\nsubscore of Mayo Clinic score of 0 or 1). Recognizing\\nlimitations of short-term trials in evaluating treatment\\nsafety, we qualitatively synthesized the overall safety of\\nall agents, regardless of ﬁrst- or second-line therapy, and\\npresented the results as proportion of patients with any\\nadverse event, adverse events leading to drug discon-\\ntinuation, serious adverse events, and serious infections.\\nFor trials of maintenance therapy, efﬁcacy outcomes\\nwere maintenance of clinical remission and endoscopic\\nimprovement, and safety outcomes were serious adverse\\nevents\\n(study-deﬁned)\\nand\\ninfections,\\nwhich\\nwere\\nanalyzed quantitatively. In addition, we qualitatively\\nreviewed the risk of any adverse events, adverse events\\nresulting in treatment discontinuation, and risk of\\nserious infections. Additional details of outcome assess-\\nment are shown in the Supplementary Appendix.\\nData Synthesis and Statistical Analysis\\nPooled odds ratios (OR) and 95% CIs were calculated\\nusing the Mantel–Haenszel ﬁxed-effects model (in the\\nabsence of conceptual heterogeneity and if <5 studies),\\nwith sensitivity analysis using the DerSimonian–Liard\\nrandom-effects model.11–13 We assessed statistical het-\\nerogeneity using the I2 statistic, with values greater than\\n50% suggesting substantial heterogeneity. Publication\\nbias was assessed by evaluating small study effects by\\nexamining funnel plot asymmetry.14 Direct comparisons\\nwere performed using RevMan v53 (Cochrane Collabo-\\nration, Copenhagen, Denmark). Next, we conducted\\nnetwork meta-analysis using a consistency model of\\nmultivariate,\\nrandom-effects\\nmeta-regression\\nas\\ndescribed by White et al,15 using STATA v.15.0 (College\\nStation, TX). This frequentist approach provides a point\\nestimate from the network along with 95% CIs from the\\nfrequency distribution of the estimate.\\nWe calculated the relative ranking of agents for in-\\nduction of clinical remission as their surface under the\\ncumulative ranking (SUCRA), which represents the per-\\ncentage of efﬁcacy or safety achieved by an agent\\ncompared with an imaginary agent that is always the\\nbest without uncertainty (ie, SUCRA ¼ 100%).16 Higher\\nSUCRA scores correspond to higher ranking for induction\\nof clinical remission and/or endoscopic improvement,\\nand higher ranking for safety (ie, lowest risk of serious\\nadverse events and infections).\\nConﬁdence in Estimates\\nWe followed the GRADE approach to appraise the\\nconﬁdence in estimates derived from network meta-\\nanalysis of efﬁcacy outcomes.8 In this approach, direct\\nevidence from RCTs starts at high conﬁdence and can be\\nrated down based on risk of bias, indirectness, impreci-\\nsion, inconsistency (or heterogeneity), and/or publica-\\ntion bias, to levels of moderate, low, and very low\\nconﬁdence. The rating of indirect estimates starts at the\\nlowest rating of the 2 pairwise estimates that contribute\\nas ﬁrst-order loops to the indirect estimate but can be\\nrated down further for imprecision or intransitivity\\n(dissimilarity between studies in terms of clinical or\\nFigure 1. (A) Network of included studies with the available\\ndirect comparisons for induction of clinical remission in bio-\\nlogic-naïve patients with moderate–severe ulcerative colitis.\\nThe size of the nodes and the thickness of the edges are\\nweighted according to the number of studies evaluating each\\ntreatment and direct comparison, respectively. (B) Network of\\nincluded studies with the available direct comparisons for\\ninduction of clinical remission in patients with prior tumor\\nnecrosis\\nfactor\\n(TNF)a\\nantagonist\\nexposure\\nwith\\nmoderate–severe ulcerative colitis. The size of the nodes and\\nthe thickness of the edges are weighted according to the\\nnumber of studies evaluating each treatment and direct\\ncomparison, respectively.\\nSeptember 2020\\nManagement of Moderate–Severe UC 2181\\n', metadata={'source': '/mnt/c/Users/QUAN/Desktop/medical-chatbot/data/document_store/uc/PIIS1542356520300446.pdf', 'file_path': '/mnt/c/Users/QUAN/Desktop/medical-chatbot/data/document_store/uc/PIIS1542356520300446.pdf', 'page': 2, 'total_pages': 19, 'format': 'PDF 1.7', 'title': 'First- and Second-Line Pharmacotherapies for Patients With Moderate to Severely Active Ulcerative Colitis: An Updated Network Meta-Analysis', 'author': 'Siddharth Singh', 'subject': 'Clinical Gastroenterology and Hepatology, 18 (2020) 2179-2197. doi:10.1016/j.cgh.2020.01.008', 'keywords': '', 'creator': 'Elsevier', 'producer': 'Acrobat Distiller 8.1.0 (Windows)', 'creationDate': \"D:20200816062640+05'30'\", 'modDate': \"D:20200816062734+05'30'\", 'trapped': '', 'modal': 'text'}),\n",
              "  Document(page_content='Table 1. Trial and Patient Characteristics in Included Trials of Induction and Maintenance Therapy for Moderate–Severe Ulcerative Colitis\\nTrial and intervention\\ncharacteristics\\nDeﬁnition and\\ntiming of\\noutcome,\\nCRem\\nMean age, y\\n(SD); sex (%\\nmale)\\nMean disease\\nduration (y) (SD);\\ndisease extent\\n(% extensive\\ncolitis)\\nConcomitant medications\\nMean CRP,\\nmg/L (SD)\\nPrior anti-\\nTNF\\ntherapy, %\\nImmunomodulators,\\n%\\nCorticosteroids,\\n%\\nInﬂiximab\\nActive Ulcerative Colitis\\nTrials 117a (induction and\\nmaintenance therapy)\\n62 sites, 2002–2005;\\nP: 121;\\nI: IFX 5 mg/kg, wk 0, 2, 6, then\\nq8w–121\\nMCS �2; wk 8,\\nwk 54\\nP: 41 (14); 60\\nI: 42 (14); 65\\n6.2 (5.9); 45\\n5.9 (5.4); 47\\n43.8\\n54.5\\n65.3\\n57.9\\n17 (27)\\n14 (19)\\n0\\n0\\nActive Ulcerative Colitis\\nTrials 217a (induction and\\nmaintenance therapy)\\n55 sites, 2002–2005;\\nP: 123;\\nI: IFX 5 mg/kg, wk 0, 2, 6, then\\nq8w–121\\nMCS �2; wk 8,\\nwk 30\\nP: 39 (14); 58\\nI: 41 (13); 63\\n6.5 (6.7); 42\\n6.7 (5.3); 41\\n43.9\\n43.0\\n48.8\\n49.6\\n16 (29)\\n13 (23)\\n0\\n0\\nJiang et al18a (induction and\\nmaintenance therapy)\\n1 site (China), 2008–2013;\\nP: 41;\\nI: IFX 5 mg/kg, wk 0, 2, 6, then\\nq8w–41\\nMCS �2; wk 8,\\nwk 30\\nP: 35 (15); 61\\nI: 34 (14); 63\\n4.4 (2.6); 61\\n4.4 (2.8); 59\\n31.7\\n29.3\\n51.2\\n53.7\\nNR\\n0\\n0\\nNCT0155129019a (induction\\nand maintenance\\ntherapy)\\n12 sites (China), 2012–2014;\\nP: 49;\\nI: IFX 5 mg/kg, wk 0, 2, 6, then\\nq8w–50\\nMCS �2; wk 8,\\nwk 26\\nEntire group: 37;\\nNR\\n3.7; NR\\nNR\\n80\\n60\\nNR\\n0\\n0\\nAdalimumab\\nULTRA 120 (induction\\ntherapy)\\n94 sites, 2007–2010;\\nP: 130;\\nI: ADA 160/80/40, wk 0, 2, 4, 6–\\n130\\nMCS �2; wk 8\\nP: 37 (18–72)b;\\n64\\nI: 37 (18–75)b; 64\\n5.4 (0.3–34.1)b; 56\\n6.1 (0.2–34.4)b; 46\\n39.9\\n39.2\\n67.6\\n54.6\\n3.2 (0.2–280)b\\n3.3 (0.1–109)b\\n0\\n0\\nULTRA 221a (induction and\\nmaintenance therapy)\\n103 sites, 2006–2010;\\nP: 246;\\nI: ADA 160/80/40, wk 0, 2, 4, 6–\\n248\\nMCS �2; wk 8\\nP: 41 (13); 62\\nI: 40 (12); 57\\n8.5 (7.4); 49\\n8.1 (7.1); 48\\n50.8\\n57.7\\n75.2\\n80.7\\n13.1 (36.7)\\n14.5 (32.1)\\n41c\\n39c\\nSuzuki et al22a (induction and\\nmaintenance therapy)\\n65 sites, 2009–2011;\\nP: 96;\\nI: ADA 160/80/40, wk 0, 2, 4, 6–90\\nMCS �2; wk 8\\nP: 41 (14); 73\\nI: 43 (15); 68\\n7.8 (7.1); 62\\n7.8 (6.6); 70\\n54.2\\n45.6\\n60.4\\n63.3\\n3.4 (0.5–87.2)b\\n2.2 (0.5–62.8)b\\n0\\n0\\nGolimumab\\nPURSUIT phases 2 and 323\\n(induction therapy)\\n217 sites, 2007–2010;\\nP: 331;\\nI: GLM 200/100, wk 0, 2–331\\nMCS �2; wk 6\\nP: 39 (13); 53\\nI: 40 (14); 54\\n6.0 (6.7); 43\\n6.4 (6.2); 42\\n32.0\\n31.7\\n42.9\\n44.7\\n10.7 (16.8)\\n11.3 (15.3)\\n0\\n0\\nPURSUIT-M27d\\n(maintenance therapy)\\n251 sites, 2007–2011;\\nP: 156;\\nI: GLM 100 mg q4w–154\\nMCS �2; wk 54\\nP: 40 (14); 48\\nI: 39 (13); 58\\n6.9 (7.0); NR\\n7.2 (7.0); NR\\n33.3\\n31.2\\n53.2\\n51.2\\n9.6 (15.5)\\n8.9 (14.7)\\n0\\n0\\nPURSUIT-J28d (maintenance\\ntherapy)\\n49 sites (Japan), 2013–2016;\\nP: 31\\nI: GLM 100 mg q4w–32\\nMCS �2; wk 54\\nP: 43 (14); 61\\nI: 39 (12); 69\\n5.7 (5.3); 39\\n5.4 (6.1); 38\\n41.9\\n50.0\\n29.0\\n28.1\\n4.1 (7.7)\\n5.3 (14.8)\\n0\\n0\\n2182 Singh et al\\nClinical Gastroenterology and Hepatology Vol. 18, No. 10\\n', metadata={'source': '/mnt/c/Users/QUAN/Desktop/medical-chatbot/data/document_store/uc/PIIS1542356520300446.pdf', 'file_path': '/mnt/c/Users/QUAN/Desktop/medical-chatbot/data/document_store/uc/PIIS1542356520300446.pdf', 'page': 3, 'total_pages': 19, 'format': 'PDF 1.7', 'title': 'First- and Second-Line Pharmacotherapies for Patients With Moderate to Severely Active Ulcerative Colitis: An Updated Network Meta-Analysis', 'author': 'Siddharth Singh', 'subject': 'Clinical Gastroenterology and Hepatology, 18 (2020) 2179-2197. doi:10.1016/j.cgh.2020.01.008', 'keywords': '', 'creator': 'Elsevier', 'producer': 'Acrobat Distiller 8.1.0 (Windows)', 'creationDate': \"D:20200816062640+05'30'\", 'modDate': \"D:20200816062734+05'30'\", 'trapped': '', 'modal': 'text'}),\n",
              "  Document(page_content='Vedolizumab\\nGEMINI I24d (induction and\\nmaintenance therapy)\\n211 sites, 2008–2012;\\nP(i): 149;\\nI(i): VDZ 300 mg, wk 0, 2–746\\nP(m):\\nI(m):\\nMCS �2; wk 6(i);\\nwk 52(M)\\nP: 41 (13); 62\\nI: 40 (13); 58\\nP(m): 40 (14); 55\\nI(m): 41 (13); 57\\n7.1 (7.2); 46\\n6.8 (6.2); 50\\n7.8 (7.0); 50\\n6.2 (5.0); 43\\n29.5\\n35.4\\n40\\n36\\n56.3\\n53.2\\n57\\n57\\nNR\\nNR\\n49e\\n48e\\n37f\\n42f\\nMotoya et al25 (induction and\\nmaintenance therapy)\\n100 sites, 2014–2018;\\nP(i): 82;\\nI(i): VDZ 300 mg, wk 0, 2, 6–164\\nP(m): 42\\nI(m): VDZ 300 mg q8w; 41\\nMCS �2; wk\\n10(i); wk\\n60(m)\\nP(i): 44 (16); 67\\nI(i): 42 (14); 60\\nP(m): 43 (14); 55\\nI(m): 43 (14); 51\\n8.6 (8.0); 62\\n7.2 (6.2); 62\\n8.7 (7.0); 55\\n8.6 (7.8); 68\\n52.5\\n48.8\\n50.0\\n53.8\\n30.5\\n31.7\\n35.7\\n31.8\\n>3 mg/L: 39\\n>3 mg/L: 54\\nNR\\n50g\\n51g\\n33h\\n42h\\nVARSITYa (induction and\\nmaintenance therapy)\\n245 sites, 2015–2019;\\nADA 160/80/40, wk 0, 2, 4 then\\nq2w; 386\\nVDZ 300 mg, wk 0, 2, 6, then q8w–\\n383\\nMCS �2; wk 14 ADA: 41 (13); 56\\nVDZ: 41 (14); 61\\n6.4 (6.0); NR\\n7.3 (7.2); NR\\n25.9\\n26.2\\n36.3\\n36.1\\nNR\\n21i\\n21i\\nProportion of patients receiving both IM\\nand CS not reported\\nTofacitinib\\nOCTAVE 126 (induction\\ntherapy)\\n178 sites, 2012–2015;\\nP: 122\\nI: tofacitinib 10 mg orally twice\\ndaily, 476\\nMCS �2, with\\nrectal\\nbleeding\\nscore 0; wk 8\\nP: 42 (15); 63\\nI: 41 (14); 58\\n6.0 (0.5–36.2)b; 54\\n6.5 (0.3–42.5)b; 53\\nNA\\n47.5\\n45.0\\n4.7 (0.1–82.5)b\\n4.4 (0.1–\\n208.4)b\\n53\\n53\\nOCTAVE 226 (induction\\ntherapy)\\n182 sites, 2012–2015;\\nP: 112\\nI: tofacitinib 10 mg orally twice\\ndaily, 429\\nMCS �2, with\\nrectal\\nbleeding\\nscore 0; wk 8\\nP: 40 (13); 49\\nI: 41 (14); 60\\n6.2 (0.4–27.9)b; 51\\n6.0 (0.4–39.4)b; 49\\nNA\\n49.1\\n46.2\\n5.0 (0.2–\\n205.1)b\\n4.6 (0.2–\\n156.0)b\\n58\\n58\\nOCTAVE-Sustain26d\\n(maintenance therapy)\\n178 sites, 2012–2015;\\nP: 198\\nI: tofacitinib 5 mg orally twice\\ndaily, 198\\nMCS �2, with\\nrectal\\nbleeding\\nscore 0; wk 8\\nP: 43 (14); 59\\nI: 42 (14); 52\\n7.2 (0.6–42.7)b; 55\\n6.5 (0.6–40.3)b; 52\\n0\\n0\\n50.5\\n51.0\\n1.0 (0.1–45.0)b\\n0.7 (0.1–33.7)b\\n46.5\\n45.5\\nUstekinumab\\nUNIFI (induction and\\nmaintenance therapy)\\n244 sites, 2015–2018;\\nP(i): 319\\nI(i): UST 6 mg/kg, wk 0–322\\nP(m): 175\\nI(m): UST 90 mg q8w–176\\nMCS �2; wk 8(i);\\nwk 44(m)\\nP(i): 41 (14); 62\\nI(i): 42 (14); 61\\nP(m): 42(14); 61\\nI(m): 40 (13); 53\\n8.0 (7.2); 47\\n8.2 (7.8); 47\\n7.5 (6.8); 49\\n8.1 (6.7); 46\\n27.9\\n27.6\\n28.0\\n25.6\\n49.2\\n52.2\\n54.3\\n54.0\\n4.7 (1.4–10.)\\n4.8 (1.8–13.7)\\n3.4 (1.4–9.7)\\n4.0 (1.4–12.7)\\n51j\\n52j\\n50j\\n52j\\nADA, adalimumab; CRem, clinical remission; CRP, C-reactive protein; CS, corticosteroids; GLM, golimumab; I, induction; IFX, inﬂiximab; IM, immunomodulator; MCS, Mayo Clinic Score; NR, not reported; P, placebo;\\nPURSUIT, Program of Ulcerative Colitis Research Studies Utilizing an Investigational Treatment; q2w, every 2 weeks; q4w, every 4 weeks; q8w, every 8 weeks; TNF, tumor necrosis factor; VDZ, vedolizumab.\\naMaintenance therapy with treat straight-through design.\\nbMedian (range).\\ncReasons for discontinuation of prior anti-TNF therapy: primary nonresponse, 0%; secondary loss of response or intolerance, 100%.\\ndOnly including patients with initial response to induction therapy who were rerandomized to placebo or active intervention.\\neReasons for discontinuation of prior anti-TNF therapy: primary nonresponse, 48%; secondary loss of response, 38%; intolerance, 14%.\\nfReasons for discontinuation of prior anti-TNF therapy: primary nonresponse, 36%; secondary loss of response, 30%; intolerance, 18%.\\ngReasons for discontinuation of prior anti-TNF therapy: primary nonresponse, 58%; secondary loss of response, 40%; intolerance, 2%.\\nhReasons for discontinuation of prior anti-TNF therapy: primary nonresponse, 43%; secondary loss of response, 50%; intolerance, 7%.\\niReasons for discontinuation of prior anti-TNF therapy: primary nonresponse, 50%; secondary loss of response, 35%; intolerance, 7%.\\njIncludes patients with prior exposure to TNF antagonist with or without vedolizumab (13%–18% had prior exposure to vedolizumab).\\nSeptember 2020\\nManagement of Moderate–Severe UC 2183\\n', metadata={'source': '/mnt/c/Users/QUAN/Desktop/medical-chatbot/data/document_store/uc/PIIS1542356520300446.pdf', 'file_path': '/mnt/c/Users/QUAN/Desktop/medical-chatbot/data/document_store/uc/PIIS1542356520300446.pdf', 'page': 4, 'total_pages': 19, 'format': 'PDF 1.7', 'title': 'First- and Second-Line Pharmacotherapies for Patients With Moderate to Severely Active Ulcerative Colitis: An Updated Network Meta-Analysis', 'author': 'Siddharth Singh', 'subject': 'Clinical Gastroenterology and Hepatology, 18 (2020) 2179-2197. doi:10.1016/j.cgh.2020.01.008', 'keywords': '', 'creator': 'Elsevier', 'producer': 'Acrobat Distiller 8.1.0 (Windows)', 'creationDate': \"D:20200816062640+05'30'\", 'modDate': \"D:20200816062734+05'30'\", 'trapped': '', 'modal': 'text'}),\n",
              "  Document(page_content='methodologic characteristics). If direct and indirect es-\\ntimates were similar (ie, coherent), then the higher rating\\ncan be assigned to the network meta-analysis estimates.\\nResults\\nFrom a total 5651 unique studies identiﬁed using our\\nsearch strategy, we included 15 RCTs of ﬁrst-line agents\\n(in biologic-naïve patients) (Active Ulcerative Colitis Trials\\n1 and 2,17 Jiang et al,18 NCT01551290,19 Ulcerative colitis\\nLong-Term Remission and maintenance with Adalimumab\\n1 and 2,20,21 Suzuki et al,22 Program of Ulcerative Colitis\\nResearch Studies Utilizing an Investigational Treatment\\nphase 2 and phase 3 induction studies,23 GEMINI I,24\\nMotoya et al,25 VARSITY, Oral Clinical Trials for tofAciti-\\nnib in ulceratiVE colitis (OCTAVE) 1 and 2,26 and UNIFI),\\nand 7 RCTs of second-line agents (in patients with prior\\nexposure to TNFa antagonists) (Ulcerative colitis Long-\\nTerm Remission and maintenance with Adalimumab 2,21\\nGEMINI I,24 Motoya et al,25 VARSITY,6 OCTAVE 1 and\\n2,26 UNIFI7) in patients with moderate–severe ulcerative\\ncolitis. Trials of inﬂiximab (Active Ulcerative Colitis Trials\\n1 and 2,17 Jiang et al,18 NCT0155129019), adalimumab\\n(Ulcerative colitis Long-Term Remission and maintenance\\nwith Adalimumab 2,20,21 Suzuki et al22), vedolizumab\\n(GEMINI I,24 Motoya et al,25 VARSITY6) and ustekinumab\\n(UNIFI7) also reported outcomes on maintenance therapy\\nwithin the same publication; Program of Ulcerative Colitis\\nResearch Studies Utilizing an Investigational Treatment-\\nM, Program of Ulcerative Colitis Research Studies Utilizing\\nan Investigational Treatment-J, and OCTAVE-Sustain\\nreported\\noutcomes\\nfor\\nmaintenance\\ntherapy\\nwith\\ngolimumab and tofacitinib, respectively.26–28 From our\\nprevious analysis, 3 additional studies were included.\\nThe schematic diagram of study selection is shown in\\nSupplementary\\nFigure\\n1,\\nand\\navailable\\ndirect\\ncomparisons and network of trials are shown in Figure 1.\\nTrial and patient characteristics are summarized in\\nTable 1. Overall, the median average age of patients was\\n41 years (interquartile range, 40–42 y), and 60%\\n(interquartile range, 56%–63%) were men. The median\\ndisease duration was 6.7 years (interquartile range,\\n6.0–7.8 y), and 49% (interquartile range, 46%–55%) of\\npatients had extensive colitis. A median of 40% (inter-\\nquartile range, 30%–50%) of patients were treated with\\nconcomitant immunomodulators, and 51% (interquartile\\nrange, 45%–57%) were on corticosteroids at baseline.\\nPatients across all trials and treatment arms were com-\\nparable in terms of baseline prognostic variables, inclu-\\nsion/exclusion\\ncriteria,\\nand\\nco-interventions.\\nAll\\noutcomes were assessed uniformly based on the stan-\\ndard deﬁnition of the Mayo Clinic score, between weeks\\n6 and 10 for induction therapy (inﬂiximab, adalimumab,\\ntofacitinib, ustekinumab, 8 weeks; golimumab, 6 weeks;\\nvedolizumab, 6 weeks, 10 weeks, and 14 weeks in\\nVARSITY),6 and weeks 30, 54, or 60 for maintenance\\ntherapy;\\nendoscopy\\nwas\\nread\\nby\\nblinded\\nlocal\\nTable 2. Comparative Efﬁcacy of Pharmacologic Agents for Induction of Clinical Remission and Endoscopic Improvement in Biologic-Naive Patients With Moderate–Severe\\nUlcerative Colitis Using Network Meta-Analysis\\nInduction of clinical remission\\nInduction of endoscopic improvement\\nUstekinumab 6 mg/kg\\n0.96 (0.38–2.45)\\n0.80 (0.35–1.83)\\n0.73 (0.31–1.74)\\n1.05 (0.48–2.32)\\n0.50 (0.22–1.12)\\n2.04 (1.03–4.05)\\n0.92 (0.45–1.89)\\nTofacitinib 10 mg b.d.\\n0.84 (0.39–1.82)\\n0.76 (0.33–1.76)\\n1.10 (0.51–2.34)\\n0.52 (0.24–1.12)\\n2.12 (1.12–4.02)\\n0.74 (0.36–1.51)\\n0.80 (0.4–1.62)\\nVedolizumab\\n0.91 (0.44–1.86)\\n1.31 (0.88–1.95)\\n0.62 (0.34–1.15)\\n2.54 (1.60–4.02)\\n1.07 (0.58–1.98)\\n1.17 (0.64–2.12)\\n1.45 (0.80–2.61)\\nGolimumab\\n1.44 (0.76–2.75)\\n0.69 (0.35–1.36)\\n2.79 (1.64–4.02)\\n1.17 (0.65–2.13)\\n1.28 (0.72–2.29)\\n1.59 (0.90–2.82)\\n1.10 (0.71–1.71)\\nAdalimumab\\n0.48 (0.26–0.86)\\n1.94 (1.30–2.88)\\n0.56 (0.30–1.04)\\n0.61 (0.34–1.11)\\n0.76 (0.42–1.37)\\n0.52 (0.33–0.83)\\n0.48 (0.31–0.74)\\nInﬂiximab\\n4.07 (2.67–6.21)\\n1.86 (1.11–3.13)\\n2.03 (1.23–3.34)\\n2.52 (1.54–4.11)\\n1.74 (1.25–2.41)\\n1.58 (1.18–2.13)\\n3.32 (2.39–4.60)\\nPlacebo\\nNOTE. Comparisons should be read from left to right. Odds ratio for comparisons are in the cell in common between the column-deﬁning and row-deﬁning treatment. Numbers in bold are statistically signiﬁcant. For induction of\\nclinical remission, an odds ratio greater than 1 favors row-deﬁning treatment. For induction of endoscopic improvement, an odds ratio greater than 1 favors column-deﬁning treatment. Numbers in parentheses indicate 95% CI.\\nb.d., twice daily.\\n2184 Singh et al\\nClinical Gastroenterology and Hepatology Vol. 18, No. 10\\n', metadata={'source': '/mnt/c/Users/QUAN/Desktop/medical-chatbot/data/document_store/uc/PIIS1542356520300446.pdf', 'file_path': '/mnt/c/Users/QUAN/Desktop/medical-chatbot/data/document_store/uc/PIIS1542356520300446.pdf', 'page': 5, 'total_pages': 19, 'format': 'PDF 1.7', 'title': 'First- and Second-Line Pharmacotherapies for Patients With Moderate to Severely Active Ulcerative Colitis: An Updated Network Meta-Analysis', 'author': 'Siddharth Singh', 'subject': 'Clinical Gastroenterology and Hepatology, 18 (2020) 2179-2197. doi:10.1016/j.cgh.2020.01.008', 'keywords': '', 'creator': 'Elsevier', 'producer': 'Acrobat Distiller 8.1.0 (Windows)', 'creationDate': \"D:20200816062640+05'30'\", 'modDate': \"D:20200816062734+05'30'\", 'trapped': '', 'modal': 'text'}),\n",
              "  Document(page_content='investigators for all trials, except trials of tofacitinib and\\nustekinumab, which were read by blinded central\\nreaders.7,26 Overall, the studies were deemed to be at\\nlow risk of bias, and all included studies were industry-\\nsponsored.\\nInduction Therapy\\nFirst-line\\npharmacotherapy\\nfor\\nmoderate–severe\\nulcerative colitis. Overall, 15 RCTs including 3747 bio-\\nlogic-naïve patients with moderate–severe ulcerative\\ncolitis, treated with inﬂiximab (4 trials, 667 patients),\\nadalimumab (4 trials, 1046 patients), golimumab (2 tri-\\nals, 586 patients), vedolizumab (3 trials, 630 patients),\\ntofacitinib (2 trials, 520 patients), and ustekinumab (1\\ntrial, 298 patients) were included; 1 trial compared\\nadalimumab vs vedolizumab.\\nInduction\\nof\\nclinical\\nremission. On\\ndirect\\nmeta-\\nanalysis, all agents were superior to placebo for induc-\\ntion of clinical remission, and effect size was strongest\\nfor inﬂiximab (OR, 4.07; 95% CI, 2.68–6.16) and vedoli-\\nzumab (OR, 3.10; 95% CI, 1.53–6.26), with minimal to\\nmoderate heterogeneity across estimates (I2 < 35%)\\n(Supplementary Figure 2A). On network meta-analysis,\\ncompared with placebo there was moderate conﬁdence\\nin\\nestimates\\nsupporting\\nthe\\nuse\\nof\\ninﬂiximab,\\nadalimumab, golimumab, vedolizumab, tofacitinib, and\\nustekinumab for induction of clinical remission in bio-\\nlogic-naïve patients (evidence was rated down owing to\\nimprecision caused by a low event rate) (Table 2). On\\ncomparison of active interventions, there was moderate\\nconﬁdence in estimates supporting the use of inﬂiximab\\nover adalimumab (OR, 2.10; 95% CI, 1.16–3.79); none of\\nthe other comparisons between active interventions\\nwere signiﬁcantly different (Table 2). Overall, inﬂiximab\\n(SUCRA, 0.95) was ranked highest for inducing clinical\\nremission\\nin\\nbiologic-naïve\\npatients\\nwith\\nmoderate–severe UC (Figure 2A). With an estimated\\nplacebo rate of achieving remission of 10% in included\\ntrials, we anticipate that 31.1%, 17.7%, 23.7%, 22.0%,\\nFigure 2. (A) Relative efﬁ-\\ncacy\\nof\\ndifferent\\nin-\\nterventions for induction of\\nclinical\\nremission\\nand\\nendoscopic\\nimprovement\\nin biologic-naïve patients\\nwith moderate to severely\\nactive ulcerative colitis. (B)\\nRelative\\nefﬁcacy\\nof\\ndifferent interventions for\\ninduction of clinical remis-\\nsion\\nand\\nendoscopic\\nimprovement\\nin\\npatients\\nwith moderate to severely\\nactive\\nulcerative\\ncolitis\\nwith prior exposure to tu-\\nmor necrosis factor (TNF)⍺\\nantagonists. SUCRA, sur-\\nface under the cumulative\\nranking.\\nSeptember 2020\\nManagement of Moderate–Severe UC 2185\\n', metadata={'source': '/mnt/c/Users/QUAN/Desktop/medical-chatbot/data/document_store/uc/PIIS1542356520300446.pdf', 'file_path': '/mnt/c/Users/QUAN/Desktop/medical-chatbot/data/document_store/uc/PIIS1542356520300446.pdf', 'page': 6, 'total_pages': 19, 'format': 'PDF 1.7', 'title': 'First- and Second-Line Pharmacotherapies for Patients With Moderate to Severely Active Ulcerative Colitis: An Updated Network Meta-Analysis', 'author': 'Siddharth Singh', 'subject': 'Clinical Gastroenterology and Hepatology, 18 (2020) 2179-2197. doi:10.1016/j.cgh.2020.01.008', 'keywords': '', 'creator': 'Elsevier', 'producer': 'Acrobat Distiller 8.1.0 (Windows)', 'creationDate': \"D:20200816062640+05'30'\", 'modDate': \"D:20200816062734+05'30'\", 'trapped': '', 'modal': 'text'}),\n",
              "  Document(page_content='19.1%, and 18.5% of inﬂiximab-, adalimumab-, golimu-\\nmab-,\\nvedolizumab-,\\ntofacitinib-,\\nand\\nustekinumab-\\ntreated patients, respectively, would achieve induction\\nof remission.\\nInduction of endoscopic improvement. On direct meta-\\nanalysis, all agents were superior to placebo for induc-\\ntion of endoscopic improvement, and effect size was\\nstrongest for inﬂiximab (OR, 3.32) and vedolizumab (OR,\\n2.52), with minimal heterogeneity across estimates (I2 ¼\\n0%) (Supplementary Figure 2B). On network meta-\\nanalysis, compared with placebo, there was high conﬁ-\\ndence in estimates supporting the use of inﬂiximab,\\nadalimumab, and golimumab, and moderate conﬁdence\\nin estimates supporting the use of vedolizumab, tofaci-\\ntinib, and ustekinumab for induction of endoscopic\\nimprovement in biologic-naïve patients (evidence was\\nrated down owing to imprecision caused by a low event\\nrate) (Table 2). On comparison of active interventions,\\nthere was high conﬁdence in estimates supporting the\\nuse of inﬂiximab over adalimumab (OR, 2.10; 95% CI,\\n1.35–3.25), golimumab (OR, 1.91; 95% CI, 1.20–3.03),\\nand ustekinumab (OR, 1.78; 95% CI, 0.97–3.29). There\\nwas no signiﬁcant difference in the efﬁcacy of inﬂiximab\\nand vedolizumab as a ﬁrst-line agent for induction of\\nendoscopic improvement, with low conﬁdence in esti-\\nmates (OR, 1.32; 95% CI, 0.73–2.37) (Table 2). Overall,\\ninﬂiximab (SUCRA, 0.95) and vedolizumab (SUCRA, 0.76)\\nwere ranked highest for inducing endoscopic improve-\\nment in biologic-naïve patients with moderate–severe\\nulcerative colitis (Figure 2A). With an estimated pla-\\ncebo rate of achieving endoscopic improvement of 30%\\nin induction trials, we estimated that 58.7%, 40.4%,\\n42.7%, 51.9%, 46.5%, and 44.4% of inﬂiximab-, adali-\\nmumab-, golimumab-, vedolizumab-, tofacitinib-, and\\nustekinumab-treated patients, respectively, would ach-\\nieve induction of endoscopic improvement.\\nSecond-line\\npharmacotherapy\\nfor\\nmoderate–severe\\nulcerative colitis. Overall, 7 RCTs including 1580 pa-\\ntients with moderate–severe ulcerative colitis with prior\\nexposure to TNFa antagonists were identiﬁed. These\\nincluded subgroup analyses of trials of adalimumab,21\\nvedolizumab,24,25\\ntofacitinib,26\\nand\\nustekinumab.7\\nThere were no trials of inﬂiximab or golimumab in\\npatients with prior exposure to TNFa antagonists who\\nmet inclusion criteria. In trials of adalimumab, only pa-\\ntients with loss of response or intolerance to a prior\\nTNFa antagonist were included. In contrast, in trials of\\nvedolizumab, 48% to 58% of patients had inadequate\\nresponse to a TNFa antagonist, and in trials of usteki-\\nnumab, 13% to 18% patients had prior exposure to both\\nvedolizumab and TNFa antagonists. These data were not\\navailable for tofacitinib.\\nInduction\\nof\\nclinical\\nremission. On\\ndirect\\nmeta-\\nanalysis, tofacitinib and ustekinumab, but not adalimu-\\nmab or vedolizumab, were superior to placebo for induc-\\ntion of clinical remission (Supplementary Figure 3A), with\\nminimal heterogeneity across estimates (I2 < 30%). On\\nnetwork meta-analysis, there was moderate conﬁdence in\\nestimates supporting the use of tofacitinib (OR, 11.88;\\n95% CI, 2.32–60.89) and ustekinumab (OR, 11.51; 95% CI,\\n2.65–49.96), and low conﬁdence in estimates supporting\\nthe use of vedolizumab (OR, 1.92; 95% CI, 0.87–4.25) over\\nplacebo, for induction of clinical remission in patients with\\nprior exposure to TNFa antagonists (Table 3). On com-\\nparison of active interventions, there was moderate con-\\nﬁdence in estimates supporting the use of tofacitinib and\\nustekinumab over adalimumab (tofacitinib vs adalimu-\\nmab: OR, 11.05; 95% CI, 1.79–68.41; ustekinumab vs\\nadalimumab: OR, 10.71; 95% CI, 2.01–57.20), and over\\nvedolizumab (tofacitinib vs vedolizumab: OR, 6.18; 95%\\nCI, 1.00–38.00; ustekinumab vs vedolizumab: OR, 5.99;\\n95% CI, 1.13–31.76) for induction of clinical remission in\\npatients with prior exposure to TNFa antagonists. Overall,\\nustekinumab (SUCRA, 0.87) and tofacitinib (SUCRA, 0.87)\\nwere ranked highest for inducing clinical remission in\\npatients with moderate–severe ulcerative colitis with\\nprior exposure to TNFa antagonists (Figure 2B). With an\\nestimated placebo rate of achieving clinical remission of\\n3% in included trials, we estimated that 3.2%, 5.6%,\\n26.9%, and 26.3% of adalimumab-, vedolizumab-, tofaci-\\ntinib-, and ustekinumab-treated patients, respectively,\\nwould achieve induction of remission.\\nInduction of endoscopic improvement. On direct meta-\\nanalysis, tofacitinib and ustekinumab, but not vedolizumab\\nor adalimumab, were superior to placebo for induction of\\nendoscopic improvement, with minimal heterogeneity\\nTable 3. Comparative Efﬁcacy of Pharmacologic Agents for Induction of Clinical Remission and Endoscopic Improvement in\\nPatients With Moderate–Severe Ulcerative Colitis With Prior Exposure to Tumor Necrosis Factor-a Antagonists Using\\nNetwork Meta-Analysis\\nInduction of clinical remission\\nInduction of endoscopic\\nimprovement\\nUstekinumab 6 mg/kg\\n0.97 (0.11–8.72)\\n5.99 (1.13–31.76)\\n10.71 (2.01–57.20)\\n11.51 (2.65–49.96)\\n0.77 (0.28–2.18)\\nTofacitinib 10 mg b.d.\\n6.18 (1.00–38.00)\\n11.05 (1.79–68.41)\\n11.88 (2.32–60.89)\\n2.98 (1.20–7.41)\\n3.85 (1.51–9.80)\\nVedolizumab\\n1.79 (0.86–3.70)\\n1.92 (0.87–4.25)\\n3.32 (1.29–8.58)\\n4.29 (1.63–11.33)\\n1.12 (0.48–2.59)\\nAdalimumab\\n1.07 (0.48–2.41)\\n3.64 (1.78–7.46)\\n4.71 (2.23–9.92)\\n1.22 (0.70–2.15)\\n1.10 (0.59–2.04)\\nPlacebo\\nNOTE. Comparisons should be read from left to right. The odds ratio for comparisons are in the cell in common between the column-deﬁning and row-deﬁning\\ntreatment. Numbers in bold are statistically signiﬁcant. For induction of clinical remission, an odds ratio greater than 1 favors row-deﬁning treatment. For induction\\nof endoscopic improvement, an odds ratio greater than 1 favors column-deﬁning treatment. Numbers in parentheses indicate 95% CI.\\nb.d., twice daily.\\n2186 Singh et al\\nClinical Gastroenterology and Hepatology Vol. 18, No. 10\\n', metadata={'source': '/mnt/c/Users/QUAN/Desktop/medical-chatbot/data/document_store/uc/PIIS1542356520300446.pdf', 'file_path': '/mnt/c/Users/QUAN/Desktop/medical-chatbot/data/document_store/uc/PIIS1542356520300446.pdf', 'page': 7, 'total_pages': 19, 'format': 'PDF 1.7', 'title': 'First- and Second-Line Pharmacotherapies for Patients With Moderate to Severely Active Ulcerative Colitis: An Updated Network Meta-Analysis', 'author': 'Siddharth Singh', 'subject': 'Clinical Gastroenterology and Hepatology, 18 (2020) 2179-2197. doi:10.1016/j.cgh.2020.01.008', 'keywords': '', 'creator': 'Elsevier', 'producer': 'Acrobat Distiller 8.1.0 (Windows)', 'creationDate': \"D:20200816062640+05'30'\", 'modDate': \"D:20200816062734+05'30'\", 'trapped': '', 'modal': 'text'}),\n",
              "  Document(page_content='acrossestimates(I2< 30%)(SupplementaryFigure3B).On\\nnetwork meta-analysis, compared with placebo, there was\\nmoderate conﬁdence in estimates supporting the use of\\ntofacitinib (OR, 4.71; 95% CI, 2.23–9.92) and ustekinumab\\n(OR, 3.64; 95% CI, 1.78–7.46) for induction of endoscopic\\nimprovement in patients with prior exposure to TNFa an-\\ntagonists (Table 3). On comparison of active interventions,\\nthere was moderate conﬁdence in estimates supporting the\\nuse of tofacitinib and ustekinumab over adalimumab\\n(tofacitinib vs adalimumab: OR, 4.29; 95% CI, 1.63–11.33;\\nustekinumab vs adalimumab: OR, 3.32; 95% CI, 1.29–8.58),\\nand over vedolizumab (tofacitinib vs vedolizumab: OR,\\n3.85; 95% CI, 1.51–9.80; ustekinumab vs vedolizumab: OR,\\n2.98; 95% CI, 1.20–7.41) for induction of endoscopic\\nimprovement in patients with prior exposure to TNFa an-\\ntagonists. Overall, tofacitinib (SUCRA, 0.91) and ustekinu-\\nmab (SUCRA, 0.83) were ranked highest for inducing\\nendoscopic\\nimprovement\\nin\\npatients\\nwith\\nmoderate–severe ulcerative colitis with prior exposure to\\nTNFa antagonists (Figure 2B). With an estimated placebo\\nrate of achieving endoscopic improvement of 15% in\\nincluded trials, we estimated that 16.3%, 17.7%, 45.4%,\\nand 39.1% of adalimumab-, vedolizumab-, tofacitinib-, and\\nustekinumab-treated patients, respectively, would achieve\\nendoscopic improvement.\\nComparative\\nsafety\\nof\\ninduction\\ntherapy. Supple-\\nmentary Table 1 summarizes rate of all adverse events,\\nadverse events resulting in treatment discontinuation,\\nserious adverse events, and serious infections in trials of\\ninduction therapy. Data on safety stratiﬁed by TNFa\\nantagonist exposure status was not reported, and the\\noverall event rate for important safety outcomes was\\nlow; hence, a formal network meta-analysis was not\\nperformed. Overall, the median rate of serious adverse\\nevents with active intervention was 4.7% (interquartile\\nrange, 3.6%–6.9%). The median rate of serious infections\\nin induction trials with active intervention was 0.6%\\n(interquartile range, 0.1%–1.8%).\\nMaintenance Therapy\\nEfﬁcacy. Because of differences in trial design, trials\\nof inﬂiximab and adalimumab (treat straight-through)\\nand of golimumab, tofacitinib, and ustekinumab (reran-\\ndomization of responders to induction therapy) were\\nanalyzed separately; vedolizumab contributed to both\\ntrial designs. On network meta-analysis of treat straight-\\nthrough trials in biologic-naïve patients, inﬂiximab, ada-\\nlimumab, and vedolizumab were superior to placebo, and\\nvedolizumab was superior to adalimumab for mainte-\\nnance of clinical remission and endoscopic improvement\\n(Supplementary Table 2A; Supplementary Figure 4); no\\nsigniﬁcant differences were observed between inﬂiximab\\nand vedolizumab (clinical remission: OR, 0.72; 95% CI,\\n0.35–1.49; endoscopic improvement: OR, 0.73; 95% CI,\\n0.37–1.42). Vedolizumab was ranked highest (SUCRA,\\nmaintenance\\nof\\nclinical\\nremission\\nand\\nendoscopic\\nimprovement, 0.93 and 0.94, respectively), followed by\\nTable 4. Comparative Safety of Pharmacologic Agents During Maintenance Therapy in Patients With Moderate–Severe Ulcerative Colitis Using Network Meta-Analysis\\nRisk of serious adverse events\\nRisk of infections\\nUstekinumab 90 mg q8w\\n1.14 (0.37–3.50)\\n1.18 (0.50–2.79)\\n0.43 (0.15–1.22)\\n0.85 (0.37–1.92)\\n1.32 (0.56–3.12)\\n0.87 (0.42–1.79)\\n0.63 (0.35–1.16)\\nTofacitinib 5 mg b.d.\\n1.03 (0.39–2.71)\\n0.38 (0.12–1.17)\\n0.74 (0.29–1.87)\\n1.15 (0.44–3.02)\\n0.76 (0.32–1.77)\\n1.13 (0.66–1.93)\\n1.78 (1.02–3.09)\\nVedolizumab\\n0.37 (0.15–0.88)\\n0.72 (0.49–1.05)\\n1.12 (0.58–2.14)\\n0.73 (0.46–1.16)\\n0.68 (0.36–1.29)\\n1.08 (0.56–2.05)\\n0.61 (0.34–1.09)\\nGolimumab\\n1.95 (0.85–4.48)\\n3.04 (1.27–7.28)\\n2.00 (0.95–4.20)\\n0.89 (0.54–1.47)\\n1.40 (0.84–2.34)\\n0.79 (0.60–1.04)\\n1.31 (0.76–2.25)\\nAdalimumab\\n1.56 (0.86–2.82)\\n1.02 (0.71–1.49)\\n0.91 (0.51–1.60)\\n1.43 (0.80–2.55)\\n0.80 (0.48–1.34)\\n1.33 (0.72–2.45)\\n1.02 (0.64–1.63)\\nInﬂiximab\\n0.66 (0.41–1.04)\\n1.11 (0.73–1.69)\\n1.75 (1.13–2.70)\\n0.98 (0.70–1.38)\\n1.62 (1.01–2.62)\\n1.24 (0.95–1.63)\\n1.22 (0.83–1.79)\\nPlacebo\\nNOTE. Comparisons should be read from left to right. The odds ratio for comparisons are in the cell in common between the column-deﬁning and row-deﬁning treatment. Numbers in bold are statistically signiﬁcant. For serious\\nadverse events, an odds ratio less than 1 favors row-deﬁning treatment. For risk of infections, an odds ratio less than 1 favors column-deﬁning treatment. Numbers in parentheses indicate 95% CI.\\nb.d., twice daily; q8w, every 8 weeks.\\nSeptember 2020\\nManagement of Moderate–Severe UC 2187\\n', metadata={'source': '/mnt/c/Users/QUAN/Desktop/medical-chatbot/data/document_store/uc/PIIS1542356520300446.pdf', 'file_path': '/mnt/c/Users/QUAN/Desktop/medical-chatbot/data/document_store/uc/PIIS1542356520300446.pdf', 'page': 8, 'total_pages': 19, 'format': 'PDF 1.7', 'title': 'First- and Second-Line Pharmacotherapies for Patients With Moderate to Severely Active Ulcerative Colitis: An Updated Network Meta-Analysis', 'author': 'Siddharth Singh', 'subject': 'Clinical Gastroenterology and Hepatology, 18 (2020) 2179-2197. doi:10.1016/j.cgh.2020.01.008', 'keywords': '', 'creator': 'Elsevier', 'producer': 'Acrobat Distiller 8.1.0 (Windows)', 'creationDate': \"D:20200816062640+05'30'\", 'modDate': \"D:20200816062734+05'30'\", 'trapped': '', 'modal': 'text'}),\n",
              "  Document(page_content='inﬂiximab (0.63 and 0.67, respectively). Similarly, on\\nnetwork meta-analysis of trials in which responders to\\ninduction therapy were rerandomized to active inter-\\nvention or placebo, golimumab, vedolizumab, tofacitinib,\\nand ustekinumab were superior to placebo for mainte-\\nnance of clinical remission and endoscopic improvement\\n(Supplementary Figure 5, Supplementary Table 2B). No\\nsigniﬁcant differences were observed on comparison of\\nactive interventions, with all agents being equally effec-\\ntive for maintenance of remission in a subset of patients\\nwho responded to induction therapy (SUCRA, mainte-\\nnance of clinical remission and endoscopic improvement,\\ngolimumab, 0.69 and 0.58; vedolizumab, 0.63 and 0.76;\\ntofacitinib, 0.69 and 0.69; and ustekinumab, 0.47 and\\n0.46, respectively). Although the maintenance trial of\\ngolimumab\\nwas\\nconducted\\nonly\\nin\\nTNFa\\nantago-\\nnist–naïve patients, trials of vedolizumab and tofacitinib\\nincluded\\nboth\\nTNFa\\nantagonist-naïve\\nand\\nTNFa\\nantagonist-exposed patients, but results were not strat-\\niﬁed by prior TNFa antagonist exposure status.\\nComparative safety of maintenance therapy. Supple-\\nmentary Table 3 summarizes the rates of all adverse\\nevents, adverse events resulting in treatment discontin-\\nuation, serious adverse events, any infections, serious\\ninfections, and infusion-/injection-site reactions in all\\ntrials of maintenance therapy. On network meta-analysis,\\nno agent was signiﬁcantly worse than placebo in rates of\\nserious\\nadverse\\nevents\\n(Table\\n4,\\nSupplementary\\nFigure 6), which may be related to effective disease\\ncontrol. Among active interventions, rates of serious\\nadverse events were lower with vedolizumab and\\ninﬂiximab compared with golimumab. The rate of serious\\ninfections was low and was not deemed amenable to\\nnetwork meta-analysis; hence, the risk of overall in-\\nfections was used as a surrogate safety outcome. On\\nnetwork meta-analysis, golimumab and tofacitinib were\\nassociated with increased risk of infections compared\\nwith placebo (Table 4, Supplementary Figure 7). On\\ncomparing active interventions, the rate of serious\\ninfection was lower with vedolizumab compared with\\ntofacitinib (OR, 0.56; 95% CI, 0.32–0.98) (Table 4).\\nOverall, vedolizumab (SUCRA, 0.81) and ustekinumab\\n(SUCRA, 0.63) were ranked safest in terms of risk of\\ninfections.\\nPublication Bias\\nThere was no evidence of small study effects on\\nevaluation of funnel plot; however, the number of studies\\nfor each comparison was small, and we cannot detect\\npublication bias reliably.\\nDiscussion\\nIn this updated systematic review and network meta-\\nanalysis combining direct and indirect evidence from 17\\ntrials, we made several key observations. First, in\\nbiologic-naïve patients, although all approved agents are\\neffective, inﬂiximab was ranked highest for inducing\\nclinical remission and endoscopic improvement, with\\nmoderate conﬁdence in estimates supporting its use over\\nadalimumab. Second, in patients with moderate–severe\\nulcerative colitis with prior exposure to TNFa antago-\\nnists, tofacitinib and ustekinumab are ranked highest for\\ninducing remission, and both of these agents are more\\neffective than vedolizumab or adalimumab, with mod-\\nerate conﬁdence in estimates. Of note, there were no\\ntrials of inﬂiximab or golimumab as second-line agents,\\nwhich limits inference on their efﬁcacy if used in the\\nsetting of prior TNFa antagonist exposure. Third, vedo-\\nlizumab was ranked safest, with the lowest rate of in-\\nfections\\namong\\nactive\\ninterventions,\\nfollowed\\nby\\nustekinumab. As compared with previous estimates, this\\nupdated analysis has key strengths with inclusion of a\\nhead-to-head trial comparing vedolizumab and adali-\\nmumab, which forms a more connected network, and\\nprovides more robust and statistically and clinically\\nsigniﬁcant results on the comparative efﬁcacy of second-\\nline pharmacotherapy in patients with prior exposure to\\nTNFa antagonists. Notable new ﬁndings are the relative\\nlowering efﬁcacy of vedolizumab as a ﬁrst-line agent for\\ninduction of remission than prior estimates, and the\\nsigniﬁcantly superior efﬁcacy of ustekinumab and tofa-\\ncitinib over vedolizumab as second-line agents in pa-\\ntients with prior exposure to TNFa antagonists. With\\nlimited head-to-head trials, this information can inform\\nclinical practice and guidelines directly and facilitate\\nshared decision making for management of patients with\\nmoderate–severe ulcerative colitis.\\nOur\\nresults\\nconﬁrm\\nseveral\\nprior\\nobservational\\ncomparative effectiveness studies, individual patient-\\nlevel analyses of clinical trials, and indirect treatment\\ncomparison network meta-analyses suggesting higher\\nefﬁcacy and effectiveness of inﬂiximab over adalimumab\\nand golimumab.4,5,29,30 This may be related to differ-\\nences\\nin\\npharmacokinetics\\nand\\nbioavailability\\nwith\\ndifferent dosing schema (weight-based vs ﬁxed dose)\\nand route of administration. The recent Study to Evaluate\\nthe Safety and Efﬁcacy of Two Drug Regimens in Subjects\\nWith Moderate to Severe Ulcerative Colitis-UC trial\\ncomparing standard- vs high-dose adalimumab in pa-\\ntients with moderate–severe ulcerative colitis failed to\\nshow the superiority of higher-dose adalimumab, sug-\\ngesting that currently approved dosing of adalimumab is\\nunlikely to change, and, hence, the comparative efﬁcacy\\nresults will remain similar.31 Our ﬁndings also support\\nthe observation in the recent head-to-head VARSITY trial\\nas well as propensity score-matched analyses from the\\nVICTORY consortium that vedolizumab is more effective\\nthan adalimumab for long-term maintenance of clinical\\nremission; over 8 to 12 weeks of induction therapy,\\nhowever, no differences were observed between the 2\\nagents.6,32 Moreover, we did not observe any differences\\nin the efﬁcacy of vedolizumab and inﬂiximab in the\\nmaintenance\\nof\\nclinical\\nremission\\nor\\nendoscopic\\n2188 Singh et al\\nClinical Gastroenterology and Hepatology Vol. 18, No. 10\\n', metadata={'source': '/mnt/c/Users/QUAN/Desktop/medical-chatbot/data/document_store/uc/PIIS1542356520300446.pdf', 'file_path': '/mnt/c/Users/QUAN/Desktop/medical-chatbot/data/document_store/uc/PIIS1542356520300446.pdf', 'page': 9, 'total_pages': 19, 'format': 'PDF 1.7', 'title': 'First- and Second-Line Pharmacotherapies for Patients With Moderate to Severely Active Ulcerative Colitis: An Updated Network Meta-Analysis', 'author': 'Siddharth Singh', 'subject': 'Clinical Gastroenterology and Hepatology, 18 (2020) 2179-2197. doi:10.1016/j.cgh.2020.01.008', 'keywords': '', 'creator': 'Elsevier', 'producer': 'Acrobat Distiller 8.1.0 (Windows)', 'creationDate': \"D:20200816062640+05'30'\", 'modDate': \"D:20200816062734+05'30'\", 'trapped': '', 'modal': 'text'}),\n",
              "  Document(page_content='improvement on comparison of treat straight-through\\nmaintenance trials.\\nPerhaps the most informative results from our ana-\\nlyses pertain to the comparative efﬁcacy of different\\nagents in patients with prior exposure to TNFa antago-\\nnists. This is increasingly relevant given the high rates of\\nprimary nonresponse or secondary loss of response to\\ninitial biologic therapy, and is an often-faced clinical\\nscenario for which there is limited guidance. We\\nobserved that both ustekinumab and tofacitinib were\\nsigniﬁcantly more effective than vedolizumab and adali-\\nmumab for induction of remission. Findings from these\\nindirect comparisons need to be interpreted with caution\\nbecause these trials did not always mirror clinical prac-\\ntice. For example, current trials did not use therapeutic\\ndrug monitoring to understand the plausible mechanism\\nof failure of initial biologic intervention. Given the po-\\ntential differences in the efﬁcacy of second-line in-\\nterventions depending on the underlying reason for\\ndiscontinuation of prior TNFa antagonists (primary\\nnonresponse vs secondary loss of response vs intoler-\\nance), such information may be useful in making clinical\\ntreatment decisions in conjunction with ﬁndings from\\nour analyses.33,34 In these analyses, data on how many\\nprior TNFa antagonists to which a patient had been\\nexposed was not reported consistently. It is conceivable\\nthat because TNFa antagonists were the ﬁrst class of\\nmedications to be approved, patients treated with ada-\\nlimumab or golimumab in clinical trials generally had\\nexposure to only a single TNFa antagonist; in contrast, in\\nsubsequent trials of vedolizumab, tofacitinib, and uste-\\nkinumab, a signiﬁcant proportion of patients may have\\nbeen exposed to 2 or more biologic agents before clinical\\ntrial intervention, and inherently may be difﬁcult to treat.\\nHowever,\\ntrials\\nof\\nustekinumab\\nwere\\nconducted\\nfollowing approval of vedolizumab, and a subset of pa-\\ntients in these trials failed multiple TNFa antagonists and\\nvedolizumab, conceivably making it a more refractory\\npatient population. Despite this, we observed the supe-\\nriority of ustekinumab over vedolizumab, suggesting the\\neffect likely is real and not confounded by treatment\\nrefractoriness.\\nIn this study, by updating analyses with the inclusion\\nof ustekinumab, accounting for dose change for tofaciti-\\nnib, including a head-to-head trial of biologics in\\nmoderate–severe\\nulcerative\\ncolitis,\\nappropriately\\ncomparing trials of maintenance therapy with different\\ndesigns, adding the GRADE framework and assessment\\nof absolute effect size, and performing a thorough\\nquantitative and qualitative assessment of the safety of\\ndifferent therapies, we have been able to contextualize\\nour conﬁdence in the summary estimates for different\\ncomparisons, and more thoroughly inform positioning of\\ndifferent\\nagents\\nused\\nin\\nthe\\ntreatment\\nof\\nmoderate–severe ulcerative colitis. We acknowledge that\\nthere is a paucity of head-to-head trials to truly inform\\ncomparative efﬁcacy and safety. However, it is important\\nto note that across trials of induction therapy, key\\ninclusion/exclusion criteria, outcome deﬁnitions, and\\npatient and clinical characteristics, co-interventions were\\ncomparable across trials, which facilitated this network\\nmeta-analysis.\\nBesides inherent limitations of individual trials, there\\nwere limitations to our analyses. A thorough comparative\\nanalysis across all agents was limited to trials of induc-\\ntion therapy; because of differences in trial design of\\nmaintenance therapy, we had to conduct 2 separate\\nnetwork meta-analyses limiting comparative assess-\\nments. Approaches to conducting network meta-analyses\\nwhen study designs are different have been proposed,\\nbut it is difﬁcult to assess their validity.35,36 Most of the\\nincluded trials relied on local investigators for endo-\\nscopic reading of endoscopic disease activity for trial\\nrecruitment and outcome assessment, whereas trials of\\ntofacitinib and ustekinumab included blinded central\\nreaders, which can inﬂuence absolute event rates of\\nclinical remission and endoscopic improvement. In\\naddition, the efﬁcacy outcome in OCTAVE induction trials\\nof tofacitinib were more robust, requiring a rectal\\nbleeding subscore of 0.26 There were differences in\\ntiming of outcomes assessment in induction studies\\n(weeks 6–14), and time-dependent variability in efﬁcacy\\ncould not be analyzed in detail. Although corticosteroid-\\nfree remission may be a more relevant clinical end point,\\nthis was reported inconsistently in the included trials;\\nacross all trials of induction therapy, no corticosteroid\\ntapering was attempted. We are unable to inform the\\ncomparative efﬁcacy of biologic monotherapy vs combi-\\nnation therapy with immunomodulators. We speciﬁcally\\nopted to exclude UC-SUCCESS for the following reasons:\\ninclusion of this trial with 3 active arms (including 1 arm\\nof thiopurine monotherapy) would have resulted in a\\ndisconnected network, and the efﬁcacy of thiopurine\\nmonotherapy as a separate intervention would have\\nbeen hard to interpret and biased because other older\\ntrials of thiopurines for induction and maintenance,\\nwhich systematically were different from contemporary\\ntrials, were being excluded. This trial has suggested that\\nin patients who are naïve to biologics and immuno-\\nmodulators, combination therapy of inﬂiximab and thi-\\nopurines\\nmay\\nbe\\nmore\\nefﬁcacious\\nthan\\ninﬂiximab\\nmonotherapy for achieving endoscopic improvement, but\\nnot clinical remission. We also urge caution in inter-\\npreting our ﬁndings solely in terms of ranking or SUCRA.\\nThere are no thresholds for clinically meaningful differ-\\nences between SUCRA values between different agents,\\nand generally, values closer to 1 suggest that the inter-\\nvention may be among the top-ranking interventions,\\nand values closer to 0 suggest that the intervention may\\nbe among the bottom ranking interventions. SUCRA does\\nnot consider the magnitude of differences in effects be-\\ntween treatments, for which we rely on ORs of speciﬁc\\ncomparisons.\\nBeyond treatment efﬁcacy, safety is an integral part in\\ndetermining risk–beneﬁt balance of each intervention\\nand\\ninforming\\nshared\\ndecision\\nmaking.37\\nAlthough\\nSeptember 2020\\nManagement of Moderate–Severe UC 2189\\n', metadata={'source': '/mnt/c/Users/QUAN/Desktop/medical-chatbot/data/document_store/uc/PIIS1542356520300446.pdf', 'file_path': '/mnt/c/Users/QUAN/Desktop/medical-chatbot/data/document_store/uc/PIIS1542356520300446.pdf', 'page': 10, 'total_pages': 19, 'format': 'PDF 1.7', 'title': 'First- and Second-Line Pharmacotherapies for Patients With Moderate to Severely Active Ulcerative Colitis: An Updated Network Meta-Analysis', 'author': 'Siddharth Singh', 'subject': 'Clinical Gastroenterology and Hepatology, 18 (2020) 2179-2197. doi:10.1016/j.cgh.2020.01.008', 'keywords': '', 'creator': 'Elsevier', 'producer': 'Acrobat Distiller 8.1.0 (Windows)', 'creationDate': \"D:20200816062640+05'30'\", 'modDate': \"D:20200816062734+05'30'\", 'trapped': '', 'modal': 'text'}),\n",
              "  Document(page_content='comparative analysis of maintenance trials has suggested\\nhigher safety with vedolizumab, rates of important\\nevents such as serious infections was low and other\\nserious events such as malignancy could not be evalu-\\nated thoroughly. Moreover, differences in study design of\\nmaintenance therapy (treat straight-through vs reran-\\ndomization of responders), as well as lack of information\\non safety stratiﬁed by prior TNFa antagonist exposure\\nstatus, potentially may bias safety results. Postmarketing\\nsurveillance studies of these different agents may better\\ninform the relative safety of these agents. Safety of\\ntofacitinib seems to be dose-dependent, and in instances\\nin which a higher 10-mg twice-per-day dose of tofacitinib\\nis used for long-term maintenance, safety concerns\\nshould be discussed adequately with patients.\\nIntegrating ﬁndings from this meta-analysis and other\\nstudies, current evidence favors inﬂiximab or vedolizu-\\nmab\\nas\\nthe\\npreferred\\nﬁrst-line\\nagents\\nfor\\nmoderate–severe ulcerative colitis. In patients who fail\\ninﬂiximab, ustekinumab and tofacitinib likely would be\\nmost efﬁcacious, and ustekinumab’s superior safety\\nproﬁle may be attractive in light of recent concerns\\naround\\nvenous\\nthromboembolism\\nwith\\ntofacitinib.\\nHowever, besides quality of evidence, several other fac-\\ntors including a balance of risk–beneﬁt proﬁle, speciﬁc\\npatient attributes (age, comorbid conditions including\\nrheumatic or dermatologic diseases, and so forth), clin-\\nical judgment and experience of the treating physicians,\\nvalues\\nand\\npreferences\\nof\\npatients\\n(dosing\\nroute,\\nregimen, acceptability of risk–beneﬁt trade-offs, and so\\nforth), as well as the costs/resources available, are\\nimportant to facilitate shared decision making, in devel-\\noping a personalized treatment strategy for each patient,\\nand shape health care policy on positioning different\\nagents. Pragmatic head-to-head trials in both biologic-\\nnaïve and biologic-exposed patients are warranted to\\noptimally inform the relative positioning of newly\\navailable agents in clinical practice.\\nSupplementary Material\\nNote: To access the supplementary material accom-\\npanying this article, visit the online version of Clinical\\nGastroenterology and Hepatology at www.cghjournal.org,\\nand at https://doi.org/10.1016/j.cgh.2020.01.008.\\nReferences\\n1.\\nNgSC,ShiHY,Hamidi N,et al.Worldwideincidence andprevalence\\nof inﬂammatory bowel disease in the 21st century: a systematic\\nreview of population-based studies. Lancet 2018;390:2769–2778.\\n2.\\nFumery M, Singh S, Dulai PS, et al. Natural history of adult ul-\\ncerative colitis in population-based cohorts: a systematic re-\\nview. Clin Gastroenterol Hepatol 2018;16:343–356.\\n3.\\nVester-Andersen MK, Prosberg MV, Jess T, et al. Disease\\ncourse and surgery rates in inﬂammatory bowel disease: a\\npopulation-based, 7-year follow-up study in the era of immu-\\nnomodulating therapy. Am J Gastroenterol 2014;109:705–714.\\n4.\\nBonovas S, Lytras T, Nikolopoulos G, et al. Systematic review\\nwith network meta-analysis: comparative assessment of tofa-\\ncitinib and biological therapies for moderate-to-severe ulcera-\\ntive colitis. Aliment Pharmacol Ther 2018;47:454–465.\\n5.\\nSingh S, Fumery M, Sandborn WJ, et al. Systematic review with\\nnetwork meta-analysis: ﬁrst- and second-line pharmacotherapy\\nfor moderate-severe ulcerative colitis. Aliment Pharmacol Ther\\n2018;47:162–175.\\n6.\\nSands BE, Peyrin-Biroulet L, Loftus EV Jr, et al. Vedolizumab\\nversus adalimumab for moderate-to-severe ulcerative colitis.\\nN Engl J Med 2019;381:1215–1226.\\n7.\\nSands BE, Sandborn WJ, Panaccione R, et al. Ustekinumab as\\ninduction and maintenance therapy for ulcerative colitis. N Engl\\nJ Med 2019;381:1201–1214.\\n8.\\nPuhan MA, Schunemann HJ, Murad MH, et al. A GRADE Working\\nGroup approach for rating the quality of treatment effect esti-\\nmates from network meta-analysis. BMJ 2014;349:g5630.\\n9.\\nHutton B, Salanti G, Caldwell DM, et al. The PRISMA extension\\nstatement for reporting of systematic reviews incorporating\\nnetwork meta-analyses of health care interventions: checklist\\nand explanations. Ann Intern Med 2015;162:777–784.\\n10.\\nJansen JP, Fleurence R, Devine B, et al. Interpreting indirect\\ntreatment comparisons and network meta-analysis for health-\\ncare decision making: report of the ISPOR Task Force on Indi-\\nrect Treatment Comparisons Good Research Practices: part 1.\\nValue Health 2011;14:417–428.\\n11.\\nHiggins JPT, Thomas J, Chandler J, eds. Cochrane handbook\\nfor systematic reviews of interventions version 6.0 (updated July\\n2019). Cochrane, 2019. Available from www.training.cochrane.\\norg/handbook. Accessed June 30, 2019.\\n12.\\nMurad MH, Montori VM, Ioannidis JPA, et al. Advanced topics in\\nsystematic reviews: ﬁxed-effects and random-effects models.\\nMcGraw Hill, New York, NY, 2014:507–514.\\n13.\\nDerSimonian R, Laird N. Meta-analysis in clinical trials. Control\\nClin Trials 1986;7:177–188.\\n14.\\nHiggins JP, Thompson SG, Deeks JJ, et al. Measuring incon-\\nsistency in meta-analyses. BMJ 2003;327:557–560.\\n15.\\nWhite IR, Barrett JK, Jackson D, et al. Consistency and incon-\\nsistency in network meta-analysis: model estimation using\\nmultivariate\\nmeta-regression.\\nRes\\nSynth\\nMethods\\n2012;\\n3:111–125.\\n16.\\nSalanti G, Ades AE, Ioannidis JP. Graphical methods and\\nnumerical summaries for presenting results from multiple-\\ntreatment meta-analysis: an overview and tutorial. J Clin Epi-\\ndemiol 2011;64:163–171.\\n17.\\nRutgeerts P, Sandborn WJ, Feagan BG, et al. Inﬂiximab for in-\\nduction and maintenance therapy for ulcerative colitis. [Erratum\\nappears in N Engl J Med 2006;354:2200]. N Engl J Med 2005;\\n353:2462–2476.\\n18.\\nJiang XL, Cui HF, Gao J, et al. Low-dose inﬂiximab for induction\\nand maintenance treatment in Chinese patients with moderate\\nto severe active ulcerative colitis. J Clin Gastroenterol 2015;\\n49:582–588.\\n19.\\nXian-Janssen. A study to evaluate the effectiveness and safety\\nof inﬂiximab in Chinese patients with active ulcerative colitis.\\n2015.\\nAvailable\\nfrom:\\nhttps://clinicaltrials.gov/ct2/show/\\nNCT01551290. Accessed June 5, 2017.\\n20.\\nReinisch W, Sandborn WJ, Hommes DW, et al. Adalimumab for\\ninduction of clinical remission in moderately to severely active\\nulcerative colitis: results of a randomised controlled trial. Gut\\n2011;60:780–787.\\n2190 Singh et al\\nClinical Gastroenterology and Hepatology Vol. 18, No. 10\\n', metadata={'source': '/mnt/c/Users/QUAN/Desktop/medical-chatbot/data/document_store/uc/PIIS1542356520300446.pdf', 'file_path': '/mnt/c/Users/QUAN/Desktop/medical-chatbot/data/document_store/uc/PIIS1542356520300446.pdf', 'page': 11, 'total_pages': 19, 'format': 'PDF 1.7', 'title': 'First- and Second-Line Pharmacotherapies for Patients With Moderate to Severely Active Ulcerative Colitis: An Updated Network Meta-Analysis', 'author': 'Siddharth Singh', 'subject': 'Clinical Gastroenterology and Hepatology, 18 (2020) 2179-2197. doi:10.1016/j.cgh.2020.01.008', 'keywords': '', 'creator': 'Elsevier', 'producer': 'Acrobat Distiller 8.1.0 (Windows)', 'creationDate': \"D:20200816062640+05'30'\", 'modDate': \"D:20200816062734+05'30'\", 'trapped': '', 'modal': 'text'})],\n",
              " 'question': '40 year old male with newly diagnosed moderate UC and articular extraintestinal manifestations',\n",
              " 'intermediate_steps': ['There is relevant information in the document for the treatment of moderate-to-severe ulcerative colitis using biological drugs. The document discusses the efficacy and safety of biologics and small molecule drugs for the treatment of patients with moderate-to-severe ulcerative colitis. It includes a systematic review and network meta-analysis of studies assessing the induction and maintenance therapies for ulcerative colitis. The document compares the relative efficacy and safety of different biologics and small molecule drugs, including infliximab, adalimumab, golimumab, vedolizumab, ustekinumab, etrolizumab, tofacitinib, filgotinib, and ozanimod. It also ranks these agents based on their performance in inducing clinical remission and their safety profiles. This information can help clinicians in positioning drugs in treatment algorithms for patients with moderate-to-severe ulcerative colitis.',\n",
              "  'The text does not provide any relevant information for the treatment of a patient with moderate UC and articular extraintestinal manifestations using biological drugs.',\n",
              "  'The text does not provide specific information about the treatment of patients with ulcerative colitis and extraintestinal manifestations.',\n",
              "  'The text provided does not contain any relevant information about the treatment of moderate to severe ulcerative colitis using biological drugs for a patient with articular extraintestinal manifestations.',\n",
              "  'The given text does not provide any relevant information about the treatment of moderate to severe ulcerative colitis (UC) using biological drugs for a patient with articular extraintestinal manifestations.',\n",
              "  'In our network meta-analysis, no difference in adverse events and serious adverse events between active interventions was observed. Upadacitinib ranked highest when considering adverse events. Vedolizumab ranked lowest for both adverse events and serious adverse events. All interventions were significantly superior to placebo in maintaining clinical remission in our direct, pairwise meta-analysis of treat-straight-through studies. Vedolizumab was significantly superior to adalimumab for the maintenance of clinical remission in our network meta-analysis. Vedolizumab ranked highest for the maintenance of clinical remission. Vedolizumab was significantly superior to adalimumab in maintaining endoscopic improvement. Vedolizumab ranked highest for the maintenance of endoscopic improvement.',\n",
              "  'In our network meta-analysis, no active treatment showed significant differences with each other in the maintenance of steroid-free remission. However, infliximab ranked highest for the maintenance of steroid-free remission in treat-straight-through studies.\\n\\nAll active interventions, except for golimumab 100 mg, etrolizumab, and filgotinib 100 mg, were significantly superior to placebo in maintaining clinical remission in our direct, pairwise meta-analysis of studies with a randomised responders design.\\n\\nWhen evaluating the maintenance of endoscopic improvement, all interventions were significantly superior to placebo, except for filgotinib 100 mg. In our network meta-analysis, upadacitinib 30 mg was significantly superior to all other treatments, except for upadacitinib 15 mg, in the maintenance of endoscopic improvement.\\n\\nIn our evaluation of the maintenance of steroid-free remission, all interventions but filgotinib 100 mg, golimumab, and etrolizumab were significantly superior to placebo in our direct, pairwise meta-analysis. Tofacitinib and subcutaneous vedolizumab were significantly superior to golimumab. Tofacitinib was also significantly superior to etrolizumab. Upadacitinib 30 mg and upadacitinib 15 mg were significantly superior to ozanimod and golimumab. Tofacitinib ranked highest for the maintenance of steroid-free remission in randomised responders trials.\\n\\nFor the induction of clinical remission in biologic-naive patients, all interventions, except for filgotinib 100 mg, were superior to placebo in our pairwise, direct meta-analysis. In our network meta-analysis, infliximab and ozanimod ranked the highest for the induction of clinical remission among biologic-naive patients.\\n\\nFor the induction of endoscopic improvement in biologic-naive patients, all interventions, except for filgotinib 100 mg, were significantly superior to placebo in our direct, pairwise meta-analysis. Ustekinumab ranked highest for the induction of endoscopic improvement in biologic-naive patients.\\n\\nIn biologic-exposed patients, only ustekinumab, tofacitinib, and filgotinib 200 mg were significantly superior to placebo in the induction of clinical remission. Tofacitinib and ustekinumab were significantly superior to adalimumab and vedolizumab. Tofacitinib and ustekinumab ranked highest for the induction of clinical remission in biologic-exposed patients.\\n\\nFor the induction of endoscopic improvement in biologic-exposed patients, only tofacitinib and ustekinumab were significantly superior to placebo. Tofacitinib ranked highest for the induction of endoscopic improvement in biologic-exposed patients.',\n",
              "  'There is no relevant information in the provided text regarding the treatment of moderate UC with biological drugs in patients with articular extraintestinal manifestations.',\n",
              "  'There is no relevant information in the provided text regarding the treatment of moderate to severe ulcerative colitis (UC) with biological drugs for a patient with articular extraintestinal manifestations.',\n",
              "  'Although the provided text does not specifically mention the treatment of moderate to severe ulcerative colitis (UC) using biological drugs, it does provide valuable information on the importance of early diagnosis and treatment in inflammatory bowel diseases (IBDs) such as UC. It emphasizes that early management of IBD, including both diagnosis and treatment, is critical to improve quality of life and prevent complications.\\n\\nAdditionally, the text mentions that IBDs are chronic, progressive, immune-mediated diseases that have no cure. It highlights the significant morbidity and complications associated with IBD, including strictures, fistulas, infections, and cancer. It also mentions that in children, IBD can result in growth impairment and pubertal delays.\\n\\nFurthermore, the text discusses the heterogeneity of IBD, with severity ranging from mild to severe and symptoms ranging from mild to debilitating. It emphasizes the importance of risk stratification of disease severity based on clinical, demographic, and serologic markers to guide the selection of first-line therapy.\\n\\nWhile the text does not specifically address the treatment of UC with biological drugs, it provides a broader understanding of the importance of early diagnosis and treatment in IBDs, which can be relevant in the management of a patient with newly diagnosed moderate UC and extraintestinal manifestations.',\n",
              "  \"The symptoms associated with IBD can be waxing and waning, but the underlying systemic inflammation can lead to progressive, cumulative, and often irreversible intestinal damage and risk of complications if not treated adequately. Complications associated with ongoing inflammation in UC include loss of colonic and anorectal function, surgery, and colorectal cancer. Other complications include anemia, nutritional deficiencies, loss of bone density, and progressive loss of quality of life. \\n\\nEarly management can alter disease course and prevent complications. Data have consistently demonstrated that long-term IBD complications are mitigated by early treatment and remission. In the long-term follow-up data from the CALM trial, patients with early CD who achieved deep remission, compared to those who did not, had a significantly lower risk of new fistulas, abscesses, hospitalization, or surgery for CD during a median 3 years' follow-up. \\n\\nTherefore, it is important to start treatment early and aim for remission in order to prevent complications and improve long-term outcomes for patients with UC. Biological drugs may be considered as a treatment option for moderate to severe UC, especially in patients with extraintestinal manifestations.\",\n",
              "  'Relevant text:\\n- Disease activity at presentation can range from mild to severe and, as discussed, symptoms may be mild to none.\\n- A useful adjunct to symptom-based criteria is fecal calprotectin (FC), a stool marker of inflammation; in a large meta-analysis, FC ≥ 40 mg/g carried a ≤1% probability of IBD, effectively excluding the diagnosis of IBD.\\n- CD and UC phenotype and disease activity at initial presentation can vary widely from limited and mild to extensive and complicated. Certain baseline clinical features are associated with a more aggressive disease course with higher risk of progression and complications. In higher-risk patients, early control of inflammation with immune-modifying therapies is critical.\\n- There are significant differences in IBD phenotype and outcomes based on race and ethnicity, likely due to a multitude of factors, both social and biologic. Emergency department use, hospitalization, complicated disease course, and IBD-related disability are more common in minority and lower socioeconomic status groups.\\n- There are increasing data on sex-based differences in IBD phenotype and outcomes, which may signal differences in pathogenic pathways and progression. Of note, extraintestinal manifestations (EIMs) consistently tend to be more common in female patients.',\n",
              "  'In UC, corresponding predictors of aggressive disease advised by the International Organization for the Study of Inflammatory Bowel Disease include active colonic ulcers and prior use of biologics. Extensive colitis, deep ulcers, need for corticosteroids, hospitalization, Clostridium difficile, and cytomegalovirus infection also indicate higher colectomy risk. Of note, disease extension from limited disease to extensive or pancolitis is associated with worse prognosis. In addition, co-occurrence of other immune-mediated inflammatory diseases can occur, most commonly with psoriasis and asthma.',\n",
              "  'Of routinely available serologic biomarkers, CRP, an interleukin-6–dependent acute-phase reactant, is correlated with inflammatory burden, albeit nonspecifically, and is used for IBD risk stratification, with higher CRP (≥5 mg/dL) consistent with moderate to severe disease. Additionally, commercially available IBD serologic markers can help with prognostication. These include perinuclear antineutrophil antibody and several antimicrobial antibodies, notably anti-Saccharomyces cerevisiae antibody, antibody to Escherichia coli outer-membrane porin C, and antibody to flagellin (CBir1). In the Pediatric RISK Stratification study, a large prospective study of CD, patients positive for 2 or more serologic markers (anti-Saccharomyces cerevisiae antibody, outer-membrane porin C, and/or CBir1) progressed to a penetrating or stricturing complication more quickly than those with only 1 serologic marker, and those receiving anti-TNF in this cohort had a reduced likelihood of progression to penetrating complications, indicating a window to change disease complication.',\n",
              "  'There is no relevant text in this portion of the document for the treatment of moderate UC with biological drugs.',\n",
              "  'In the management of early moderate to severe UC, biological drugs may be considered. Tumor necrosis factor inhibitors (TNFis) such as infliximab (IFX) and adalimumab (ADA) have been shown to be superior to other therapies for moderate UC. Biosimilars of IFX are also approved as less expensive alternatives. Ustekinumab (UST) may be a consideration for risk-averse patients, as it has been associated with a lower risk of serious adverse events and infections. Vedolizumab (VDZ) and UST are effective first-line options with good safety profiles, especially for moderate UC limited to the colon and without high-risk features. It is important to note that response to VDZ may be lower among patients who have been previously exposed to TNFis. Ongoing head-to-head trials will provide further clarification on the positioning of biologics in UC treatment.',\n",
              "  'Combination therapy of a biologic with IMM, best-studied with TNFi, is an important consideration in severe disease, especially penetrating or perianal disease. It is associated with improved outcomes, a decrease in loss of TNFi response, and fewer long-term complications. \\n\\nFor patients with perianal CD, a multidisciplinary approach with early referral to a colorectal surgeon is key to improved outcomes.\\n\\nDietary therapy. Exclusive enteral nutrition (EEN) is the use of polymeric or elemental formula typically for 8–12 weeks to induce remission in CD. European Pediatric Consensus guidelines recommend EEN as the first-line therapy to induce remission in pediatric patients with luminal CD. This is based on numerous randomized controlled trials demonstrating that EEN is as effective as corticosteroids.',\n",
              "  'In UC, mild disease can be managed with oral and/or topical mesalamine therapy, generally with adequate control of disease. For moderate UC, VDZ and UST are effective options, and may be better first-choice options than TNFi, given safety profile. In the VARSITY trial, VDZ was superior to ADA in achieving clinical remission and endoscopic improvement in moderate to severe UC. In case VDZ or UST may not be feasible due to payer preference, TNFi, particularly IFX, is an effective option with good safety profile. Thiopurines may be considered in moderate UC after weighing risks against benefits. In patients with severe UC requiring hospitalization, IFX is the preferred biologic for induction and maintenance of remission, with or without IMM. Combination therapy in the SUCCESS trial was associated with improved clinical outcomes compared to IFX monotherapy. When using IFX as a monotherapy in moderate to severe UC, it is recommended to check early drug concentrations to ensure proper dosing and detecting immunogenicity early. There is no clear benefit of concomitant mesalamine with biologic therapy in UC and it can be stopped in patients escalating to biologics.',\n",
              "  'We recommend identifying an appropriate target for treatment, depending on disease characteristics, availability of resources, and patient preference, and treating to achieve normalization of the target, followed by periodic reassessment. The primary therapeutic goal should be clinical and endoscopic remission. Treatment should be optimized to achieve maximal benefit to the patient, and therapeutic drug monitoring (TDM) may be used to adjust the dose and interval of medication or add a medication to use in combination. TDM is typically used to optimize both thiopurines and biologics. Monitoring inflammatory markers such as fecal calprotectin (FC) and C-reactive protein (CRP) can help maintain the target and predict relapse before clinical symptoms occur. FC, in particular, has been shown to be a viable biomarker for monitoring even in the quiescent state.',\n",
              "  'There is no relevant information in the given text regarding the treatment of moderate to severe ulcerative colitis (UC) using biological drugs for a patient with articular extraintestinal manifestations.',\n",
              "  'There is no relevant text in this portion of the document for the treatment of a patient with moderate UC and articular extraintestinal manifestations using biological drugs.',\n",
              "  'There is no relevant information in the provided text regarding the treatment of moderate to severe ulcerative colitis (UC) using biological drugs for a patient with articular extraintestinal manifestations.',\n",
              "  'Relevant text:\\n\"Abstract:\\nBackground: Biological therapies and small molecules are commonly used in the treatment of moderate to severe ulcerative colitis (UC). However, there is limited evidence comparing the efficacy of these treatments in this patient population.\\nMethods: We conducted a systematic review and network meta-analysis to evaluate the efficacy of biological therapies and small molecules in moderate to severe UC. We included randomized controlled trials (RCTs) that compared these treatments with placebo or conventional therapy. The primary outcome was clinical remission at 8 to 12 weeks.\\nResults: A total of 20 RCTs involving 3,000 patients were included in the analysis. The network meta-analysis showed that biological therapies, including anti-TNF agents and vedolizumab, were more effective than placebo or conventional therapy in achieving clinical remission in moderate to severe UC. Small molecules, such as tofacitinib, also showed efficacy in this patient population.\\nConclusion: Biological therapies, including anti-TNF agents and vedolizumab, as well as small molecules like tofacitinib, are effective treatment options for moderate to severe UC. These findings support the use of these agents in patients with newly diagnosed moderate UC and extraintestinal manifestations.\"\\n\\nNote: The specific biological drugs mentioned in the text are anti-TNF agents (e.g., infliximab, adalimumab) and vedolizumab. Tofacitinib is mentioned as a small molecule option.',\n",
              "  'The text does not provide specific information about the treatment of moderate to severe ulcerative colitis (UC) with biological drugs.',\n",
              "  'The relevant text for the given patient profile is as follows:\\n\\n\"The biological agents available for IBD treatment and their individual characteristics are summarized in Table 1.\"\\n\\n\"The SEAVUE study compared ustekinumab with adalimumab in 386 bio-naïve patients with moderate to severe CD over 52 weeks.\"\\n\\n\"These studies didn\\'t show significant differences in the primary endpoints.\"\\n\\n\"More head to head trials are certainly under way and will help us better position biological agents and small molecules in the treatment algorithm.\"\\n\\n\"Among anti-TNF agents, infliximab remains the most efficient agent in Crohn\\'s disease.\"',\n",
              "  'In CD, a meta-analysis of 9 randomized trials with mixed ﬁrst-line and second line indications conﬁrmed the superiority of inﬂiximab alone for induction (OR 2.8) or in combination with azathioprine for maintenance of remission (OR 3.0) (Hazlewood et al., 2015). A recent pooled analysis of 4 clinical trial programs (EXTEND, UNITY, VERSIFY, CPT-13 BIO-SIMILAR) was presented at ECCO congress 2022 and conﬁrmed that inﬂiximab achieved a higher proportion of 1-year endoscopic healing compared to adalimumab, ustekinumab and vedolizumab in CD patients, but not in bio-naïve patients (Narula et al., 2022).\\n\\nAs second line therapy, it is also important to consider that the efﬁcacy of vedolizumab will be inﬂuenced by previous anti-TNF exposure, a numerical difference was seen in the response to therapy in UC (Feagan et al., 2017) and CD patients (Sands et al., 2017). An impact which was clearly signiﬁcant at week 6 after induction (Sands et al., 2014).\\n\\nIn summary, the most recent meta-analysis in CD which included ustekinumab concluded that inﬂiximab or adalimumab are the best ﬁrst-line agents, and ustekinumab a preferred second-line agent in patients with prior anti-TNF alpha agents’ exposure (Singh et al., 2018b).\\n\\nThere is a mechanistic role for anti-IL 23 agents in TNF refractory IBD patients. During anti TNF treatment, in non-responders compared to responders, there is upregulation of apoptosis resistant IL23p19, IL23R, and IL17 A as demonstrated by studies using immunophenotyping of T cells. (Bek et al., 2016; Schmitt et al., 2019). This phenomenon suggests that ustekinumab (as IL-12/IL-23 inhibitor) and other IL-23 inhibitor agents may have a mechanistic potential in late CD (Eftychi et al., 2019) when an expansion of Th1 and Th17 cells (Veny et al., 2010) may have occurred.',\n",
              "  'There is no relevant information in the provided text regarding the treatment of moderate UC with biological drugs in a patient with articular extraintestinal manifestations.',\n",
              "  'Relevant text:\\n\"Since their approval in IBD, inﬂiximab and later the other anti-TNF agents represent the best treatment choice in IBD patient with rheumatological manifestations, supported by multiple trials in both CD and UC, in addition to their well-established efﬁcacies in most rheumatological indications (Herfarth et al., 2002; Generini et al., 2004; Lofberg et al., 2012; Louis et al., 2018).\"\\n\\n\"Vedolizumab may not represent the most appropriate biologic in presence of articular manifestations of IBD. Indeed, by virtue of its binding to α4β7 integrin, this antibody may not impede the entry of proinﬂammatory cells in joints. In fact, it may even contribute to higher inﬂux of these cells to distant sites, as suggested by Diaz et al., who observed de novo extraintestinal manifestations in vedolizumab-treated IBD patients (Diaz et al., 2020). An increased incidence of extra-intestinal manifestation in vedolizumab treated IBD patients have also been observed, compared to anti-TNF agents in a large American claims database (Dubinsky et al., 2018). However, by improving disease activity these drugs could still have an indirect impact on associated EIM, mostly peripheral arthritis, as suggested by the recent EMOTIVE retrospective analysis (Kopylov et al., 2021).\"\\n\\nTherefore, in the case of a patient with newly diagnosed moderate UC and articular extraintestinal manifestations, treatment with anti-TNF agents such as inﬂiximab would be the best choice. Vedolizumab may not be the most appropriate biologic in this case.',\n",
              "  'The given portion of the document does not contain any relevant information about the treatment of moderate to severe ulcerative colitis (UC) using biological drugs for a patient with articular extraintestinal manifestations.',\n",
              "  'Out of 48 trials identified, 23 were included. Across all outcomes and regardless of prior biologic exposure, ITT efficacy rates were highest for upadacitinib, owing to its highest ranking for all efficacy outcomes in induction and for all but clinical remission during maintenance among bio-naive induction responders. For all advanced therapies versus placebo, there were no significant differences in serious AEs or serious infections across therapies. For all AEs, golimumab had higher odds versus placebo during maintenance; for discontinuation due to AEs, upadacitinib had lower odds versus placebo during induction, while ustekinumab and vedolizumab had lower odds versus placebo during maintenance.',\n",
              "  'The relevant text from the document is as follows:\\n\\n\"The advanced therapeutic armamentarium for adults with moderately to severely active UC is rapidly evolving. For over 20 years, biologics targeting specific inflammatory pathways have been the mainstay, beginning with those targeting tumor necrosis alpha (TNFi; eg, infliximab [INF], adalimumab [ADA], and golimumab [GOL]) followed by biologics with other modes of action (eg, vedolizumab [VED] and ustekinumab [UST]). However, treatment limitations for moderately to severely active UC remain, including primary nonresponse, secondary loss of response, immunogenicity, and parenteral administration.2 To overcome these limitations, there has been increasing interest in small molecule drugs (SMDs), which can be orally administered and lack immunogenicity.3 Of particular interest are SMDs that inhibit the Janus kinase (JAK)-mediated inflammatory pathway, of which tofacitinib (TOF), filgotinib (FIL), and upadacitinib (UPA) are currently approved for use in adults with moderately to severely active UC who have had an inadequate response or intolerance to conventional therapy and/or TNFi’s.4–7 All orally administered, TOF, FIL, and UPA are distinguished by their JAK selectivity: TOF is a pan-JAK inhibitor while FIL and UPA are approximately 30- and 60-fold selective for JAK1 over JAK2, respectively.8,9 In human cellular assays, UPA preferentially inhibits signaling by JAK1 or JAK1/3 with functional selectivity over cytokine receptors that signal via pairs of JAK2.5 In addition, ozanimod (OZA), a SMD that selectively modulates the sphingosine-1-phosphase receptor (S1P), is also approved for use in UC.10\"\\n\\nThis text provides information on the use of biologics and small molecule drugs (SMDs) for the treatment of moderately to severely active UC. It mentions specific biologics such as infliximab, adalimumab, golimumab, vedolizumab, and ustekinumab. It also discusses the use of small molecule drugs that inhibit the Janus kinase (JAK)-mediated inflammatory pathway, including tofacitinib, filgotinib, upadacitinib, and ozanimod. These drugs are approved for use in adults with moderately to severely active UC who have had an inadequate response or intolerance to conventional therapy and/or TNFi\\'s.',\n",
              "  'The given portion of the document does not provide any relevant information about the treatment of moderate to severe ulcerative colitis (UC) using biological drugs for a patient with articular extraintestinal manifestations.',\n",
              "  'There is no relevant information in the given portion of the document for the treatment of a patient with moderate UC and articular extraintestinal manifestations using biological drugs.',\n",
              "  'There is no relevant information in the provided text regarding the treatment of moderate UC with biological drugs for a patient with articular extraintestinal manifestations.',\n",
              "  'There is no relevant information in the given text regarding the treatment of moderate UC with biological drugs for a patient with articular extraintestinal manifestations.',\n",
              "  'There is no relevant information in the provided text for the treatment of a patient with newly diagnosed moderate UC and articular extraintestinal manifestations using biological drugs.',\n",
              "  'There is no relevant text in the given portion of the document for the treatment of a patient with newly diagnosed moderate UC and articular extraintestinal manifestations using biological drugs.',\n",
              "  'There is no relevant information in the given text regarding the treatment of moderate UC with biological drugs for a patient with articular extraintestinal manifestations.',\n",
              "  'There is no relevant text in the provided portion of the document for the treatment of a patient with newly diagnosed moderate UC and articular extraintestinal manifestations using biological drugs.',\n",
              "  'There is no relevant information in the provided text regarding the treatment of moderate to severe ulcerative colitis with biological drugs for a patient with articular extraintestinal manifestations.',\n",
              "  'There is no relevant information in the provided text regarding the treatment of moderate UC with biological drugs for a patient with articular extraintestinal manifestations.',\n",
              "  'There is no relevant information in the provided text regarding the treatment of moderate UC with biological drugs in patients with articular extraintestinal manifestations.',\n",
              "  'There is no relevant information in the provided text regarding the treatment of moderate UC with biological drugs for a patient with articular extraintestinal manifestations.',\n",
              "  'The present study suggests that UPA 45 mg induction and 30 mg maintenance may be overall highest performing advanced treatment at inducing and maintaining clinical response, clinical remission, and endoscopic improvement in patients with moderately to severely active UC, regardless of prior biologic exposure. It also suggests that the safety profiles of currently approved advanced treatments, to the extent that they can be indirectly assessed with NMA, are generally consistent. As with any indirect comparison, the results presented in the present study should be interpreted with caution and in the context of a patient’s individual needs. However, given the limited evidence from head-to-head trials, these results can help clinicians better understand the growing repertoire of advanced treatments for moderately to severely active UC.',\n",
              "  'In a systematic review and network meta-analysis, the efficacy and safety of different first-line and second-line agents for the treatment of moderate to severely active ulcerative colitis were compared. In biologic-naïve patients, infliximab was ranked highest for induction of clinical remission and endoscopic improvement. In patients with prior exposure to TNF antagonists, ustekinumab and tofacitinib were ranked highest for induction of clinical remission and were superior to vedolizumab and adalimumab. Vedolizumab had the lowest risk of infections in maintenance trials. However, more trials of direct comparisons are needed to inform clinical decision making with greater confidence.',\n",
              "  'The relevant text from the document is as follows:\\n\\n\"Inﬂiximab was ranked highest in biologic-naïve pa-\\ntients, and ustekinumab and tofacitinib were ranked\\nhighest in patients with prior exposure to TNF an-\\ntagonists, for induction of remission and endoscopic\\nimprovement.\"\\n\\nBased on this information, for a patient with newly diagnosed moderate UC, inﬂiximab would be a suitable first-line therapy. However, if the patient has prior exposure to TNF antagonists, ustekinumab or tofacitinib would be more appropriate.',\n",
              "  'There is no relevant information in the provided text regarding the treatment of moderate to severe ulcerative colitis (UC) using biological drugs for a patient with articular extraintestinal manifestations.',\n",
              "  'There is no relevant text in the given portion of the document for the treatment of a patient with newly diagnosed moderate UC and articular extraintestinal manifestations using biological drugs.',\n",
              "  'There is no relevant information in the given text regarding the treatment of moderate to severe ulcerative colitis (UC) with biological drugs for a patient with articular extraintestinal manifestations.',\n",
              "  'From the given portion of the document, there is no specific information about the treatment of moderate to severe ulcerative colitis (UC) using biological drugs for patients with articular extraintestinal manifestations.',\n",
              "  \"Induction Therapy for Moderate-Severe Ulcerative Colitis:\\n\\nIn a study evaluating first-line pharmacotherapy for moderate-severe ulcerative colitis, various biological drugs were assessed for their effectiveness in inducing clinical remission. The study included 15 randomized controlled trials (RCTs) involving 3747 biologic-naïve patients with moderate-severe UC. The drugs evaluated were inﬂiximab, adalimumab, golimumab, vedolizumab, tofacitinib, and ustekinumab.\\n\\nThe results showed that all of these agents were superior to placebo in inducing clinical remission. In particular, inﬂiximab and vedolizumab had the strongest effect size. On network meta-analysis, there was moderate confidence in the estimates supporting the use of these drugs, as well as adalimumab, golimumab, tofacitinib, and ustekinumab, for induction of clinical remission in biologic-naïve patients.\\n\\nBased on the rankings, inﬂiximab was ranked highest for inducing clinical remission in biologic-naïve patients with moderate-severe UC.\\n\\nTherefore, considering the patient's moderate UC and the need for induction therapy, biological drugs such as inﬂiximab may be a suitable treatment option. However, it is important to consult with a healthcare professional to determine the most appropriate treatment plan for the individual patient.\",\n",
              "  'There is no relevant information in the given text regarding the treatment of moderate UC with biological drugs in patients with articular extraintestinal manifestations.',\n",
              "  'There is no relevant information in the given text regarding the treatment of moderate to severe ulcerative colitis with biological drugs for a patient with articular extraintestinal manifestations.',\n",
              "  'There is no relevant information in the given text regarding the treatment of moderate UC with biological drugs for a patient with articular extraintestinal manifestations.',\n",
              "  'There is no relevant information in the provided text regarding the treatment of moderate to severe ulcerative colitis using biological drugs for a patient with articular extraintestinal manifestations.',\n",
              "  'Integrating ﬁndings from this meta-analysis and other studies, current evidence favors inﬂiximab or vedolizu- mab as the preferred ﬁrst-line agents for moderate–severe ulcerative colitis. In patients who fail inﬂiximab, ustekinumab and tofacitinib likely would be most efﬁcacious, and ustekinumab’s superior safety proﬁle may be attractive in light of recent concerns around venous thromboembolism with tofacitinib. However, besides quality of evidence, several other factors including a balance of risk–beneﬁt proﬁle, speciﬁc patient attributes (age, comorbid conditions including rheumatic or dermatologic diseases, and so forth), clinical judgment and experience of the treating physicians, values and preferences of patients (dosing route, regimen, acceptability of risk–beneﬁt trade-offs, and so forth), as well as the costs/resources available, are important to facilitate shared decision making, in developing a personalized treatment strategy for each patient, and shape health care policy on positioning different agents.'],\n",
              " 'output_text': \"Based on the information provided, the top 2 choices of biological drugs for the treatment of moderate UC with articular extraintestinal manifestations are:\\n\\n1. Inﬂiximab:\\n   - Advantages:\\n     - Inﬂiximab has been shown to be effective in inducing clinical remission in biologic-naïve patients with moderate-severe UC.\\n     - It is a well-established treatment option for UC and has been used for many years.\\n     - Inﬂiximab has a strong effect size and is ranked highest for inducing clinical remission in biologic-naïve patients.\\n   - Disadvantages:\\n     - Inﬂiximab is administered intravenously, which may be less convenient for some patients compared to other treatment options.\\n     - There is a risk of infusion reactions and other side effects associated with inﬂiximab treatment.\\n     - Regular monitoring and follow-up visits are required to assess response and manage any potential side effects.\\n\\n2. Vedolizumab:\\n   - Advantages:\\n     - Vedolizumab has been shown to be effective in inducing clinical remission in biologic-naïve patients with moderate-severe UC.\\n     - It is a gut-selective agent, which may be beneficial for patients with extraintestinal manifestations.\\n     - Vedolizumab has a good safety profile and is associated with a lower risk of infections compared to other biologics.\\n   - Disadvantages:\\n     - Response to vedolizumab may be lower in patients who have been previously exposed to TNF inhibitors.\\n     - It may not be the most appropriate biologic for patients with articular manifestations of UC, as it may not impede the entry of proinflammatory cells into the joints.\\n     - There is a risk of infusion reactions and other side effects associated with vedolizumab treatment.\\n\\nIt is important to note that the choice of treatment should be individualized based on the patient's specific characteristics, preferences, and the clinical judgment of the healthcare provider. It is recommended to consult with a gastroenterologist or healthcare professional experienced in the management of UC to determine the most appropriate treatment plan for the patient.\"}"
            ]
          },
          "execution_count": 105,
          "metadata": {},
          "output_type": "execute_result"
        }
      ],
      "source": [
        "map_reduce_qa_chain({\"input_documents\": documents, \"question\": test_cases[0]})"
      ]
    },
    {
      "attachments": {},
      "cell_type": "markdown",
      "metadata": {},
      "source": [
        "### Summarization"
      ]
    },
    {
      "cell_type": "code",
      "execution_count": null,
      "metadata": {},
      "outputs": [],
      "source": []
    },
    {
      "cell_type": "code",
      "execution_count": 153,
      "metadata": {},
      "outputs": [
        {
          "name": "stdout",
          "output_type": "stream",
          "text": [
            "37\n"
          ]
        }
      ],
      "source": [
        "documents = load_single_document(\n",
        "    os.path.join(MAIN_DIR, \"data/document_store/uc/juillerat 2022.pdf\")\n",
        ")\n",
        "\n",
        "text_splitter = RecursiveCharacterTextSplitter(\n",
        "    chunk_size=2500, chunk_overlap=500\n",
        ")\n",
        "texts = text_splitter.split_documents(documents)\n",
        "print(len(texts))"
      ]
    },
    {
      "cell_type": "code",
      "execution_count": 155,
      "metadata": {},
      "outputs": [
        {
          "data": {
            "text/plain": [
              "2479"
            ]
          },
          "execution_count": 155,
          "metadata": {},
          "output_type": "execute_result"
        }
      ],
      "source": [
        "len(texts[0].page_content)"
      ]
    },
    {
      "cell_type": "code",
      "execution_count": 162,
      "metadata": {},
      "outputs": [
        {
          "ename": "KeyboardInterrupt",
          "evalue": "",
          "output_type": "error",
          "traceback": [
            "\u001b[0;31m---------------------------------------------------------------------------\u001b[0m",
            "\u001b[0;31mKeyboardInterrupt\u001b[0m                         Traceback (most recent call last)",
            "Cell \u001b[0;32mIn[162], line 24\u001b[0m\n\u001b[1;32m     13\u001b[0m BULLET_POINT_PROMPT \u001b[39m=\u001b[39m PromptTemplate(template\u001b[39m=\u001b[39mprompt_template,\n\u001b[1;32m     14\u001b[0m                         input_variables\u001b[39m=\u001b[39m[\u001b[39m\"\u001b[39m\u001b[39mtext\u001b[39m\u001b[39m\"\u001b[39m])\n\u001b[1;32m     16\u001b[0m chain \u001b[39m=\u001b[39m load_summarize_chain(ChatOpenAI(model_name\u001b[39m=\u001b[39m\u001b[39m\"\u001b[39m\u001b[39mgpt-3.5-turbo\u001b[39m\u001b[39m\"\u001b[39m,\n\u001b[1;32m     17\u001b[0m                                         openai_api_key\u001b[39m=\u001b[39mkeys[\u001b[39m\"\u001b[39m\u001b[39mOPENAI_API_KEY\u001b[39m\u001b[39m\"\u001b[39m],\n\u001b[1;32m     18\u001b[0m                                         max_tokens\u001b[39m=\u001b[39m\u001b[39m1024\u001b[39m,\n\u001b[0;32m   (...)\u001b[0m\n\u001b[1;32m     21\u001b[0m                              map_prompt\u001b[39m=\u001b[39mBULLET_POINT_PROMPT\n\u001b[1;32m     22\u001b[0m )\n\u001b[0;32m---> 24\u001b[0m output_summary \u001b[39m=\u001b[39m chain\u001b[39m.\u001b[39;49mrun(texts)\n",
            "File \u001b[0;32m/mnt/c/Users/QUAN/Desktop/medical-chatbot/venv/lib/python3.8/site-packages/langchain/chains/base.py:236\u001b[0m, in \u001b[0;36mChain.run\u001b[0;34m(self, callbacks, *args, **kwargs)\u001b[0m\n\u001b[1;32m    234\u001b[0m     \u001b[39mif\u001b[39;00m \u001b[39mlen\u001b[39m(args) \u001b[39m!=\u001b[39m \u001b[39m1\u001b[39m:\n\u001b[1;32m    235\u001b[0m         \u001b[39mraise\u001b[39;00m \u001b[39mValueError\u001b[39;00m(\u001b[39m\"\u001b[39m\u001b[39m`run` supports only one positional argument.\u001b[39m\u001b[39m\"\u001b[39m)\n\u001b[0;32m--> 236\u001b[0m     \u001b[39mreturn\u001b[39;00m \u001b[39mself\u001b[39;49m(args[\u001b[39m0\u001b[39;49m], callbacks\u001b[39m=\u001b[39;49mcallbacks)[\u001b[39mself\u001b[39m\u001b[39m.\u001b[39moutput_keys[\u001b[39m0\u001b[39m]]\n\u001b[1;32m    238\u001b[0m \u001b[39mif\u001b[39;00m kwargs \u001b[39mand\u001b[39;00m \u001b[39mnot\u001b[39;00m args:\n\u001b[1;32m    239\u001b[0m     \u001b[39mreturn\u001b[39;00m \u001b[39mself\u001b[39m(kwargs, callbacks\u001b[39m=\u001b[39mcallbacks)[\u001b[39mself\u001b[39m\u001b[39m.\u001b[39moutput_keys[\u001b[39m0\u001b[39m]]\n",
            "File \u001b[0;32m/mnt/c/Users/QUAN/Desktop/medical-chatbot/venv/lib/python3.8/site-packages/langchain/chains/base.py:140\u001b[0m, in \u001b[0;36mChain.__call__\u001b[0;34m(self, inputs, return_only_outputs, callbacks)\u001b[0m\n\u001b[1;32m    138\u001b[0m \u001b[39mexcept\u001b[39;00m (\u001b[39mKeyboardInterrupt\u001b[39;00m, \u001b[39mException\u001b[39;00m) \u001b[39mas\u001b[39;00m e:\n\u001b[1;32m    139\u001b[0m     run_manager\u001b[39m.\u001b[39mon_chain_error(e)\n\u001b[0;32m--> 140\u001b[0m     \u001b[39mraise\u001b[39;00m e\n\u001b[1;32m    141\u001b[0m run_manager\u001b[39m.\u001b[39mon_chain_end(outputs)\n\u001b[1;32m    142\u001b[0m \u001b[39mreturn\u001b[39;00m \u001b[39mself\u001b[39m\u001b[39m.\u001b[39mprep_outputs(inputs, outputs, return_only_outputs)\n",
            "File \u001b[0;32m/mnt/c/Users/QUAN/Desktop/medical-chatbot/venv/lib/python3.8/site-packages/langchain/chains/base.py:134\u001b[0m, in \u001b[0;36mChain.__call__\u001b[0;34m(self, inputs, return_only_outputs, callbacks)\u001b[0m\n\u001b[1;32m    128\u001b[0m run_manager \u001b[39m=\u001b[39m callback_manager\u001b[39m.\u001b[39mon_chain_start(\n\u001b[1;32m    129\u001b[0m     {\u001b[39m\"\u001b[39m\u001b[39mname\u001b[39m\u001b[39m\"\u001b[39m: \u001b[39mself\u001b[39m\u001b[39m.\u001b[39m\u001b[39m__class__\u001b[39m\u001b[39m.\u001b[39m\u001b[39m__name__\u001b[39m},\n\u001b[1;32m    130\u001b[0m     inputs,\n\u001b[1;32m    131\u001b[0m )\n\u001b[1;32m    132\u001b[0m \u001b[39mtry\u001b[39;00m:\n\u001b[1;32m    133\u001b[0m     outputs \u001b[39m=\u001b[39m (\n\u001b[0;32m--> 134\u001b[0m         \u001b[39mself\u001b[39;49m\u001b[39m.\u001b[39;49m_call(inputs, run_manager\u001b[39m=\u001b[39;49mrun_manager)\n\u001b[1;32m    135\u001b[0m         \u001b[39mif\u001b[39;00m new_arg_supported\n\u001b[1;32m    136\u001b[0m         \u001b[39melse\u001b[39;00m \u001b[39mself\u001b[39m\u001b[39m.\u001b[39m_call(inputs)\n\u001b[1;32m    137\u001b[0m     )\n\u001b[1;32m    138\u001b[0m \u001b[39mexcept\u001b[39;00m (\u001b[39mKeyboardInterrupt\u001b[39;00m, \u001b[39mException\u001b[39;00m) \u001b[39mas\u001b[39;00m e:\n\u001b[1;32m    139\u001b[0m     run_manager\u001b[39m.\u001b[39mon_chain_error(e)\n",
            "File \u001b[0;32m/mnt/c/Users/QUAN/Desktop/medical-chatbot/venv/lib/python3.8/site-packages/langchain/chains/combine_documents/base.py:84\u001b[0m, in \u001b[0;36mBaseCombineDocumentsChain._call\u001b[0;34m(self, inputs, run_manager)\u001b[0m\n\u001b[1;32m     82\u001b[0m \u001b[39m# Other keys are assumed to be needed for LLM prediction\u001b[39;00m\n\u001b[1;32m     83\u001b[0m other_keys \u001b[39m=\u001b[39m {k: v \u001b[39mfor\u001b[39;00m k, v \u001b[39min\u001b[39;00m inputs\u001b[39m.\u001b[39mitems() \u001b[39mif\u001b[39;00m k \u001b[39m!=\u001b[39m \u001b[39mself\u001b[39m\u001b[39m.\u001b[39minput_key}\n\u001b[0;32m---> 84\u001b[0m output, extra_return_dict \u001b[39m=\u001b[39m \u001b[39mself\u001b[39;49m\u001b[39m.\u001b[39;49mcombine_docs(\n\u001b[1;32m     85\u001b[0m     docs, callbacks\u001b[39m=\u001b[39;49m_run_manager\u001b[39m.\u001b[39;49mget_child(), \u001b[39m*\u001b[39;49m\u001b[39m*\u001b[39;49mother_keys\n\u001b[1;32m     86\u001b[0m )\n\u001b[1;32m     87\u001b[0m extra_return_dict[\u001b[39mself\u001b[39m\u001b[39m.\u001b[39moutput_key] \u001b[39m=\u001b[39m output\n\u001b[1;32m     88\u001b[0m \u001b[39mreturn\u001b[39;00m extra_return_dict\n",
            "File \u001b[0;32m/mnt/c/Users/QUAN/Desktop/medical-chatbot/venv/lib/python3.8/site-packages/langchain/chains/combine_documents/map_reduce.py:144\u001b[0m, in \u001b[0;36mMapReduceDocumentsChain.combine_docs\u001b[0;34m(self, docs, token_max, callbacks, **kwargs)\u001b[0m\n\u001b[1;32m    132\u001b[0m \u001b[39mdef\u001b[39;00m \u001b[39mcombine_docs\u001b[39m(\n\u001b[1;32m    133\u001b[0m     \u001b[39mself\u001b[39m,\n\u001b[1;32m    134\u001b[0m     docs: List[Document],\n\u001b[0;32m   (...)\u001b[0m\n\u001b[1;32m    137\u001b[0m     \u001b[39m*\u001b[39m\u001b[39m*\u001b[39mkwargs: Any,\n\u001b[1;32m    138\u001b[0m ) \u001b[39m-\u001b[39m\u001b[39m>\u001b[39m Tuple[\u001b[39mstr\u001b[39m, \u001b[39mdict\u001b[39m]:\n\u001b[1;32m    139\u001b[0m \u001b[39m    \u001b[39m\u001b[39m\"\"\"Combine documents in a map reduce manner.\u001b[39;00m\n\u001b[1;32m    140\u001b[0m \n\u001b[1;32m    141\u001b[0m \u001b[39m    Combine by mapping first chain over all documents, then reducing the results.\u001b[39;00m\n\u001b[1;32m    142\u001b[0m \u001b[39m    This reducing can be done recursively if needed (if there are many documents).\u001b[39;00m\n\u001b[1;32m    143\u001b[0m \u001b[39m    \"\"\"\u001b[39;00m\n\u001b[0;32m--> 144\u001b[0m     results \u001b[39m=\u001b[39m \u001b[39mself\u001b[39;49m\u001b[39m.\u001b[39;49mllm_chain\u001b[39m.\u001b[39;49mapply(\n\u001b[1;32m    145\u001b[0m         \u001b[39m# FYI - this is parallelized and so it is fast.\u001b[39;49;00m\n\u001b[1;32m    146\u001b[0m         [{\u001b[39mself\u001b[39;49m\u001b[39m.\u001b[39;49mdocument_variable_name: d\u001b[39m.\u001b[39;49mpage_content, \u001b[39m*\u001b[39;49m\u001b[39m*\u001b[39;49mkwargs} \u001b[39mfor\u001b[39;49;00m d \u001b[39min\u001b[39;49;00m docs],\n\u001b[1;32m    147\u001b[0m         callbacks\u001b[39m=\u001b[39;49mcallbacks,\n\u001b[1;32m    148\u001b[0m     )\n\u001b[1;32m    149\u001b[0m     \u001b[39mreturn\u001b[39;00m \u001b[39mself\u001b[39m\u001b[39m.\u001b[39m_process_results(\n\u001b[1;32m    150\u001b[0m         results, docs, token_max, callbacks\u001b[39m=\u001b[39mcallbacks, \u001b[39m*\u001b[39m\u001b[39m*\u001b[39mkwargs\n\u001b[1;32m    151\u001b[0m     )\n",
            "File \u001b[0;32m/mnt/c/Users/QUAN/Desktop/medical-chatbot/venv/lib/python3.8/site-packages/langchain/chains/llm.py:157\u001b[0m, in \u001b[0;36mLLMChain.apply\u001b[0;34m(self, input_list, callbacks)\u001b[0m\n\u001b[1;32m    155\u001b[0m \u001b[39mexcept\u001b[39;00m (\u001b[39mKeyboardInterrupt\u001b[39;00m, \u001b[39mException\u001b[39;00m) \u001b[39mas\u001b[39;00m e:\n\u001b[1;32m    156\u001b[0m     run_manager\u001b[39m.\u001b[39mon_chain_error(e)\n\u001b[0;32m--> 157\u001b[0m     \u001b[39mraise\u001b[39;00m e\n\u001b[1;32m    158\u001b[0m outputs \u001b[39m=\u001b[39m \u001b[39mself\u001b[39m\u001b[39m.\u001b[39mcreate_outputs(response)\n\u001b[1;32m    159\u001b[0m run_manager\u001b[39m.\u001b[39mon_chain_end({\u001b[39m\"\u001b[39m\u001b[39moutputs\u001b[39m\u001b[39m\"\u001b[39m: outputs})\n",
            "File \u001b[0;32m/mnt/c/Users/QUAN/Desktop/medical-chatbot/venv/lib/python3.8/site-packages/langchain/chains/llm.py:154\u001b[0m, in \u001b[0;36mLLMChain.apply\u001b[0;34m(self, input_list, callbacks)\u001b[0m\n\u001b[1;32m    149\u001b[0m run_manager \u001b[39m=\u001b[39m callback_manager\u001b[39m.\u001b[39mon_chain_start(\n\u001b[1;32m    150\u001b[0m     {\u001b[39m\"\u001b[39m\u001b[39mname\u001b[39m\u001b[39m\"\u001b[39m: \u001b[39mself\u001b[39m\u001b[39m.\u001b[39m\u001b[39m__class__\u001b[39m\u001b[39m.\u001b[39m\u001b[39m__name__\u001b[39m},\n\u001b[1;32m    151\u001b[0m     {\u001b[39m\"\u001b[39m\u001b[39minput_list\u001b[39m\u001b[39m\"\u001b[39m: input_list},\n\u001b[1;32m    152\u001b[0m )\n\u001b[1;32m    153\u001b[0m \u001b[39mtry\u001b[39;00m:\n\u001b[0;32m--> 154\u001b[0m     response \u001b[39m=\u001b[39m \u001b[39mself\u001b[39;49m\u001b[39m.\u001b[39;49mgenerate(input_list, run_manager\u001b[39m=\u001b[39;49mrun_manager)\n\u001b[1;32m    155\u001b[0m \u001b[39mexcept\u001b[39;00m (\u001b[39mKeyboardInterrupt\u001b[39;00m, \u001b[39mException\u001b[39;00m) \u001b[39mas\u001b[39;00m e:\n\u001b[1;32m    156\u001b[0m     run_manager\u001b[39m.\u001b[39mon_chain_error(e)\n",
            "File \u001b[0;32m/mnt/c/Users/QUAN/Desktop/medical-chatbot/venv/lib/python3.8/site-packages/langchain/chains/llm.py:79\u001b[0m, in \u001b[0;36mLLMChain.generate\u001b[0;34m(self, input_list, run_manager)\u001b[0m\n\u001b[1;32m     77\u001b[0m \u001b[39m\u001b[39m\u001b[39m\"\"\"Generate LLM result from inputs.\"\"\"\u001b[39;00m\n\u001b[1;32m     78\u001b[0m prompts, stop \u001b[39m=\u001b[39m \u001b[39mself\u001b[39m\u001b[39m.\u001b[39mprep_prompts(input_list, run_manager\u001b[39m=\u001b[39mrun_manager)\n\u001b[0;32m---> 79\u001b[0m \u001b[39mreturn\u001b[39;00m \u001b[39mself\u001b[39;49m\u001b[39m.\u001b[39;49mllm\u001b[39m.\u001b[39;49mgenerate_prompt(\n\u001b[1;32m     80\u001b[0m     prompts, stop, callbacks\u001b[39m=\u001b[39;49mrun_manager\u001b[39m.\u001b[39;49mget_child() \u001b[39mif\u001b[39;49;00m run_manager \u001b[39melse\u001b[39;49;00m \u001b[39mNone\u001b[39;49;00m\n\u001b[1;32m     81\u001b[0m )\n",
            "File \u001b[0;32m/mnt/c/Users/QUAN/Desktop/medical-chatbot/venv/lib/python3.8/site-packages/langchain/chat_models/base.py:143\u001b[0m, in \u001b[0;36mBaseChatModel.generate_prompt\u001b[0;34m(self, prompts, stop, callbacks)\u001b[0m\n\u001b[1;32m    136\u001b[0m \u001b[39mdef\u001b[39;00m \u001b[39mgenerate_prompt\u001b[39m(\n\u001b[1;32m    137\u001b[0m     \u001b[39mself\u001b[39m,\n\u001b[1;32m    138\u001b[0m     prompts: List[PromptValue],\n\u001b[1;32m    139\u001b[0m     stop: Optional[List[\u001b[39mstr\u001b[39m]] \u001b[39m=\u001b[39m \u001b[39mNone\u001b[39;00m,\n\u001b[1;32m    140\u001b[0m     callbacks: Callbacks \u001b[39m=\u001b[39m \u001b[39mNone\u001b[39;00m,\n\u001b[1;32m    141\u001b[0m ) \u001b[39m-\u001b[39m\u001b[39m>\u001b[39m LLMResult:\n\u001b[1;32m    142\u001b[0m     prompt_messages \u001b[39m=\u001b[39m [p\u001b[39m.\u001b[39mto_messages() \u001b[39mfor\u001b[39;00m p \u001b[39min\u001b[39;00m prompts]\n\u001b[0;32m--> 143\u001b[0m     \u001b[39mreturn\u001b[39;00m \u001b[39mself\u001b[39;49m\u001b[39m.\u001b[39;49mgenerate(prompt_messages, stop\u001b[39m=\u001b[39;49mstop, callbacks\u001b[39m=\u001b[39;49mcallbacks)\n",
            "File \u001b[0;32m/mnt/c/Users/QUAN/Desktop/medical-chatbot/venv/lib/python3.8/site-packages/langchain/chat_models/base.py:91\u001b[0m, in \u001b[0;36mBaseChatModel.generate\u001b[0;34m(self, messages, stop, callbacks)\u001b[0m\n\u001b[1;32m     89\u001b[0m \u001b[39mexcept\u001b[39;00m (\u001b[39mKeyboardInterrupt\u001b[39;00m, \u001b[39mException\u001b[39;00m) \u001b[39mas\u001b[39;00m e:\n\u001b[1;32m     90\u001b[0m     run_manager\u001b[39m.\u001b[39mon_llm_error(e)\n\u001b[0;32m---> 91\u001b[0m     \u001b[39mraise\u001b[39;00m e\n\u001b[1;32m     92\u001b[0m llm_output \u001b[39m=\u001b[39m \u001b[39mself\u001b[39m\u001b[39m.\u001b[39m_combine_llm_outputs([res\u001b[39m.\u001b[39mllm_output \u001b[39mfor\u001b[39;00m res \u001b[39min\u001b[39;00m results])\n\u001b[1;32m     93\u001b[0m generations \u001b[39m=\u001b[39m [res\u001b[39m.\u001b[39mgenerations \u001b[39mfor\u001b[39;00m res \u001b[39min\u001b[39;00m results]\n",
            "File \u001b[0;32m/mnt/c/Users/QUAN/Desktop/medical-chatbot/venv/lib/python3.8/site-packages/langchain/chat_models/base.py:83\u001b[0m, in \u001b[0;36mBaseChatModel.generate\u001b[0;34m(self, messages, stop, callbacks)\u001b[0m\n\u001b[1;32m     79\u001b[0m new_arg_supported \u001b[39m=\u001b[39m inspect\u001b[39m.\u001b[39msignature(\u001b[39mself\u001b[39m\u001b[39m.\u001b[39m_generate)\u001b[39m.\u001b[39mparameters\u001b[39m.\u001b[39mget(\n\u001b[1;32m     80\u001b[0m     \u001b[39m\"\u001b[39m\u001b[39mrun_manager\u001b[39m\u001b[39m\"\u001b[39m\n\u001b[1;32m     81\u001b[0m )\n\u001b[1;32m     82\u001b[0m \u001b[39mtry\u001b[39;00m:\n\u001b[0;32m---> 83\u001b[0m     results \u001b[39m=\u001b[39m [\n\u001b[1;32m     84\u001b[0m         \u001b[39mself\u001b[39m\u001b[39m.\u001b[39m_generate(m, stop\u001b[39m=\u001b[39mstop, run_manager\u001b[39m=\u001b[39mrun_manager)\n\u001b[1;32m     85\u001b[0m         \u001b[39mif\u001b[39;00m new_arg_supported\n\u001b[1;32m     86\u001b[0m         \u001b[39melse\u001b[39;00m \u001b[39mself\u001b[39m\u001b[39m.\u001b[39m_generate(m, stop\u001b[39m=\u001b[39mstop)\n\u001b[1;32m     87\u001b[0m         \u001b[39mfor\u001b[39;00m m \u001b[39min\u001b[39;00m messages\n\u001b[1;32m     88\u001b[0m     ]\n\u001b[1;32m     89\u001b[0m \u001b[39mexcept\u001b[39;00m (\u001b[39mKeyboardInterrupt\u001b[39;00m, \u001b[39mException\u001b[39;00m) \u001b[39mas\u001b[39;00m e:\n\u001b[1;32m     90\u001b[0m     run_manager\u001b[39m.\u001b[39mon_llm_error(e)\n",
            "File \u001b[0;32m/mnt/c/Users/QUAN/Desktop/medical-chatbot/venv/lib/python3.8/site-packages/langchain/chat_models/base.py:84\u001b[0m, in \u001b[0;36m<listcomp>\u001b[0;34m(.0)\u001b[0m\n\u001b[1;32m     79\u001b[0m new_arg_supported \u001b[39m=\u001b[39m inspect\u001b[39m.\u001b[39msignature(\u001b[39mself\u001b[39m\u001b[39m.\u001b[39m_generate)\u001b[39m.\u001b[39mparameters\u001b[39m.\u001b[39mget(\n\u001b[1;32m     80\u001b[0m     \u001b[39m\"\u001b[39m\u001b[39mrun_manager\u001b[39m\u001b[39m\"\u001b[39m\n\u001b[1;32m     81\u001b[0m )\n\u001b[1;32m     82\u001b[0m \u001b[39mtry\u001b[39;00m:\n\u001b[1;32m     83\u001b[0m     results \u001b[39m=\u001b[39m [\n\u001b[0;32m---> 84\u001b[0m         \u001b[39mself\u001b[39;49m\u001b[39m.\u001b[39;49m_generate(m, stop\u001b[39m=\u001b[39;49mstop, run_manager\u001b[39m=\u001b[39;49mrun_manager)\n\u001b[1;32m     85\u001b[0m         \u001b[39mif\u001b[39;00m new_arg_supported\n\u001b[1;32m     86\u001b[0m         \u001b[39melse\u001b[39;00m \u001b[39mself\u001b[39m\u001b[39m.\u001b[39m_generate(m, stop\u001b[39m=\u001b[39mstop)\n\u001b[1;32m     87\u001b[0m         \u001b[39mfor\u001b[39;00m m \u001b[39min\u001b[39;00m messages\n\u001b[1;32m     88\u001b[0m     ]\n\u001b[1;32m     89\u001b[0m \u001b[39mexcept\u001b[39;00m (\u001b[39mKeyboardInterrupt\u001b[39;00m, \u001b[39mException\u001b[39;00m) \u001b[39mas\u001b[39;00m e:\n\u001b[1;32m     90\u001b[0m     run_manager\u001b[39m.\u001b[39mon_llm_error(e)\n",
            "File \u001b[0;32m/mnt/c/Users/QUAN/Desktop/medical-chatbot/venv/lib/python3.8/site-packages/langchain/chat_models/openai.py:296\u001b[0m, in \u001b[0;36mChatOpenAI._generate\u001b[0;34m(self, messages, stop, run_manager)\u001b[0m\n\u001b[1;32m    292\u001b[0m     message \u001b[39m=\u001b[39m _convert_dict_to_message(\n\u001b[1;32m    293\u001b[0m         {\u001b[39m\"\u001b[39m\u001b[39mcontent\u001b[39m\u001b[39m\"\u001b[39m: inner_completion, \u001b[39m\"\u001b[39m\u001b[39mrole\u001b[39m\u001b[39m\"\u001b[39m: role}\n\u001b[1;32m    294\u001b[0m     )\n\u001b[1;32m    295\u001b[0m     \u001b[39mreturn\u001b[39;00m ChatResult(generations\u001b[39m=\u001b[39m[ChatGeneration(message\u001b[39m=\u001b[39mmessage)])\n\u001b[0;32m--> 296\u001b[0m response \u001b[39m=\u001b[39m \u001b[39mself\u001b[39;49m\u001b[39m.\u001b[39;49mcompletion_with_retry(messages\u001b[39m=\u001b[39;49mmessage_dicts, \u001b[39m*\u001b[39;49m\u001b[39m*\u001b[39;49mparams)\n\u001b[1;32m    297\u001b[0m \u001b[39mreturn\u001b[39;00m \u001b[39mself\u001b[39m\u001b[39m.\u001b[39m_create_chat_result(response)\n",
            "File \u001b[0;32m/mnt/c/Users/QUAN/Desktop/medical-chatbot/venv/lib/python3.8/site-packages/langchain/chat_models/openai.py:257\u001b[0m, in \u001b[0;36mChatOpenAI.completion_with_retry\u001b[0;34m(self, **kwargs)\u001b[0m\n\u001b[1;32m    253\u001b[0m \u001b[39m@retry_decorator\u001b[39m\n\u001b[1;32m    254\u001b[0m \u001b[39mdef\u001b[39;00m \u001b[39m_completion_with_retry\u001b[39m(\u001b[39m*\u001b[39m\u001b[39m*\u001b[39mkwargs: Any) \u001b[39m-\u001b[39m\u001b[39m>\u001b[39m Any:\n\u001b[1;32m    255\u001b[0m     \u001b[39mreturn\u001b[39;00m \u001b[39mself\u001b[39m\u001b[39m.\u001b[39mclient\u001b[39m.\u001b[39mcreate(\u001b[39m*\u001b[39m\u001b[39m*\u001b[39mkwargs)\n\u001b[0;32m--> 257\u001b[0m \u001b[39mreturn\u001b[39;00m _completion_with_retry(\u001b[39m*\u001b[39;49m\u001b[39m*\u001b[39;49mkwargs)\n",
            "File \u001b[0;32m/mnt/c/Users/QUAN/Desktop/medical-chatbot/venv/lib/python3.8/site-packages/tenacity/__init__.py:289\u001b[0m, in \u001b[0;36mBaseRetrying.wraps.<locals>.wrapped_f\u001b[0;34m(*args, **kw)\u001b[0m\n\u001b[1;32m    287\u001b[0m \u001b[39m@functools\u001b[39m\u001b[39m.\u001b[39mwraps(f)\n\u001b[1;32m    288\u001b[0m \u001b[39mdef\u001b[39;00m \u001b[39mwrapped_f\u001b[39m(\u001b[39m*\u001b[39margs: t\u001b[39m.\u001b[39mAny, \u001b[39m*\u001b[39m\u001b[39m*\u001b[39mkw: t\u001b[39m.\u001b[39mAny) \u001b[39m-\u001b[39m\u001b[39m>\u001b[39m t\u001b[39m.\u001b[39mAny:\n\u001b[0;32m--> 289\u001b[0m     \u001b[39mreturn\u001b[39;00m \u001b[39mself\u001b[39;49m(f, \u001b[39m*\u001b[39;49margs, \u001b[39m*\u001b[39;49m\u001b[39m*\u001b[39;49mkw)\n",
            "File \u001b[0;32m/mnt/c/Users/QUAN/Desktop/medical-chatbot/venv/lib/python3.8/site-packages/tenacity/__init__.py:379\u001b[0m, in \u001b[0;36mRetrying.__call__\u001b[0;34m(self, fn, *args, **kwargs)\u001b[0m\n\u001b[1;32m    377\u001b[0m retry_state \u001b[39m=\u001b[39m RetryCallState(retry_object\u001b[39m=\u001b[39m\u001b[39mself\u001b[39m, fn\u001b[39m=\u001b[39mfn, args\u001b[39m=\u001b[39margs, kwargs\u001b[39m=\u001b[39mkwargs)\n\u001b[1;32m    378\u001b[0m \u001b[39mwhile\u001b[39;00m \u001b[39mTrue\u001b[39;00m:\n\u001b[0;32m--> 379\u001b[0m     do \u001b[39m=\u001b[39m \u001b[39mself\u001b[39;49m\u001b[39m.\u001b[39;49miter(retry_state\u001b[39m=\u001b[39;49mretry_state)\n\u001b[1;32m    380\u001b[0m     \u001b[39mif\u001b[39;00m \u001b[39misinstance\u001b[39m(do, DoAttempt):\n\u001b[1;32m    381\u001b[0m         \u001b[39mtry\u001b[39;00m:\n",
            "File \u001b[0;32m/mnt/c/Users/QUAN/Desktop/medical-chatbot/venv/lib/python3.8/site-packages/tenacity/__init__.py:314\u001b[0m, in \u001b[0;36mBaseRetrying.iter\u001b[0;34m(self, retry_state)\u001b[0m\n\u001b[1;32m    312\u001b[0m is_explicit_retry \u001b[39m=\u001b[39m fut\u001b[39m.\u001b[39mfailed \u001b[39mand\u001b[39;00m \u001b[39misinstance\u001b[39m(fut\u001b[39m.\u001b[39mexception(), TryAgain)\n\u001b[1;32m    313\u001b[0m \u001b[39mif\u001b[39;00m \u001b[39mnot\u001b[39;00m (is_explicit_retry \u001b[39mor\u001b[39;00m \u001b[39mself\u001b[39m\u001b[39m.\u001b[39mretry(retry_state)):\n\u001b[0;32m--> 314\u001b[0m     \u001b[39mreturn\u001b[39;00m fut\u001b[39m.\u001b[39;49mresult()\n\u001b[1;32m    316\u001b[0m \u001b[39mif\u001b[39;00m \u001b[39mself\u001b[39m\u001b[39m.\u001b[39mafter \u001b[39mis\u001b[39;00m \u001b[39mnot\u001b[39;00m \u001b[39mNone\u001b[39;00m:\n\u001b[1;32m    317\u001b[0m     \u001b[39mself\u001b[39m\u001b[39m.\u001b[39mafter(retry_state)\n",
            "File \u001b[0;32m/usr/lib/python3.8/concurrent/futures/_base.py:437\u001b[0m, in \u001b[0;36mFuture.result\u001b[0;34m(self, timeout)\u001b[0m\n\u001b[1;32m    435\u001b[0m     \u001b[39mraise\u001b[39;00m CancelledError()\n\u001b[1;32m    436\u001b[0m \u001b[39melif\u001b[39;00m \u001b[39mself\u001b[39m\u001b[39m.\u001b[39m_state \u001b[39m==\u001b[39m FINISHED:\n\u001b[0;32m--> 437\u001b[0m     \u001b[39mreturn\u001b[39;00m \u001b[39mself\u001b[39;49m\u001b[39m.\u001b[39;49m__get_result()\n\u001b[1;32m    439\u001b[0m \u001b[39mself\u001b[39m\u001b[39m.\u001b[39m_condition\u001b[39m.\u001b[39mwait(timeout)\n\u001b[1;32m    441\u001b[0m \u001b[39mif\u001b[39;00m \u001b[39mself\u001b[39m\u001b[39m.\u001b[39m_state \u001b[39min\u001b[39;00m [CANCELLED, CANCELLED_AND_NOTIFIED]:\n",
            "File \u001b[0;32m/usr/lib/python3.8/concurrent/futures/_base.py:389\u001b[0m, in \u001b[0;36mFuture.__get_result\u001b[0;34m(self)\u001b[0m\n\u001b[1;32m    387\u001b[0m \u001b[39mif\u001b[39;00m \u001b[39mself\u001b[39m\u001b[39m.\u001b[39m_exception:\n\u001b[1;32m    388\u001b[0m     \u001b[39mtry\u001b[39;00m:\n\u001b[0;32m--> 389\u001b[0m         \u001b[39mraise\u001b[39;00m \u001b[39mself\u001b[39m\u001b[39m.\u001b[39m_exception\n\u001b[1;32m    390\u001b[0m     \u001b[39mfinally\u001b[39;00m:\n\u001b[1;32m    391\u001b[0m         \u001b[39m# Break a reference cycle with the exception in self._exception\u001b[39;00m\n\u001b[1;32m    392\u001b[0m         \u001b[39mself\u001b[39m \u001b[39m=\u001b[39m \u001b[39mNone\u001b[39;00m\n",
            "File \u001b[0;32m/mnt/c/Users/QUAN/Desktop/medical-chatbot/venv/lib/python3.8/site-packages/tenacity/__init__.py:382\u001b[0m, in \u001b[0;36mRetrying.__call__\u001b[0;34m(self, fn, *args, **kwargs)\u001b[0m\n\u001b[1;32m    380\u001b[0m \u001b[39mif\u001b[39;00m \u001b[39misinstance\u001b[39m(do, DoAttempt):\n\u001b[1;32m    381\u001b[0m     \u001b[39mtry\u001b[39;00m:\n\u001b[0;32m--> 382\u001b[0m         result \u001b[39m=\u001b[39m fn(\u001b[39m*\u001b[39;49margs, \u001b[39m*\u001b[39;49m\u001b[39m*\u001b[39;49mkwargs)\n\u001b[1;32m    383\u001b[0m     \u001b[39mexcept\u001b[39;00m \u001b[39mBaseException\u001b[39;00m:  \u001b[39m# noqa: B902\u001b[39;00m\n\u001b[1;32m    384\u001b[0m         retry_state\u001b[39m.\u001b[39mset_exception(sys\u001b[39m.\u001b[39mexc_info())  \u001b[39m# type: ignore[arg-type]\u001b[39;00m\n",
            "File \u001b[0;32m/mnt/c/Users/QUAN/Desktop/medical-chatbot/venv/lib/python3.8/site-packages/langchain/chat_models/openai.py:255\u001b[0m, in \u001b[0;36mChatOpenAI.completion_with_retry.<locals>._completion_with_retry\u001b[0;34m(**kwargs)\u001b[0m\n\u001b[1;32m    253\u001b[0m \u001b[39m@retry_decorator\u001b[39m\n\u001b[1;32m    254\u001b[0m \u001b[39mdef\u001b[39;00m \u001b[39m_completion_with_retry\u001b[39m(\u001b[39m*\u001b[39m\u001b[39m*\u001b[39mkwargs: Any) \u001b[39m-\u001b[39m\u001b[39m>\u001b[39m Any:\n\u001b[0;32m--> 255\u001b[0m     \u001b[39mreturn\u001b[39;00m \u001b[39mself\u001b[39;49m\u001b[39m.\u001b[39;49mclient\u001b[39m.\u001b[39;49mcreate(\u001b[39m*\u001b[39;49m\u001b[39m*\u001b[39;49mkwargs)\n",
            "File \u001b[0;32m/mnt/c/Users/QUAN/Desktop/medical-chatbot/venv/lib/python3.8/site-packages/openai/api_resources/chat_completion.py:25\u001b[0m, in \u001b[0;36mChatCompletion.create\u001b[0;34m(cls, *args, **kwargs)\u001b[0m\n\u001b[1;32m     23\u001b[0m \u001b[39mwhile\u001b[39;00m \u001b[39mTrue\u001b[39;00m:\n\u001b[1;32m     24\u001b[0m     \u001b[39mtry\u001b[39;00m:\n\u001b[0;32m---> 25\u001b[0m         \u001b[39mreturn\u001b[39;00m \u001b[39msuper\u001b[39;49m()\u001b[39m.\u001b[39;49mcreate(\u001b[39m*\u001b[39;49margs, \u001b[39m*\u001b[39;49m\u001b[39m*\u001b[39;49mkwargs)\n\u001b[1;32m     26\u001b[0m     \u001b[39mexcept\u001b[39;00m TryAgain \u001b[39mas\u001b[39;00m e:\n\u001b[1;32m     27\u001b[0m         \u001b[39mif\u001b[39;00m timeout \u001b[39mis\u001b[39;00m \u001b[39mnot\u001b[39;00m \u001b[39mNone\u001b[39;00m \u001b[39mand\u001b[39;00m time\u001b[39m.\u001b[39mtime() \u001b[39m>\u001b[39m start \u001b[39m+\u001b[39m timeout:\n",
            "File \u001b[0;32m/mnt/c/Users/QUAN/Desktop/medical-chatbot/venv/lib/python3.8/site-packages/openai/api_resources/abstract/engine_api_resource.py:153\u001b[0m, in \u001b[0;36mEngineAPIResource.create\u001b[0;34m(cls, api_key, api_base, api_type, request_id, api_version, organization, **params)\u001b[0m\n\u001b[1;32m    127\u001b[0m \u001b[39m@classmethod\u001b[39m\n\u001b[1;32m    128\u001b[0m \u001b[39mdef\u001b[39;00m \u001b[39mcreate\u001b[39m(\n\u001b[1;32m    129\u001b[0m     \u001b[39mcls\u001b[39m,\n\u001b[0;32m   (...)\u001b[0m\n\u001b[1;32m    136\u001b[0m     \u001b[39m*\u001b[39m\u001b[39m*\u001b[39mparams,\n\u001b[1;32m    137\u001b[0m ):\n\u001b[1;32m    138\u001b[0m     (\n\u001b[1;32m    139\u001b[0m         deployment_id,\n\u001b[1;32m    140\u001b[0m         engine,\n\u001b[0;32m   (...)\u001b[0m\n\u001b[1;32m    150\u001b[0m         api_key, api_base, api_type, api_version, organization, \u001b[39m*\u001b[39m\u001b[39m*\u001b[39mparams\n\u001b[1;32m    151\u001b[0m     )\n\u001b[0;32m--> 153\u001b[0m     response, _, api_key \u001b[39m=\u001b[39m requestor\u001b[39m.\u001b[39;49mrequest(\n\u001b[1;32m    154\u001b[0m         \u001b[39m\"\u001b[39;49m\u001b[39mpost\u001b[39;49m\u001b[39m\"\u001b[39;49m,\n\u001b[1;32m    155\u001b[0m         url,\n\u001b[1;32m    156\u001b[0m         params\u001b[39m=\u001b[39;49mparams,\n\u001b[1;32m    157\u001b[0m         headers\u001b[39m=\u001b[39;49mheaders,\n\u001b[1;32m    158\u001b[0m         stream\u001b[39m=\u001b[39;49mstream,\n\u001b[1;32m    159\u001b[0m         request_id\u001b[39m=\u001b[39;49mrequest_id,\n\u001b[1;32m    160\u001b[0m         request_timeout\u001b[39m=\u001b[39;49mrequest_timeout,\n\u001b[1;32m    161\u001b[0m     )\n\u001b[1;32m    163\u001b[0m     \u001b[39mif\u001b[39;00m stream:\n\u001b[1;32m    164\u001b[0m         \u001b[39m# must be an iterator\u001b[39;00m\n\u001b[1;32m    165\u001b[0m         \u001b[39massert\u001b[39;00m \u001b[39mnot\u001b[39;00m \u001b[39misinstance\u001b[39m(response, OpenAIResponse)\n",
            "File \u001b[0;32m/mnt/c/Users/QUAN/Desktop/medical-chatbot/venv/lib/python3.8/site-packages/openai/api_requestor.py:220\u001b[0m, in \u001b[0;36mAPIRequestor.request\u001b[0;34m(self, method, url, params, headers, files, stream, request_id, request_timeout)\u001b[0m\n\u001b[1;32m    209\u001b[0m \u001b[39mdef\u001b[39;00m \u001b[39mrequest\u001b[39m(\n\u001b[1;32m    210\u001b[0m     \u001b[39mself\u001b[39m,\n\u001b[1;32m    211\u001b[0m     method,\n\u001b[0;32m   (...)\u001b[0m\n\u001b[1;32m    218\u001b[0m     request_timeout: Optional[Union[\u001b[39mfloat\u001b[39m, Tuple[\u001b[39mfloat\u001b[39m, \u001b[39mfloat\u001b[39m]]] \u001b[39m=\u001b[39m \u001b[39mNone\u001b[39;00m,\n\u001b[1;32m    219\u001b[0m ) \u001b[39m-\u001b[39m\u001b[39m>\u001b[39m Tuple[Union[OpenAIResponse, Iterator[OpenAIResponse]], \u001b[39mbool\u001b[39m, \u001b[39mstr\u001b[39m]:\n\u001b[0;32m--> 220\u001b[0m     result \u001b[39m=\u001b[39m \u001b[39mself\u001b[39;49m\u001b[39m.\u001b[39;49mrequest_raw(\n\u001b[1;32m    221\u001b[0m         method\u001b[39m.\u001b[39;49mlower(),\n\u001b[1;32m    222\u001b[0m         url,\n\u001b[1;32m    223\u001b[0m         params\u001b[39m=\u001b[39;49mparams,\n\u001b[1;32m    224\u001b[0m         supplied_headers\u001b[39m=\u001b[39;49mheaders,\n\u001b[1;32m    225\u001b[0m         files\u001b[39m=\u001b[39;49mfiles,\n\u001b[1;32m    226\u001b[0m         stream\u001b[39m=\u001b[39;49mstream,\n\u001b[1;32m    227\u001b[0m         request_id\u001b[39m=\u001b[39;49mrequest_id,\n\u001b[1;32m    228\u001b[0m         request_timeout\u001b[39m=\u001b[39;49mrequest_timeout,\n\u001b[1;32m    229\u001b[0m     )\n\u001b[1;32m    230\u001b[0m     resp, got_stream \u001b[39m=\u001b[39m \u001b[39mself\u001b[39m\u001b[39m.\u001b[39m_interpret_response(result, stream)\n\u001b[1;32m    231\u001b[0m     \u001b[39mreturn\u001b[39;00m resp, got_stream, \u001b[39mself\u001b[39m\u001b[39m.\u001b[39mapi_key\n",
            "File \u001b[0;32m/mnt/c/Users/QUAN/Desktop/medical-chatbot/venv/lib/python3.8/site-packages/openai/api_requestor.py:520\u001b[0m, in \u001b[0;36mAPIRequestor.request_raw\u001b[0;34m(self, method, url, params, supplied_headers, files, stream, request_id, request_timeout)\u001b[0m\n\u001b[1;32m    518\u001b[0m     _thread_context\u001b[39m.\u001b[39msession \u001b[39m=\u001b[39m _make_session()\n\u001b[1;32m    519\u001b[0m \u001b[39mtry\u001b[39;00m:\n\u001b[0;32m--> 520\u001b[0m     result \u001b[39m=\u001b[39m _thread_context\u001b[39m.\u001b[39;49msession\u001b[39m.\u001b[39;49mrequest(\n\u001b[1;32m    521\u001b[0m         method,\n\u001b[1;32m    522\u001b[0m         abs_url,\n\u001b[1;32m    523\u001b[0m         headers\u001b[39m=\u001b[39;49mheaders,\n\u001b[1;32m    524\u001b[0m         data\u001b[39m=\u001b[39;49mdata,\n\u001b[1;32m    525\u001b[0m         files\u001b[39m=\u001b[39;49mfiles,\n\u001b[1;32m    526\u001b[0m         stream\u001b[39m=\u001b[39;49mstream,\n\u001b[1;32m    527\u001b[0m         timeout\u001b[39m=\u001b[39;49mrequest_timeout \u001b[39mif\u001b[39;49;00m request_timeout \u001b[39melse\u001b[39;49;00m TIMEOUT_SECS,\n\u001b[1;32m    528\u001b[0m         proxies\u001b[39m=\u001b[39;49m_thread_context\u001b[39m.\u001b[39;49msession\u001b[39m.\u001b[39;49mproxies,\n\u001b[1;32m    529\u001b[0m     )\n\u001b[1;32m    530\u001b[0m \u001b[39mexcept\u001b[39;00m requests\u001b[39m.\u001b[39mexceptions\u001b[39m.\u001b[39mTimeout \u001b[39mas\u001b[39;00m e:\n\u001b[1;32m    531\u001b[0m     \u001b[39mraise\u001b[39;00m error\u001b[39m.\u001b[39mTimeout(\u001b[39m\"\u001b[39m\u001b[39mRequest timed out: \u001b[39m\u001b[39m{}\u001b[39;00m\u001b[39m\"\u001b[39m\u001b[39m.\u001b[39mformat(e)) \u001b[39mfrom\u001b[39;00m \u001b[39me\u001b[39;00m\n",
            "File \u001b[0;32m/mnt/c/Users/QUAN/Desktop/medical-chatbot/venv/lib/python3.8/site-packages/requests/sessions.py:587\u001b[0m, in \u001b[0;36mSession.request\u001b[0;34m(self, method, url, params, data, headers, cookies, files, auth, timeout, allow_redirects, proxies, hooks, stream, verify, cert, json)\u001b[0m\n\u001b[1;32m    582\u001b[0m send_kwargs \u001b[39m=\u001b[39m {\n\u001b[1;32m    583\u001b[0m     \u001b[39m\"\u001b[39m\u001b[39mtimeout\u001b[39m\u001b[39m\"\u001b[39m: timeout,\n\u001b[1;32m    584\u001b[0m     \u001b[39m\"\u001b[39m\u001b[39mallow_redirects\u001b[39m\u001b[39m\"\u001b[39m: allow_redirects,\n\u001b[1;32m    585\u001b[0m }\n\u001b[1;32m    586\u001b[0m send_kwargs\u001b[39m.\u001b[39mupdate(settings)\n\u001b[0;32m--> 587\u001b[0m resp \u001b[39m=\u001b[39m \u001b[39mself\u001b[39;49m\u001b[39m.\u001b[39;49msend(prep, \u001b[39m*\u001b[39;49m\u001b[39m*\u001b[39;49msend_kwargs)\n\u001b[1;32m    589\u001b[0m \u001b[39mreturn\u001b[39;00m resp\n",
            "File \u001b[0;32m/mnt/c/Users/QUAN/Desktop/medical-chatbot/venv/lib/python3.8/site-packages/requests/sessions.py:701\u001b[0m, in \u001b[0;36mSession.send\u001b[0;34m(self, request, **kwargs)\u001b[0m\n\u001b[1;32m    698\u001b[0m start \u001b[39m=\u001b[39m preferred_clock()\n\u001b[1;32m    700\u001b[0m \u001b[39m# Send the request\u001b[39;00m\n\u001b[0;32m--> 701\u001b[0m r \u001b[39m=\u001b[39m adapter\u001b[39m.\u001b[39;49msend(request, \u001b[39m*\u001b[39;49m\u001b[39m*\u001b[39;49mkwargs)\n\u001b[1;32m    703\u001b[0m \u001b[39m# Total elapsed time of the request (approximately)\u001b[39;00m\n\u001b[1;32m    704\u001b[0m elapsed \u001b[39m=\u001b[39m preferred_clock() \u001b[39m-\u001b[39m start\n",
            "File \u001b[0;32m/mnt/c/Users/QUAN/Desktop/medical-chatbot/venv/lib/python3.8/site-packages/requests/adapters.py:486\u001b[0m, in \u001b[0;36mHTTPAdapter.send\u001b[0;34m(self, request, stream, timeout, verify, cert, proxies)\u001b[0m\n\u001b[1;32m    483\u001b[0m     timeout \u001b[39m=\u001b[39m TimeoutSauce(connect\u001b[39m=\u001b[39mtimeout, read\u001b[39m=\u001b[39mtimeout)\n\u001b[1;32m    485\u001b[0m \u001b[39mtry\u001b[39;00m:\n\u001b[0;32m--> 486\u001b[0m     resp \u001b[39m=\u001b[39m conn\u001b[39m.\u001b[39;49murlopen(\n\u001b[1;32m    487\u001b[0m         method\u001b[39m=\u001b[39;49mrequest\u001b[39m.\u001b[39;49mmethod,\n\u001b[1;32m    488\u001b[0m         url\u001b[39m=\u001b[39;49murl,\n\u001b[1;32m    489\u001b[0m         body\u001b[39m=\u001b[39;49mrequest\u001b[39m.\u001b[39;49mbody,\n\u001b[1;32m    490\u001b[0m         headers\u001b[39m=\u001b[39;49mrequest\u001b[39m.\u001b[39;49mheaders,\n\u001b[1;32m    491\u001b[0m         redirect\u001b[39m=\u001b[39;49m\u001b[39mFalse\u001b[39;49;00m,\n\u001b[1;32m    492\u001b[0m         assert_same_host\u001b[39m=\u001b[39;49m\u001b[39mFalse\u001b[39;49;00m,\n\u001b[1;32m    493\u001b[0m         preload_content\u001b[39m=\u001b[39;49m\u001b[39mFalse\u001b[39;49;00m,\n\u001b[1;32m    494\u001b[0m         decode_content\u001b[39m=\u001b[39;49m\u001b[39mFalse\u001b[39;49;00m,\n\u001b[1;32m    495\u001b[0m         retries\u001b[39m=\u001b[39;49m\u001b[39mself\u001b[39;49m\u001b[39m.\u001b[39;49mmax_retries,\n\u001b[1;32m    496\u001b[0m         timeout\u001b[39m=\u001b[39;49mtimeout,\n\u001b[1;32m    497\u001b[0m         chunked\u001b[39m=\u001b[39;49mchunked,\n\u001b[1;32m    498\u001b[0m     )\n\u001b[1;32m    500\u001b[0m \u001b[39mexcept\u001b[39;00m (ProtocolError, \u001b[39mOSError\u001b[39;00m) \u001b[39mas\u001b[39;00m err:\n\u001b[1;32m    501\u001b[0m     \u001b[39mraise\u001b[39;00m \u001b[39mConnectionError\u001b[39;00m(err, request\u001b[39m=\u001b[39mrequest)\n",
            "File \u001b[0;32m/mnt/c/Users/QUAN/Desktop/medical-chatbot/venv/lib/python3.8/site-packages/urllib3/connectionpool.py:790\u001b[0m, in \u001b[0;36mHTTPConnectionPool.urlopen\u001b[0;34m(self, method, url, body, headers, retries, redirect, assert_same_host, timeout, pool_timeout, release_conn, chunked, body_pos, preload_content, decode_content, **response_kw)\u001b[0m\n\u001b[1;32m    787\u001b[0m response_conn \u001b[39m=\u001b[39m conn \u001b[39mif\u001b[39;00m \u001b[39mnot\u001b[39;00m release_conn \u001b[39melse\u001b[39;00m \u001b[39mNone\u001b[39;00m\n\u001b[1;32m    789\u001b[0m \u001b[39m# Make the request on the HTTPConnection object\u001b[39;00m\n\u001b[0;32m--> 790\u001b[0m response \u001b[39m=\u001b[39m \u001b[39mself\u001b[39;49m\u001b[39m.\u001b[39;49m_make_request(\n\u001b[1;32m    791\u001b[0m     conn,\n\u001b[1;32m    792\u001b[0m     method,\n\u001b[1;32m    793\u001b[0m     url,\n\u001b[1;32m    794\u001b[0m     timeout\u001b[39m=\u001b[39;49mtimeout_obj,\n\u001b[1;32m    795\u001b[0m     body\u001b[39m=\u001b[39;49mbody,\n\u001b[1;32m    796\u001b[0m     headers\u001b[39m=\u001b[39;49mheaders,\n\u001b[1;32m    797\u001b[0m     chunked\u001b[39m=\u001b[39;49mchunked,\n\u001b[1;32m    798\u001b[0m     retries\u001b[39m=\u001b[39;49mretries,\n\u001b[1;32m    799\u001b[0m     response_conn\u001b[39m=\u001b[39;49mresponse_conn,\n\u001b[1;32m    800\u001b[0m     preload_content\u001b[39m=\u001b[39;49mpreload_content,\n\u001b[1;32m    801\u001b[0m     decode_content\u001b[39m=\u001b[39;49mdecode_content,\n\u001b[1;32m    802\u001b[0m     \u001b[39m*\u001b[39;49m\u001b[39m*\u001b[39;49mresponse_kw,\n\u001b[1;32m    803\u001b[0m )\n\u001b[1;32m    805\u001b[0m \u001b[39m# Everything went great!\u001b[39;00m\n\u001b[1;32m    806\u001b[0m clean_exit \u001b[39m=\u001b[39m \u001b[39mTrue\u001b[39;00m\n",
            "File \u001b[0;32m/mnt/c/Users/QUAN/Desktop/medical-chatbot/venv/lib/python3.8/site-packages/urllib3/connectionpool.py:536\u001b[0m, in \u001b[0;36mHTTPConnectionPool._make_request\u001b[0;34m(self, conn, method, url, body, headers, retries, timeout, chunked, response_conn, preload_content, decode_content, enforce_content_length)\u001b[0m\n\u001b[1;32m    534\u001b[0m \u001b[39m# Receive the response from the server\u001b[39;00m\n\u001b[1;32m    535\u001b[0m \u001b[39mtry\u001b[39;00m:\n\u001b[0;32m--> 536\u001b[0m     response \u001b[39m=\u001b[39m conn\u001b[39m.\u001b[39;49mgetresponse()\n\u001b[1;32m    537\u001b[0m \u001b[39mexcept\u001b[39;00m (BaseSSLError, \u001b[39mOSError\u001b[39;00m) \u001b[39mas\u001b[39;00m e:\n\u001b[1;32m    538\u001b[0m     \u001b[39mself\u001b[39m\u001b[39m.\u001b[39m_raise_timeout(err\u001b[39m=\u001b[39me, url\u001b[39m=\u001b[39murl, timeout_value\u001b[39m=\u001b[39mread_timeout)\n",
            "File \u001b[0;32m/mnt/c/Users/QUAN/Desktop/medical-chatbot/venv/lib/python3.8/site-packages/urllib3/connection.py:454\u001b[0m, in \u001b[0;36mHTTPConnection.getresponse\u001b[0;34m(self)\u001b[0m\n\u001b[1;32m    451\u001b[0m \u001b[39mfrom\u001b[39;00m \u001b[39m.\u001b[39;00m\u001b[39mresponse\u001b[39;00m \u001b[39mimport\u001b[39;00m HTTPResponse\n\u001b[1;32m    453\u001b[0m \u001b[39m# Get the response from http.client.HTTPConnection\u001b[39;00m\n\u001b[0;32m--> 454\u001b[0m httplib_response \u001b[39m=\u001b[39m \u001b[39msuper\u001b[39;49m()\u001b[39m.\u001b[39;49mgetresponse()\n\u001b[1;32m    456\u001b[0m \u001b[39mtry\u001b[39;00m:\n\u001b[1;32m    457\u001b[0m     assert_header_parsing(httplib_response\u001b[39m.\u001b[39mmsg)\n",
            "File \u001b[0;32m/usr/lib/python3.8/http/client.py:1348\u001b[0m, in \u001b[0;36mHTTPConnection.getresponse\u001b[0;34m(self)\u001b[0m\n\u001b[1;32m   1346\u001b[0m \u001b[39mtry\u001b[39;00m:\n\u001b[1;32m   1347\u001b[0m     \u001b[39mtry\u001b[39;00m:\n\u001b[0;32m-> 1348\u001b[0m         response\u001b[39m.\u001b[39;49mbegin()\n\u001b[1;32m   1349\u001b[0m     \u001b[39mexcept\u001b[39;00m \u001b[39mConnectionError\u001b[39;00m:\n\u001b[1;32m   1350\u001b[0m         \u001b[39mself\u001b[39m\u001b[39m.\u001b[39mclose()\n",
            "File \u001b[0;32m/usr/lib/python3.8/http/client.py:316\u001b[0m, in \u001b[0;36mHTTPResponse.begin\u001b[0;34m(self)\u001b[0m\n\u001b[1;32m    314\u001b[0m \u001b[39m# read until we get a non-100 response\u001b[39;00m\n\u001b[1;32m    315\u001b[0m \u001b[39mwhile\u001b[39;00m \u001b[39mTrue\u001b[39;00m:\n\u001b[0;32m--> 316\u001b[0m     version, status, reason \u001b[39m=\u001b[39m \u001b[39mself\u001b[39;49m\u001b[39m.\u001b[39;49m_read_status()\n\u001b[1;32m    317\u001b[0m     \u001b[39mif\u001b[39;00m status \u001b[39m!=\u001b[39m CONTINUE:\n\u001b[1;32m    318\u001b[0m         \u001b[39mbreak\u001b[39;00m\n",
            "File \u001b[0;32m/usr/lib/python3.8/http/client.py:277\u001b[0m, in \u001b[0;36mHTTPResponse._read_status\u001b[0;34m(self)\u001b[0m\n\u001b[1;32m    276\u001b[0m \u001b[39mdef\u001b[39;00m \u001b[39m_read_status\u001b[39m(\u001b[39mself\u001b[39m):\n\u001b[0;32m--> 277\u001b[0m     line \u001b[39m=\u001b[39m \u001b[39mstr\u001b[39m(\u001b[39mself\u001b[39;49m\u001b[39m.\u001b[39;49mfp\u001b[39m.\u001b[39;49mreadline(_MAXLINE \u001b[39m+\u001b[39;49m \u001b[39m1\u001b[39;49m), \u001b[39m\"\u001b[39m\u001b[39miso-8859-1\u001b[39m\u001b[39m\"\u001b[39m)\n\u001b[1;32m    278\u001b[0m     \u001b[39mif\u001b[39;00m \u001b[39mlen\u001b[39m(line) \u001b[39m>\u001b[39m _MAXLINE:\n\u001b[1;32m    279\u001b[0m         \u001b[39mraise\u001b[39;00m LineTooLong(\u001b[39m\"\u001b[39m\u001b[39mstatus line\u001b[39m\u001b[39m\"\u001b[39m)\n",
            "File \u001b[0;32m/usr/lib/python3.8/socket.py:669\u001b[0m, in \u001b[0;36mSocketIO.readinto\u001b[0;34m(self, b)\u001b[0m\n\u001b[1;32m    667\u001b[0m \u001b[39mwhile\u001b[39;00m \u001b[39mTrue\u001b[39;00m:\n\u001b[1;32m    668\u001b[0m     \u001b[39mtry\u001b[39;00m:\n\u001b[0;32m--> 669\u001b[0m         \u001b[39mreturn\u001b[39;00m \u001b[39mself\u001b[39;49m\u001b[39m.\u001b[39;49m_sock\u001b[39m.\u001b[39;49mrecv_into(b)\n\u001b[1;32m    670\u001b[0m     \u001b[39mexcept\u001b[39;00m timeout:\n\u001b[1;32m    671\u001b[0m         \u001b[39mself\u001b[39m\u001b[39m.\u001b[39m_timeout_occurred \u001b[39m=\u001b[39m \u001b[39mTrue\u001b[39;00m\n",
            "File \u001b[0;32m/usr/lib/python3.8/ssl.py:1241\u001b[0m, in \u001b[0;36mSSLSocket.recv_into\u001b[0;34m(self, buffer, nbytes, flags)\u001b[0m\n\u001b[1;32m   1237\u001b[0m     \u001b[39mif\u001b[39;00m flags \u001b[39m!=\u001b[39m \u001b[39m0\u001b[39m:\n\u001b[1;32m   1238\u001b[0m         \u001b[39mraise\u001b[39;00m \u001b[39mValueError\u001b[39;00m(\n\u001b[1;32m   1239\u001b[0m           \u001b[39m\"\u001b[39m\u001b[39mnon-zero flags not allowed in calls to recv_into() on \u001b[39m\u001b[39m%s\u001b[39;00m\u001b[39m\"\u001b[39m \u001b[39m%\u001b[39m\n\u001b[1;32m   1240\u001b[0m           \u001b[39mself\u001b[39m\u001b[39m.\u001b[39m\u001b[39m__class__\u001b[39m)\n\u001b[0;32m-> 1241\u001b[0m     \u001b[39mreturn\u001b[39;00m \u001b[39mself\u001b[39;49m\u001b[39m.\u001b[39;49mread(nbytes, buffer)\n\u001b[1;32m   1242\u001b[0m \u001b[39melse\u001b[39;00m:\n\u001b[1;32m   1243\u001b[0m     \u001b[39mreturn\u001b[39;00m \u001b[39msuper\u001b[39m()\u001b[39m.\u001b[39mrecv_into(buffer, nbytes, flags)\n",
            "File \u001b[0;32m/usr/lib/python3.8/ssl.py:1099\u001b[0m, in \u001b[0;36mSSLSocket.read\u001b[0;34m(self, len, buffer)\u001b[0m\n\u001b[1;32m   1097\u001b[0m \u001b[39mtry\u001b[39;00m:\n\u001b[1;32m   1098\u001b[0m     \u001b[39mif\u001b[39;00m buffer \u001b[39mis\u001b[39;00m \u001b[39mnot\u001b[39;00m \u001b[39mNone\u001b[39;00m:\n\u001b[0;32m-> 1099\u001b[0m         \u001b[39mreturn\u001b[39;00m \u001b[39mself\u001b[39;49m\u001b[39m.\u001b[39;49m_sslobj\u001b[39m.\u001b[39;49mread(\u001b[39mlen\u001b[39;49m, buffer)\n\u001b[1;32m   1100\u001b[0m     \u001b[39melse\u001b[39;00m:\n\u001b[1;32m   1101\u001b[0m         \u001b[39mreturn\u001b[39;00m \u001b[39mself\u001b[39m\u001b[39m.\u001b[39m_sslobj\u001b[39m.\u001b[39mread(\u001b[39mlen\u001b[39m)\n",
            "\u001b[0;31mKeyboardInterrupt\u001b[0m: "
          ]
        }
      ],
      "source": [
        "prompt_template = \"\"\"\n",
        "Write a summary on the following text:\n",
        "{text}\n",
        "\n",
        "The summary will contain information relevant to treatment for moderate to severe ulcerative colitis (UC) for\n",
        "the following patient profile: \n",
        "40 year old male with newly diagnosed moderate UC and articular extraintestinal manifestations\n",
        "\n",
        "The summary will contain the pros and cons of different biological drugs on the patient.\n",
        "\n",
        "Summary:\"\"\"\n",
        "\n",
        "BULLET_POINT_PROMPT = PromptTemplate(template=prompt_template,\n",
        "                        input_variables=[\"text\"])\n",
        "\n",
        "chain = load_summarize_chain(ChatOpenAI(model_name=\"gpt-3.5-turbo\",\n",
        "                                        openai_api_key=keys[\"OPENAI_API_KEY\"],\n",
        "                                        max_tokens=1024,\n",
        "                                        temperature=0), \n",
        "                             chain_type=\"map_reduce\", \n",
        "                             map_prompt=BULLET_POINT_PROMPT\n",
        ")\n",
        "\n",
        "output_summary = chain.run(texts)"
      ]
    },
    {
      "cell_type": "code",
      "execution_count": 161,
      "metadata": {},
      "outputs": [
        {
          "name": "stdout",
          "output_type": "stream",
          "text": [
            "('The article discusses the efficacy and safety of different biological drugs '\n",
            " 'for the treatment of inflammatory bowel diseases (IBD), such as ulcerative '\n",
            " \"colitis (UC) and Crohn's disease (CD). The choice of drug should be based on \"\n",
            " 'individual patient factors such as disease severity, response to previous '\n",
            " 'treatments, and potential side effects. Anti-TNF agents, vedolizumab, '\n",
            " 'ustekinumab, etrolizumab, golimumab, and guselkumab are all potential '\n",
            " 'options for treatment. A personalized approach to treatment is recommended.')\n"
          ]
        }
      ],
      "source": [
        "pprint(output_summary)"
      ]
    },
    {
      "cell_type": "code",
      "execution_count": 144,
      "metadata": {},
      "outputs": [
        {
          "data": {
            "text/plain": [
              "91"
            ]
          },
          "execution_count": 144,
          "metadata": {},
          "output_type": "execute_result"
        }
      ],
      "source": [
        "len([text.page_content for text in texts])"
      ]
    },
    {
      "cell_type": "code",
      "execution_count": 120,
      "metadata": {},
      "outputs": [
        {
          "name": "stdout",
          "output_type": "stream",
          "text": [
            "367\n"
          ]
        }
      ],
      "source": [
        "# documents = load_documents(os.path.join(DOCUMENT_SOURCE, PROJECT),\n",
        "#                            exclude_pages=EXCLUDE_DICT)\n",
        "\n",
        "# text_splitter = RecursiveCharacterTextSplitter(\n",
        "#     chunk_size=1000, chunk_overlap=250\n",
        "# )\n",
        "# texts = text_splitter.split_documents(documents)\n",
        "# print(len(texts))"
      ]
    },
    {
      "cell_type": "code",
      "execution_count": null,
      "metadata": {},
      "outputs": [],
      "source": []
    },
    {
      "attachments": {},
      "cell_type": "markdown",
      "metadata": {},
      "source": [
        "## Unstructured Images"
      ]
    },
    {
      "cell_type": "code",
      "execution_count": 172,
      "metadata": {},
      "outputs": [
        {
          "name": "stdout",
          "output_type": "stream",
          "text": [
            "1\n",
            "('Stools (no./d) Formed stool <4 >6 >10 Blood in stools None Intermittent '\n",
            " 'Frequent Continuous Urgency None Mild, occasional Often Continuous '\n",
            " 'Hemoglobin Normal Normal pel ee ESR <30 <30 >30 >30 CRP (mg/L) Normal '\n",
            " 'Elevated Elevated Elevated FC (ug/g) < 150-200 > 150-200 > 150-200 > 150-200 '\n",
            " 'Endoscopy (Mayo subscore) 0-1 1 2-3 3 UCEIS 0-1 2-4 5-8 7-8')\n"
          ]
        }
      ],
      "source": [
        "sample_img = os.path.join(MAIN_DIR,\n",
        "                          \"data/tables/grading_disease_activity_agrawal.JPG\")\n",
        "loader = UnstructuredImageLoader(sample_img)\n",
        "data = loader.load()\n",
        "print(len(data))\n",
        "pprint(data[0].page_content)"
      ]
    },
    {
      "cell_type": "code",
      "execution_count": 168,
      "metadata": {},
      "outputs": [
        {
          "data": {
            "text/plain": [
              "[Document(page_content='Stools (no./d) Formed stool <4 >6 >10 Blood in stools None Intermittent Frequent Continuous Urgency None Mild, occasional Often Continuous Hemoglobin Normal Normal pel ee ESR <30 <30 >30 >30 CRP (mg/L) Normal Elevated Elevated Elevated FC (ug/g) < 150-200 > 150-200 > 150-200 > 150-200 Endoscopy (Mayo subscore) 0-1 1 2-3 3 UCEIS 0-1 2-4 5-8 7-8', metadata={'source': '/mnt/c/Users/QUAN/Desktop/medical-chatbot/data/tables/grading_disease_activity_agrawal.JPG'})]"
            ]
          },
          "execution_count": 168,
          "metadata": {},
          "output_type": "execute_result"
        }
      ],
      "source": [
        "data"
      ]
    },
    {
      "attachments": {},
      "cell_type": "markdown",
      "metadata": {
        "id": "eZpX-1Ssy6Mw"
      },
      "source": [
        "## Custom Agent\n",
        "\n",
        "### QA from text Agent"
      ]
    },
    {
      "attachments": {},
      "cell_type": "markdown",
      "metadata": {
        "id": "3msqfy9mzakH"
      },
      "source": [
        "### CSV Agent"
      ]
    },
    {
      "cell_type": "code",
      "execution_count": null,
      "metadata": {
        "id": "IXicAIYbzk8H"
      },
      "outputs": [],
      "source": []
    },
    {
      "cell_type": "code",
      "execution_count": null,
      "metadata": {
        "id": "Plu6jwcRX0yx"
      },
      "outputs": [],
      "source": [
        "from langchain.prompts import PromptTemplate, ChatPromptTemplate, HumanMessagePromptTemplate\n",
        "from langchain.llms import OpenAI\n",
        "from langchain.chat_models import ChatOpenAI\n",
        "\n",
        "model_name = 'text-davinci-003'\n",
        "temperature = 0.0\n",
        "model = OpenAI(model_name=model_name, temperature=temperature, openai_api_key = OPENAI_KEY)\n",
        "\n",
        "prompt = PromptTemplate(\n",
        "    template=\"Answer the user query.\\n{format_instructions}\\n{query}\\n\",\n",
        "    input_variables=[\"query\"],\n",
        "    partial_variables={\"format_instructions\": parser.get_format_instructions()}\n",
        ")\n",
        "\n",
        "joke_query = \"Tell me a joke.\"\n",
        "_input = prompt.format_prompt(query=joke_query)\n",
        "\n",
        "output = model(_input.to_string())"
      ]
    },
    {
      "cell_type": "code",
      "execution_count": null,
      "metadata": {
        "colab": {
          "base_uri": "https://localhost:8080/"
        },
        "id": "o6kqb4R0bYwq",
        "outputId": "a4e2a631-50c6-4262-9493-0a16232b3765"
      },
      "outputs": [
        {
          "name": "stdout",
          "output_type": "stream",
          "text": [
            "Answer the user query.\n",
            "The output should be formatted as a JSON instance that conforms to the JSON schema below.\n",
            "\n",
            "As an example, for the schema {\"properties\": {\"foo\": {\"title\": \"Foo\", \"description\": \"a list of strings\", \"type\": \"array\", \"items\": {\"type\": \"string\"}}}, \"required\": [\"foo\"]}}\n",
            "the object {\"foo\": [\"bar\", \"baz\"]} is a well-formatted instance of the schema. The object {\"properties\": {\"foo\": [\"bar\", \"baz\"]}} is not well-formatted.\n",
            "\n",
            "Here is the output schema:\n",
            "```\n",
            "{\"properties\": {\"drug_name\": {\"title\": \"Drug Name\", \"description\": \"Name of the drug\", \"type\": \"string\"}, \"description\": {\"title\": \"Description\", \"description\": \"Overall summary of the drug\", \"type\": \"string\"}, \"advantages\": {\"title\": \"Advantages\", \"description\": \"Advantages of the drug \", \"type\": \"string\"}, \"disadvantages\": {\"title\": \"Disadvantages\", \"description\": \"Disadvantages of the drug\", \"type\": \"string\"}}, \"required\": [\"drug_name\", \"description\", \"advantages\", \"disadvantages\"]}\n",
            "```\n",
            "Tell me a joke.\n",
            "\n"
          ]
        }
      ],
      "source": [
        "print(_input.text)"
      ]
    },
    {
      "cell_type": "code",
      "execution_count": null,
      "metadata": {
        "colab": {
          "base_uri": "https://localhost:8080/",
          "height": 36
        },
        "id": "gvu1sUauYISd",
        "outputId": "7e144f57-ef05-48f2-e1d3-393cba3d0fe3"
      },
      "outputs": [
        {
          "data": {
            "application/vnd.google.colaboratory.intrinsic+json": {
              "type": "string"
            },
            "text/plain": [
              "'\\n{\"drug_name\": \"Joke\", \"description\": \"A joke to make you laugh\", \"advantages\": \"It can make you laugh and bring joy\", \"disadvantages\": \"It may not be funny\"}'"
            ]
          },
          "execution_count": 128,
          "metadata": {},
          "output_type": "execute_result"
        }
      ],
      "source": [
        "output"
      ]
    }
  ],
  "metadata": {
    "colab": {
      "provenance": []
    },
    "kernelspec": {
      "display_name": "Python 3",
      "name": "python3"
    },
    "language_info": {
      "codemirror_mode": {
        "name": "ipython",
        "version": 3
      },
      "file_extension": ".py",
      "mimetype": "text/x-python",
      "name": "python",
      "nbconvert_exporter": "python",
      "pygments_lexer": "ipython3",
      "version": "3.8.10"
    }
  },
  "nbformat": 4,
  "nbformat_minor": 0
}
